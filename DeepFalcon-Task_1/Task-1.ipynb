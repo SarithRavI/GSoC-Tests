{
 "cells": [
  {
   "cell_type": "code",
   "execution_count": 1,
   "id": "ec24f6b4",
   "metadata": {},
   "outputs": [],
   "source": [
    "import random\n",
    "import torch \n",
    "import numpy as np\n",
    "import pandas as pd\n",
    "from tqdm import tqdm\n",
    "import os\n",
    "import h5py\n",
    "import math\n",
    "import torch.nn as nn\n",
    "import torch.nn.functional as F\n",
    "from torch.nn import init\n",
    "from torch.utils.data import Dataset, random_split, DataLoader\n",
    "from torchvision import transforms\n",
    "import torch.optim as optim\n",
    "from torchmetrics.classification import MulticlassAUROC, MulticlassAccuracy"
   ]
  },
  {
   "cell_type": "code",
   "execution_count": 2,
   "id": "27c018fe",
   "metadata": {},
   "outputs": [
    {
     "data": {
      "text/plain": [
       "0"
      ]
     },
     "execution_count": 2,
     "metadata": {},
     "output_type": "execute_result"
    }
   ],
   "source": [
    "# clearing cuda cache memory\n",
    "import gc\n",
    "torch.cuda.empty_cache()\n",
    "gc.collect()"
   ]
  },
  {
   "cell_type": "code",
   "execution_count": 3,
   "id": "1a8deab1",
   "metadata": {
    "scrolled": true
   },
   "outputs": [
    {
     "data": {
      "text/plain": [
       "['QCDToGGQQ_IMGjet_RH1all_jet0_run0_n36272',\n",
       " 'QCDToGGQQ_IMGjet_RH1all_jet0_run0_n36272.test.snappy.parquet',\n",
       " 'QCDToGGQQ_IMGjet_RH1all_jet0_run1_n47540',\n",
       " 'QCDToGGQQ_IMGjet_RH1all_jet0_run1_n47540.test.snappy.parquet',\n",
       " 'QCDToGGQQ_IMGjet_RH1all_jet0_run2_n55494',\n",
       " 'QCDToGGQQ_IMGjet_RH1all_jet0_run2_n55494.test.snappy.parquet',\n",
       " 'quark-gluon_data-set_n139306.hdf5',\n",
       " 'SingleElectronPt50_IMGCROPS_n249k_RHv1.hdf5',\n",
       " 'SinglePhotonPt50_IMGCROPS_n249k_RHv1.hdf5']"
      ]
     },
     "execution_count": 3,
     "metadata": {},
     "output_type": "execute_result"
    }
   ],
   "source": [
    "os.listdir(\"../dataset\")"
   ]
  },
  {
   "cell_type": "code",
   "execution_count": 4,
   "id": "edb30e20",
   "metadata": {},
   "outputs": [],
   "source": [
    "# import dataset\n",
    "QuarkGluon_dataset = h5py.File(\"../dataset/quark-gluon_data-set_n139306.hdf5\",\"r\")\n",
    "# truncating the dataset into a small one\n",
    "random.seed(42)\n",
    "sample_size = 75000\n",
    "random_trunc = random.sample(range(0, 139306), sample_size)"
   ]
  },
  {
   "cell_type": "code",
   "execution_count": 5,
   "id": "0283fe7e",
   "metadata": {},
   "outputs": [],
   "source": [
    "QuarkGluon_imgs=np.array(QuarkGluon_dataset[\"X_jets\"])[random_trunc]"
   ]
  },
  {
   "cell_type": "code",
   "execution_count": 6,
   "id": "38ee333e",
   "metadata": {},
   "outputs": [],
   "source": [
    "img_arrs = torch.Tensor(QuarkGluon_imgs)"
   ]
  },
  {
   "cell_type": "code",
   "execution_count": 7,
   "id": "4a7854ad",
   "metadata": {},
   "outputs": [],
   "source": [
    "class QuarkGluonDataset(Dataset):\n",
    "    def __init__(self,split_inx, transform=None,target_transform= None):\n",
    "        self.img_arrs_split = img_arrs[split_inx]\n",
    "        self.transform = transform\n",
    "        self.target_transform = target_transform\n",
    "    def __len__(self):\n",
    "        return self.img_arrs_split.shape[0]\n",
    "    def __getitem__(self,idx):\n",
    "        image=self.img_arrs_split[idx,:,:,:]\n",
    "        # changing the dim of image to channels, height, width by transposing the\n",
    "        # original image tensor.\n",
    "        image = image.permute(2,1,0)\n",
    "        if self.transform:\n",
    "            image = self.transform(image)\n",
    "        return image, -1"
   ]
  },
  {
   "cell_type": "code",
   "execution_count": 8,
   "id": "35591f44",
   "metadata": {},
   "outputs": [],
   "source": [
    "class ResidualUnitEnc(nn.Module):\n",
    "    def __init__(self,in_channels, out_channels, **kwargs):\n",
    "        super().__init__(**kwargs)\n",
    "        strides = 1\n",
    "        if in_channels == out_channels:\n",
    "            strides = 1\n",
    "            pad = \"same\"\n",
    "        else:\n",
    "            strides = 2\n",
    "            pad = 1\n",
    "        self.relu = nn.ReLU(inplace=True)\n",
    "        self.main_layers = nn.ModuleList([\n",
    "            nn.Conv2d(in_channels,out_channels,3,strides,padding=pad,bias=False),\n",
    "            nn.BatchNorm2d(out_channels),\n",
    "            self.relu,\n",
    "            nn.Conv2d(out_channels,out_channels,3,stride=1,padding=\"same\",bias=False),\n",
    "            nn.BatchNorm2d(out_channels)\n",
    "        ])\n",
    "        \n",
    "        self.skip_layers =[]\n",
    "        if strides > 1 :\n",
    "            self.skip_layers = nn.ModuleList([\n",
    "                nn.Conv2d(in_channels,out_channels,1,strides,padding=0,bias=False),\n",
    "                nn.BatchNorm2d(out_channels)\n",
    "            ])\n",
    "    def forward(self,x):\n",
    "        Z = x \n",
    "        for layer in self.main_layers:\n",
    "            Z = layer(Z)\n",
    "        skip_z = x\n",
    "        for layer in self.skip_layers:\n",
    "            skip_z= layer(skip_z)\n",
    "        return self.relu(Z + skip_z)  \n",
    "    \n",
    "class ResidualUnitDec(nn.Module):\n",
    "    def __init__(self,in_channels, out_channels, **kwargs):\n",
    "        super().__init__(**kwargs)\n",
    "        strides = 1\n",
    "        if in_channels == out_channels:\n",
    "            strides = 1\n",
    "            pad = 1\n",
    "            out_pad =0 \n",
    "        else:\n",
    "            strides = 2\n",
    "            pad = 1\n",
    "            out_pad  =1 \n",
    "            \n",
    "        self.relu = nn.ReLU(inplace=True)    \n",
    "        self.main_layers = nn.ModuleList([\n",
    "            nn.ConvTranspose2d(in_channels,out_channels,3,strides,padding=pad,output_padding=out_pad,bias=False),\n",
    "            nn.BatchNorm2d(out_channels),\n",
    "            self.relu,\n",
    "            nn.ConvTranspose2d(out_channels,out_channels,3,stride=1,padding=pad,bias=False),\n",
    "            nn.BatchNorm2d(out_channels)\n",
    "        ])\n",
    "        \n",
    "        self.skip_layers =[]\n",
    "        if strides > 1 :\n",
    "            self.skip_layers = nn.ModuleList([\n",
    "                nn.ConvTranspose2d(in_channels,out_channels,1,strides,padding=0,output_padding=out_pad,bias=False),\n",
    "                nn.BatchNorm2d(out_channels)\n",
    "            ])\n",
    "            \n",
    "    def forward(self,x):\n",
    "        Z = x \n",
    "        for layer in self.main_layers:\n",
    "            Z = layer(Z)\n",
    "        skip_z = x\n",
    "        for layer in self.skip_layers:\n",
    "            skip_z= layer(skip_z)\n",
    "        return self.relu(Z + skip_z)  "
   ]
  },
  {
   "cell_type": "code",
   "execution_count": 9,
   "id": "a1cdf98d",
   "metadata": {},
   "outputs": [],
   "source": [
    "class ResNet18Enc(nn.Module):\n",
    "    def __init__(self,latent_dim):\n",
    "        super(ResNet18Enc, self).__init__()\n",
    "\n",
    "        self.latent_dim = latent_dim\n",
    "        self.relu = nn.ReLU(inplace=True)\n",
    "        self.bn1= nn.BatchNorm2d(64)\n",
    "        \n",
    "        self.conv1 = nn.Conv2d(3,64,3,stride=2,padding=1,bias=False)\n",
    "        self.max_pool = nn.MaxPool2d(3,2,1) \n",
    "        prev_filters = 64\n",
    "        self.res_unit_list = nn.ModuleList([ResidualUnitEnc(prev_filters,prev_filters)])\n",
    "        for filters in [64]*1+[128]*2 + [256]*2 +[512]*2:\n",
    "            self.res_unit_list.append(ResidualUnitEnc(prev_filters,filters))\n",
    "            prev_filters = filters \n",
    "            \n",
    "        self.fc1 = nn.Linear(512, latent_dim)\n",
    "        self.muFC = nn.Linear(latent_dim, latent_dim)\n",
    "        self.logVarFC = nn.Linear(latent_dim, latent_dim) \n",
    "        \n",
    "    def forward(self,x):\n",
    "        x = self.conv1(x)\n",
    "        x = self.bn1(x)\n",
    "        x = self.relu(x)\n",
    "        x = self.max_pool(x)\n",
    "        for res_unit in self.res_unit_list:\n",
    "            x = res_unit(x)\n",
    "        x = F.adaptive_avg_pool2d(x, (1, 1))\n",
    "        x = x.view(x.size(0), -1)\n",
    "\n",
    "        x = F.relu(self.fc1(x))\n",
    "        mu =  self.muFC(x)\n",
    "        logVar = self.logVarFC(x) # what is learnt is log(sigma**2)\n",
    "        \n",
    "        sigma = torch.exp(0.5*logVar) \n",
    "\n",
    "        return x,mu,sigma      \n",
    "    \n",
    "    def __str__(self):\n",
    "        return \"ResNet18Enc\"\n",
    "    \n",
    "class ResNet18Dec(nn.Module):\n",
    "    def __init__(self,latent_dim):\n",
    "        super(ResNet18Dec, self).__init__()\n",
    "        \n",
    "        self.latent_dim = latent_dim\n",
    "        self.relu = nn.ReLU(inplace=True)\n",
    "        # removed batch normalization\n",
    "        # self.bn1= nn.BatchNorm2d(3)\n",
    "        \n",
    "        self.fc = nn.Linear(latent_dim, 512)\n",
    "        self.dec_res_units = nn.ModuleList([])\n",
    "        prev_filters = 512\n",
    "        for filters in [512]*2+ [256]*2+[128]*2+[64]*2:\n",
    "            self.dec_res_units.append(ResidualUnitDec(prev_filters,filters))\n",
    "            prev_filters = filters \n",
    "            \n",
    "        # self.max_unpool = nn.MaxUnpool2d(2,2)\n",
    "        # self.max_unpool = nn.MaxUnpool2d(3,2)\n",
    "        self.convTranspose1 = nn.ConvTranspose2d(64,64,3,stride=2,padding=1,output_padding =1,\n",
    "                                                 groups=64,bias=False)\n",
    "        # ideally following conv should recover max output of prev conv\n",
    "        # hence we add groups\n",
    "        self.convTranspose2 = nn.ConvTranspose2d(64,3,3,stride=2,padding=1,output_padding =1,bias=False)\n",
    "\n",
    "    def forward(self,z): \n",
    "        x = self.fc(z)\n",
    "        x = x.view(z.size(0), 512, 1, 1)\n",
    "        x = F.interpolate(x, scale_factor=4)\n",
    "        for dec_res in self.dec_res_units:\n",
    "            x = dec_res(x)\n",
    "#         x = self.max_unpool(x,mp_indices)\n",
    "        x = self.convTranspose1(x)\n",
    "        x = self.convTranspose2(x)\n",
    "        # x = self.bn1(x)\n",
    "        return torch.sigmoid(x)\n",
    "    \n",
    "    def __str__(self):\n",
    "        return \"ResNet18Dec\""
   ]
  },
  {
   "cell_type": "code",
   "execution_count": 10,
   "id": "7ea8bb49",
   "metadata": {},
   "outputs": [],
   "source": [
    "class VAE_ResNet18(nn.Module):\n",
    "    def __init__(self,latent_dim=100):\n",
    "        super(VAE_ResNet18, self).__init__()\n",
    "        \n",
    "        self.encoder = ResNet18Enc(latent_dim)\n",
    "        self.decoder = ResNet18Dec(latent_dim)\n",
    "        \n",
    "        self.N = torch.distributions.Normal(0, 1)\n",
    "        self.N.loc = self.N.loc.cuda() # hack to get sampling on the GPU\n",
    "        self.N.scale = self.N.scale.cuda()\n",
    "        self.kl = 0\n",
    "        \n",
    "    def forward(self,x):\n",
    "        x,mu,sigma = self.encoder(x)\n",
    "        z = self.reparameterize(x,mu,sigma)\n",
    "        # calculating kl divergence \n",
    "        # storing kl value as a variable.\n",
    "        self.calculateKL(z,mu,sigma)\n",
    "        x = self.decoder(z)\n",
    "        return x \n",
    "\n",
    "    def calculateKL(self,z,mu,sigma):\n",
    "        self.kl =  0.5*((sigma**2) +(mu**2) -torch.log(sigma**2) -1).sum()\n",
    "    \n",
    "    def reparameterize(self,x,mu,sigma):\n",
    "        z = mu + sigma*self.N.sample(mu.shape)\n",
    "        return z \n",
    "        \n",
    "    def __str__(self):\n",
    "        return \"VAE_ResNet18\""
   ]
  },
  {
   "cell_type": "code",
   "execution_count": 11,
   "id": "99298068",
   "metadata": {},
   "outputs": [],
   "source": [
    "device = torch.device(\"cuda:0\" if torch.cuda.is_available() else torch.device(\"cpu\"))"
   ]
  },
  {
   "cell_type": "code",
   "execution_count": 12,
   "id": "32f58392",
   "metadata": {},
   "outputs": [],
   "source": [
    "model = VAE_ResNet18(latent_dim=100).to(device)\n",
    "optimizer = optim.Adam(model.parameters(), lr=1e-3)\n",
    "reconLoss = torch.nn.BCELoss() \n",
    "\n",
    "epochs = 5"
   ]
  },
  {
   "cell_type": "code",
   "execution_count": 13,
   "id": "6ea2fd64",
   "metadata": {},
   "outputs": [],
   "source": [
    "preprocess = transforms.Compose([\n",
    "    transforms.Resize(128),\n",
    "    transforms.Normalize(mean=[0.0, 0.0, 0.0], std=[1.0, 1.0, 1.0])\n",
    "])\n",
    "\n",
    "train_inx, test_inx = random_split(range(QuarkGluon_imgs.shape[0]),[0.8,0.2],generator=torch.Generator()\n",
    "                                            .manual_seed(42))\n",
    "\n",
    "train_data = QuarkGluonDataset(split_inx=train_inx,transform = preprocess)\n",
    "test_data = QuarkGluonDataset(split_inx=test_inx,transform = preprocess)\n",
    "# dataset = SingleElectronPhotonDataset()\n",
    "\n",
    "train_dataloader = DataLoader(train_data,batch_size = 64, shuffle = True)\n",
    "test_dataloader = DataLoader(test_data,batch_size = 64, shuffle = True)"
   ]
  },
  {
   "cell_type": "code",
   "execution_count": 14,
   "id": "b69e7c8d",
   "metadata": {},
   "outputs": [],
   "source": [
    "def train(model, device, loader, optimizer):\n",
    "    model.train()\n",
    "\n",
    "    loss_accum = 0.0\n",
    "    for step, batch in enumerate(tqdm(loader, desc=\"Iteration\")):\n",
    "        x, _ = batch\n",
    "        x = x.to(device)\n",
    "        x_hat = model(x)\n",
    "        optimizer.zero_grad()\n",
    "        # ELBO loss => -ELBO SHOULD BE MINIMIZED\n",
    "        # +ELBO =>  -model.kl -reconLoss(x_hat,x)\n",
    "        # kl is always positive \n",
    "        # hence -ELBO is as follows\n",
    "        loss = model.kl+reconLoss(x_hat,x)\n",
    "        loss.backward()\n",
    "        optimizer.step()\n",
    "        loss_accum += loss.item()\n",
    "\n",
    "    print('Average training loss: {}'.format(loss_accum / (step + 1))) "
   ]
  },
  {
   "cell_type": "code",
   "execution_count": 15,
   "id": "41a460b9",
   "metadata": {},
   "outputs": [],
   "source": [
    "def evaluate(model, device, loader):\n",
    "    model.eval()\n",
    "\n",
    "    elbo_loss_accum = 0.0\n",
    "    recon_loss_accum = 0.0\n",
    "    with torch.no_grad():\n",
    "        for step, batch in enumerate(loader):\n",
    "            x, _ = batch\n",
    "            x = x.to(device)\n",
    "            # Encode data\n",
    "            encoded_data = model.encoder(x)\n",
    "            # Decode data\n",
    "            x_hat = model(x)\n",
    "            recon_loss = reconLoss(x_hat,x)  \n",
    "            elbo_loss = recon_loss + model.kl\n",
    "            elbo_loss_accum += elbo_loss.item()\n",
    "            recon_loss_accum += recon_loss.item()\n",
    "    return recon_loss_accum/(step+1), elbo_loss_accum/(step+1)"
   ]
  },
  {
   "cell_type": "code",
   "execution_count": 16,
   "id": "cbb7fb87",
   "metadata": {},
   "outputs": [],
   "source": [
    "def load_latest_model(model,optimizer,checkpoints_path):\n",
    "    checkpoints = os.listdir(checkpoints_path)\n",
    "    checkpoint_path = list(filter(lambda i : str(model) in i, checkpoints))\n",
    "    if len(checkpoint_path)>0:\n",
    "        checkpoint = torch.load(f\"{checkpoints_path}/{checkpoint_path[0]}\")\n",
    "        model.load_state_dict(checkpoint['model_state_dict'])\n",
    "        optimizer.load_state_dict(checkpoint['optimizer_state_dict'])\n",
    "        starting_epoch = checkpoint['epoch']+1\n",
    "    return model,optimizer,starting_epoch"
   ]
  },
  {
   "cell_type": "code",
   "execution_count": 17,
   "id": "5755b09d",
   "metadata": {
    "scrolled": false
   },
   "outputs": [
    {
     "name": "stdout",
     "output_type": "stream",
     "text": [
      "=====Epoch 1\n",
      "Training...\n"
     ]
    },
    {
     "name": "stderr",
     "output_type": "stream",
     "text": [
      "Iteration: 100%|██████████| 938/938 [04:23<00:00,  3.56it/s]\n"
     ]
    },
    {
     "name": "stdout",
     "output_type": "stream",
     "text": [
      "Average training loss: 1.1246144923823091\n",
      "Evaluating...\n",
      "Recon. losses:  {'Train': 0.0006282743218460126} \n",
      "ELBO(neg):  {'Train': 0.026484536273387083}\n",
      "=====Epoch 2\n",
      "Training...\n"
     ]
    },
    {
     "name": "stderr",
     "output_type": "stream",
     "text": [
      "Iteration: 100%|██████████| 938/938 [05:46<00:00,  2.71it/s]\n"
     ]
    },
    {
     "name": "stdout",
     "output_type": "stream",
     "text": [
      "Average training loss: 0.008417858551482239\n",
      "Evaluating...\n",
      "Recon. losses:  {'Train': 0.0005163971761572681} \n",
      "ELBO(neg):  {'Train': 0.12569585414854054}\n",
      "=====Epoch 3\n",
      "Training...\n"
     ]
    },
    {
     "name": "stderr",
     "output_type": "stream",
     "text": [
      "Iteration: 100%|██████████| 938/938 [05:44<00:00,  2.72it/s]\n"
     ]
    },
    {
     "name": "stdout",
     "output_type": "stream",
     "text": [
      "Average training loss: 0.0038019351641099446\n",
      "Evaluating...\n",
      "Recon. losses:  {'Train': 0.0004975309617557268} \n",
      "ELBO(neg):  {'Train': 0.07768016608421013}\n",
      "=====Epoch 4\n",
      "Training...\n"
     ]
    },
    {
     "name": "stderr",
     "output_type": "stream",
     "text": [
      "Iteration: 100%|██████████| 938/938 [05:49<00:00,  2.69it/s]\n"
     ]
    },
    {
     "name": "stdout",
     "output_type": "stream",
     "text": [
      "Average training loss: 0.0018241143105789891\n",
      "Evaluating...\n",
      "Recon. losses:  {'Train': 0.0004916695451839512} \n",
      "ELBO(neg):  {'Train': 0.034036114611831716}\n",
      "=====Epoch 5\n",
      "Training...\n"
     ]
    },
    {
     "name": "stderr",
     "output_type": "stream",
     "text": [
      "Iteration: 100%|██████████| 938/938 [05:44<00:00,  2.73it/s]\n"
     ]
    },
    {
     "name": "stdout",
     "output_type": "stream",
     "text": [
      "Average training loss: 0.0010141205617975294\n",
      "Evaluating...\n",
      "Recon. losses:  {'Train': 0.0004904386723962134} \n",
      "ELBO(neg):  {'Train': 0.0008961843993283435}\n",
      "\n",
      "Finished training!\n",
      "\n",
      "Test recon. loss: 0.0004902180527000034, Test ELBO(neg): 0.0008199529209610154\n"
     ]
    }
   ],
   "source": [
    "starting_epoch = 1\n",
    "\n",
    "checkpoints_path = \"../models\"\n",
    "model,optimizer,starting_epoch = load_latest_model(model,optimizer,checkpoints_path)\n",
    "\n",
    "\n",
    "for epoch in range(starting_epoch, epochs + 1):\n",
    "    print(\"=====Epoch {}\".format(epoch))\n",
    "    print('Training...')\n",
    "    train(model, device, train_dataloader, optimizer)\n",
    "    \n",
    "    print(\"Evaluating...\")\n",
    "    train_recon_loss, train_elbo_loss = evaluate(model,device,train_dataloader)\n",
    "    \n",
    "    print('Recon. losses: ',{'Train': train_recon_loss},\n",
    "          '\\nELBO(neg): ',{'Train': train_elbo_loss})\n",
    "    \n",
    "    # save checkpoint of current epoch\n",
    "    torch.save({\n",
    "            'epoch': epoch,\n",
    "            'model_state_dict': model.state_dict(),\n",
    "            'optimizer_state_dict': optimizer.state_dict(),\n",
    "            }, f\"{checkpoints_path}/{str(model)}-{epoch}.pt\")\n",
    "\n",
    "    if epoch>1:\n",
    "        os.remove(f\"{checkpoints_path}/{str(model)}-{epoch-1}.pt\")\n",
    "\n",
    "print('\\nFinished training!')\n",
    "test_recon_loss, test_elbo_loss= evaluate(model,device,test_dataloader)\n",
    "print('\\nTest recon. loss: {}, Test ELBO(neg) {}'.format(test_recon_loss,test_elbo_loss))"
   ]
  },
  {
   "cell_type": "code",
   "execution_count": null,
   "id": "26f75df2",
   "metadata": {},
   "outputs": [],
   "source": [
    "unseen_data_inx = list(set(list(range(0,139306))) - set(random_trunc))\n",
    "\n",
    "del QuarkGluon_imgs # delete this set to save memory\n",
    "\n",
    "QuarkGluon_test_imgs=np.array(QuarkGluon_dataset[\"X_jets\"])[unseen_data_inx]\n",
    "\n",
    "print(\"\\nunseen data size: \",QuarkGluon_test_imgs.shape)\n",
    "\n",
    "img_arrs = QuarkGluon_test_imgs\n",
    "test_unseen_data = QuarkGluonDataset(split_inx=range(0,len(unseen_data_inx)),transform = preprocess)\n",
    "unseen_test_dataloader = DataLoader(test_unseen_data,batch_size = 64, shuffle = True)\n",
    "\n",
    "print(\"\\nEvaluating on unseen data...\")\n",
    "unseenTest_recon_loss, unseenTestt_elbo_loss = evaluate(model,device,unseen_test_dataloader)\n",
    "\n",
    "print('\\nRecon. losses: ',{'Train': unseenTest_recon_loss},\n",
    "          '\\nELBO(neg): ',{'Train': unseenTestt_elbo_loss})"
   ]
  },
  {
   "cell_type": "code",
   "execution_count": null,
   "id": "d2307238",
   "metadata": {},
   "outputs": [],
   "source": []
  }
 ],
 "metadata": {
  "kernelspec": {
   "display_name": "Python 3 (ipykernel)",
   "language": "python",
   "name": "python3"
  },
  "language_info": {
   "codemirror_mode": {
    "name": "ipython",
    "version": 3
   },
   "file_extension": ".py",
   "mimetype": "text/x-python",
   "name": "python",
   "nbconvert_exporter": "python",
   "pygments_lexer": "ipython3",
   "version": "3.8.16"
  },
  "vscode": {
   "interpreter": {
    "hash": "879e2f01d264c9ab4ea3a77361c771e18658cc3ef89c0c8c8a779bd36400b7bc"
   }
  }
 },
 "nbformat": 4,
 "nbformat_minor": 5
}
