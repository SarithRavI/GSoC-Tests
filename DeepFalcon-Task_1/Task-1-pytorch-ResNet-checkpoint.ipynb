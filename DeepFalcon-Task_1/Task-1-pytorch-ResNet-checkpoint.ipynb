{
 "cells": [
  {
   "cell_type": "code",
   "execution_count": 1,
   "id": "29d9bc3f",
   "metadata": {},
   "outputs": [],
   "source": [
    "# !pip install torchmetrics"
   ]
  },
  {
   "cell_type": "code",
   "execution_count": 2,
   "id": "ec24f6b4",
   "metadata": {},
   "outputs": [],
   "source": [
    "import torch \n",
    "import numpy as np\n",
    "import pandas as pd\n",
    "from tqdm import tqdm\n",
    "import os\n",
    "import h5py\n",
    "import math\n",
    "import torch.nn as nn\n",
    "import torch.nn.functional as F\n",
    "from torch.nn import init\n",
    "from torch.utils.data import Dataset, random_split, DataLoader\n",
    "from torchvision import transforms\n",
    "import torch.optim as optim\n",
    "from torchmetrics.classification import MulticlassAUROC, MulticlassAccuracy"
   ]
  },
  {
   "cell_type": "code",
   "execution_count": 3,
   "id": "27c018fe",
   "metadata": {},
   "outputs": [
    {
     "data": {
      "text/plain": [
       "0"
      ]
     },
     "execution_count": 3,
     "metadata": {},
     "output_type": "execute_result"
    }
   ],
   "source": [
    "# clearing cuda cache memory\n",
    "import gc\n",
    "torch.cuda.empty_cache()\n",
    "gc.collect()"
   ]
  },
  {
   "cell_type": "code",
   "execution_count": 4,
   "id": "1a8deab1",
   "metadata": {},
   "outputs": [
    {
     "data": {
      "text/plain": [
       "['QCDToGGQQ_IMGjet_RH1all_jet0_run0_n36272',\n",
       " 'QCDToGGQQ_IMGjet_RH1all_jet0_run0_n36272.test.snappy.parquet',\n",
       " 'QCDToGGQQ_IMGjet_RH1all_jet0_run1_n47540',\n",
       " 'QCDToGGQQ_IMGjet_RH1all_jet0_run1_n47540.test.snappy.parquet',\n",
       " 'QCDToGGQQ_IMGjet_RH1all_jet0_run2_n55494',\n",
       " 'QCDToGGQQ_IMGjet_RH1all_jet0_run2_n55494.test.snappy.parquet',\n",
       " 'quark-gluon_data-set_n139306.hdf5',\n",
       " 'SingleElectronPt50_IMGCROPS_n249k_RHv1.hdf5',\n",
       " 'SinglePhotonPt50_IMGCROPS_n249k_RHv1.hdf5']"
      ]
     },
     "execution_count": 4,
     "metadata": {},
     "output_type": "execute_result"
    }
   ],
   "source": [
    "os.listdir(\"../dataset\")"
   ]
  },
  {
   "cell_type": "code",
   "execution_count": 5,
   "id": "736e0247",
   "metadata": {},
   "outputs": [],
   "source": [
    "# import dataset\n",
    "electron_dataset = h5py.File(\"../dataset/SingleElectronPt50_IMGCROPS_n249k_RHv1.hdf5\",\"r\")\n",
    "electron_imgs=np.array(electron_dataset[\"X\"])\n",
    "electron_labels=np.array(electron_dataset[\"y\"],dtype=np.int64)\n",
    "\n",
    "photon_dataset = h5py.File(\"../dataset/SinglePhotonPt50_IMGCROPS_n249k_RHv1.hdf5\",\"r\")\n",
    "photon_imgs=np.array(photon_dataset[\"X\"])\n",
    "photon_labels=np.array(photon_dataset[\"y\"],dtype=np.int64)"
   ]
  },
  {
   "cell_type": "code",
   "execution_count": 6,
   "id": "38ee333e",
   "metadata": {},
   "outputs": [],
   "source": [
    "img_arrs = torch.Tensor(np.vstack((photon_imgs,electron_imgs)))\n",
    "labels = torch.Tensor(np.hstack((photon_labels,electron_labels))).to(torch.int64)"
   ]
  },
  {
   "cell_type": "code",
   "execution_count": 91,
   "id": "4a7854ad",
   "metadata": {},
   "outputs": [],
   "source": [
    "class SingleElectronPhotonDataset(Dataset):\n",
    "    def __init__(self,split_inx, transform=None,target_transform= None):\n",
    "        self.img_arrs_split = img_arrs[split_inx]\n",
    "        self.labels_split = labels[split_inx]\n",
    "        self.transform = transform\n",
    "        self.target_transform = target_transform\n",
    "    def __len__(self):\n",
    "        return self.labels_split.shape[0]\n",
    "    def __getitem__(self,idx):\n",
    "        image=self.img_arrs_split[idx,:,:,:]\n",
    "        # changing the dim of image to channels, height, width by transposing the\n",
    "        # original image tensor.\n",
    "        image = image.permute(2,1,0)\n",
    "        label = self.labels_split[idx]\n",
    "        if self.transform:\n",
    "            image = self.transform(image)\n",
    "        if self.target_transform:\n",
    "            label = self.target_transform(label)\n",
    "        return image,label"
   ]
  },
  {
   "cell_type": "code",
   "execution_count": 92,
   "id": "35591f44",
   "metadata": {},
   "outputs": [],
   "source": [
    "class ResidualUnitEnc(nn.Module):\n",
    "    def __init__(self,in_channels, out_channels, **kwargs):\n",
    "        super().__init__(**kwargs)\n",
    "        strides = 1\n",
    "        if in_channels == out_channels:\n",
    "            strides = 1\n",
    "            pad = \"same\"\n",
    "        else:\n",
    "            strides = 2\n",
    "            pad = 1\n",
    "        self.relu = nn.ReLU(inplace=True)\n",
    "        self.main_layers = nn.ModuleList([\n",
    "            nn.Conv2d(in_channels,out_channels,3,strides,padding=pad,bias=False),\n",
    "            nn.BatchNorm2d(out_channels),\n",
    "            self.relu,\n",
    "            nn.Conv2d(out_channels,out_channels,3,stride=1,padding=\"same\",bias=False),\n",
    "            nn.BatchNorm2d(out_channels)\n",
    "        ])\n",
    "        \n",
    "        self.skip_layers =[]\n",
    "        if strides > 1 :\n",
    "            self.skip_layers = nn.ModuleList([\n",
    "                nn.Conv2d(in_channels,out_channels,1,strides,padding=0,bias=False),\n",
    "                nn.BatchNorm2d(out_channels)\n",
    "            ])\n",
    "    def forward(self,x):\n",
    "        Z = x \n",
    "        for layer in self.main_layers:\n",
    "            Z = layer(Z)\n",
    "        skip_z = x\n",
    "        for layer in self.skip_layers:\n",
    "            skip_z= layer(skip_z)\n",
    "        return self.relu(Z + skip_z)  \n",
    "    \n",
    "class ResidualUnitDec(nn.Module):\n",
    "    def __init__(self,in_channels, out_channels, **kwargs):\n",
    "        super().__init__(**kwargs)\n",
    "        strides = 1\n",
    "        if in_channels == out_channels:\n",
    "            strides = 1\n",
    "            pad = 1\n",
    "            out_pad =0 \n",
    "        else:\n",
    "            strides = 2\n",
    "            pad = 1\n",
    "            out_pad  =1 \n",
    "            \n",
    "        self.relu = nn.ReLU(inplace=True)    \n",
    "        self.main_layers = nn.ModuleList([\n",
    "            nn.ConvTranspose2d(in_channels,out_channels,3,strides,padding=pad,output_padding=out_pad,bias=False),\n",
    "            nn.BatchNorm2d(out_channels),\n",
    "            self.relu,\n",
    "            nn.ConvTranspose2d(out_channels,out_channels,3,stride=1,padding=pad,bias=False),\n",
    "            nn.BatchNorm2d(out_channels)\n",
    "        ])\n",
    "        \n",
    "        self.skip_layers =[]\n",
    "        if strides > 1 :\n",
    "            self.skip_layers = nn.ModuleList([\n",
    "                nn.ConvTranspose2d(in_channels,out_channels,1,strides,padding=0,output_padding=out_pad,bias=False),\n",
    "                nn.BatchNorm2d(out_channels)\n",
    "            ])\n",
    "            \n",
    "    def forward(self,x):\n",
    "        Z = x \n",
    "        for layer in self.main_layers:\n",
    "            Z = layer(Z)\n",
    "        skip_z = x\n",
    "        for layer in self.skip_layers:\n",
    "            skip_z= layer(skip_z)\n",
    "        print(\"after res unit\", Z.shape)\n",
    "        return self.relu(Z + skip_z)  "
   ]
  },
  {
   "cell_type": "code",
   "execution_count": 93,
   "id": "a1cdf98d",
   "metadata": {},
   "outputs": [],
   "source": [
    "class ResNet18Enc(nn.Module):\n",
    "    def __init__(self,latent_dim):\n",
    "        super(ResNet18Enc, self).__init__()\n",
    "\n",
    "        self.latent_dim = latent_dim\n",
    "        self.relu = nn.ReLU(inplace=True)\n",
    "        self.bn1= nn.BatchNorm2d(64)\n",
    "        \n",
    "        self.conv1 = nn.Conv2d(2,64,3,stride=2,padding=1,bias=False)\n",
    "        self.max_pool = nn.MaxPool2d(3,2,1,return_indices=True) \n",
    "        prev_filters = 64\n",
    "        self.res_unit_list = nn.ModuleList([ResidualUnitEnc(prev_filters,prev_filters)])\n",
    "        for filters in [64]*1+[128]*2 + [256]*2 +[512]*2:\n",
    "            self.res_unit_list.append(ResidualUnitEnc(prev_filters,filters))\n",
    "            prev_filters = filters \n",
    "            \n",
    "        self.fc1 = nn.Linear(512, latent_dim)\n",
    "        self.muFC = nn.Linear(latent_dim, latent_dim)\n",
    "        self.sigmaFC = nn.Linear(latent_dim, latent_dim) \n",
    "        \n",
    "    def forward(self,x):\n",
    "        x = self.conv1(x)\n",
    "        x = self.bn1(x)\n",
    "        x = self.relu(x)\n",
    "        x,max_indices = self.max_pool(x)\n",
    "        for res_unit in self.res_unit_list:\n",
    "            x = res_unit(x)\n",
    "        x = F.adaptive_avg_pool2d(x, (1, 1))\n",
    "        x = x.view(x.size(0), -1)\n",
    "\n",
    "        x = F.relu(self.fc1(x))\n",
    "        mu =  self.muFC(x)\n",
    "        sigma = torch.exp(self.sigmaFC(x))\n",
    "\n",
    "        return x,mu,sigma,max_indices      \n",
    "    \n",
    "    def __str__(self):\n",
    "        return \"ResNet18Enc\"\n",
    "    \n",
    "class ResNet18Dec(nn.Module):\n",
    "    def __init__(self,latent_dim):\n",
    "        super(ResNet18Dec, self).__init__()\n",
    "        \n",
    "        self.latent_dim = latent_dim\n",
    "        self.relu = nn.ReLU(inplace=True)\n",
    "        # removed batch normalization\n",
    "        # self.bn1= nn.BatchNorm2d(3)\n",
    "        \n",
    "        self.fc = nn.Linear(latent_dim, 512)\n",
    "        self.dec_res_units = nn.ModuleList([])\n",
    "        prev_filters = 512\n",
    "        for filters in [512]*2+ [256]*2+[128]*2+[64]*2:\n",
    "            self.dec_res_units.append(ResidualUnitDec(prev_filters,filters))\n",
    "            prev_filters = filters \n",
    "        self.max_unpool = nn.MaxUnpool2d(3,2)\n",
    "        self.convTranspose1 = nn.ConvTranspose2d(64,2,3,stride=2,padding=1,output_padding =1,bias=False)\n",
    "\n",
    "    def forward(self,z,mp_indices): \n",
    "        x = self.fc(z)\n",
    "        x = x.view(z.size(0), 512, 1, 1)\n",
    "        x = F.interpolate(x, scale_factor=4)\n",
    "        for dec_res in self.dec_res_units:\n",
    "            x = dec_res(x)\n",
    "        print(\"before unpooling\", x.shape)\n",
    "        x = self.max_unpool(x,mp_indices)\n",
    "        x = self.convTranspose1(x)\n",
    "        # x = self.bn1(x)\n",
    "        return torch.sigmoid(x)\n",
    "    \n",
    "    def __str__(self):\n",
    "        return \"ResNet18Dec\""
   ]
  },
  {
   "cell_type": "code",
   "execution_count": 94,
   "id": "7ea8bb49",
   "metadata": {},
   "outputs": [],
   "source": [
    "class VAE_ResNet18(nn.Module):\n",
    "    def __init__(self,latent_dim=100):\n",
    "        super(VAE_ResNet18, self).__init__()\n",
    "        \n",
    "        self.encoder = ResNet18Enc(latent_dim)\n",
    "        self.decoder = ResNet18Dec(latent_dim)\n",
    "        \n",
    "        self.N = torch.distributions.Normal(0, 1)\n",
    "        self.N.loc = self.N.loc.cuda() # hack to get sampling on the GPU\n",
    "        self.N.scale = self.N.scale.cuda()\n",
    "        self.kl = 0\n",
    "        \n",
    "    def forward(self,x):\n",
    "        x,mu,sigma,mp_indices = self.encoder(x)\n",
    "        z = self.reparameterize(x,mu,sigma)\n",
    "        \n",
    "#         z_with_mpIndices = dict()\n",
    "#         z_with_mpIndices.z = z \n",
    "#         z_with_mpIndices.mp_indices = mp_indices\n",
    "        x = self.decoder(z,mp_indices)\n",
    "        \n",
    "        return x \n",
    "\n",
    "    def calculateKL(self,z,mu,sigma):\n",
    "        self.kl = (sigma**2 + mu**2 - torch.log(sigma) - 1/2).sum()\n",
    "    \n",
    "    def reparameterize(self,x,mu,sigma):\n",
    "        z = mu + sigma*self.N.sample(mu.shape)\n",
    "        return z \n",
    "        \n",
    "    def __str__(self):\n",
    "        return \"VAE_ResNet18\""
   ]
  },
  {
   "cell_type": "code",
   "execution_count": 95,
   "id": "99298068",
   "metadata": {},
   "outputs": [],
   "source": [
    "device = torch.device(\"cuda:0\" if torch.cuda.is_available() else torch.device(\"cpu\"))"
   ]
  },
  {
   "cell_type": "code",
   "execution_count": 96,
   "id": "32f58392",
   "metadata": {},
   "outputs": [],
   "source": [
    "model = VAE_ResNet18(latent_dim=100).to(device)\n",
    "optimizer = optim.Adam(model.parameters(), lr=1e-3)\n",
    "reconLoss = torch.nn.L1Loss() # can use MSELoss \n",
    "\n",
    "epochs = 25"
   ]
  },
  {
   "cell_type": "code",
   "execution_count": 97,
   "id": "6ea2fd64",
   "metadata": {},
   "outputs": [
    {
     "ename": "RuntimeError",
     "evalue": "[enforce fail at C:\\actions-runner\\_work\\pytorch\\pytorch\\builder\\windows\\pytorch\\c10\\core\\impl\\alloc_cpu.cpp:72] data. DefaultCPUAllocator: not enough memory: you tried to allocate 2855731200 bytes.",
     "output_type": "error",
     "traceback": [
      "\u001b[1;31m---------------------------------------------------------------------------\u001b[0m",
      "\u001b[1;31mRuntimeError\u001b[0m                              Traceback (most recent call last)",
      "Cell \u001b[1;32mIn[97], line 10\u001b[0m\n\u001b[0;32m      1\u001b[0m preprocess \u001b[38;5;241m=\u001b[39m transforms\u001b[38;5;241m.\u001b[39mCompose([\n\u001b[0;32m      2\u001b[0m     transforms\u001b[38;5;241m.\u001b[39mResize(\u001b[38;5;241m128\u001b[39m), \u001b[38;5;66;03m# multiply of 16\u001b[39;00m\n\u001b[0;32m      3\u001b[0m     transforms\u001b[38;5;241m.\u001b[39mNormalize(mean\u001b[38;5;241m=\u001b[39m[\u001b[38;5;241m0.5\u001b[39m, \u001b[38;5;241m0.5\u001b[39m], std\u001b[38;5;241m=\u001b[39m[\u001b[38;5;241m0.5\u001b[39m, \u001b[38;5;241m0.5\u001b[39m])\n\u001b[0;32m      4\u001b[0m \u001b[38;5;66;03m#     transforms.Normalize(mean=[0.5, 0.5,0.5], std=[0.5, 0.5,0.5]),\u001b[39;00m\n\u001b[0;32m      5\u001b[0m ])\n\u001b[0;32m      7\u001b[0m train_inx, valid_inx, test_inx \u001b[38;5;241m=\u001b[39m random_split(\u001b[38;5;28mrange\u001b[39m(labels\u001b[38;5;241m.\u001b[39mshape[\u001b[38;5;241m0\u001b[39m]),[\u001b[38;5;241m0.7\u001b[39m,\u001b[38;5;241m0.2\u001b[39m,\u001b[38;5;241m0.1\u001b[39m],generator\u001b[38;5;241m=\u001b[39mtorch\u001b[38;5;241m.\u001b[39mGenerator()\n\u001b[0;32m      8\u001b[0m                                             \u001b[38;5;241m.\u001b[39mmanual_seed(\u001b[38;5;241m42\u001b[39m))\n\u001b[1;32m---> 10\u001b[0m train_data \u001b[38;5;241m=\u001b[39m \u001b[43mSingleElectronPhotonDataset\u001b[49m\u001b[43m(\u001b[49m\u001b[43msplit_inx\u001b[49m\u001b[38;5;241;43m=\u001b[39;49m\u001b[43mtrain_inx\u001b[49m\u001b[43m,\u001b[49m\u001b[43mtransform\u001b[49m\u001b[43m \u001b[49m\u001b[38;5;241;43m=\u001b[39;49m\u001b[43m \u001b[49m\u001b[43mpreprocess\u001b[49m\u001b[43m)\u001b[49m\n\u001b[0;32m     11\u001b[0m valid_data \u001b[38;5;241m=\u001b[39m SingleElectronPhotonDataset(split_inx\u001b[38;5;241m=\u001b[39mvalid_inx,transform \u001b[38;5;241m=\u001b[39m preprocess)\n\u001b[0;32m     12\u001b[0m test_data \u001b[38;5;241m=\u001b[39m SingleElectronPhotonDataset(split_inx\u001b[38;5;241m=\u001b[39mtest_inx,transform \u001b[38;5;241m=\u001b[39m preprocess)\n",
      "Cell \u001b[1;32mIn[91], line 3\u001b[0m, in \u001b[0;36mSingleElectronPhotonDataset.__init__\u001b[1;34m(self, split_inx, transform, target_transform)\u001b[0m\n\u001b[0;32m      2\u001b[0m \u001b[38;5;28;01mdef\u001b[39;00m \u001b[38;5;21m__init__\u001b[39m(\u001b[38;5;28mself\u001b[39m,split_inx, transform\u001b[38;5;241m=\u001b[39m\u001b[38;5;28;01mNone\u001b[39;00m,target_transform\u001b[38;5;241m=\u001b[39m \u001b[38;5;28;01mNone\u001b[39;00m):\n\u001b[1;32m----> 3\u001b[0m     \u001b[38;5;28mself\u001b[39m\u001b[38;5;241m.\u001b[39mimg_arrs_split \u001b[38;5;241m=\u001b[39m \u001b[43mimg_arrs\u001b[49m\u001b[43m[\u001b[49m\u001b[43msplit_inx\u001b[49m\u001b[43m]\u001b[49m\n\u001b[0;32m      4\u001b[0m     \u001b[38;5;28mself\u001b[39m\u001b[38;5;241m.\u001b[39mlabels_split \u001b[38;5;241m=\u001b[39m labels[split_inx]\n\u001b[0;32m      5\u001b[0m     \u001b[38;5;28mself\u001b[39m\u001b[38;5;241m.\u001b[39mtransform \u001b[38;5;241m=\u001b[39m transform\n",
      "\u001b[1;31mRuntimeError\u001b[0m: [enforce fail at C:\\actions-runner\\_work\\pytorch\\pytorch\\builder\\windows\\pytorch\\c10\\core\\impl\\alloc_cpu.cpp:72] data. DefaultCPUAllocator: not enough memory: you tried to allocate 2855731200 bytes."
     ]
    }
   ],
   "source": [
    "preprocess = transforms.Compose([\n",
    "    transforms.Resize(128), # multiply of 16\n",
    "    transforms.Normalize(mean=[0.5, 0.5], std=[0.5, 0.5])\n",
    "#     transforms.Normalize(mean=[0.5, 0.5,0.5], std=[0.5, 0.5,0.5]),\n",
    "])\n",
    "\n",
    "train_inx, valid_inx, test_inx = random_split(range(labels.shape[0]),[0.7,0.2,0.1],generator=torch.Generator()\n",
    "                                            .manual_seed(42))\n",
    "\n",
    "train_data = SingleElectronPhotonDataset(split_inx=train_inx,transform = preprocess)\n",
    "valid_data = SingleElectronPhotonDataset(split_inx=valid_inx,transform = preprocess)\n",
    "test_data = SingleElectronPhotonDataset(split_inx=test_inx,transform = preprocess)\n",
    "# dataset = SingleElectronPhotonDataset()\n",
    "\n",
    "train_dataloader = DataLoader(train_data,batch_size = 64, shuffle = True)\n",
    "valid_dataloader = DataLoader(valid_data,batch_size = 64, shuffle = True)\n",
    "test_dataloader = DataLoader(test_data,batch_size = 64, shuffle = True)"
   ]
  },
  {
   "cell_type": "code",
   "execution_count": null,
   "id": "b69e7c8d",
   "metadata": {},
   "outputs": [],
   "source": [
    "def train(model, device, loader, optimizer):\n",
    "    model.train()\n",
    "\n",
    "    loss_accum = 0\n",
    "    for step, batch in enumerate(tqdm(loader, desc=\"Iteration\")):\n",
    "        x, _ = batch\n",
    "        x = x.to(device)\n",
    "        x_hat = model(x)\n",
    "        optimizer.zero_grad()\n",
    "        loss = reconLoss(x_hat,x) + model.kl\n",
    "        loss.backward()\n",
    "        optimizer.step()\n",
    "        loss_accum += loss.item()\n",
    "\n",
    "    print('Average training loss: {}'.format(loss_accum / (step + 1))) "
   ]
  },
  {
   "cell_type": "code",
   "execution_count": null,
   "id": "41a460b9",
   "metadata": {},
   "outputs": [],
   "source": [
    "def evaluate(model, device, loader):\n",
    "    model.eval()\n",
    "    model.eval()\n",
    "    elbo_loss_accum = 0.0\n",
    "    recon_loss_accum = 0.0\n",
    "    with torch.no_grad():\n",
    "        for step, batch in enumerate(loader):\n",
    "            x = x.to(device)\n",
    "            # Encode data\n",
    "            encoded_data = model.encoder(x)\n",
    "            # Decode data\n",
    "            x_hat = model(x)\n",
    "            recon_loss = reconLoss(x_hat,x)  \n",
    "            elbo_loss = recon_loss + model.kl\n",
    "            elbo_loss_accum += elbo_loss\n",
    "            recon_loss_accum += recon_loss\n",
    "        return recon_loss_accum/(step+1), elbo_loss_accum/(step+1)"
   ]
  },
  {
   "cell_type": "code",
   "execution_count": null,
   "id": "e6bcb272",
   "metadata": {},
   "outputs": [],
   "source": [
    "checkpoints_path = \"../models\"\n",
    "checkpoints = os.listdir(checkpoints_path)\n",
    "checkpoint_path = list(filter(lambda i : str(model) in i, checkpoints))"
   ]
  },
  {
   "cell_type": "code",
   "execution_count": null,
   "id": "5755b09d",
   "metadata": {
    "scrolled": false
   },
   "outputs": [],
   "source": [
    "starting_epoch = 1\n",
    "if len(checkpoint_path)>0:\n",
    "    checkpoint = torch.load(f\"{checkpoints_path}/{checkpoint_path[0]}\")\n",
    "    model.load_state_dict(checkpoint['model_state_dict'])\n",
    "    optimizer.load_state_dict(checkpoint['optimizer_state_dict'])\n",
    "    starting_epoch = checkpoint['epoch']+1\n",
    "\n",
    "for epoch in range(starting_epoch, epochs + 1):\n",
    "    print(\"=====Epoch {}\".format(epoch))\n",
    "    print('Training...')\n",
    "    train(model, device, train_dataloader, optimizer)\n",
    "    \n",
    "    print(\"Evaluating...\")\n",
    "    train_recon_loss, train_elbo_loss = evaluate(model,device,train_dataloader)\n",
    "    val_recon_loss, val_elbo_loss = evaluate(model,device,valid_dataloader)\n",
    "\n",
    "    print('Recon. losses: ',{'Train': train_recon_loss, 'Validation': val_recon_loss},\n",
    "          '\\nELBO losses: ',{'Train': train_elbo_loss, 'Validation': val_elbo_loss})\n",
    "    \n",
    "    # save checkpoint of current epoch\n",
    "    torch.save({\n",
    "            'epoch': epoch,\n",
    "            'model_state_dict': model.state_dict(),\n",
    "            'optimizer_state_dict': optimizer.state_dict(),\n",
    "            }, f\"{checkpoints_path}/{str(model)}-{epoch}.pt\")\n",
    "\n",
    "    if epoch>1:\n",
    "        os.remove(f\"{checkpoints_path}/{str(model)}-{epoch-1}.pt\")\n",
    "\n",
    "print('\\nFinished training!')\n",
    "print('\\nTest recon. loss: {}, Test ELBO. loss'.format(evaluate(model,device,test_dataloader)[0],\n",
    "                                                      evaluate(model,device,test_dataloader)[1]))"
   ]
  },
  {
   "cell_type": "code",
   "execution_count": null,
   "id": "4aa2bb8b",
   "metadata": {},
   "outputs": [],
   "source": []
  }
 ],
 "metadata": {
  "kernelspec": {
   "display_name": "Python 3 (ipykernel)",
   "language": "python",
   "name": "python3"
  },
  "language_info": {
   "codemirror_mode": {
    "name": "ipython",
    "version": 3
   },
   "file_extension": ".py",
   "mimetype": "text/x-python",
   "name": "python",
   "nbconvert_exporter": "python",
   "pygments_lexer": "ipython3",
   "version": "3.8.16"
  },
  "vscode": {
   "interpreter": {
    "hash": "879e2f01d264c9ab4ea3a77361c771e18658cc3ef89c0c8c8a779bd36400b7bc"
   }
  }
 },
 "nbformat": 4,
 "nbformat_minor": 5
}
