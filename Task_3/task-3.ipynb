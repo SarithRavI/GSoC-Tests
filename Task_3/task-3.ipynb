{
 "cells": [
  {
   "cell_type": "markdown",
   "id": "0500e110",
   "metadata": {},
   "source": [
    "This file contains GNN based solution for specific task of project [Graph Neural Networks for End-to-End Particle Identification with the CMS Experiment](https://docs.google.com/document/d/1lWTSASnVICm_4Zof7wr6_LkS24P_Z8TR1px_tctemQI/edit).\n",
    "\n",
    "GNN layers been used:\n",
    "\n",
    "- [Graph Convolution Layer](https://arxiv.org/pdf/1609.02907.pdf)\n",
    "\n",
    "- [PointNet Convolution Layer](https://pytorch-geometric.readthedocs.io/en/latest/generated/torch_geometric.nn.conv.PointNetConv.html#torch_geometric.nn.conv.PointNetConv) \n",
    "\n",
    "In both, model architecture is composed of two layers.\n",
    "Latent embedding dimension is set to 300.\n",
    "\n",
    "Node features:\n",
    "- Channel values\n",
    "- Global Positional encoding (3D coordinates of the nodes) - optional\n",
    "\n",
    "Edge features:\n",
    "- Euclidean distance between nodes.\n",
    "\n",
    "Both models are trained for 75 epochs."
   ]
  },
  {
   "cell_type": "code",
   "execution_count": 1,
   "id": "448f0897",
   "metadata": {},
   "outputs": [],
   "source": [
    "import os\n",
    "from tqdm import tqdm\n",
    "import torch\n",
    "from torch_geometric.nn import MessagePassing,GPSConv, GINEConv\n",
    "from torch_geometric.nn import global_add_pool, global_mean_pool, global_max_pool, GlobalAttention, Set2Set\n",
    "import torch.nn.functional as F\n",
    "import torch_geometric.transforms as T\n",
    "from torch_geometric.utils import degree\n",
    "from torch.utils.data import random_split\n",
    "from torch_geometric.loader import DataLoader\n",
    "import torch.optim as optim\n",
    "from torchmetrics.classification import MulticlassAUROC, MulticlassAccuracy\n",
    "\n",
    "from dataset import JetsGraphsDataset\n",
    "from torch_geometric.nn.conv import GATConv,PointNetConv"
   ]
  },
  {
   "cell_type": "code",
   "execution_count": 2,
   "id": "80b4e441",
   "metadata": {},
   "outputs": [],
   "source": [
    "### GIN convolution along the graph structure\n",
    "class GINConv(MessagePassing):\n",
    "    def __init__(self, emb_dim,input_node_dim,input_edge_dim):\n",
    "\n",
    "        super(GINConv, self).__init__(aggr = \"add\")\n",
    "\n",
    "        self.mlp = torch.nn.Sequential(torch.nn.Linear(emb_dim, 2*emb_dim), torch.nn.BatchNorm1d(2*emb_dim), \n",
    "                                       torch.nn.ReLU(), torch.nn.Linear(2*emb_dim, emb_dim))\n",
    "        self.eps = torch.nn.Parameter(torch.Tensor([0]))\n",
    "        self.linear = torch.nn.Linear(input_node_dim, emb_dim)\n",
    "        self.edge_encoder = torch.nn.Linear(input_edge_dim, emb_dim)\n",
    "\n",
    "    def forward(self, x, edge_index, edge_attr):\n",
    "        x = self.linear(x)\n",
    "        edge_embedding = self.edge_encoder(edge_attr)\n",
    "        out = self.mlp((1 + self.eps) *x + self.propagate(edge_index, x=x, edge_attr=edge_embedding))\n",
    "\n",
    "        return out\n",
    "\n",
    "    def message(self, x_j, edge_attr):\n",
    "        return F.relu(x_j + edge_attr)\n",
    "\n",
    "    def update(self, aggr_out):\n",
    "        return aggr_out\n",
    "\n",
    "### GCN convolution along the graph structure\n",
    "class GCNConv(MessagePassing):\n",
    "    def __init__(self, emb_dim,input_node_dim,input_edge_dim):\n",
    "        super(GCNConv, self).__init__(aggr='add')\n",
    "        \n",
    "        self.linear = torch.nn.Linear(input_node_dim, emb_dim)\n",
    "        self.root_emb = torch.nn.Embedding(1, emb_dim)\n",
    "        self.edge_encoder = torch.nn.Linear(input_edge_dim, emb_dim)\n",
    "\n",
    "    def forward(self, x, edge_index, edge_attr):\n",
    "        x = self.linear(x)\n",
    "        edge_embedding = self.edge_encoder(edge_attr)\n",
    "\n",
    "        row, col = edge_index\n",
    "\n",
    "        #edge_weight = torch.ones((edge_index.size(1), ), device=edge_index.device)\n",
    "        deg = degree(row, x.size(0), dtype = x.dtype) + 1\n",
    "        deg_inv_sqrt = deg.pow(-0.5)\n",
    "        deg_inv_sqrt[deg_inv_sqrt == float('inf')] = 0\n",
    "\n",
    "        norm = deg_inv_sqrt[row] * deg_inv_sqrt[col]\n",
    "\n",
    "        return self.propagate(edge_index, x=x, edge_attr = edge_embedding, norm=norm) + F.relu(x + self.root_emb.weight) * 1./deg.view(-1,1)\n",
    "\n",
    "    def message(self, x_j, edge_attr, norm):\n",
    "        return norm.view(-1, 1) * F.relu(x_j + edge_attr)\n",
    "\n",
    "    def update(self, aggr_out):\n",
    "        return aggr_out"
   ]
  },
  {
   "cell_type": "code",
   "execution_count": 3,
   "id": "61e07b33",
   "metadata": {},
   "outputs": [],
   "source": [
    "class mlp(torch.nn.Module):\n",
    "    def __init__(self,input_node_dim,emb_dim):\n",
    "        super(mlp, self).__init__()\n",
    "        self.mlp = torch.nn.Sequential(torch.nn.Linear(input_node_dim, 2*emb_dim), \n",
    "                                       torch.nn.BatchNorm1d(2*emb_dim), \n",
    "                                       torch.nn.ReLU(), \n",
    "                                       torch.nn.Linear(2*emb_dim, emb_dim))\n",
    "    def forward(self,x):\n",
    "        return self.mlp(x)"
   ]
  },
  {
   "cell_type": "code",
   "execution_count": 4,
   "id": "a209778c",
   "metadata": {},
   "outputs": [],
   "source": [
    "class MessagePasssing_Module(torch.nn.Module):\n",
    "    \"\"\"\n",
    "    MessagePasssing_Module contains 2 or more GNN layers stacked.\n",
    "    Output:\n",
    "        node representations\n",
    "    \"\"\"\n",
    "    def __init__(self, num_layer, input_node_dim, input_edge_dim, emb_dim,rwPE_dim=None,\n",
    "                 rwPE_method='sum', drop_ratio = 0.5, JK = \"last\", residual = False, gnn_type = 'gin'):\n",
    "        '''\n",
    "            emb_dim (int): node embedding dimensionality\n",
    "            num_layer (int): number of GNN message passing layers\n",
    "        '''\n",
    "        super(MessagePasssing_Module, self).__init__()\n",
    "        \n",
    "        self.gnn_type = gnn_type\n",
    "        self.num_layer = num_layer\n",
    "        self.drop_ratio = drop_ratio\n",
    "        self.JK = JK\n",
    "        self.input_node_dim = input_node_dim\n",
    "        self.input_edge_dim = input_edge_dim\n",
    "        ### add residual connection or not\n",
    "        self.residual = residual\n",
    "        self.rwPE_dim = rwPE_dim\n",
    "        self.rwPE_method = rwPE_method\n",
    "\n",
    "        if self.num_layer < 2:\n",
    "            raise ValueError(\"Number of GNN layers must be greater than 1.\")\n",
    "\n",
    "        ### List of GNNs\n",
    "        self.convs = torch.nn.ModuleList()\n",
    "        self.batch_norms = torch.nn.ModuleList()\n",
    "        \n",
    "        if rwPE_dim:\n",
    "            # this is to transform random walk encoding\n",
    "            self.rwEmb = torch.nn.Linear(self.rwPE_dim,self.input_node_dim)\n",
    "        \n",
    "        if rwPE_dim and rwPE_method=='cat':\n",
    "            self.input_node_dim *= 2\n",
    "            \n",
    "        for layer in range(num_layer):\n",
    "            if layer == 0:\n",
    "                if gnn_type == 'gin':\n",
    "                    self.convs.append(GINConv(emb_dim,input_node_dim=self.input_node_dim,input_edge_dim=self.input_edge_dim))\n",
    "                elif gnn_type == 'gcn':\n",
    "                    self.convs.append(GCNConv(emb_dim,input_node_dim=self.input_node_dim,input_edge_dim=self.input_edge_dim))\n",
    "                elif gnn_type == 'gat':\n",
    "                    self.convs.append(GATConv(in_channels=self.input_node_dim,out_channels=emb_dim,edge_dim=self.input_edge_dim))\n",
    "                elif gnn_type == \"pointnet\":\n",
    "                    local_mlp = mlp(self.input_node_dim+3, emb_dim)\n",
    "                    global_mlp = None\n",
    "                    self.convs.append(PointNetConv(local_mlp,global_mlp))\n",
    "                    \n",
    "                elif gnn_type == \"gps\":\n",
    "                    # we need to explicitly declare this mlp\n",
    "                    nn = torch.nn.Sequential(torch.nn.Linear(self.input_node_dim, 2*emb_dim),\n",
    "                                           torch.nn.BatchNorm1d(2*emb_dim), \n",
    "                                           torch.nn.ReLU(), \n",
    "                                           torch.nn.Linear(2*emb_dim, emb_dim))\n",
    "                    self.convs.append(GPSConv(self.input_node_dim, GINEConv(nn,edge_dim =self.input_edge_dim), \n",
    "                                              heads=5, attn_dropout=0.3))\n",
    "                else:\n",
    "                    raise ValueError('Undefined GNN type called {}'.format(gnn_type))\n",
    "                \n",
    "            else:\n",
    "                if gnn_type == 'gin':\n",
    "                    self.convs.append(GINConv(emb_dim,input_node_dim=emb_dim,input_edge_dim=self.input_edge_dim))\n",
    "                elif gnn_type == 'gcn':\n",
    "                    self.convs.append(GCNConv(emb_dim,input_node_dim=emb_dim,input_edge_dim=self.input_edge_dim))\n",
    "                elif gnn_type == 'gat':\n",
    "                    self.convs.append(GATConv(in_channels=emb_dim,out_channels=emb_dim,edge_dim=self.input_edge_dim))\n",
    "                elif gnn_type == \"pointnet\":\n",
    "                    local_mlp = mlp(emb_dim+3, emb_dim)\n",
    "                    global_mlp = None\n",
    "                    self.convs.append(PointNetConv(local_mlp,global_mlp))\n",
    "                    \n",
    "                elif gnn_type == \"gps\":\n",
    "                    # we need to explicitly declare this mlp\n",
    "                    nn = torch.nn.Sequential(torch.nn.Linear(emb_dim, 2*emb_dim), \n",
    "                                       torch.nn.BatchNorm1d(2*emb_dim), \n",
    "                                       torch.nn.ReLU(), \n",
    "                                       torch.nn.Linear(2*emb_dim, emb_dim))\n",
    "                    self.convs.append(GPSConv(emb_dim, GINEConv(nn,edge_dim =self.input_edge_dim),\n",
    "                                              heads=5, attn_dropout=0.3))\n",
    "                else:\n",
    "                    raise ValueError('Undefined GNN type called {}'.format(gnn_type))\n",
    "\n",
    "            self.batch_norms.append(torch.nn.BatchNorm1d(emb_dim))\n",
    "\n",
    "    def forward(self, batched_data):\n",
    "        \n",
    "        x = batched_data.x\n",
    "        edge_index = batched_data.edge_index\n",
    "        edge_attr = batched_data.edge_attr\n",
    "        pos = batched_data.pos\n",
    "        batch = batched_data.batch\n",
    "        \n",
    "        if self.rwPE_dim:\n",
    "            rwPE = batched_data.rwPE\n",
    "            rwPE_emb = self.rwEmb(rwPE)\n",
    "            if self.rwPE_method == 'sum':\n",
    "                h_list = [x+rwPE_emb]\n",
    "            elif self.rwPE_method == 'cat':\n",
    "                h_list = [torch.cat((x,rwPE_emb),1)]      \n",
    "        else:    \n",
    "            h_list = [x]  \n",
    "            \n",
    "        for layer in range(self.num_layer):\n",
    "            if self.gnn_type == 'pointnet':\n",
    "                h = self.convs[layer](h_list[layer], pos, edge_index)\n",
    "            elif self.gnn_type == 'gps':\n",
    "                h = self.convs[layer](h_list[layer], edge_index,batch=batch,edge_attr=edge_attr)\n",
    "            else:    \n",
    "                h = self.convs[layer](h_list[layer], edge_index, edge_attr)\n",
    "                \n",
    "            h = self.batch_norms[layer](h)\n",
    "\n",
    "            if layer == self.num_layer - 1:\n",
    "                #remove relu for the last layer\n",
    "                h = F.dropout(h, self.drop_ratio, training = self.training)\n",
    "            else:\n",
    "                h = F.dropout(F.relu(h), self.drop_ratio, training = self.training)\n",
    "\n",
    "            if self.residual:\n",
    "                h += h_list[layer]\n",
    "\n",
    "            h_list.append(h)\n",
    "\n",
    "        ### Different implementations of Jk-concat\n",
    "        if self.JK == \"last\":\n",
    "            node_representation = h_list[-1]\n",
    "        elif self.JK == \"sum\":\n",
    "            node_representation = 0\n",
    "            for layer in range(self.num_layer + 1):\n",
    "                node_representation += h_list[layer]\n",
    "\n",
    "        return node_representation\n"
   ]
  },
  {
   "cell_type": "code",
   "execution_count": 5,
   "id": "098a0d1b",
   "metadata": {},
   "outputs": [],
   "source": [
    "class GNN(torch.nn.Module):\n",
    "\n",
    "    def __init__(self, num_classes=2, num_layer = 5,num_pre_fnn_layers =0,num_post_fnn_layers =1,hasPos =True,num_coords=3, \n",
    "                 input_spec_fts_dim=3,input_edge_dim = 1, emb_dim = 300,rwPE_dim=None,rwPE_method = 'sum', gnn_type = 'gcn', \n",
    "                 residual = False, drop_ratio = 0.5, JK = \"last\", graph_pooling = \"mean\"):\n",
    "        '''\n",
    "            hasPos (bool) : whether input node features should contain global positioning embeded\n",
    "                            ps: global positioning is the coordinate of the pixel on 2D grid.\n",
    "            input_spec_fts_dim (int) : denotes number of specific features (features apart from postional embedding)\n",
    "            num_coords : number of coordinates required for the positional embedding \n",
    "            rwPE_method: Denotes how random walk embeddings should be embedded \n",
    "                         cat - concatenation, sum - summation.\n",
    "        '''\n",
    "        \n",
    "        super(GNN, self).__init__()\n",
    "        \n",
    "        self.gnn_type = gnn_type\n",
    "        self.num_layer = num_layer\n",
    "        self.drop_ratio = drop_ratio\n",
    "        self.JK = JK\n",
    "        self.emb_dim = emb_dim\n",
    "        self.hasPos = hasPos\n",
    "        self.num_coords =num_coords\n",
    "        self.num_classes = num_classes\n",
    "        self.num_pre_fnn_layers = num_pre_fnn_layers\n",
    "        self.num_post_fnn_layers = num_post_fnn_layers\n",
    "        self.graph_pooling = graph_pooling\n",
    "        self.input_spec_fts_dim = input_spec_fts_dim\n",
    "        self.input_edge_dim = input_edge_dim\n",
    "        self.rwPE_method = rwPE_method\n",
    "        \n",
    "        if self.gnn_type==\"pointnet\":\n",
    "            self.hasPos = False\n",
    "        \n",
    "        self.pos_kwd = \"hasPos\"\n",
    "        if not self.hasPos:\n",
    "            self.pos_kwd = \"noPos\"\n",
    "            \n",
    "        if not self.hasPos:\n",
    "            self.input_node_dim = self.input_spec_fts_dim\n",
    "        else:\n",
    "            self.input_node_dim = self.input_spec_fts_dim+num_coords\n",
    "\n",
    "        if self.num_layer < 2:\n",
    "            raise ValueError(\"Number of GNN layers must be greater than 1.\")\n",
    "            \n",
    "        if self.num_post_fnn_layers < 1:\n",
    "            raise ValueError(\"Number of GNN layers must be greater than or equal to 1.\")\n",
    "        \n",
    "        self.graph_pred_pre_linear_list = torch.nn.ModuleList()\n",
    "        \n",
    "        # dimention of node fts which are fed into message passing layers\n",
    "        self.input_node_dim_mp = self.input_node_dim\n",
    "        \n",
    "        if self.num_pre_fnn_layers >0:\n",
    "            self.graph_pred_pre_linear_list.append(torch.nn.Linear(self.input_node_dim, emb_dim))\n",
    "            for i in range(1,num_pre_fnn_layers):\n",
    "                self.graph_pred_pre_linear_list.append(torch.nn.Linear(emb_dim, emb_dim))\n",
    "            self.input_node_dim_mp = emb_dim\n",
    "                 \n",
    "        ### GNN to generate node embeddings\n",
    "        self.gnn_node = MessagePasssing_Module(num_layer,input_node_dim=self.input_node_dim_mp,\n",
    "                                               input_edge_dim = self.input_edge_dim, emb_dim=emb_dim,\n",
    "                                               rwPE_dim = rwPE_dim, rwPE_method = self.rwPE_method,\n",
    "                                               JK = JK, drop_ratio = drop_ratio, residual = residual, \n",
    "                                               gnn_type = gnn_type)\n",
    "\n",
    "        ### Pooling function to generate entire-graph embeddings\n",
    "        if self.graph_pooling == \"sum\":\n",
    "            self.pool = global_add_pool\n",
    "        elif self.graph_pooling == \"mean\":\n",
    "            self.pool = global_mean_pool\n",
    "        elif self.graph_pooling == \"max\":\n",
    "            self.pool = global_max_pool\n",
    "        elif self.graph_pooling == \"attention\":\n",
    "            self.pool = GlobalAttention(gate_nn = torch.nn.Sequential(torch.nn.Linear(emb_dim, 2*emb_dim), \n",
    "                                                                      torch.nn.BatchNorm1d(2*emb_dim), torch.nn.ReLU(),\n",
    "                                                                      torch.nn.Linear(2*emb_dim, 1)))\n",
    "        else:\n",
    "            raise ValueError(\"Invalid graph pooling type.\")\n",
    "\n",
    "        self.graph_pred_post_linear_list = torch.nn.ModuleList()\n",
    "\n",
    "        for i in range(num_post_fnn_layers-1):\n",
    "            self.graph_pred_post_linear_list.append(torch.nn.Linear(emb_dim, emb_dim))\n",
    "        self.graph_pred_post_linear_list.append(torch.nn.Linear(emb_dim, self.num_classes))\n",
    "                \n",
    "\n",
    "\n",
    "    def forward(self, batched_data):\n",
    "\n",
    "        input_x = batched_data.x # here we can split the x \n",
    "        \n",
    "        batched_data.pos = input_x[:,self.input_spec_fts_dim:] # this will keep pos embeddings\n",
    "        input_x = input_x[:,:self.input_node_dim]\n",
    "        prep_x = input_x\n",
    "        \n",
    "        #preprocessing node features (only). \n",
    "        for fnn_inx in range(self.num_pre_fnn_layers):\n",
    "            prep_x = self.graph_pred_pre_linear_list[fnn_inx](prep_x)\n",
    "        \n",
    "        batched_data.x = prep_x\n",
    "        \n",
    "        h_node = self.gnn_node(batched_data)\n",
    "\n",
    "        h_graph = self.pool(h_node, batched_data.batch)\n",
    "\n",
    "        output = h_graph # initial input is set to the output of the GNN \n",
    "        \n",
    "        #postprocessing graph embeddings (only). \n",
    "        for fnn_inx in range(self.num_post_fnn_layers):\n",
    "            output = self.graph_pred_post_linear_list[fnn_inx](output)\n",
    "            \n",
    "\n",
    "        return F.softmax(output,dim=1)\n",
    "    \n",
    "    def __str__(self):\n",
    "        return self.gnn_type+f\"-model-{self.pos_kwd}\""
   ]
  },
  {
   "cell_type": "code",
   "execution_count": 6,
   "id": "ae3081f7",
   "metadata": {},
   "outputs": [],
   "source": [
    "device = torch.device(\"cuda:0\" if torch.cuda.is_available() else torch.device(\"cpu\"))"
   ]
  },
  {
   "cell_type": "code",
   "execution_count": 7,
   "id": "ffbad78c",
   "metadata": {},
   "outputs": [],
   "source": [
    "multicls_criterion = torch.nn.CrossEntropyLoss()\n",
    "epochs = 75"
   ]
  },
  {
   "cell_type": "code",
   "execution_count": 8,
   "id": "41243fd4",
   "metadata": {},
   "outputs": [],
   "source": [
    "def import_dataset(name,transform=None, pre_transform=None,pre_filter=None):\n",
    "    return JetsGraphsDataset('../dataset/',name=name,transform=transform,\n",
    "                             pre_transform=pre_transform,pre_filter=pre_filter)"
   ]
  },
  {
   "cell_type": "code",
   "execution_count": 9,
   "id": "d0a3fd99",
   "metadata": {},
   "outputs": [],
   "source": [
    "def create_loaders(dataset):\n",
    "    # random splitting dataset\n",
    "    train_inx, valid_inx, test_inx = random_split(range(len(dataset)),[0.7,0.2,0.1],generator=torch.Generator()\n",
    "                                                .manual_seed(42))\n",
    "\n",
    "    train_dataloader = DataLoader(dataset[list(train_inx)], batch_size=4, shuffle=True)\n",
    "    valid_dataloader = DataLoader(dataset[list(valid_inx)], batch_size=4, shuffle=False)\n",
    "    test_dataloader = DataLoader(dataset[list(test_inx)], batch_size=4, shuffle=False)\n",
    "    \n",
    "    return train_dataloader,valid_dataloader,test_dataloader"
   ]
  },
  {
   "cell_type": "code",
   "execution_count": 10,
   "id": "0dd072fb",
   "metadata": {},
   "outputs": [],
   "source": [
    "def train(model, device, loader, optimizer):\n",
    "    model.train()\n",
    "\n",
    "    loss_accum = 0\n",
    "    for step, batch in enumerate(tqdm(loader, desc=\"Iteration\")):\n",
    "        batch=batch.to(device)\n",
    "        if batch.x.shape[0] == 1:\n",
    "            pass\n",
    "        else: \n",
    "            output = model(batch)\n",
    "            optimizer.zero_grad()\n",
    "            loss = multicls_criterion(output, batch.y.view(-1).to(torch.int64))\n",
    "            loss.backward()\n",
    "            optimizer.step()\n",
    "\n",
    "        loss_accum += loss.item()\n",
    "\n",
    "    print('Average training loss: {}'.format(loss_accum / (step + 1))) "
   ]
  },
  {
   "cell_type": "code",
   "execution_count": 11,
   "id": "d2bc7e40",
   "metadata": {},
   "outputs": [],
   "source": [
    "def evaluate(model, device, loader,evaluator= \"roauc\"):\n",
    "    model.eval()\n",
    "    \n",
    "    preds_list = []\n",
    "    target_list = []\n",
    "    for step, batch in enumerate(loader):\n",
    "        batch = batch.to(device)\n",
    "        with torch.no_grad():\n",
    "            output = model(batch)\n",
    "            preds_list.extend(output.tolist())\n",
    "        target_list += batch.y.view(-1).tolist()\n",
    "\n",
    "    if evaluator == \"roauc\":   \n",
    "        metric = MulticlassAUROC(num_classes=2, average=\"macro\", thresholds=None)\n",
    "    if evaluator == \"acc\":\n",
    "        metric = MulticlassAccuracy(num_classes=2, average=\"macro\")\n",
    "    # print(\"AUC-ROC metric score : \",metric(torch.Tensor(preds_list),torch.Tensor(target_list)).item())\n",
    "    return metric(torch.Tensor(preds_list),torch.Tensor(target_list).to(torch.int64)).item()"
   ]
  },
  {
   "cell_type": "code",
   "execution_count": 12,
   "id": "685faee7",
   "metadata": {},
   "outputs": [],
   "source": [
    "def train_model(model,optimizer,dataset):\n",
    "    checkpoints_path = \"../models\"\n",
    "    checkpoints = os.listdir(checkpoints_path)\n",
    "    checkpoint_path = list(filter(lambda i : str(model) in i, checkpoints))\n",
    "    \n",
    "    train_curves = []\n",
    "    valid_curves = []\n",
    "    starting_epoch = 1 \n",
    "    \n",
    "    # create loaders \n",
    "    train_dataloader,valid_dataloader,test_dataloader = create_loaders(dataset)\n",
    "    \n",
    "    if len(checkpoint_path)>0:\n",
    "        checkpoint = torch.load(f\"{checkpoints_path}/{checkpoint_path[0]}\")\n",
    "        model.load_state_dict(checkpoint['model_state_dict'])\n",
    "        optimizer.load_state_dict(checkpoint['optimizer_state_dict'])\n",
    "        starting_epoch = checkpoint['epoch']+1\n",
    "\n",
    "    for epoch in range(starting_epoch, epochs + 1):\n",
    "        print(\"=====Epoch {}\".format(epoch))\n",
    "        print('Training...')\n",
    "        train(model, device, train_dataloader, optimizer)\n",
    "        \n",
    "        # save checkpoint of current epoch\n",
    "        torch.save({\n",
    "                'epoch': epoch,\n",
    "                'model_state_dict': model.state_dict(),\n",
    "                'optimizer_state_dict': optimizer.state_dict(),\n",
    "                }, f\"{checkpoints_path}/{str(model)}-{epoch}.pt\")\n",
    "\n",
    "        # delete checkpoint of previous epoch\n",
    "        if epoch>1:\n",
    "            os.remove(f\"{checkpoints_path}/{str(model)}-{epoch-1}.pt\")\n",
    "\n",
    "        print(\"Evaluating...\")\n",
    "        train_perf_roauc = evaluate(model,device,train_dataloader)\n",
    "        valid_perf_roauc = evaluate(model,device,valid_dataloader)\n",
    "        print('ROAUC scores: ',{'Train': train_perf_roauc, 'Validation': valid_perf_roauc})\n",
    "        \n",
    "    print('\\nFinished training!')\n",
    "    print('\\nROAUC Test score: {}'.format(evaluate(model,device,test_dataloader)))"
   ]
  },
  {
   "cell_type": "markdown",
   "id": "d94ddca3",
   "metadata": {},
   "source": [
    "## Training PointNet Conv based GNN model"
   ]
  },
  {
   "cell_type": "code",
   "execution_count": 13,
   "id": "1312d6c1",
   "metadata": {
    "scrolled": true
   },
   "outputs": [
    {
     "name": "stdout",
     "output_type": "stream",
     "text": [
      "=====Epoch 1\n",
      "Training...\n"
     ]
    },
    {
     "name": "stderr",
     "output_type": "stream",
     "text": [
      "Iteration: 100%|██████████| 794/794 [01:37<00:00,  8.12it/s]\n"
     ]
    },
    {
     "name": "stdout",
     "output_type": "stream",
     "text": [
      "Average training loss: 0.5968443244245251\n",
      "Evaluating...\n",
      "ROAUC scores:  {'Train': 0.7725400328636169, 'Validation': 0.7705419063568115}\n",
      "=====Epoch 2\n",
      "Training...\n"
     ]
    },
    {
     "name": "stderr",
     "output_type": "stream",
     "text": [
      "Iteration: 100%|██████████| 794/794 [02:44<00:00,  4.84it/s]\n"
     ]
    },
    {
     "name": "stdout",
     "output_type": "stream",
     "text": [
      "Average training loss: 0.5875780677765383\n",
      "Evaluating...\n",
      "ROAUC scores:  {'Train': 0.7801496982574463, 'Validation': 0.7786107063293457}\n",
      "=====Epoch 3\n",
      "Training...\n"
     ]
    },
    {
     "name": "stderr",
     "output_type": "stream",
     "text": [
      "Iteration: 100%|██████████| 794/794 [03:17<00:00,  4.02it/s]\n"
     ]
    },
    {
     "name": "stdout",
     "output_type": "stream",
     "text": [
      "Average training loss: 0.5844302855300663\n",
      "Evaluating...\n",
      "ROAUC scores:  {'Train': 0.7826152443885803, 'Validation': 0.7812164425849915}\n",
      "=====Epoch 4\n",
      "Training...\n"
     ]
    },
    {
     "name": "stderr",
     "output_type": "stream",
     "text": [
      "Iteration: 100%|██████████| 794/794 [03:18<00:00,  4.00it/s]\n"
     ]
    },
    {
     "name": "stdout",
     "output_type": "stream",
     "text": [
      "Average training loss: 0.5846906998370697\n",
      "Evaluating...\n",
      "ROAUC scores:  {'Train': 0.7792961597442627, 'Validation': 0.7805557250976562}\n",
      "=====Epoch 5\n",
      "Training...\n"
     ]
    },
    {
     "name": "stderr",
     "output_type": "stream",
     "text": [
      "Iteration: 100%|██████████| 794/794 [03:12<00:00,  4.13it/s]\n"
     ]
    },
    {
     "name": "stdout",
     "output_type": "stream",
     "text": [
      "Average training loss: 0.5830133735983438\n",
      "Evaluating...\n",
      "ROAUC scores:  {'Train': 0.7796788215637207, 'Validation': 0.7771973013877869}\n",
      "=====Epoch 6\n",
      "Training...\n"
     ]
    },
    {
     "name": "stderr",
     "output_type": "stream",
     "text": [
      "Iteration: 100%|██████████| 794/794 [03:12<00:00,  4.12it/s]\n"
     ]
    },
    {
     "name": "stdout",
     "output_type": "stream",
     "text": [
      "Average training loss: 0.5814722128569029\n",
      "Evaluating...\n",
      "ROAUC scores:  {'Train': 0.7812932729721069, 'Validation': 0.781397819519043}\n",
      "=====Epoch 7\n",
      "Training...\n"
     ]
    },
    {
     "name": "stderr",
     "output_type": "stream",
     "text": [
      "Iteration: 100%|██████████| 794/794 [03:11<00:00,  4.15it/s]\n"
     ]
    },
    {
     "name": "stdout",
     "output_type": "stream",
     "text": [
      "Average training loss: 0.5789326649694059\n",
      "Evaluating...\n",
      "ROAUC scores:  {'Train': 0.7868567705154419, 'Validation': 0.7841024398803711}\n",
      "=====Epoch 8\n",
      "Training...\n"
     ]
    },
    {
     "name": "stderr",
     "output_type": "stream",
     "text": [
      "Iteration: 100%|██████████| 794/794 [03:18<00:00,  3.99it/s]\n"
     ]
    },
    {
     "name": "stdout",
     "output_type": "stream",
     "text": [
      "Average training loss: 0.5804146431780582\n",
      "Evaluating...\n",
      "ROAUC scores:  {'Train': 0.7854431867599487, 'Validation': 0.7837200164794922}\n",
      "=====Epoch 9\n",
      "Training...\n"
     ]
    },
    {
     "name": "stderr",
     "output_type": "stream",
     "text": [
      "Iteration: 100%|██████████| 794/794 [03:12<00:00,  4.13it/s]\n"
     ]
    },
    {
     "name": "stdout",
     "output_type": "stream",
     "text": [
      "Average training loss: 0.5800728388787517\n",
      "Evaluating...\n",
      "ROAUC scores:  {'Train': 0.7872354984283447, 'Validation': 0.7860591411590576}\n",
      "=====Epoch 10\n",
      "Training...\n"
     ]
    },
    {
     "name": "stderr",
     "output_type": "stream",
     "text": [
      "Iteration: 100%|██████████| 794/794 [03:16<00:00,  4.04it/s]\n"
     ]
    },
    {
     "name": "stdout",
     "output_type": "stream",
     "text": [
      "Average training loss: 0.5798492744677614\n",
      "Evaluating...\n",
      "ROAUC scores:  {'Train': 0.7855093479156494, 'Validation': 0.7855976819992065}\n",
      "=====Epoch 11\n",
      "Training...\n"
     ]
    },
    {
     "name": "stderr",
     "output_type": "stream",
     "text": [
      "Iteration: 100%|██████████| 794/794 [03:17<00:00,  4.01it/s]\n"
     ]
    },
    {
     "name": "stdout",
     "output_type": "stream",
     "text": [
      "Average training loss: 0.5787262726640822\n",
      "Evaluating...\n",
      "ROAUC scores:  {'Train': 0.7860662341117859, 'Validation': 0.7840490341186523}\n",
      "=====Epoch 12\n",
      "Training...\n"
     ]
    },
    {
     "name": "stderr",
     "output_type": "stream",
     "text": [
      "Iteration: 100%|██████████| 794/794 [03:11<00:00,  4.14it/s]\n"
     ]
    },
    {
     "name": "stdout",
     "output_type": "stream",
     "text": [
      "Average training loss: 0.5791401911142191\n",
      "Evaluating...\n",
      "ROAUC scores:  {'Train': 0.7866134643554688, 'Validation': 0.7852720022201538}\n",
      "=====Epoch 13\n",
      "Training...\n"
     ]
    },
    {
     "name": "stderr",
     "output_type": "stream",
     "text": [
      "Iteration: 100%|██████████| 794/794 [03:16<00:00,  4.03it/s]\n"
     ]
    },
    {
     "name": "stdout",
     "output_type": "stream",
     "text": [
      "Average training loss: 0.579151221576806\n",
      "Evaluating...\n",
      "ROAUC scores:  {'Train': 0.7879475951194763, 'Validation': 0.785601019859314}\n",
      "=====Epoch 14\n",
      "Training...\n"
     ]
    },
    {
     "name": "stderr",
     "output_type": "stream",
     "text": [
      "Iteration: 100%|██████████| 794/794 [03:14<00:00,  4.09it/s]\n"
     ]
    },
    {
     "name": "stdout",
     "output_type": "stream",
     "text": [
      "Average training loss: 0.5781001861134464\n",
      "Evaluating...\n",
      "ROAUC scores:  {'Train': 0.7771030068397522, 'Validation': 0.7736259698867798}\n",
      "=====Epoch 15\n",
      "Training...\n"
     ]
    },
    {
     "name": "stderr",
     "output_type": "stream",
     "text": [
      "Iteration: 100%|██████████| 794/794 [08:41<00:00,  1.52it/s]\n"
     ]
    },
    {
     "name": "stdout",
     "output_type": "stream",
     "text": [
      "Average training loss: 0.577440016553444\n",
      "Evaluating...\n",
      "ROAUC scores:  {'Train': 0.7870498299598694, 'Validation': 0.7850008010864258}\n",
      "=====Epoch 16\n",
      "Training...\n"
     ]
    },
    {
     "name": "stderr",
     "output_type": "stream",
     "text": [
      "Iteration: 100%|██████████| 794/794 [03:03<00:00,  4.33it/s]\n"
     ]
    },
    {
     "name": "stdout",
     "output_type": "stream",
     "text": [
      "Average training loss: 0.5777557659659638\n",
      "Evaluating...\n",
      "ROAUC scores:  {'Train': 0.762190580368042, 'Validation': 0.7602964639663696}\n",
      "=====Epoch 17\n",
      "Training...\n"
     ]
    },
    {
     "name": "stderr",
     "output_type": "stream",
     "text": [
      "Iteration: 100%|██████████| 794/794 [02:57<00:00,  4.47it/s]\n"
     ]
    },
    {
     "name": "stdout",
     "output_type": "stream",
     "text": [
      "Average training loss: 0.5766549351008172\n",
      "Evaluating...\n",
      "ROAUC scores:  {'Train': 0.7872689366340637, 'Validation': 0.7858028411865234}\n",
      "=====Epoch 18\n",
      "Training...\n"
     ]
    },
    {
     "name": "stderr",
     "output_type": "stream",
     "text": [
      "Iteration: 100%|██████████| 794/794 [02:54<00:00,  4.55it/s]\n"
     ]
    },
    {
     "name": "stdout",
     "output_type": "stream",
     "text": [
      "Average training loss: 0.5769129636080499\n",
      "Evaluating...\n",
      "ROAUC scores:  {'Train': 0.788252055644989, 'Validation': 0.7873647212982178}\n",
      "=====Epoch 19\n",
      "Training...\n"
     ]
    },
    {
     "name": "stderr",
     "output_type": "stream",
     "text": [
      "Iteration: 100%|██████████| 794/794 [02:49<00:00,  4.67it/s]\n"
     ]
    },
    {
     "name": "stdout",
     "output_type": "stream",
     "text": [
      "Average training loss: 0.576685763201125\n",
      "Evaluating...\n",
      "ROAUC scores:  {'Train': 0.7860899567604065, 'Validation': 0.7834397554397583}\n",
      "=====Epoch 20\n",
      "Training...\n"
     ]
    },
    {
     "name": "stderr",
     "output_type": "stream",
     "text": [
      "Iteration: 100%|██████████| 794/794 [02:50<00:00,  4.67it/s]\n"
     ]
    },
    {
     "name": "stdout",
     "output_type": "stream",
     "text": [
      "Average training loss: 0.5760915947500945\n",
      "Evaluating...\n",
      "ROAUC scores:  {'Train': 0.7894119024276733, 'Validation': 0.7862321734428406}\n",
      "=====Epoch 21\n",
      "Training...\n"
     ]
    },
    {
     "name": "stderr",
     "output_type": "stream",
     "text": [
      "Iteration: 100%|██████████| 794/794 [02:46<00:00,  4.77it/s]\n"
     ]
    },
    {
     "name": "stdout",
     "output_type": "stream",
     "text": [
      "Average training loss: 0.5769186928605553\n",
      "Evaluating...\n",
      "ROAUC scores:  {'Train': 0.7865864038467407, 'Validation': 0.7861353158950806}\n",
      "=====Epoch 22\n",
      "Training...\n"
     ]
    },
    {
     "name": "stderr",
     "output_type": "stream",
     "text": [
      "Iteration: 100%|██████████| 794/794 [02:49<00:00,  4.68it/s]\n"
     ]
    },
    {
     "name": "stdout",
     "output_type": "stream",
     "text": [
      "Average training loss: 0.5753102543522188\n",
      "Evaluating...\n",
      "ROAUC scores:  {'Train': 0.7883642911911011, 'Validation': 0.7849191427230835}\n",
      "=====Epoch 23\n",
      "Training...\n"
     ]
    },
    {
     "name": "stderr",
     "output_type": "stream",
     "text": [
      "Iteration: 100%|██████████| 794/794 [02:51<00:00,  4.64it/s]\n"
     ]
    },
    {
     "name": "stdout",
     "output_type": "stream",
     "text": [
      "Average training loss: 0.5745986026690649\n",
      "Evaluating...\n",
      "ROAUC scores:  {'Train': 0.7894608974456787, 'Validation': 0.7863061428070068}\n",
      "=====Epoch 24\n",
      "Training...\n"
     ]
    },
    {
     "name": "stderr",
     "output_type": "stream",
     "text": [
      "Iteration: 100%|██████████| 794/794 [02:59<00:00,  4.42it/s]\n"
     ]
    },
    {
     "name": "stdout",
     "output_type": "stream",
     "text": [
      "Average training loss: 0.5776910598692425\n",
      "Evaluating...\n",
      "ROAUC scores:  {'Train': 0.7852466106414795, 'Validation': 0.7835105061531067}\n",
      "=====Epoch 25\n",
      "Training...\n"
     ]
    },
    {
     "name": "stderr",
     "output_type": "stream",
     "text": [
      "Iteration: 100%|██████████| 794/794 [02:57<00:00,  4.48it/s]\n"
     ]
    },
    {
     "name": "stdout",
     "output_type": "stream",
     "text": [
      "Average training loss: 0.5764218710681954\n",
      "Evaluating...\n",
      "ROAUC scores:  {'Train': 0.7644175887107849, 'Validation': 0.7614254951477051}\n",
      "=====Epoch 26\n",
      "Training...\n"
     ]
    },
    {
     "name": "stderr",
     "output_type": "stream",
     "text": [
      "Iteration: 100%|██████████| 794/794 [02:53<00:00,  4.57it/s]\n"
     ]
    },
    {
     "name": "stdout",
     "output_type": "stream",
     "text": [
      "Average training loss: 0.5773236190416952\n",
      "Evaluating...\n",
      "ROAUC scores:  {'Train': 0.7885024547576904, 'Validation': 0.7852720022201538}\n",
      "=====Epoch 27\n",
      "Training...\n"
     ]
    },
    {
     "name": "stderr",
     "output_type": "stream",
     "text": [
      "Iteration: 100%|██████████| 794/794 [02:54<00:00,  4.54it/s]\n"
     ]
    },
    {
     "name": "stdout",
     "output_type": "stream",
     "text": [
      "Average training loss: 0.5759505648306695\n",
      "Evaluating...\n",
      "ROAUC scores:  {'Train': 0.7902500629425049, 'Validation': 0.7867677211761475}\n",
      "=====Epoch 28\n",
      "Training...\n"
     ]
    },
    {
     "name": "stderr",
     "output_type": "stream",
     "text": [
      "Iteration: 100%|██████████| 794/794 [02:53<00:00,  4.57it/s]\n"
     ]
    },
    {
     "name": "stdout",
     "output_type": "stream",
     "text": [
      "Average training loss: 0.5751700830699815\n",
      "Evaluating...\n",
      "ROAUC scores:  {'Train': 0.7886245250701904, 'Validation': 0.7871099710464478}\n",
      "=====Epoch 29\n",
      "Training...\n"
     ]
    },
    {
     "name": "stderr",
     "output_type": "stream",
     "text": [
      "Iteration: 100%|██████████| 794/794 [03:03<00:00,  4.34it/s]\n"
     ]
    },
    {
     "name": "stdout",
     "output_type": "stream",
     "text": [
      "Average training loss: 0.5751021978461772\n",
      "Evaluating...\n",
      "ROAUC scores:  {'Train': 0.773712158203125, 'Validation': 0.7691928148269653}\n",
      "=====Epoch 30\n",
      "Training...\n"
     ]
    },
    {
     "name": "stderr",
     "output_type": "stream",
     "text": [
      "Iteration: 100%|██████████| 794/794 [02:57<00:00,  4.49it/s]\n"
     ]
    },
    {
     "name": "stdout",
     "output_type": "stream",
     "text": [
      "Average training loss: 0.5749188440122293\n",
      "Evaluating...\n",
      "ROAUC scores:  {'Train': 0.787826418876648, 'Validation': 0.7838537096977234}\n",
      "=====Epoch 31\n",
      "Training...\n"
     ]
    },
    {
     "name": "stderr",
     "output_type": "stream",
     "text": [
      "Iteration: 100%|██████████| 794/794 [02:56<00:00,  4.51it/s]\n"
     ]
    },
    {
     "name": "stdout",
     "output_type": "stream",
     "text": [
      "Average training loss: 0.5751555557139875\n",
      "Evaluating...\n",
      "ROAUC scores:  {'Train': 0.7896990776062012, 'Validation': 0.7879261374473572}\n",
      "=====Epoch 32\n",
      "Training...\n"
     ]
    },
    {
     "name": "stderr",
     "output_type": "stream",
     "text": [
      "Iteration: 100%|██████████| 794/794 [02:56<00:00,  4.50it/s]\n"
     ]
    },
    {
     "name": "stdout",
     "output_type": "stream",
     "text": [
      "Average training loss: 0.5739112086124925\n",
      "Evaluating...\n",
      "ROAUC scores:  {'Train': 0.789286732673645, 'Validation': 0.7848456501960754}\n",
      "=====Epoch 33\n",
      "Training...\n"
     ]
    },
    {
     "name": "stderr",
     "output_type": "stream",
     "text": [
      "Iteration: 100%|██████████| 794/794 [02:57<00:00,  4.47it/s]\n"
     ]
    },
    {
     "name": "stdout",
     "output_type": "stream",
     "text": [
      "Average training loss: 0.5746987097209286\n",
      "Evaluating...\n",
      "ROAUC scores:  {'Train': 0.7911396026611328, 'Validation': 0.7875732183456421}\n",
      "=====Epoch 34\n",
      "Training...\n"
     ]
    },
    {
     "name": "stderr",
     "output_type": "stream",
     "text": [
      "Iteration: 100%|██████████| 794/794 [02:53<00:00,  4.59it/s]\n"
     ]
    },
    {
     "name": "stdout",
     "output_type": "stream",
     "text": [
      "=====Epoch 35\n",
      "Training...\n"
     ]
    },
    {
     "name": "stderr",
     "output_type": "stream",
     "text": [
      "Iteration: 100%|██████████| 794/794 [01:39<00:00,  7.98it/s]\n"
     ]
    },
    {
     "name": "stdout",
     "output_type": "stream",
     "text": [
      "Average training loss: 0.5739827171456003\n",
      "Evaluating...\n",
      "ROAUC scores:  {'Train': 0.7900856733322144, 'Validation': 0.7864100933074951}\n",
      "=====Epoch 36\n",
      "Training...\n"
     ]
    },
    {
     "name": "stderr",
     "output_type": "stream",
     "text": [
      "Iteration: 100%|██████████| 794/794 [02:26<00:00,  5.40it/s]\n"
     ]
    },
    {
     "name": "stdout",
     "output_type": "stream",
     "text": [
      "Average training loss: 0.5746025304575111\n",
      "Evaluating...\n",
      "ROAUC scores:  {'Train': 0.7909984588623047, 'Validation': 0.7868366837501526}\n",
      "=====Epoch 37\n",
      "Training...\n"
     ]
    },
    {
     "name": "stderr",
     "output_type": "stream",
     "text": [
      "Iteration: 100%|██████████| 794/794 [02:40<00:00,  4.96it/s]\n"
     ]
    },
    {
     "name": "stdout",
     "output_type": "stream",
     "text": [
      "Average training loss: 0.5739615860603918\n",
      "Evaluating...\n",
      "ROAUC scores:  {'Train': 0.7911142110824585, 'Validation': 0.7861701250076294}\n",
      "=====Epoch 38\n",
      "Training...\n"
     ]
    },
    {
     "name": "stderr",
     "output_type": "stream",
     "text": [
      "Iteration: 100%|██████████| 794/794 [02:29<00:00,  5.30it/s]\n"
     ]
    },
    {
     "name": "stdout",
     "output_type": "stream",
     "text": [
      "Average training loss: 0.5743755280070701\n",
      "Evaluating...\n",
      "ROAUC scores:  {'Train': 0.7898068428039551, 'Validation': 0.7860455513000488}\n",
      "=====Epoch 39\n",
      "Training...\n"
     ]
    },
    {
     "name": "stderr",
     "output_type": "stream",
     "text": [
      "Iteration: 100%|██████████| 794/794 [02:33<00:00,  5.16it/s]\n"
     ]
    },
    {
     "name": "stdout",
     "output_type": "stream",
     "text": [
      "Average training loss: 0.5730699439267968\n",
      "Evaluating...\n",
      "ROAUC scores:  {'Train': 0.7923632264137268, 'Validation': 0.7872792482376099}\n",
      "=====Epoch 40\n",
      "Training...\n"
     ]
    },
    {
     "name": "stderr",
     "output_type": "stream",
     "text": [
      "Iteration: 100%|██████████| 794/794 [02:32<00:00,  5.22it/s]\n"
     ]
    },
    {
     "name": "stdout",
     "output_type": "stream",
     "text": [
      "Average training loss: 0.5726659616610266\n",
      "Evaluating...\n",
      "ROAUC scores:  {'Train': 0.7820241451263428, 'Validation': 0.7792727947235107}\n",
      "=====Epoch 41\n",
      "Training...\n"
     ]
    },
    {
     "name": "stderr",
     "output_type": "stream",
     "text": [
      "Iteration: 100%|██████████| 794/794 [02:35<00:00,  5.11it/s]\n"
     ]
    },
    {
     "name": "stdout",
     "output_type": "stream",
     "text": [
      "Average training loss: 0.5738611338796183\n",
      "Evaluating...\n",
      "ROAUC scores:  {'Train': 0.7933529615402222, 'Validation': 0.7894002199172974}\n",
      "=====Epoch 42\n",
      "Training...\n"
     ]
    },
    {
     "name": "stderr",
     "output_type": "stream",
     "text": [
      "Iteration: 100%|██████████| 794/794 [02:34<00:00,  5.15it/s]\n"
     ]
    },
    {
     "name": "stdout",
     "output_type": "stream",
     "text": [
      "Average training loss: 0.5728686149759917\n",
      "Evaluating...\n",
      "ROAUC scores:  {'Train': 0.7913365364074707, 'Validation': 0.7864618301391602}\n",
      "=====Epoch 43\n",
      "Training...\n"
     ]
    },
    {
     "name": "stderr",
     "output_type": "stream",
     "text": [
      "Iteration: 100%|██████████| 794/794 [02:36<00:00,  5.08it/s]\n"
     ]
    },
    {
     "name": "stdout",
     "output_type": "stream",
     "text": [
      "Average training loss: 0.5727560592238189\n",
      "Evaluating...\n",
      "ROAUC scores:  {'Train': 0.7900986671447754, 'Validation': 0.7850940227508545}\n",
      "=====Epoch 44\n",
      "Training...\n"
     ]
    },
    {
     "name": "stderr",
     "output_type": "stream",
     "text": [
      "Iteration: 100%|██████████| 794/794 [02:38<00:00,  5.00it/s]\n"
     ]
    },
    {
     "name": "stdout",
     "output_type": "stream",
     "text": [
      "Average training loss: 0.5730623385167543\n",
      "Evaluating...\n",
      "ROAUC scores:  {'Train': 0.7675602436065674, 'Validation': 0.7637292742729187}\n",
      "=====Epoch 45\n",
      "Training...\n"
     ]
    },
    {
     "name": "stderr",
     "output_type": "stream",
     "text": [
      "Iteration: 100%|██████████| 794/794 [02:35<00:00,  5.10it/s]\n"
     ]
    },
    {
     "name": "stdout",
     "output_type": "stream",
     "text": [
      "Average training loss: 0.5731236220382022\n",
      "Evaluating...\n",
      "ROAUC scores:  {'Train': 0.7934221029281616, 'Validation': 0.7886366844177246}\n",
      "=====Epoch 46\n",
      "Training...\n"
     ]
    },
    {
     "name": "stderr",
     "output_type": "stream",
     "text": [
      "Iteration: 100%|██████████| 794/794 [02:37<00:00,  5.05it/s]\n"
     ]
    },
    {
     "name": "stdout",
     "output_type": "stream",
     "text": [
      "Average training loss: 0.5723259001219603\n",
      "Evaluating...\n",
      "ROAUC scores:  {'Train': 0.7934394478797913, 'Validation': 0.7887582182884216}\n",
      "=====Epoch 47\n",
      "Training...\n"
     ]
    },
    {
     "name": "stderr",
     "output_type": "stream",
     "text": [
      "Iteration: 100%|██████████| 794/794 [02:37<00:00,  5.05it/s]\n"
     ]
    },
    {
     "name": "stdout",
     "output_type": "stream",
     "text": [
      "Average training loss: 0.5739216277145919\n",
      "Evaluating...\n",
      "ROAUC scores:  {'Train': 0.7764313220977783, 'Validation': 0.7731903195381165}\n",
      "=====Epoch 48\n",
      "Training...\n"
     ]
    },
    {
     "name": "stderr",
     "output_type": "stream",
     "text": [
      "Iteration: 100%|██████████| 794/794 [02:37<00:00,  5.05it/s]\n"
     ]
    },
    {
     "name": "stdout",
     "output_type": "stream",
     "text": [
      "Average training loss: 0.5730520148646622\n",
      "Evaluating...\n",
      "ROAUC scores:  {'Train': 0.7866554856300354, 'Validation': 0.7817510962486267}\n",
      "=====Epoch 49\n",
      "Training...\n"
     ]
    },
    {
     "name": "stderr",
     "output_type": "stream",
     "text": [
      "Iteration: 100%|██████████| 794/794 [02:37<00:00,  5.05it/s]\n"
     ]
    },
    {
     "name": "stdout",
     "output_type": "stream",
     "text": [
      "Average training loss: 0.5717012625872638\n",
      "Evaluating...\n",
      "ROAUC scores:  {'Train': 0.7875276803970337, 'Validation': 0.7825453281402588}\n",
      "=====Epoch 50\n",
      "Training...\n"
     ]
    },
    {
     "name": "stderr",
     "output_type": "stream",
     "text": [
      "Iteration: 100%|██████████| 794/794 [02:43<00:00,  4.87it/s]\n"
     ]
    },
    {
     "name": "stdout",
     "output_type": "stream",
     "text": [
      "Average training loss: 0.5716628171785052\n",
      "Evaluating...\n",
      "ROAUC scores:  {'Train': 0.7603659629821777, 'Validation': 0.7561715841293335}\n",
      "=====Epoch 51\n",
      "Training...\n"
     ]
    },
    {
     "name": "stderr",
     "output_type": "stream",
     "text": [
      "Iteration: 100%|██████████| 794/794 [02:39<00:00,  4.98it/s]\n"
     ]
    },
    {
     "name": "stdout",
     "output_type": "stream",
     "text": [
      "Average training loss: 0.571504502062233\n",
      "Evaluating...\n",
      "ROAUC scores:  {'Train': 0.7938394546508789, 'Validation': 0.7886555790901184}\n",
      "=====Epoch 52\n",
      "Training...\n"
     ]
    },
    {
     "name": "stderr",
     "output_type": "stream",
     "text": [
      "Iteration: 100%|██████████| 794/794 [02:38<00:00,  5.02it/s]\n"
     ]
    },
    {
     "name": "stdout",
     "output_type": "stream",
     "text": [
      "Average training loss: 0.5719038715740896\n",
      "Evaluating...\n",
      "ROAUC scores:  {'Train': 0.794448733329773, 'Validation': 0.7890756130218506}\n",
      "=====Epoch 53\n",
      "Training...\n"
     ]
    },
    {
     "name": "stderr",
     "output_type": "stream",
     "text": [
      "Iteration: 100%|██████████| 794/794 [02:42<00:00,  4.89it/s]\n"
     ]
    },
    {
     "name": "stdout",
     "output_type": "stream",
     "text": [
      "Average training loss: 0.5718246735538584\n",
      "Evaluating...\n",
      "ROAUC scores:  {'Train': 0.7927464246749878, 'Validation': 0.7879352569580078}\n",
      "=====Epoch 54\n",
      "Training...\n"
     ]
    },
    {
     "name": "stderr",
     "output_type": "stream",
     "text": [
      "Iteration: 100%|██████████| 794/794 [02:32<00:00,  5.20it/s]\n"
     ]
    },
    {
     "name": "stdout",
     "output_type": "stream",
     "text": [
      "Average training loss: 0.5709853943259049\n",
      "Evaluating...\n",
      "ROAUC scores:  {'Train': 0.7714006900787354, 'Validation': 0.7676116228103638}\n",
      "=====Epoch 55\n",
      "Training...\n"
     ]
    },
    {
     "name": "stderr",
     "output_type": "stream",
     "text": [
      "Iteration: 100%|██████████| 794/794 [02:37<00:00,  5.04it/s]\n"
     ]
    },
    {
     "name": "stdout",
     "output_type": "stream",
     "text": [
      "Average training loss: 0.5721219574249061\n",
      "Evaluating...\n",
      "ROAUC scores:  {'Train': 0.7951651215553284, 'Validation': 0.7891930341720581}\n",
      "=====Epoch 56\n",
      "Training...\n"
     ]
    },
    {
     "name": "stderr",
     "output_type": "stream",
     "text": [
      "Iteration: 100%|██████████| 794/794 [02:37<00:00,  5.04it/s]\n"
     ]
    },
    {
     "name": "stdout",
     "output_type": "stream",
     "text": [
      "Average training loss: 0.5709663217404027\n",
      "Evaluating...\n",
      "ROAUC scores:  {'Train': 0.7937808036804199, 'Validation': 0.788083553314209}\n",
      "=====Epoch 57\n",
      "Training...\n"
     ]
    },
    {
     "name": "stderr",
     "output_type": "stream",
     "text": [
      "Iteration: 100%|██████████| 794/794 [02:35<00:00,  5.10it/s]\n"
     ]
    },
    {
     "name": "stdout",
     "output_type": "stream",
     "text": [
      "Average training loss: 0.5717437531170376\n",
      "Evaluating...\n",
      "=====Epoch 58\n",
      "Training...\n"
     ]
    },
    {
     "name": "stderr",
     "output_type": "stream",
     "text": [
      "Iteration: 100%|██████████| 794/794 [01:32<00:00,  8.63it/s]\n"
     ]
    },
    {
     "name": "stdout",
     "output_type": "stream",
     "text": [
      "Average training loss: 0.5710191993554233\n",
      "Evaluating...\n",
      "ROAUC scores:  {'Train': 0.7960894107818604, 'Validation': 0.7901884913444519}\n",
      "=====Epoch 59\n",
      "Training...\n"
     ]
    },
    {
     "name": "stderr",
     "output_type": "stream",
     "text": [
      "Iteration: 100%|██████████| 794/794 [02:51<00:00,  4.63it/s]\n"
     ]
    },
    {
     "name": "stdout",
     "output_type": "stream",
     "text": [
      "Average training loss: 0.5708773756582731\n",
      "Evaluating...\n",
      "ROAUC scores:  {'Train': 0.7905668020248413, 'Validation': 0.7861651182174683}\n",
      "=====Epoch 60\n",
      "Training...\n"
     ]
    },
    {
     "name": "stderr",
     "output_type": "stream",
     "text": [
      "Iteration: 100%|██████████| 794/794 [03:20<00:00,  3.96it/s]\n"
     ]
    },
    {
     "name": "stdout",
     "output_type": "stream",
     "text": [
      "Average training loss: 0.5698322208236988\n",
      "Evaluating...\n",
      "ROAUC scores:  {'Train': 0.7800576686859131, 'Validation': 0.7751147747039795}\n",
      "=====Epoch 61\n",
      "Training...\n"
     ]
    },
    {
     "name": "stderr",
     "output_type": "stream",
     "text": [
      "Iteration: 100%|██████████| 794/794 [03:19<00:00,  3.99it/s]\n"
     ]
    },
    {
     "name": "stdout",
     "output_type": "stream",
     "text": [
      "Average training loss: 0.5710302815404287\n",
      "Evaluating...\n",
      "ROAUC scores:  {'Train': 0.7954208254814148, 'Validation': 0.790581226348877}\n",
      "=====Epoch 62\n",
      "Training...\n"
     ]
    },
    {
     "name": "stderr",
     "output_type": "stream",
     "text": [
      "Iteration: 100%|██████████| 794/794 [03:19<00:00,  3.97it/s]\n"
     ]
    },
    {
     "name": "stdout",
     "output_type": "stream",
     "text": [
      "Average training loss: 0.5712567357257271\n",
      "Evaluating...\n",
      "ROAUC scores:  {'Train': 0.7953957319259644, 'Validation': 0.7892595529556274}\n",
      "=====Epoch 63\n",
      "Training...\n"
     ]
    },
    {
     "name": "stderr",
     "output_type": "stream",
     "text": [
      "Iteration: 100%|██████████| 794/794 [03:22<00:00,  3.93it/s]\n"
     ]
    },
    {
     "name": "stdout",
     "output_type": "stream",
     "text": [
      "Average training loss: 0.5708156433003375\n",
      "Evaluating...\n",
      "ROAUC scores:  {'Train': 0.7958442568778992, 'Validation': 0.7875226140022278}\n",
      "=====Epoch 64\n",
      "Training...\n"
     ]
    },
    {
     "name": "stderr",
     "output_type": "stream",
     "text": [
      "Iteration: 100%|██████████| 794/794 [03:18<00:00,  4.01it/s]\n"
     ]
    },
    {
     "name": "stdout",
     "output_type": "stream",
     "text": [
      "Average training loss: 0.5698565028101131\n",
      "Evaluating...\n",
      "ROAUC scores:  {'Train': 0.7940566539764404, 'Validation': 0.7897814512252808}\n",
      "=====Epoch 65\n",
      "Training...\n"
     ]
    },
    {
     "name": "stderr",
     "output_type": "stream",
     "text": [
      "Iteration: 100%|██████████| 794/794 [03:19<00:00,  3.97it/s]\n"
     ]
    },
    {
     "name": "stdout",
     "output_type": "stream",
     "text": [
      "Average training loss: 0.5705780312231266\n",
      "Evaluating...\n",
      "ROAUC scores:  {'Train': 0.796878457069397, 'Validation': 0.7902677059173584}\n",
      "=====Epoch 66\n",
      "Training...\n"
     ]
    },
    {
     "name": "stderr",
     "output_type": "stream",
     "text": [
      "Iteration: 100%|██████████| 794/794 [03:18<00:00,  4.01it/s]\n"
     ]
    },
    {
     "name": "stdout",
     "output_type": "stream",
     "text": [
      "Average training loss: 0.5694479918675098\n",
      "Evaluating...\n",
      "ROAUC scores:  {'Train': 0.7934308052062988, 'Validation': 0.7879504561424255}\n",
      "=====Epoch 67\n",
      "Training...\n"
     ]
    },
    {
     "name": "stderr",
     "output_type": "stream",
     "text": [
      "Iteration: 100%|██████████| 794/794 [03:17<00:00,  4.02it/s]\n"
     ]
    },
    {
     "name": "stdout",
     "output_type": "stream",
     "text": [
      "Average training loss: 0.56918925542375\n",
      "Evaluating...\n",
      "ROAUC scores:  {'Train': 0.7101675271987915, 'Validation': 0.7067291736602783}\n",
      "=====Epoch 68\n",
      "Training...\n"
     ]
    },
    {
     "name": "stderr",
     "output_type": "stream",
     "text": [
      "Iteration: 100%|██████████| 794/794 [03:18<00:00,  3.99it/s]\n"
     ]
    },
    {
     "name": "stdout",
     "output_type": "stream",
     "text": [
      "Average training loss: 0.5690981335468797\n",
      "Evaluating...\n",
      "ROAUC scores:  {'Train': 0.7929885387420654, 'Validation': 0.7869628667831421}\n",
      "=====Epoch 69\n",
      "Training...\n"
     ]
    },
    {
     "name": "stderr",
     "output_type": "stream",
     "text": [
      "Iteration: 100%|██████████| 794/794 [03:28<00:00,  3.81it/s]\n"
     ]
    },
    {
     "name": "stdout",
     "output_type": "stream",
     "text": [
      "Average training loss: 0.569651496913331\n",
      "Evaluating...\n",
      "ROAUC scores:  {'Train': 0.7912898063659668, 'Validation': 0.7845079898834229}\n",
      "=====Epoch 70\n",
      "Training...\n"
     ]
    },
    {
     "name": "stderr",
     "output_type": "stream",
     "text": [
      "Iteration: 100%|██████████| 794/794 [03:22<00:00,  3.92it/s]\n"
     ]
    },
    {
     "name": "stdout",
     "output_type": "stream",
     "text": [
      "Average training loss: 0.5689726767672099\n",
      "Evaluating...\n",
      "ROAUC scores:  {'Train': 0.7971503734588623, 'Validation': 0.7909290194511414}\n",
      "=====Epoch 71\n",
      "Training...\n"
     ]
    },
    {
     "name": "stderr",
     "output_type": "stream",
     "text": [
      "Iteration: 100%|██████████| 794/794 [03:22<00:00,  3.93it/s]\n"
     ]
    },
    {
     "name": "stdout",
     "output_type": "stream",
     "text": [
      "Average training loss: 0.5689667861542713\n",
      "Evaluating...\n",
      "ROAUC scores:  {'Train': 0.7955853939056396, 'Validation': 0.7889811992645264}\n",
      "=====Epoch 72\n",
      "Training...\n"
     ]
    },
    {
     "name": "stderr",
     "output_type": "stream",
     "text": [
      "Iteration: 100%|██████████| 794/794 [03:20<00:00,  3.96it/s]\n"
     ]
    },
    {
     "name": "stdout",
     "output_type": "stream",
     "text": [
      "Average training loss: 0.5694600624086275\n",
      "Evaluating...\n",
      "ROAUC scores:  {'Train': 0.7941993474960327, 'Validation': 0.7878971099853516}\n",
      "=====Epoch 73\n",
      "Training...\n"
     ]
    },
    {
     "name": "stderr",
     "output_type": "stream",
     "text": [
      "Iteration: 100%|██████████| 794/794 [03:16<00:00,  4.04it/s]\n"
     ]
    },
    {
     "name": "stdout",
     "output_type": "stream",
     "text": [
      "Average training loss: 0.568854150191062\n",
      "Evaluating...\n",
      "ROAUC scores:  {'Train': 0.7977845072746277, 'Validation': 0.7904917001724243}\n",
      "=====Epoch 74\n",
      "Training...\n"
     ]
    },
    {
     "name": "stderr",
     "output_type": "stream",
     "text": [
      "Iteration: 100%|██████████| 794/794 [03:22<00:00,  3.92it/s]\n"
     ]
    },
    {
     "name": "stdout",
     "output_type": "stream",
     "text": [
      "Average training loss: 0.56788597794564\n",
      "Evaluating...\n",
      "ROAUC scores:  {'Train': 0.7942689657211304, 'Validation': 0.7867396473884583}\n",
      "=====Epoch 75\n",
      "Training...\n"
     ]
    },
    {
     "name": "stderr",
     "output_type": "stream",
     "text": [
      "Iteration: 100%|██████████| 794/794 [03:23<00:00,  3.91it/s]\n"
     ]
    },
    {
     "name": "stdout",
     "output_type": "stream",
     "text": [
      "Average training loss: 0.5683751221492849\n",
      "Evaluating...\n",
      "ROAUC scores:  {'Train': 0.7932374477386475, 'Validation': 0.785496175289154}\n",
      "\n",
      "Finished training!\n",
      "\n",
      "ROAUC Test score: 0.7726539969444275\n"
     ]
    }
   ],
   "source": [
    "pointnet_model = GNN(num_classes = 2, num_layer = 2,num_post_fnn_layers=2,input_edge_dim = 1,num_coords=3, \n",
    "                 input_spec_fts_dim=3,gnn_type = 'pointnet', emb_dim = 300, drop_ratio = 0.3).to(device)\n",
    "optimizer = optim.Adam(pointnet_model.parameters(), lr=1e-3)\n",
    "\n",
    "train_model(pointnet_model,optimizer)"
   ]
  },
  {
   "cell_type": "markdown",
   "id": "45d2189e",
   "metadata": {},
   "source": [
    "## Training of GCN based model"
   ]
  },
  {
   "cell_type": "markdown",
   "id": "1bff4573",
   "metadata": {},
   "source": [
    "### Training with GPE (all x,y,z coords)"
   ]
  },
  {
   "cell_type": "code",
   "execution_count": 14,
   "id": "814e59f9",
   "metadata": {
    "scrolled": true
   },
   "outputs": [
    {
     "name": "stdout",
     "output_type": "stream",
     "text": [
      "=====Epoch 51\n",
      "Training...\n"
     ]
    },
    {
     "name": "stderr",
     "output_type": "stream",
     "text": [
      "Iteration: 100%|██████████| 794/794 [00:26<00:00, 29.49it/s]\n"
     ]
    },
    {
     "name": "stdout",
     "output_type": "stream",
     "text": [
      "Average training loss: 0.5772895867788521\n",
      "Evaluating...\n",
      "ROAUC scores:  {'Train': 0.7902165651321411, 'Validation': 0.7910354137420654}\n",
      "=====Epoch 52\n",
      "Training...\n"
     ]
    },
    {
     "name": "stderr",
     "output_type": "stream",
     "text": [
      "Iteration: 100%|██████████| 794/794 [00:29<00:00, 27.33it/s]\n"
     ]
    },
    {
     "name": "stdout",
     "output_type": "stream",
     "text": [
      "Average training loss: 0.5770404302803636\n",
      "Evaluating...\n",
      "ROAUC scores:  {'Train': 0.7889108657836914, 'Validation': 0.7880456447601318}\n",
      "=====Epoch 53\n",
      "Training...\n"
     ]
    },
    {
     "name": "stderr",
     "output_type": "stream",
     "text": [
      "Iteration: 100%|██████████| 794/794 [00:29<00:00, 26.77it/s]\n"
     ]
    },
    {
     "name": "stdout",
     "output_type": "stream",
     "text": [
      "Average training loss: 0.5769777745008469\n",
      "Evaluating...\n",
      "ROAUC scores:  {'Train': 0.7869840860366821, 'Validation': 0.7861782312393188}\n",
      "=====Epoch 54\n",
      "Training...\n"
     ]
    },
    {
     "name": "stderr",
     "output_type": "stream",
     "text": [
      "Iteration: 100%|██████████| 794/794 [00:29<00:00, 26.64it/s]\n"
     ]
    },
    {
     "name": "stdout",
     "output_type": "stream",
     "text": [
      "Average training loss: 0.5756530744077577\n",
      "Evaluating...\n",
      "ROAUC scores:  {'Train': 0.7900853753089905, 'Validation': 0.7892134189605713}\n",
      "=====Epoch 55\n",
      "Training...\n"
     ]
    },
    {
     "name": "stderr",
     "output_type": "stream",
     "text": [
      "Iteration: 100%|██████████| 794/794 [00:29<00:00, 26.65it/s]\n"
     ]
    },
    {
     "name": "stdout",
     "output_type": "stream",
     "text": [
      "Average training loss: 0.5754305484613184\n",
      "Evaluating...\n",
      "ROAUC scores:  {'Train': 0.7903851270675659, 'Validation': 0.7889273166656494}\n",
      "=====Epoch 56\n",
      "Training...\n"
     ]
    },
    {
     "name": "stderr",
     "output_type": "stream",
     "text": [
      "Iteration: 100%|██████████| 794/794 [00:34<00:00, 23.07it/s]\n"
     ]
    },
    {
     "name": "stdout",
     "output_type": "stream",
     "text": [
      "Average training loss: 0.5763846651582935\n",
      "Evaluating...\n",
      "ROAUC scores:  {'Train': 0.7909694910049438, 'Validation': 0.7873558402061462}\n",
      "=====Epoch 57\n",
      "Training...\n"
     ]
    },
    {
     "name": "stderr",
     "output_type": "stream",
     "text": [
      "Iteration: 100%|██████████| 794/794 [00:35<00:00, 22.15it/s]\n"
     ]
    },
    {
     "name": "stdout",
     "output_type": "stream",
     "text": [
      "Average training loss: 0.5776246293290737\n",
      "Evaluating...\n",
      "ROAUC scores:  {'Train': 0.7902017831802368, 'Validation': 0.7877715826034546}\n",
      "=====Epoch 58\n",
      "Training...\n"
     ]
    },
    {
     "name": "stderr",
     "output_type": "stream",
     "text": [
      "Iteration: 100%|██████████| 794/794 [00:34<00:00, 22.94it/s]\n"
     ]
    },
    {
     "name": "stdout",
     "output_type": "stream",
     "text": [
      "Average training loss: 0.577743453440498\n",
      "Evaluating...\n",
      "ROAUC scores:  {'Train': 0.7895077466964722, 'Validation': 0.786736011505127}\n",
      "=====Epoch 59\n",
      "Training...\n"
     ]
    },
    {
     "name": "stderr",
     "output_type": "stream",
     "text": [
      "Iteration: 100%|██████████| 794/794 [00:34<00:00, 22.86it/s]\n"
     ]
    },
    {
     "name": "stdout",
     "output_type": "stream",
     "text": [
      "Average training loss: 0.576131787348154\n",
      "Evaluating...\n",
      "ROAUC scores:  {'Train': 0.790465772151947, 'Validation': 0.7894949913024902}\n",
      "=====Epoch 60\n",
      "Training...\n"
     ]
    },
    {
     "name": "stderr",
     "output_type": "stream",
     "text": [
      "Iteration: 100%|██████████| 794/794 [00:34<00:00, 22.73it/s]\n"
     ]
    },
    {
     "name": "stdout",
     "output_type": "stream",
     "text": [
      "Average training loss: 0.5767226024373653\n",
      "Evaluating...\n",
      "ROAUC scores:  {'Train': 0.7838032245635986, 'Validation': 0.7847281694412231}\n",
      "=====Epoch 61\n",
      "Training...\n"
     ]
    },
    {
     "name": "stderr",
     "output_type": "stream",
     "text": [
      "Iteration: 100%|██████████| 794/794 [00:34<00:00, 22.81it/s]\n"
     ]
    },
    {
     "name": "stdout",
     "output_type": "stream",
     "text": [
      "Average training loss: 0.575934233608414\n",
      "Evaluating...\n",
      "ROAUC scores:  {'Train': 0.7910096645355225, 'Validation': 0.789182722568512}\n",
      "=====Epoch 62\n",
      "Training...\n"
     ]
    },
    {
     "name": "stderr",
     "output_type": "stream",
     "text": [
      "Iteration: 100%|██████████| 794/794 [00:39<00:00, 20.13it/s]\n"
     ]
    },
    {
     "name": "stdout",
     "output_type": "stream",
     "text": [
      "Average training loss: 0.5767635426082899\n",
      "Evaluating...\n",
      "ROAUC scores:  {'Train': 0.7783926129341125, 'Validation': 0.7763255834579468}\n",
      "=====Epoch 63\n",
      "Training...\n"
     ]
    },
    {
     "name": "stderr",
     "output_type": "stream",
     "text": [
      "Iteration: 100%|██████████| 794/794 [00:37<00:00, 21.06it/s]\n"
     ]
    },
    {
     "name": "stdout",
     "output_type": "stream",
     "text": [
      "Average training loss: 0.5754161258638656\n",
      "Evaluating...\n",
      "ROAUC scores:  {'Train': 0.7910293340682983, 'Validation': 0.7879165410995483}\n",
      "=====Epoch 64\n",
      "Training...\n"
     ]
    },
    {
     "name": "stderr",
     "output_type": "stream",
     "text": [
      "Iteration: 100%|██████████| 794/794 [00:32<00:00, 24.26it/s]\n"
     ]
    },
    {
     "name": "stdout",
     "output_type": "stream",
     "text": [
      "Average training loss: 0.5751496818789307\n",
      "Evaluating...\n",
      "ROAUC scores:  {'Train': 0.7920236587524414, 'Validation': 0.7917516231536865}\n",
      "=====Epoch 65\n",
      "Training...\n"
     ]
    },
    {
     "name": "stderr",
     "output_type": "stream",
     "text": [
      "Iteration: 100%|██████████| 794/794 [00:31<00:00, 25.11it/s]\n"
     ]
    },
    {
     "name": "stdout",
     "output_type": "stream",
     "text": [
      "Average training loss: 0.5760714168887895\n",
      "Evaluating...\n",
      "ROAUC scores:  {'Train': 0.7902299165725708, 'Validation': 0.7889820337295532}\n",
      "=====Epoch 66\n",
      "Training...\n"
     ]
    },
    {
     "name": "stderr",
     "output_type": "stream",
     "text": [
      "Iteration: 100%|██████████| 794/794 [00:30<00:00, 26.07it/s]\n"
     ]
    },
    {
     "name": "stdout",
     "output_type": "stream",
     "text": [
      "Average training loss: 0.5749656383877136\n",
      "Evaluating...\n",
      "ROAUC scores:  {'Train': 0.7914806604385376, 'Validation': 0.7903842926025391}\n",
      "=====Epoch 67\n",
      "Training...\n"
     ]
    },
    {
     "name": "stderr",
     "output_type": "stream",
     "text": [
      "Iteration: 100%|██████████| 794/794 [00:30<00:00, 26.32it/s]\n"
     ]
    },
    {
     "name": "stdout",
     "output_type": "stream",
     "text": [
      "Average training loss: 0.57651697406991\n",
      "Evaluating...\n",
      "ROAUC scores:  {'Train': 0.7914169430732727, 'Validation': 0.7912519574165344}\n",
      "=====Epoch 68\n",
      "Training...\n"
     ]
    },
    {
     "name": "stderr",
     "output_type": "stream",
     "text": [
      "Iteration: 100%|██████████| 794/794 [00:30<00:00, 26.38it/s]\n"
     ]
    },
    {
     "name": "stdout",
     "output_type": "stream",
     "text": [
      "Average training loss: 0.574033105215738\n",
      "Evaluating...\n",
      "ROAUC scores:  {'Train': 0.7872203588485718, 'Validation': 0.7851631045341492}\n",
      "=====Epoch 69\n",
      "Training...\n"
     ]
    },
    {
     "name": "stderr",
     "output_type": "stream",
     "text": [
      "Iteration: 100%|██████████| 794/794 [00:30<00:00, 26.34it/s]\n"
     ]
    },
    {
     "name": "stdout",
     "output_type": "stream",
     "text": [
      "Average training loss: 0.5748955247083899\n",
      "Evaluating...\n",
      "ROAUC scores:  {'Train': 0.7918460965156555, 'Validation': 0.7897984981536865}\n",
      "=====Epoch 70\n",
      "Training...\n"
     ]
    },
    {
     "name": "stderr",
     "output_type": "stream",
     "text": [
      "Iteration: 100%|██████████| 794/794 [00:30<00:00, 26.43it/s]\n"
     ]
    },
    {
     "name": "stdout",
     "output_type": "stream",
     "text": [
      "Average training loss: 0.5746962269697742\n",
      "Evaluating...\n",
      "ROAUC scores:  {'Train': 0.7917401790618896, 'Validation': 0.7904717326164246}\n",
      "=====Epoch 71\n",
      "Training...\n"
     ]
    },
    {
     "name": "stderr",
     "output_type": "stream",
     "text": [
      "Iteration: 100%|██████████| 794/794 [00:29<00:00, 26.63it/s]\n"
     ]
    },
    {
     "name": "stdout",
     "output_type": "stream",
     "text": [
      "Average training loss: 0.5746052057226599\n",
      "Evaluating...\n",
      "ROAUC scores:  {'Train': 0.7912579774856567, 'Validation': 0.789975643157959}\n",
      "=====Epoch 72\n",
      "Training...\n"
     ]
    },
    {
     "name": "stderr",
     "output_type": "stream",
     "text": [
      "Iteration: 100%|██████████| 794/794 [00:29<00:00, 26.69it/s]\n"
     ]
    },
    {
     "name": "stdout",
     "output_type": "stream",
     "text": [
      "Average training loss: 0.5770513055381606\n",
      "Evaluating...\n",
      "ROAUC scores:  {'Train': 0.7912329435348511, 'Validation': 0.7897987365722656}\n",
      "=====Epoch 73\n",
      "Training...\n"
     ]
    },
    {
     "name": "stderr",
     "output_type": "stream",
     "text": [
      "Iteration: 100%|██████████| 794/794 [00:30<00:00, 26.32it/s]\n"
     ]
    },
    {
     "name": "stdout",
     "output_type": "stream",
     "text": [
      "Average training loss: 0.5754396517946377\n",
      "Evaluating...\n",
      "ROAUC scores:  {'Train': 0.790923535823822, 'Validation': 0.7898480296134949}\n",
      "=====Epoch 74\n",
      "Training...\n"
     ]
    },
    {
     "name": "stderr",
     "output_type": "stream",
     "text": [
      "Iteration: 100%|██████████| 794/794 [00:29<00:00, 26.65it/s]\n"
     ]
    },
    {
     "name": "stdout",
     "output_type": "stream",
     "text": [
      "Average training loss: 0.5748563607408658\n",
      "Evaluating...\n",
      "ROAUC scores:  {'Train': 0.7889094352722168, 'Validation': 0.7857871651649475}\n",
      "=====Epoch 75\n",
      "Training...\n"
     ]
    },
    {
     "name": "stderr",
     "output_type": "stream",
     "text": [
      "Iteration: 100%|██████████| 794/794 [00:29<00:00, 26.73it/s]\n"
     ]
    },
    {
     "name": "stdout",
     "output_type": "stream",
     "text": [
      "=====Epoch 76\n",
      "Training...\n"
     ]
    },
    {
     "name": "stderr",
     "output_type": "stream",
     "text": [
      "Iteration: 100%|██████████| 794/794 [00:29<00:00, 26.92it/s]\n"
     ]
    },
    {
     "name": "stdout",
     "output_type": "stream",
     "text": [
      "Average training loss: 0.5753600354909296\n",
      "Evaluating...\n",
      "ROAUC scores:  {'Train': 0.7925723791122437, 'Validation': 0.7910414934158325}\n",
      "=====Epoch 77\n",
      "Training...\n"
     ]
    },
    {
     "name": "stderr",
     "output_type": "stream",
     "text": [
      "Iteration: 100%|██████████| 794/794 [00:28<00:00, 27.98it/s]\n"
     ]
    },
    {
     "name": "stdout",
     "output_type": "stream",
     "text": [
      "Average training loss: 0.5742685556111468\n",
      "Evaluating...\n",
      "ROAUC scores:  {'Train': 0.789553701877594, 'Validation': 0.7863430380821228}\n",
      "=====Epoch 78\n",
      "Training...\n"
     ]
    },
    {
     "name": "stderr",
     "output_type": "stream",
     "text": [
      "Iteration: 100%|██████████| 794/794 [00:30<00:00, 25.77it/s]\n"
     ]
    },
    {
     "name": "stdout",
     "output_type": "stream",
     "text": [
      "Average training loss: 0.5750830028984949\n",
      "Evaluating...\n",
      "ROAUC scores:  {'Train': 0.7829787731170654, 'Validation': 0.7814310193061829}\n",
      "=====Epoch 79\n",
      "Training...\n"
     ]
    },
    {
     "name": "stderr",
     "output_type": "stream",
     "text": [
      "Iteration: 100%|██████████| 794/794 [01:29<00:00,  8.87it/s]\n"
     ]
    },
    {
     "name": "stdout",
     "output_type": "stream",
     "text": [
      "Average training loss: 0.5749411646379932\n",
      "Evaluating...\n",
      "ROAUC scores:  {'Train': 0.7892270088195801, 'Validation': 0.7876818180084229}\n",
      "=====Epoch 80\n",
      "Training...\n"
     ]
    },
    {
     "name": "stderr",
     "output_type": "stream",
     "text": [
      "Iteration: 100%|██████████| 794/794 [01:38<00:00,  8.08it/s]\n"
     ]
    },
    {
     "name": "stdout",
     "output_type": "stream",
     "text": [
      "Average training loss: 0.575551294297055\n",
      "Evaluating...\n",
      "ROAUC scores:  {'Train': 0.7918413877487183, 'Validation': 0.7897168397903442}\n",
      "\n",
      "Finished training!\n",
      "\n",
      "ROAUC Test score: 0.7762051820755005\n"
     ]
    }
   ],
   "source": [
    "gcn_model = GNN(num_classes = 2, num_layer = 2,num_post_fnn_layers=2,hasPos=True,input_edge_dim = 1,num_coords=3, \n",
    "                input_spec_fts_dim=3, gnn_type = 'gcn', emb_dim = 300, drop_ratio = 0.3).to(device)\n",
    "optimizer = optim.Adam(gcn_model.parameters(), lr=1e-3)\n",
    "\n",
    "train_model(gcn_model,optimizer)"
   ]
  },
  {
   "cell_type": "markdown",
   "id": "90ce459d",
   "metadata": {},
   "source": [
    "### Training with GPE (only x,y coords)"
   ]
  },
  {
   "cell_type": "code",
   "execution_count": 15,
   "id": "4d20322d",
   "metadata": {
    "scrolled": true
   },
   "outputs": [
    {
     "name": "stdout",
     "output_type": "stream",
     "text": [
      "=====Epoch 1\n",
      "Training...\n"
     ]
    },
    {
     "name": "stderr",
     "output_type": "stream",
     "text": [
      "Iteration: 100%|██████████| 794/794 [00:33<00:00, 23.90it/s]\n"
     ]
    },
    {
     "name": "stdout",
     "output_type": "stream",
     "text": [
      "Average training loss: 0.6071948528439932\n",
      "Evaluating...\n",
      "ROAUC scores:  {'Train': 0.7634310126304626, 'Validation': 0.76338791847229}\n",
      "=====Epoch 2\n",
      "Training...\n"
     ]
    },
    {
     "name": "stderr",
     "output_type": "stream",
     "text": [
      "Iteration: 100%|██████████| 794/794 [00:26<00:00, 29.87it/s]\n"
     ]
    },
    {
     "name": "stdout",
     "output_type": "stream",
     "text": [
      "Average training loss: 0.5975762895057424\n",
      "Evaluating...\n",
      "ROAUC scores:  {'Train': 0.7558255791664124, 'Validation': 0.7564191818237305}\n",
      "=====Epoch 3\n",
      "Training...\n"
     ]
    },
    {
     "name": "stderr",
     "output_type": "stream",
     "text": [
      "Iteration: 100%|██████████| 794/794 [00:28<00:00, 27.71it/s]\n"
     ]
    },
    {
     "name": "stdout",
     "output_type": "stream",
     "text": [
      "Average training loss: 0.5958618451876364\n",
      "Evaluating...\n",
      "ROAUC scores:  {'Train': 0.7579010725021362, 'Validation': 0.7604348659515381}\n",
      "=====Epoch 4\n",
      "Training...\n"
     ]
    },
    {
     "name": "stderr",
     "output_type": "stream",
     "text": [
      "Iteration: 100%|██████████| 794/794 [00:29<00:00, 26.85it/s]\n"
     ]
    },
    {
     "name": "stdout",
     "output_type": "stream",
     "text": [
      "Average training loss: 0.5964692951900232\n",
      "Evaluating...\n",
      "ROAUC scores:  {'Train': 0.7656110525131226, 'Validation': 0.7684522867202759}\n",
      "=====Epoch 5\n",
      "Training...\n"
     ]
    },
    {
     "name": "stderr",
     "output_type": "stream",
     "text": [
      "Iteration: 100%|██████████| 794/794 [00:32<00:00, 24.44it/s]\n"
     ]
    },
    {
     "name": "stdout",
     "output_type": "stream",
     "text": [
      "Average training loss: 0.5953494355044977\n",
      "Evaluating...\n",
      "ROAUC scores:  {'Train': 0.7624225616455078, 'Validation': 0.7652967572212219}\n",
      "=====Epoch 6\n",
      "Training...\n"
     ]
    },
    {
     "name": "stderr",
     "output_type": "stream",
     "text": [
      "Iteration: 100%|██████████| 794/794 [00:42<00:00, 18.55it/s]\n"
     ]
    },
    {
     "name": "stdout",
     "output_type": "stream",
     "text": [
      "Average training loss: 0.5940933921174979\n",
      "Evaluating...\n",
      "ROAUC scores:  {'Train': 0.7707937955856323, 'Validation': 0.7717165946960449}\n",
      "=====Epoch 7\n",
      "Training...\n"
     ]
    },
    {
     "name": "stderr",
     "output_type": "stream",
     "text": [
      "Iteration: 100%|██████████| 794/794 [00:45<00:00, 17.39it/s]\n"
     ]
    },
    {
     "name": "stdout",
     "output_type": "stream",
     "text": [
      "Average training loss: 0.5915232648327008\n",
      "Evaluating...\n",
      "ROAUC scores:  {'Train': 0.7739752531051636, 'Validation': 0.7732346653938293}\n",
      "=====Epoch 8\n",
      "Training...\n"
     ]
    },
    {
     "name": "stderr",
     "output_type": "stream",
     "text": [
      "Iteration: 100%|██████████| 794/794 [00:52<00:00, 15.24it/s]\n"
     ]
    },
    {
     "name": "stdout",
     "output_type": "stream",
     "text": [
      "Average training loss: 0.5891953857254322\n",
      "Evaluating...\n",
      "ROAUC scores:  {'Train': 0.7753371000289917, 'Validation': 0.776343047618866}\n",
      "=====Epoch 9\n",
      "Training...\n"
     ]
    },
    {
     "name": "stderr",
     "output_type": "stream",
     "text": [
      "Iteration: 100%|██████████| 794/794 [00:48<00:00, 16.48it/s]\n"
     ]
    },
    {
     "name": "stdout",
     "output_type": "stream",
     "text": [
      "Average training loss: 0.5878289834378048\n",
      "Evaluating...\n",
      "ROAUC scores:  {'Train': 0.7767398357391357, 'Validation': 0.7781867384910583}\n",
      "=====Epoch 10\n",
      "Training...\n"
     ]
    },
    {
     "name": "stderr",
     "output_type": "stream",
     "text": [
      "Iteration: 100%|██████████| 794/794 [00:56<00:00, 14.08it/s]\n"
     ]
    },
    {
     "name": "stdout",
     "output_type": "stream",
     "text": [
      "Average training loss: 0.5871394023637027\n",
      "Evaluating...\n",
      "ROAUC scores:  {'Train': 0.779232382774353, 'Validation': 0.7791240215301514}\n",
      "=====Epoch 11\n",
      "Training...\n"
     ]
    },
    {
     "name": "stderr",
     "output_type": "stream",
     "text": [
      "Iteration: 100%|██████████| 794/794 [00:52<00:00, 15.17it/s]\n"
     ]
    },
    {
     "name": "stdout",
     "output_type": "stream",
     "text": [
      "Average training loss: 0.5857337677959231\n",
      "Evaluating...\n",
      "ROAUC scores:  {'Train': 0.7745023965835571, 'Validation': 0.7745298743247986}\n",
      "=====Epoch 12\n",
      "Training...\n"
     ]
    },
    {
     "name": "stderr",
     "output_type": "stream",
     "text": [
      "Iteration: 100%|██████████| 794/794 [00:52<00:00, 15.10it/s]\n"
     ]
    },
    {
     "name": "stdout",
     "output_type": "stream",
     "text": [
      "Average training loss: 0.5852969827069443\n",
      "Evaluating...\n",
      "ROAUC scores:  {'Train': 0.7799482941627502, 'Validation': 0.780555009841919}\n",
      "=====Epoch 13\n",
      "Training...\n"
     ]
    },
    {
     "name": "stderr",
     "output_type": "stream",
     "text": [
      "Iteration: 100%|██████████| 794/794 [00:55<00:00, 14.38it/s]\n"
     ]
    },
    {
     "name": "stdout",
     "output_type": "stream",
     "text": [
      "Average training loss: 0.5854901765996323\n",
      "Evaluating...\n",
      "ROAUC scores:  {'Train': 0.7787238955497742, 'Validation': 0.7795777320861816}\n",
      "=====Epoch 14\n",
      "Training...\n"
     ]
    },
    {
     "name": "stderr",
     "output_type": "stream",
     "text": [
      "Iteration: 100%|██████████| 794/794 [00:49<00:00, 15.96it/s]\n"
     ]
    },
    {
     "name": "stdout",
     "output_type": "stream",
     "text": [
      "Average training loss: 0.5848100660579931\n",
      "Evaluating...\n",
      "ROAUC scores:  {'Train': 0.7827531099319458, 'Validation': 0.7823816537857056}\n",
      "=====Epoch 15\n",
      "Training...\n"
     ]
    },
    {
     "name": "stderr",
     "output_type": "stream",
     "text": [
      "Iteration: 100%|██████████| 794/794 [00:50<00:00, 15.84it/s]\n"
     ]
    },
    {
     "name": "stdout",
     "output_type": "stream",
     "text": [
      "Average training loss: 0.5837837095825138\n",
      "Evaluating...\n",
      "ROAUC scores:  {'Train': 0.7759964466094971, 'Validation': 0.7745218873023987}\n",
      "=====Epoch 16\n",
      "Training...\n"
     ]
    },
    {
     "name": "stderr",
     "output_type": "stream",
     "text": [
      "Iteration: 100%|██████████| 794/794 [00:49<00:00, 16.20it/s]\n"
     ]
    },
    {
     "name": "stdout",
     "output_type": "stream",
     "text": [
      "Average training loss: 0.5858327156725699\n",
      "Evaluating...\n",
      "ROAUC scores:  {'Train': 0.7806597948074341, 'Validation': 0.7809025049209595}\n",
      "=====Epoch 17\n",
      "Training...\n"
     ]
    },
    {
     "name": "stderr",
     "output_type": "stream",
     "text": [
      "Iteration: 100%|██████████| 794/794 [00:47<00:00, 16.78it/s]\n"
     ]
    },
    {
     "name": "stdout",
     "output_type": "stream",
     "text": [
      "Average training loss: 0.5832029081862279\n",
      "Evaluating...\n",
      "ROAUC scores:  {'Train': 0.7797088623046875, 'Validation': 0.7794557809829712}\n",
      "=====Epoch 18\n",
      "Training...\n"
     ]
    },
    {
     "name": "stderr",
     "output_type": "stream",
     "text": [
      "Iteration: 100%|██████████| 794/794 [00:46<00:00, 17.13it/s]\n"
     ]
    },
    {
     "name": "stdout",
     "output_type": "stream",
     "text": [
      "Average training loss: 0.583557691096659\n",
      "Evaluating...\n",
      "ROAUC scores:  {'Train': 0.7828513383865356, 'Validation': 0.7826021909713745}\n",
      "=====Epoch 19\n",
      "Training...\n"
     ]
    },
    {
     "name": "stderr",
     "output_type": "stream",
     "text": [
      "Iteration: 100%|██████████| 794/794 [00:46<00:00, 17.05it/s]\n"
     ]
    },
    {
     "name": "stdout",
     "output_type": "stream",
     "text": [
      "Average training loss: 0.5821860721264438\n",
      "Evaluating...\n",
      "ROAUC scores:  {'Train': 0.7835983037948608, 'Validation': 0.7844773530960083}\n",
      "=====Epoch 20\n",
      "Training...\n"
     ]
    },
    {
     "name": "stderr",
     "output_type": "stream",
     "text": [
      "Iteration: 100%|██████████| 794/794 [00:46<00:00, 17.00it/s]\n"
     ]
    },
    {
     "name": "stdout",
     "output_type": "stream",
     "text": [
      "Average training loss: 0.5816144088954108\n",
      "Evaluating...\n",
      "ROAUC scores:  {'Train': 0.7825915813446045, 'Validation': 0.781220018863678}\n",
      "=====Epoch 21\n",
      "Training...\n"
     ]
    },
    {
     "name": "stderr",
     "output_type": "stream",
     "text": [
      "Iteration: 100%|██████████| 794/794 [00:45<00:00, 17.61it/s]\n"
     ]
    },
    {
     "name": "stdout",
     "output_type": "stream",
     "text": [
      "Average training loss: 0.5837490576640785\n",
      "Evaluating...\n",
      "ROAUC scores:  {'Train': 0.775663435459137, 'Validation': 0.7762976884841919}\n",
      "=====Epoch 22\n",
      "Training...\n"
     ]
    },
    {
     "name": "stderr",
     "output_type": "stream",
     "text": [
      "Iteration: 100%|██████████| 794/794 [00:48<00:00, 16.28it/s]\n"
     ]
    },
    {
     "name": "stdout",
     "output_type": "stream",
     "text": [
      "Average training loss: 0.5822758520730497\n",
      "Evaluating...\n",
      "ROAUC scores:  {'Train': 0.7759430408477783, 'Validation': 0.7770698666572571}\n",
      "=====Epoch 23\n",
      "Training...\n"
     ]
    },
    {
     "name": "stderr",
     "output_type": "stream",
     "text": [
      "Iteration: 100%|██████████| 794/794 [00:43<00:00, 18.28it/s]\n"
     ]
    },
    {
     "name": "stdout",
     "output_type": "stream",
     "text": [
      "Average training loss: 0.5816298951805389\n",
      "Evaluating...\n",
      "ROAUC scores:  {'Train': 0.7854743003845215, 'Validation': 0.7848453521728516}\n",
      "=====Epoch 24\n",
      "Training...\n"
     ]
    },
    {
     "name": "stderr",
     "output_type": "stream",
     "text": [
      "Iteration: 100%|██████████| 794/794 [00:47<00:00, 16.88it/s]\n"
     ]
    },
    {
     "name": "stdout",
     "output_type": "stream",
     "text": [
      "Average training loss: 0.580733656170086\n",
      "Evaluating...\n",
      "ROAUC scores:  {'Train': 0.7764644622802734, 'Validation': 0.7772400975227356}\n",
      "=====Epoch 25\n",
      "Training...\n"
     ]
    },
    {
     "name": "stderr",
     "output_type": "stream",
     "text": [
      "Iteration: 100%|██████████| 794/794 [00:47<00:00, 16.63it/s]\n"
     ]
    },
    {
     "name": "stdout",
     "output_type": "stream",
     "text": [
      "Average training loss: 0.5823875110155389\n",
      "Evaluating...\n",
      "ROAUC scores:  {'Train': 0.7843331694602966, 'Validation': 0.7842664122581482}\n",
      "=====Epoch 26\n",
      "Training...\n"
     ]
    },
    {
     "name": "stderr",
     "output_type": "stream",
     "text": [
      "Iteration: 100%|██████████| 794/794 [00:46<00:00, 17.04it/s]\n"
     ]
    },
    {
     "name": "stdout",
     "output_type": "stream",
     "text": [
      "Average training loss: 0.5816465750974732\n",
      "Evaluating...\n",
      "ROAUC scores:  {'Train': 0.7844746112823486, 'Validation': 0.7844542264938354}\n",
      "=====Epoch 27\n",
      "Training...\n"
     ]
    },
    {
     "name": "stderr",
     "output_type": "stream",
     "text": [
      "Iteration: 100%|██████████| 794/794 [00:47<00:00, 16.88it/s]\n"
     ]
    },
    {
     "name": "stdout",
     "output_type": "stream",
     "text": [
      "Average training loss: 0.5814919309216723\n",
      "Evaluating...\n",
      "ROAUC scores:  {'Train': 0.7858012318611145, 'Validation': 0.7853100895881653}\n",
      "=====Epoch 28\n",
      "Training...\n"
     ]
    },
    {
     "name": "stderr",
     "output_type": "stream",
     "text": [
      "Iteration: 100%|██████████| 794/794 [00:41<00:00, 19.08it/s]\n"
     ]
    },
    {
     "name": "stdout",
     "output_type": "stream",
     "text": [
      "Average training loss: 0.582284726033583\n",
      "Evaluating...\n",
      "ROAUC scores:  {'Train': 0.7767349481582642, 'Validation': 0.7738663554191589}\n",
      "=====Epoch 29\n",
      "Training...\n"
     ]
    },
    {
     "name": "stderr",
     "output_type": "stream",
     "text": [
      "Iteration: 100%|██████████| 794/794 [00:41<00:00, 18.92it/s]\n"
     ]
    },
    {
     "name": "stdout",
     "output_type": "stream",
     "text": [
      "Average training loss: 0.5804136087296892\n",
      "Evaluating...\n",
      "ROAUC scores:  {'Train': 0.7840274572372437, 'Validation': 0.7839659452438354}\n",
      "=====Epoch 30\n",
      "Training...\n"
     ]
    },
    {
     "name": "stderr",
     "output_type": "stream",
     "text": [
      "Iteration: 100%|██████████| 794/794 [00:42<00:00, 18.66it/s]\n"
     ]
    },
    {
     "name": "stdout",
     "output_type": "stream",
     "text": [
      "Average training loss: 0.58163459955595\n",
      "Evaluating...\n",
      "ROAUC scores:  {'Train': 0.7877145409584045, 'Validation': 0.7875275611877441}\n",
      "=====Epoch 31\n",
      "Training...\n"
     ]
    },
    {
     "name": "stderr",
     "output_type": "stream",
     "text": [
      "Iteration: 100%|██████████| 794/794 [00:44<00:00, 17.70it/s]\n"
     ]
    },
    {
     "name": "stdout",
     "output_type": "stream",
     "text": [
      "Average training loss: 0.5805734576896696\n",
      "Evaluating...\n",
      "ROAUC scores:  {'Train': 0.7856684327125549, 'Validation': 0.7845991849899292}\n",
      "=====Epoch 32\n",
      "Training...\n"
     ]
    },
    {
     "name": "stderr",
     "output_type": "stream",
     "text": [
      "Iteration: 100%|██████████| 794/794 [00:43<00:00, 18.40it/s]\n"
     ]
    },
    {
     "name": "stdout",
     "output_type": "stream",
     "text": [
      "Average training loss: 0.5802798628882136\n",
      "Evaluating...\n",
      "ROAUC scores:  {'Train': 0.786348819732666, 'Validation': 0.7880039215087891}\n",
      "=====Epoch 33\n",
      "Training...\n"
     ]
    },
    {
     "name": "stderr",
     "output_type": "stream",
     "text": [
      "Iteration: 100%|██████████| 794/794 [00:43<00:00, 18.26it/s]\n"
     ]
    },
    {
     "name": "stdout",
     "output_type": "stream",
     "text": [
      "Average training loss: 0.5799789559330688\n",
      "Evaluating...\n",
      "ROAUC scores:  {'Train': 0.7860064506530762, 'Validation': 0.785975456237793}\n",
      "=====Epoch 34\n",
      "Training...\n"
     ]
    },
    {
     "name": "stderr",
     "output_type": "stream",
     "text": [
      "Iteration: 100%|██████████| 794/794 [00:43<00:00, 18.32it/s]\n"
     ]
    },
    {
     "name": "stdout",
     "output_type": "stream",
     "text": [
      "Average training loss: 0.5798848924468687\n",
      "Evaluating...\n",
      "ROAUC scores:  {'Train': 0.7846677303314209, 'Validation': 0.7834516763687134}\n",
      "=====Epoch 35\n",
      "Training...\n"
     ]
    },
    {
     "name": "stderr",
     "output_type": "stream",
     "text": [
      "Iteration: 100%|██████████| 794/794 [00:43<00:00, 18.40it/s]\n"
     ]
    },
    {
     "name": "stdout",
     "output_type": "stream",
     "text": [
      "Average training loss: 0.5798460817907559\n",
      "Evaluating...\n",
      "ROAUC scores:  {'Train': 0.7883236408233643, 'Validation': 0.7882547974586487}\n",
      "=====Epoch 36\n",
      "Training...\n"
     ]
    },
    {
     "name": "stderr",
     "output_type": "stream",
     "text": [
      "Iteration: 100%|██████████| 794/794 [00:43<00:00, 18.31it/s]\n"
     ]
    },
    {
     "name": "stdout",
     "output_type": "stream",
     "text": [
      "Average training loss: 0.5798895835350983\n",
      "Evaluating...\n",
      "ROAUC scores:  {'Train': 0.7874962687492371, 'Validation': 0.7878178358078003}\n",
      "=====Epoch 37\n",
      "Training...\n"
     ]
    },
    {
     "name": "stderr",
     "output_type": "stream",
     "text": [
      "Iteration: 100%|██████████| 794/794 [00:44<00:00, 17.82it/s]\n"
     ]
    },
    {
     "name": "stdout",
     "output_type": "stream",
     "text": [
      "Average training loss: 0.5784869572002281\n",
      "Evaluating...\n",
      "ROAUC scores:  {'Train': 0.7883803844451904, 'Validation': 0.7886584997177124}\n",
      "=====Epoch 38\n",
      "Training...\n"
     ]
    },
    {
     "name": "stderr",
     "output_type": "stream",
     "text": [
      "Iteration: 100%|██████████| 794/794 [00:45<00:00, 17.63it/s]\n"
     ]
    },
    {
     "name": "stdout",
     "output_type": "stream",
     "text": [
      "Average training loss: 0.5783914585482864\n",
      "Evaluating...\n",
      "ROAUC scores:  {'Train': 0.7843899726867676, 'Validation': 0.7838526964187622}\n",
      "=====Epoch 39\n",
      "Training...\n"
     ]
    },
    {
     "name": "stderr",
     "output_type": "stream",
     "text": [
      "Iteration: 100%|██████████| 794/794 [00:44<00:00, 17.77it/s]\n"
     ]
    },
    {
     "name": "stdout",
     "output_type": "stream",
     "text": [
      "Average training loss: 0.5799991114989336\n",
      "Evaluating...\n",
      "ROAUC scores:  {'Train': 0.7858771681785583, 'Validation': 0.7857239842414856}\n",
      "=====Epoch 40\n",
      "Training...\n"
     ]
    },
    {
     "name": "stderr",
     "output_type": "stream",
     "text": [
      "Iteration: 100%|██████████| 794/794 [00:44<00:00, 17.69it/s]\n"
     ]
    },
    {
     "name": "stdout",
     "output_type": "stream",
     "text": [
      "Average training loss: 0.5794130960474687\n",
      "Evaluating...\n",
      "ROAUC scores:  {'Train': 0.7870758175849915, 'Validation': 0.7885969877243042}\n",
      "=====Epoch 41\n",
      "Training...\n"
     ]
    },
    {
     "name": "stderr",
     "output_type": "stream",
     "text": [
      "Iteration: 100%|██████████| 794/794 [00:44<00:00, 17.68it/s]\n"
     ]
    },
    {
     "name": "stdout",
     "output_type": "stream",
     "text": [
      "Average training loss: 0.5789156851525271\n",
      "Evaluating...\n",
      "ROAUC scores:  {'Train': 0.7875826954841614, 'Validation': 0.7882189154624939}\n",
      "=====Epoch 42\n",
      "Training...\n"
     ]
    },
    {
     "name": "stderr",
     "output_type": "stream",
     "text": [
      "Iteration: 100%|██████████| 794/794 [00:44<00:00, 17.70it/s]\n"
     ]
    },
    {
     "name": "stdout",
     "output_type": "stream",
     "text": [
      "Average training loss: 0.5769777719485069\n",
      "Evaluating...\n",
      "ROAUC scores:  {'Train': 0.7890418171882629, 'Validation': 0.7890256643295288}\n",
      "=====Epoch 43\n",
      "Training...\n"
     ]
    },
    {
     "name": "stderr",
     "output_type": "stream",
     "text": [
      "Iteration: 100%|██████████| 794/794 [00:44<00:00, 17.66it/s]\n"
     ]
    },
    {
     "name": "stdout",
     "output_type": "stream",
     "text": [
      "Average training loss: 0.5785981070259656\n",
      "Evaluating...\n",
      "ROAUC scores:  {'Train': 0.7872207164764404, 'Validation': 0.7854373455047607}\n",
      "=====Epoch 44\n",
      "Training...\n"
     ]
    },
    {
     "name": "stderr",
     "output_type": "stream",
     "text": [
      "Iteration: 100%|██████████| 794/794 [00:41<00:00, 18.97it/s]\n"
     ]
    },
    {
     "name": "stdout",
     "output_type": "stream",
     "text": [
      "Average training loss: 0.5775297567135741\n",
      "Evaluating...\n",
      "ROAUC scores:  {'Train': 0.7873560190200806, 'Validation': 0.7851570844650269}\n",
      "=====Epoch 45\n",
      "Training...\n"
     ]
    },
    {
     "name": "stderr",
     "output_type": "stream",
     "text": [
      "Iteration: 100%|██████████| 794/794 [00:45<00:00, 17.34it/s]\n"
     ]
    },
    {
     "name": "stdout",
     "output_type": "stream",
     "text": [
      "Average training loss: 0.5780769693160838\n",
      "Evaluating...\n",
      "ROAUC scores:  {'Train': 0.7773452997207642, 'Validation': 0.7757773399353027}\n",
      "=====Epoch 46\n",
      "Training...\n"
     ]
    },
    {
     "name": "stderr",
     "output_type": "stream",
     "text": [
      "Iteration: 100%|██████████| 794/794 [00:44<00:00, 17.71it/s]\n"
     ]
    },
    {
     "name": "stdout",
     "output_type": "stream",
     "text": [
      "Average training loss: 0.5797913621745121\n",
      "Evaluating...\n",
      "ROAUC scores:  {'Train': 0.7892988324165344, 'Validation': 0.7890841960906982}\n",
      "=====Epoch 47\n",
      "Training...\n"
     ]
    },
    {
     "name": "stderr",
     "output_type": "stream",
     "text": [
      "Iteration: 100%|██████████| 794/794 [00:44<00:00, 17.83it/s]\n"
     ]
    },
    {
     "name": "stdout",
     "output_type": "stream",
     "text": [
      "Average training loss: 0.5785250071464317\n",
      "Evaluating...\n",
      "ROAUC scores:  {'Train': 0.7895798683166504, 'Validation': 0.7879000902175903}\n",
      "=====Epoch 48\n",
      "Training...\n"
     ]
    },
    {
     "name": "stderr",
     "output_type": "stream",
     "text": [
      "Iteration: 100%|██████████| 794/794 [00:42<00:00, 18.48it/s]\n"
     ]
    },
    {
     "name": "stdout",
     "output_type": "stream",
     "text": [
      "Average training loss: 0.5772624441448327\n",
      "Evaluating...\n",
      "ROAUC scores:  {'Train': 0.7861567735671997, 'Validation': 0.7860179543495178}\n",
      "=====Epoch 49\n",
      "Training...\n"
     ]
    },
    {
     "name": "stderr",
     "output_type": "stream",
     "text": [
      "Iteration: 100%|██████████| 794/794 [00:43<00:00, 18.23it/s]\n"
     ]
    },
    {
     "name": "stdout",
     "output_type": "stream",
     "text": [
      "Average training loss: 0.5751057391427926\n",
      "Evaluating...\n",
      "ROAUC scores:  {'Train': 0.788912296295166, 'Validation': 0.788063645362854}\n",
      "=====Epoch 50\n",
      "Training...\n"
     ]
    },
    {
     "name": "stderr",
     "output_type": "stream",
     "text": [
      "Iteration: 100%|██████████| 794/794 [00:43<00:00, 18.12it/s]\n"
     ]
    },
    {
     "name": "stdout",
     "output_type": "stream",
     "text": [
      "Average training loss: 0.5775087036624063\n",
      "Evaluating...\n",
      "ROAUC scores:  {'Train': 0.7898340821266174, 'Validation': 0.7906805276870728}\n",
      "=====Epoch 51\n",
      "Training...\n"
     ]
    },
    {
     "name": "stderr",
     "output_type": "stream",
     "text": [
      "Iteration: 100%|██████████| 794/794 [00:43<00:00, 18.19it/s]\n"
     ]
    },
    {
     "name": "stdout",
     "output_type": "stream",
     "text": [
      "Average training loss: 0.5772900051749323\n",
      "Evaluating...\n",
      "ROAUC scores:  {'Train': 0.7894141674041748, 'Validation': 0.7881814241409302}\n",
      "=====Epoch 52\n",
      "Training...\n"
     ]
    },
    {
     "name": "stderr",
     "output_type": "stream",
     "text": [
      "Iteration: 100%|██████████| 794/794 [00:43<00:00, 18.41it/s]\n"
     ]
    },
    {
     "name": "stdout",
     "output_type": "stream",
     "text": [
      "Average training loss: 0.5767957359477315\n",
      "Evaluating...\n",
      "ROAUC scores:  {'Train': 0.7884141206741333, 'Validation': 0.7879177331924438}\n",
      "=====Epoch 53\n",
      "Training...\n"
     ]
    },
    {
     "name": "stderr",
     "output_type": "stream",
     "text": [
      "Iteration: 100%|██████████| 794/794 [00:48<00:00, 16.46it/s]\n"
     ]
    },
    {
     "name": "stdout",
     "output_type": "stream",
     "text": [
      "Average training loss: 0.5768553934034232\n",
      "Evaluating...\n",
      "ROAUC scores:  {'Train': 0.7915617227554321, 'Validation': 0.7896329760551453}\n",
      "=====Epoch 54\n",
      "Training...\n"
     ]
    },
    {
     "name": "stderr",
     "output_type": "stream",
     "text": [
      "Iteration: 100%|██████████| 794/794 [00:45<00:00, 17.37it/s]\n"
     ]
    },
    {
     "name": "stdout",
     "output_type": "stream",
     "text": [
      "Average training loss: 0.5766404324424658\n",
      "Evaluating...\n",
      "ROAUC scores:  {'Train': 0.7875181436538696, 'Validation': 0.7880474328994751}\n",
      "=====Epoch 55\n",
      "Training...\n"
     ]
    },
    {
     "name": "stderr",
     "output_type": "stream",
     "text": [
      "Iteration: 100%|██████████| 794/794 [00:44<00:00, 17.84it/s]\n"
     ]
    },
    {
     "name": "stdout",
     "output_type": "stream",
     "text": [
      "Average training loss: 0.5779571190513952\n",
      "Evaluating...\n",
      "ROAUC scores:  {'Train': 0.7905659675598145, 'Validation': 0.7904019355773926}\n",
      "=====Epoch 56\n",
      "Training...\n"
     ]
    },
    {
     "name": "stderr",
     "output_type": "stream",
     "text": [
      "Iteration: 100%|██████████| 794/794 [00:44<00:00, 17.86it/s]\n"
     ]
    },
    {
     "name": "stdout",
     "output_type": "stream",
     "text": [
      "Average training loss: 0.5787090462461226\n",
      "Evaluating...\n",
      "ROAUC scores:  {'Train': 0.7900016903877258, 'Validation': 0.7894399762153625}\n",
      "=====Epoch 57\n",
      "Training...\n"
     ]
    },
    {
     "name": "stderr",
     "output_type": "stream",
     "text": [
      "Iteration: 100%|██████████| 794/794 [00:43<00:00, 18.26it/s]\n"
     ]
    },
    {
     "name": "stdout",
     "output_type": "stream",
     "text": [
      "Average training loss: 0.5768770229456106\n",
      "Evaluating...\n",
      "ROAUC scores:  {'Train': 0.7758763432502747, 'Validation': 0.7758411169052124}\n",
      "=====Epoch 58\n",
      "Training...\n"
     ]
    },
    {
     "name": "stderr",
     "output_type": "stream",
     "text": [
      "Iteration: 100%|██████████| 794/794 [00:44<00:00, 17.96it/s]\n"
     ]
    },
    {
     "name": "stdout",
     "output_type": "stream",
     "text": [
      "Average training loss: 0.5770162468217782\n",
      "Evaluating...\n",
      "ROAUC scores:  {'Train': 0.7819356918334961, 'Validation': 0.7805978059768677}\n",
      "=====Epoch 59\n",
      "Training...\n"
     ]
    },
    {
     "name": "stderr",
     "output_type": "stream",
     "text": [
      "Iteration: 100%|██████████| 794/794 [00:44<00:00, 17.98it/s]\n"
     ]
    },
    {
     "name": "stdout",
     "output_type": "stream",
     "text": [
      "Average training loss: 0.5758696173690728\n",
      "Evaluating...\n",
      "ROAUC scores:  {'Train': 0.790459156036377, 'Validation': 0.789606511592865}\n",
      "=====Epoch 60\n",
      "Training...\n"
     ]
    },
    {
     "name": "stderr",
     "output_type": "stream",
     "text": [
      "Iteration: 100%|██████████| 794/794 [00:39<00:00, 20.31it/s]\n"
     ]
    },
    {
     "name": "stdout",
     "output_type": "stream",
     "text": [
      "Average training loss: 0.5757030527147298\n",
      "Evaluating...\n",
      "ROAUC scores:  {'Train': 0.7919214963912964, 'Validation': 0.7891871929168701}\n",
      "=====Epoch 61\n",
      "Training...\n"
     ]
    },
    {
     "name": "stderr",
     "output_type": "stream",
     "text": [
      "Iteration: 100%|██████████| 794/794 [00:40<00:00, 19.61it/s]\n"
     ]
    },
    {
     "name": "stdout",
     "output_type": "stream",
     "text": [
      "Average training loss: 0.5768971958899077\n",
      "Evaluating...\n",
      "ROAUC scores:  {'Train': 0.7911189794540405, 'Validation': 0.788899302482605}\n",
      "=====Epoch 62\n",
      "Training...\n"
     ]
    },
    {
     "name": "stderr",
     "output_type": "stream",
     "text": [
      "Iteration: 100%|██████████| 794/794 [00:42<00:00, 18.86it/s]\n"
     ]
    },
    {
     "name": "stdout",
     "output_type": "stream",
     "text": [
      "Average training loss: 0.575720280934341\n",
      "Evaluating...\n",
      "ROAUC scores:  {'Train': 0.7709028124809265, 'Validation': 0.7692443132400513}\n",
      "=====Epoch 63\n",
      "Training...\n"
     ]
    },
    {
     "name": "stderr",
     "output_type": "stream",
     "text": [
      "Iteration: 100%|██████████| 794/794 [00:43<00:00, 18.44it/s]\n"
     ]
    },
    {
     "name": "stdout",
     "output_type": "stream",
     "text": [
      "Average training loss: 0.5753372618998929\n",
      "Evaluating...\n",
      "ROAUC scores:  {'Train': 0.7924285531044006, 'Validation': 0.790263295173645}\n",
      "=====Epoch 64\n",
      "Training...\n"
     ]
    },
    {
     "name": "stderr",
     "output_type": "stream",
     "text": [
      "Iteration: 100%|██████████| 794/794 [00:43<00:00, 18.44it/s]\n"
     ]
    },
    {
     "name": "stdout",
     "output_type": "stream",
     "text": [
      "Average training loss: 0.5748182061862586\n",
      "Evaluating...\n",
      "ROAUC scores:  {'Train': 0.7929316759109497, 'Validation': 0.7900665998458862}\n",
      "=====Epoch 65\n",
      "Training...\n"
     ]
    },
    {
     "name": "stderr",
     "output_type": "stream",
     "text": [
      "Iteration: 100%|██████████| 794/794 [00:43<00:00, 18.28it/s]\n"
     ]
    },
    {
     "name": "stdout",
     "output_type": "stream",
     "text": [
      "Average training loss: 0.5760501452372117\n",
      "Evaluating...\n",
      "ROAUC scores:  {'Train': 0.7909303307533264, 'Validation': 0.7891836166381836}\n",
      "=====Epoch 66\n",
      "Training...\n"
     ]
    },
    {
     "name": "stderr",
     "output_type": "stream",
     "text": [
      "Iteration: 100%|██████████| 794/794 [00:43<00:00, 18.43it/s]\n"
     ]
    },
    {
     "name": "stdout",
     "output_type": "stream",
     "text": [
      "Average training loss: 0.5751777120140998\n",
      "Evaluating...\n",
      "ROAUC scores:  {'Train': 0.7897744178771973, 'Validation': 0.7883962392807007}\n",
      "=====Epoch 67\n",
      "Training...\n"
     ]
    },
    {
     "name": "stderr",
     "output_type": "stream",
     "text": [
      "Iteration: 100%|██████████| 794/794 [00:43<00:00, 18.43it/s]\n"
     ]
    },
    {
     "name": "stdout",
     "output_type": "stream",
     "text": [
      "Average training loss: 0.573728069587979\n",
      "Evaluating...\n",
      "ROAUC scores:  {'Train': 0.789508581161499, 'Validation': 0.7888129353523254}\n",
      "=====Epoch 68\n",
      "Training...\n"
     ]
    },
    {
     "name": "stderr",
     "output_type": "stream",
     "text": [
      "Iteration: 100%|██████████| 794/794 [00:43<00:00, 18.33it/s]\n"
     ]
    },
    {
     "name": "stdout",
     "output_type": "stream",
     "text": [
      "Average training loss: 0.5743156119392862\n",
      "Evaluating...\n",
      "ROAUC scores:  {'Train': 0.7839130163192749, 'Validation': 0.7807695865631104}\n",
      "=====Epoch 69\n",
      "Training...\n"
     ]
    },
    {
     "name": "stderr",
     "output_type": "stream",
     "text": [
      "Iteration: 100%|██████████| 794/794 [00:44<00:00, 17.73it/s]\n"
     ]
    },
    {
     "name": "stdout",
     "output_type": "stream",
     "text": [
      "Average training loss: 0.57540701941519\n",
      "Evaluating...\n",
      "ROAUC scores:  {'Train': 0.7882359027862549, 'Validation': 0.7845039367675781}\n",
      "=====Epoch 70\n",
      "Training...\n"
     ]
    },
    {
     "name": "stderr",
     "output_type": "stream",
     "text": [
      "Iteration: 100%|██████████| 794/794 [00:45<00:00, 17.64it/s]\n"
     ]
    },
    {
     "name": "stdout",
     "output_type": "stream",
     "text": [
      "Average training loss: 0.5748405695637168\n",
      "Evaluating...\n",
      "ROAUC scores:  {'Train': 0.7860088348388672, 'Validation': 0.7842400074005127}\n",
      "=====Epoch 71\n",
      "Training...\n"
     ]
    },
    {
     "name": "stderr",
     "output_type": "stream",
     "text": [
      "Iteration: 100%|██████████| 794/794 [00:39<00:00, 20.19it/s]\n"
     ]
    },
    {
     "name": "stdout",
     "output_type": "stream",
     "text": [
      "Average training loss: 0.5769523300361874\n",
      "Evaluating...\n",
      "ROAUC scores:  {'Train': 0.7902712225914001, 'Validation': 0.7868372201919556}\n",
      "=====Epoch 72\n",
      "Training...\n"
     ]
    },
    {
     "name": "stderr",
     "output_type": "stream",
     "text": [
      "Iteration: 100%|██████████| 794/794 [00:45<00:00, 17.55it/s]\n"
     ]
    },
    {
     "name": "stdout",
     "output_type": "stream",
     "text": [
      "Average training loss: 0.5748748288722122\n",
      "Evaluating...\n",
      "ROAUC scores:  {'Train': 0.7711714506149292, 'Validation': 0.7688055038452148}\n",
      "=====Epoch 73\n",
      "Training...\n"
     ]
    },
    {
     "name": "stderr",
     "output_type": "stream",
     "text": [
      "Iteration: 100%|██████████| 794/794 [00:41<00:00, 19.05it/s]\n"
     ]
    },
    {
     "name": "stdout",
     "output_type": "stream",
     "text": [
      "Average training loss: 0.57484834414135\n",
      "Evaluating...\n",
      "ROAUC scores:  {'Train': 0.7923077344894409, 'Validation': 0.7887946367263794}\n",
      "=====Epoch 74\n",
      "Training...\n"
     ]
    },
    {
     "name": "stderr",
     "output_type": "stream",
     "text": [
      "Iteration: 100%|██████████| 794/794 [00:40<00:00, 19.53it/s]\n"
     ]
    },
    {
     "name": "stdout",
     "output_type": "stream",
     "text": [
      "Average training loss: 0.5749514402460392\n",
      "Evaluating...\n",
      "ROAUC scores:  {'Train': 0.7922996282577515, 'Validation': 0.789132297039032}\n",
      "=====Epoch 75\n",
      "Training...\n"
     ]
    },
    {
     "name": "stderr",
     "output_type": "stream",
     "text": [
      "Iteration: 100%|██████████| 794/794 [00:40<00:00, 19.56it/s]\n"
     ]
    },
    {
     "name": "stdout",
     "output_type": "stream",
     "text": [
      "=====Epoch 76\n",
      "Training...\n"
     ]
    },
    {
     "name": "stderr",
     "output_type": "stream",
     "text": [
      "Iteration: 100%|██████████| 794/794 [00:26<00:00, 29.92it/s]\n"
     ]
    },
    {
     "name": "stdout",
     "output_type": "stream",
     "text": [
      "Average training loss: 0.5747438436116019\n",
      "Evaluating...\n",
      "ROAUC scores:  {'Train': 0.7909660935401917, 'Validation': 0.787975013256073}\n",
      "=====Epoch 77\n",
      "Training...\n"
     ]
    },
    {
     "name": "stderr",
     "output_type": "stream",
     "text": [
      "Iteration: 100%|██████████| 794/794 [00:26<00:00, 30.28it/s]\n"
     ]
    },
    {
     "name": "stdout",
     "output_type": "stream",
     "text": [
      "Average training loss: 0.5760102497615502\n",
      "Evaluating...\n",
      "ROAUC scores:  {'Train': 0.792482316493988, 'Validation': 0.7894066572189331}\n",
      "=====Epoch 78\n",
      "Training...\n"
     ]
    },
    {
     "name": "stderr",
     "output_type": "stream",
     "text": [
      "Iteration: 100%|██████████| 794/794 [00:27<00:00, 28.66it/s]\n"
     ]
    },
    {
     "name": "stdout",
     "output_type": "stream",
     "text": [
      "Average training loss: 0.5747012689672129\n",
      "Evaluating...\n",
      "ROAUC scores:  {'Train': 0.7879452705383301, 'Validation': 0.7848942875862122}\n",
      "=====Epoch 79\n",
      "Training...\n"
     ]
    },
    {
     "name": "stderr",
     "output_type": "stream",
     "text": [
      "Iteration: 100%|██████████| 794/794 [00:29<00:00, 27.05it/s]\n"
     ]
    },
    {
     "name": "stdout",
     "output_type": "stream",
     "text": [
      "Average training loss: 0.577010933037669\n",
      "Evaluating...\n",
      "ROAUC scores:  {'Train': 0.7930523157119751, 'Validation': 0.7914087772369385}\n",
      "=====Epoch 80\n",
      "Training...\n"
     ]
    },
    {
     "name": "stderr",
     "output_type": "stream",
     "text": [
      "Iteration: 100%|██████████| 794/794 [00:29<00:00, 26.83it/s]\n"
     ]
    },
    {
     "name": "stdout",
     "output_type": "stream",
     "text": [
      "=====Epoch 76\n",
      "Training...\n"
     ]
    },
    {
     "name": "stderr",
     "output_type": "stream",
     "text": [
      "Iteration: 100%|██████████| 794/794 [00:26<00:00, 29.92it/s]\n"
     ]
    },
    {
     "name": "stdout",
     "output_type": "stream",
     "text": [
      "Average training loss: 0.5747438436116019\n",
      "Evaluating...\n",
      "ROAUC scores:  {'Train': 0.7909660935401917, 'Validation': 0.787975013256073}\n",
      "=====Epoch 77\n",
      "Training...\n"
     ]
    },
    {
     "name": "stderr",
     "output_type": "stream",
     "text": [
      "Iteration: 100%|██████████| 794/794 [00:26<00:00, 30.28it/s]\n"
     ]
    },
    {
     "name": "stdout",
     "output_type": "stream",
     "text": [
      "Average training loss: 0.5760102497615502\n",
      "Evaluating...\n",
      "ROAUC scores:  {'Train': 0.792482316493988, 'Validation': 0.7894066572189331}\n",
      "=====Epoch 78\n",
      "Training...\n"
     ]
    },
    {
     "name": "stderr",
     "output_type": "stream",
     "text": [
      "Iteration: 100%|██████████| 794/794 [00:27<00:00, 28.66it/s]\n"
     ]
    },
    {
     "name": "stdout",
     "output_type": "stream",
     "text": [
      "Average training loss: 0.5747012689672129\n",
      "Evaluating...\n",
      "ROAUC scores:  {'Train': 0.7879452705383301, 'Validation': 0.7848942875862122}\n",
      "=====Epoch 79\n",
      "Training...\n"
     ]
    },
    {
     "name": "stderr",
     "output_type": "stream",
     "text": [
      "Iteration: 100%|██████████| 794/794 [00:29<00:00, 27.05it/s]\n"
     ]
    },
    {
     "name": "stdout",
     "output_type": "stream",
     "text": [
      "Average training loss: 0.577010933037669\n",
      "Evaluating...\n",
      "ROAUC scores:  {'Train': 0.7930523157119751, 'Validation': 0.7914087772369385}\n",
      "=====Epoch 80\n",
      "Training...\n"
     ]
    },
    {
     "name": "stderr",
     "output_type": "stream",
     "text": [
      "Iteration: 100%|██████████| 794/794 [00:29<00:00, 26.83it/s]\n"
     ]
    },
    {
     "name": "stdout",
     "output_type": "stream",
     "text": [
      "=====Epoch 76\n",
      "Training...\n"
     ]
    },
    {
     "name": "stderr",
     "output_type": "stream",
     "text": [
      "Iteration: 100%|██████████| 794/794 [00:26<00:00, 29.92it/s]\n"
     ]
    },
    {
     "name": "stdout",
     "output_type": "stream",
     "text": [
      "Average training loss: 0.5747438436116019\n",
      "Evaluating...\n",
      "ROAUC scores:  {'Train': 0.7909660935401917, 'Validation': 0.787975013256073}\n",
      "=====Epoch 77\n",
      "Training...\n"
     ]
    },
    {
     "name": "stderr",
     "output_type": "stream",
     "text": [
      "Iteration: 100%|██████████| 794/794 [00:26<00:00, 30.28it/s]\n"
     ]
    },
    {
     "name": "stdout",
     "output_type": "stream",
     "text": [
      "Average training loss: 0.5760102497615502\n",
      "Evaluating...\n",
      "ROAUC scores:  {'Train': 0.792482316493988, 'Validation': 0.7894066572189331}\n",
      "=====Epoch 78\n",
      "Training...\n"
     ]
    },
    {
     "name": "stderr",
     "output_type": "stream",
     "text": [
      "Iteration: 100%|██████████| 794/794 [00:27<00:00, 28.66it/s]\n"
     ]
    },
    {
     "name": "stdout",
     "output_type": "stream",
     "text": [
      "Average training loss: 0.5747012689672129\n",
      "Evaluating...\n",
      "ROAUC scores:  {'Train': 0.7879452705383301, 'Validation': 0.7848942875862122}\n",
      "=====Epoch 79\n",
      "Training...\n"
     ]
    },
    {
     "name": "stderr",
     "output_type": "stream",
     "text": [
      "Iteration: 100%|██████████| 794/794 [00:29<00:00, 27.05it/s]\n"
     ]
    },
    {
     "name": "stdout",
     "output_type": "stream",
     "text": [
      "Average training loss: 0.577010933037669\n",
      "Evaluating...\n",
      "ROAUC scores:  {'Train': 0.7930523157119751, 'Validation': 0.7914087772369385}\n",
      "=====Epoch 80\n",
      "Training...\n"
     ]
    },
    {
     "name": "stderr",
     "output_type": "stream",
     "text": [
      "Iteration: 100%|██████████| 794/794 [00:29<00:00, 26.83it/s]\n"
     ]
    },
    {
     "name": "stdout",
     "output_type": "stream",
     "text": [
      "Average training loss: 0.5741117365789654\n",
      "Evaluating...\n",
      "ROAUC scores:  {'Train': 0.7928317785263062, 'Validation': 0.7892802357673645}\n",
      "\n",
      "Finished training!\n",
      "\n",
      "ROAUC Test score: 0.7784633636474609\n"
     ]
    }
   ],
   "source": [
    "gcn_model = GNN(num_classes = 2, num_layer = 2,num_post_fnn_layers=2,hasPos=True,input_edge_dim = 1,num_coords=2, \n",
    "                input_spec_fts_dim=3, gnn_type = 'gcn', emb_dim = 300, drop_ratio = 0.3).to(device)\n",
    "optimizer = optim.Adam(gcn_model.parameters(), lr=1e-3)\n",
    "\n",
    "train_model(gcn_model,optimizer)"
   ]
  },
  {
   "cell_type": "markdown",
   "id": "c7bff0df",
   "metadata": {},
   "source": [
    "### Training without GPE"
   ]
  },
  {
   "cell_type": "code",
   "execution_count": 16,
   "id": "a1d7131e",
   "metadata": {
    "scrolled": true
   },
   "outputs": [
    {
     "name": "stdout",
     "output_type": "stream",
     "text": [
      "=====Epoch 43\n",
      "Training...\n"
     ]
    },
    {
     "name": "stderr",
     "output_type": "stream",
     "text": [
      "Iteration: 100%|██████████| 794/794 [00:39<00:00, 20.08it/s]\n"
     ]
    },
    {
     "name": "stdout",
     "output_type": "stream",
     "text": [
      "Average training loss: 0.5746043768877948\n",
      "Evaluating...\n",
      "ROAUC scores:  {'Train': 0.7906577587127686, 'Validation': 0.7882513999938965}\n",
      "=====Epoch 44\n",
      "Training...\n"
     ]
    },
    {
     "name": "stderr",
     "output_type": "stream",
     "text": [
      "Iteration: 100%|██████████| 794/794 [00:43<00:00, 18.38it/s]\n"
     ]
    },
    {
     "name": "stdout",
     "output_type": "stream",
     "text": [
      "Average training loss: 0.5759014831081746\n",
      "Evaluating...\n",
      "ROAUC scores:  {'Train': 0.7816154956817627, 'Validation': 0.7795676589012146}\n",
      "=====Epoch 45\n",
      "Training...\n"
     ]
    },
    {
     "name": "stderr",
     "output_type": "stream",
     "text": [
      "Iteration: 100%|██████████| 794/794 [00:43<00:00, 18.12it/s]\n"
     ]
    },
    {
     "name": "stdout",
     "output_type": "stream",
     "text": [
      "Average training loss: 0.5736135304799909\n",
      "Evaluating...\n",
      "ROAUC scores:  {'Train': 0.791023850440979, 'Validation': 0.7881148457527161}\n",
      "=====Epoch 46\n",
      "Training...\n"
     ]
    },
    {
     "name": "stderr",
     "output_type": "stream",
     "text": [
      "Iteration: 100%|██████████| 794/794 [00:38<00:00, 20.39it/s]\n"
     ]
    },
    {
     "name": "stdout",
     "output_type": "stream",
     "text": [
      "Average training loss: 0.5759049139410183\n",
      "Evaluating...\n",
      "ROAUC scores:  {'Train': 0.7914109826087952, 'Validation': 0.7874666452407837}\n",
      "=====Epoch 47\n",
      "Training...\n"
     ]
    },
    {
     "name": "stderr",
     "output_type": "stream",
     "text": [
      "Iteration: 100%|██████████| 794/794 [00:39<00:00, 19.97it/s]\n"
     ]
    },
    {
     "name": "stdout",
     "output_type": "stream",
     "text": [
      "Average training loss: 0.5750361867155176\n",
      "Evaluating...\n",
      "ROAUC scores:  {'Train': 0.7898668050765991, 'Validation': 0.7889251708984375}\n",
      "=====Epoch 48\n",
      "Training...\n"
     ]
    },
    {
     "name": "stderr",
     "output_type": "stream",
     "text": [
      "Iteration: 100%|██████████| 794/794 [00:39<00:00, 19.89it/s]\n"
     ]
    },
    {
     "name": "stdout",
     "output_type": "stream",
     "text": [
      "Average training loss: 0.5750056571639155\n",
      "Evaluating...\n",
      "ROAUC scores:  {'Train': 0.7915517687797546, 'Validation': 0.7874159812927246}\n",
      "=====Epoch 49\n",
      "Training...\n"
     ]
    },
    {
     "name": "stderr",
     "output_type": "stream",
     "text": [
      "Iteration: 100%|██████████| 794/794 [00:43<00:00, 18.38it/s]\n"
     ]
    },
    {
     "name": "stdout",
     "output_type": "stream",
     "text": [
      "Average training loss: 0.5752063297880087\n",
      "Evaluating...\n",
      "ROAUC scores:  {'Train': 0.7891422510147095, 'Validation': 0.78626549243927}\n",
      "=====Epoch 50\n",
      "Training...\n"
     ]
    },
    {
     "name": "stderr",
     "output_type": "stream",
     "text": [
      "Iteration: 100%|██████████| 794/794 [00:41<00:00, 18.99it/s]\n"
     ]
    },
    {
     "name": "stdout",
     "output_type": "stream",
     "text": [
      "Average training loss: 0.5739271611125403\n",
      "Evaluating...\n",
      "ROAUC scores:  {'Train': 0.7896944284439087, 'Validation': 0.7870839834213257}\n",
      "=====Epoch 51\n",
      "Training...\n"
     ]
    },
    {
     "name": "stderr",
     "output_type": "stream",
     "text": [
      "Iteration: 100%|██████████| 794/794 [00:42<00:00, 18.76it/s]\n"
     ]
    },
    {
     "name": "stdout",
     "output_type": "stream",
     "text": [
      "Average training loss: 0.5742622155236357\n",
      "Evaluating...\n",
      "ROAUC scores:  {'Train': 0.7914423942565918, 'Validation': 0.78886878490448}\n",
      "=====Epoch 52\n",
      "Training...\n"
     ]
    },
    {
     "name": "stderr",
     "output_type": "stream",
     "text": [
      "Iteration: 100%|██████████| 794/794 [00:40<00:00, 19.81it/s]\n"
     ]
    },
    {
     "name": "stdout",
     "output_type": "stream",
     "text": [
      "Average training loss: 0.5745668791478467\n",
      "Evaluating...\n",
      "ROAUC scores:  {'Train': 0.7913110256195068, 'Validation': 0.7879801988601685}\n",
      "=====Epoch 53\n",
      "Training...\n"
     ]
    },
    {
     "name": "stderr",
     "output_type": "stream",
     "text": [
      "Iteration: 100%|██████████| 794/794 [00:42<00:00, 18.47it/s]\n"
     ]
    },
    {
     "name": "stdout",
     "output_type": "stream",
     "text": [
      "Average training loss: 0.5746284820120641\n",
      "Evaluating...\n",
      "ROAUC scores:  {'Train': 0.7903238534927368, 'Validation': 0.7874116897583008}\n",
      "=====Epoch 54\n",
      "Training...\n"
     ]
    },
    {
     "name": "stderr",
     "output_type": "stream",
     "text": [
      "Iteration: 100%|██████████| 794/794 [00:41<00:00, 18.97it/s]\n"
     ]
    },
    {
     "name": "stdout",
     "output_type": "stream",
     "text": [
      "Average training loss: 0.5747975259268614\n",
      "Evaluating...\n",
      "ROAUC scores:  {'Train': 0.7913990020751953, 'Validation': 0.7879424095153809}\n",
      "=====Epoch 55\n",
      "Training...\n"
     ]
    },
    {
     "name": "stderr",
     "output_type": "stream",
     "text": [
      "Iteration: 100%|██████████| 794/794 [00:38<00:00, 20.75it/s]\n"
     ]
    },
    {
     "name": "stdout",
     "output_type": "stream",
     "text": [
      "Average training loss: 0.5740465172367072\n",
      "Evaluating...\n",
      "ROAUC scores:  {'Train': 0.7895991206169128, 'Validation': 0.7875176668167114}\n",
      "=====Epoch 56\n",
      "Training...\n"
     ]
    },
    {
     "name": "stderr",
     "output_type": "stream",
     "text": [
      "Iteration: 100%|██████████| 794/794 [00:41<00:00, 18.98it/s]\n"
     ]
    },
    {
     "name": "stdout",
     "output_type": "stream",
     "text": [
      "Average training loss: 0.5753059338412296\n",
      "Evaluating...\n",
      "ROAUC scores:  {'Train': 0.7914857864379883, 'Validation': 0.7878527641296387}\n",
      "=====Epoch 57\n",
      "Training...\n"
     ]
    },
    {
     "name": "stderr",
     "output_type": "stream",
     "text": [
      "Iteration: 100%|██████████| 794/794 [00:42<00:00, 18.74it/s]\n"
     ]
    },
    {
     "name": "stdout",
     "output_type": "stream",
     "text": [
      "Average training loss: 0.5752448492146259\n",
      "Evaluating...\n",
      "ROAUC scores:  {'Train': 0.791583776473999, 'Validation': 0.7883838415145874}\n",
      "=====Epoch 58\n",
      "Training...\n"
     ]
    },
    {
     "name": "stderr",
     "output_type": "stream",
     "text": [
      "Iteration: 100%|██████████| 794/794 [00:42<00:00, 18.73it/s]\n"
     ]
    },
    {
     "name": "stdout",
     "output_type": "stream",
     "text": [
      "Average training loss: 0.5732090090324056\n",
      "Evaluating...\n",
      "ROAUC scores:  {'Train': 0.7915147542953491, 'Validation': 0.7868059873580933}\n",
      "=====Epoch 59\n",
      "Training...\n"
     ]
    },
    {
     "name": "stderr",
     "output_type": "stream",
     "text": [
      "Iteration: 100%|██████████| 794/794 [00:41<00:00, 19.11it/s]\n"
     ]
    },
    {
     "name": "stdout",
     "output_type": "stream",
     "text": [
      "Average training loss: 0.5734008358467736\n",
      "Evaluating...\n",
      "ROAUC scores:  {'Train': 0.7920928001403809, 'Validation': 0.7882958054542542}\n",
      "=====Epoch 60\n",
      "Training...\n"
     ]
    },
    {
     "name": "stderr",
     "output_type": "stream",
     "text": [
      "Iteration: 100%|██████████| 794/794 [00:40<00:00, 19.48it/s]\n"
     ]
    },
    {
     "name": "stdout",
     "output_type": "stream",
     "text": [
      "Average training loss: 0.5740976874113684\n",
      "Evaluating...\n",
      "ROAUC scores:  {'Train': 0.7914626598358154, 'Validation': 0.7887256741523743}\n",
      "=====Epoch 61\n",
      "Training...\n"
     ]
    },
    {
     "name": "stderr",
     "output_type": "stream",
     "text": [
      "Iteration: 100%|██████████| 794/794 [00:43<00:00, 18.41it/s]\n"
     ]
    },
    {
     "name": "stdout",
     "output_type": "stream",
     "text": [
      "Average training loss: 0.5745489175809121\n",
      "Evaluating...\n",
      "ROAUC scores:  {'Train': 0.7921646237373352, 'Validation': 0.7878116369247437}\n",
      "=====Epoch 62\n",
      "Training...\n"
     ]
    },
    {
     "name": "stderr",
     "output_type": "stream",
     "text": [
      "Iteration: 100%|██████████| 794/794 [00:42<00:00, 18.64it/s]\n"
     ]
    },
    {
     "name": "stdout",
     "output_type": "stream",
     "text": [
      "Average training loss: 0.5731349739079511\n",
      "Evaluating...\n",
      "ROAUC scores:  {'Train': 0.7922171950340271, 'Validation': 0.7889771461486816}\n",
      "=====Epoch 63\n",
      "Training...\n"
     ]
    },
    {
     "name": "stderr",
     "output_type": "stream",
     "text": [
      "Iteration: 100%|██████████| 794/794 [00:41<00:00, 19.12it/s]\n"
     ]
    },
    {
     "name": "stdout",
     "output_type": "stream",
     "text": [
      "Average training loss: 0.5755593575518437\n",
      "Evaluating...\n",
      "ROAUC scores:  {'Train': 0.7922916412353516, 'Validation': 0.7879410982131958}\n",
      "=====Epoch 64\n",
      "Training...\n"
     ]
    },
    {
     "name": "stderr",
     "output_type": "stream",
     "text": [
      "Iteration: 100%|██████████| 794/794 [00:41<00:00, 19.12it/s]\n"
     ]
    },
    {
     "name": "stdout",
     "output_type": "stream",
     "text": [
      "Average training loss: 0.5731632108201908\n",
      "Evaluating...\n",
      "ROAUC scores:  {'Train': 0.7776795625686646, 'Validation': 0.7783198356628418}\n",
      "=====Epoch 65\n",
      "Training...\n"
     ]
    },
    {
     "name": "stderr",
     "output_type": "stream",
     "text": [
      "Iteration: 100%|██████████| 794/794 [00:41<00:00, 19.05it/s]\n"
     ]
    },
    {
     "name": "stdout",
     "output_type": "stream",
     "text": [
      "Average training loss: 0.5732159691133187\n",
      "Evaluating...\n",
      "ROAUC scores:  {'Train': 0.7833820581436157, 'Validation': 0.7821496725082397}\n",
      "=====Epoch 66\n",
      "Training...\n"
     ]
    },
    {
     "name": "stderr",
     "output_type": "stream",
     "text": [
      "Iteration: 100%|██████████| 794/794 [00:41<00:00, 18.95it/s]\n"
     ]
    },
    {
     "name": "stdout",
     "output_type": "stream",
     "text": [
      "Average training loss: 0.5734541138038227\n",
      "Evaluating...\n",
      "ROAUC scores:  {'Train': 0.792068600654602, 'Validation': 0.7872563600540161}\n",
      "=====Epoch 67\n",
      "Training...\n"
     ]
    },
    {
     "name": "stderr",
     "output_type": "stream",
     "text": [
      "Iteration: 100%|██████████| 794/794 [00:38<00:00, 20.46it/s]\n"
     ]
    },
    {
     "name": "stdout",
     "output_type": "stream",
     "text": [
      "Average training loss: 0.5739356318784301\n",
      "Evaluating...\n",
      "ROAUC scores:  {'Train': 0.7928174734115601, 'Validation': 0.7876052856445312}\n",
      "=====Epoch 68\n",
      "Training...\n"
     ]
    },
    {
     "name": "stderr",
     "output_type": "stream",
     "text": [
      "Iteration: 100%|██████████| 794/794 [00:41<00:00, 19.19it/s]\n"
     ]
    },
    {
     "name": "stdout",
     "output_type": "stream",
     "text": [
      "Average training loss: 0.5741601205367586\n",
      "Evaluating...\n",
      "ROAUC scores:  {'Train': 0.7923808097839355, 'Validation': 0.7879139184951782}\n",
      "=====Epoch 69\n",
      "Training...\n"
     ]
    },
    {
     "name": "stderr",
     "output_type": "stream",
     "text": [
      "Iteration: 100%|██████████| 794/794 [00:42<00:00, 18.55it/s]\n"
     ]
    },
    {
     "name": "stdout",
     "output_type": "stream",
     "text": [
      "Average training loss: 0.5737447999511618\n",
      "Evaluating...\n",
      "ROAUC scores:  {'Train': 0.7813278436660767, 'Validation': 0.7796964645385742}\n",
      "=====Epoch 70\n",
      "Training...\n"
     ]
    },
    {
     "name": "stderr",
     "output_type": "stream",
     "text": [
      "Iteration: 100%|██████████| 794/794 [00:40<00:00, 19.78it/s]\n"
     ]
    },
    {
     "name": "stdout",
     "output_type": "stream",
     "text": [
      "Average training loss: 0.5729288821781913\n",
      "Evaluating...\n",
      "ROAUC scores:  {'Train': 0.7878342270851135, 'Validation': 0.7850787043571472}\n",
      "=====Epoch 71\n",
      "Training...\n"
     ]
    },
    {
     "name": "stderr",
     "output_type": "stream",
     "text": [
      "Iteration: 100%|██████████| 794/794 [00:42<00:00, 18.63it/s]\n"
     ]
    },
    {
     "name": "stdout",
     "output_type": "stream",
     "text": [
      "Average training loss: 0.5735772976872302\n",
      "Evaluating...\n",
      "ROAUC scores:  {'Train': 0.7923682928085327, 'Validation': 0.7877758741378784}\n",
      "=====Epoch 72\n",
      "Training...\n"
     ]
    },
    {
     "name": "stderr",
     "output_type": "stream",
     "text": [
      "Iteration: 100%|██████████| 794/794 [00:42<00:00, 18.61it/s]\n"
     ]
    },
    {
     "name": "stdout",
     "output_type": "stream",
     "text": [
      "Average training loss: 0.5731909055478627\n",
      "Evaluating...\n",
      "ROAUC scores:  {'Train': 0.7925848960876465, 'Validation': 0.7882707715034485}\n",
      "=====Epoch 73\n",
      "Training...\n"
     ]
    },
    {
     "name": "stderr",
     "output_type": "stream",
     "text": [
      "Iteration: 100%|██████████| 794/794 [00:42<00:00, 18.61it/s]\n"
     ]
    },
    {
     "name": "stdout",
     "output_type": "stream",
     "text": [
      "Average training loss: 0.5736414238773004\n",
      "Evaluating...\n",
      "ROAUC scores:  {'Train': 0.792793869972229, 'Validation': 0.7875902652740479}\n",
      "=====Epoch 74\n",
      "Training...\n"
     ]
    },
    {
     "name": "stderr",
     "output_type": "stream",
     "text": [
      "Iteration: 100%|██████████| 794/794 [00:42<00:00, 18.79it/s]\n"
     ]
    },
    {
     "name": "stdout",
     "output_type": "stream",
     "text": [
      "Average training loss: 0.5728275962830791\n",
      "Evaluating...\n",
      "ROAUC scores:  {'Train': 0.783450722694397, 'Validation': 0.7826626300811768}\n",
      "=====Epoch 75\n",
      "Training...\n"
     ]
    },
    {
     "name": "stderr",
     "output_type": "stream",
     "text": [
      "Iteration: 100%|██████████| 794/794 [00:42<00:00, 18.77it/s]\n"
     ]
    },
    {
     "name": "stdout",
     "output_type": "stream",
     "text": [
      "Average training loss: 0.5726831875159698\n",
      "Evaluating...\n",
      "ROAUC scores:  {'Train': 0.7916743755340576, 'Validation': 0.7868238091468811}\n",
      "\n",
      "Finished training!\n",
      "\n",
      "ROAUC Test score: 0.7773752808570862\n"
     ]
    }
   ],
   "source": [
    "gcn_model = GNN(num_classes = 2, num_layer = 2,num_post_fnn_layers=2,hasPos=False,input_edge_dim = 1, \n",
    "            input_spec_fts_dim=3, gnn_type = 'gcn', emb_dim = 300, drop_ratio = 0.3).to(device)\n",
    "optimizer = optim.Adam(gcn_model.parameters(), lr=1e-3)\n",
    "\n",
    "train_model(gcn_model,optimizer)"
   ]
  },
  {
   "cell_type": "markdown",
   "id": "b6cc8537",
   "metadata": {},
   "source": [
    "### Training with deeper model (with 10 GCN layers)"
   ]
  },
  {
   "cell_type": "code",
   "execution_count": null,
   "id": "7be61d45",
   "metadata": {},
   "outputs": [],
   "source": [
    "gcn_model = GNN(num_classes = 2, num_layer = 5,num_post_fnn_layers=2,hasPos=True,input_edge_dim = 1,num_coords=2, \n",
    "                input_spec_fts_dim=3, gnn_type = 'gcn', emb_dim = 100, drop_ratio = 0.3, JK='sum').to(device)\n",
    "optimizer = optim.Adam(gcn_model.parameters(), lr=1e-3)\n",
    "\n",
    "train_model(gcn_model,optimizer)"
   ]
  },
  {
   "cell_type": "markdown",
   "id": "de6ac06a",
   "metadata": {},
   "source": [
    "### Training GPS model"
   ]
  },
  {
   "cell_type": "code",
   "execution_count": 13,
   "id": "8b9f88aa",
   "metadata": {},
   "outputs": [],
   "source": [
    "# importing dataset for GPS \n",
    "transform = T.AddRandomWalkPE(walk_length=20, attr_name='rwPE') # adding random walk positional encoding\n",
    "jets_dataset = import_dataset(name=\"QCDToGGQQ_IMGjet_RH1all_jet0_run0_n36272\",\n",
    "                             transform=transform)\n",
    "\n",
    "GPS_model = GNN(num_classes = 2, num_layer = 5,num_pre_fnn_layers=1,num_post_fnn_layers=2,hasPos=True,input_edge_dim = 1,num_coords=2, \n",
    "                input_spec_fts_dim=3, gnn_type = 'gps', emb_dim = 300, rwPE_dim=20, drop_ratio = 0.3).to(device)\n",
    "optimizer = optim.Adam(GPS_model.parameters(), lr=1e-3)\n",
    "\n",
    "train_model(GPS_model,optimizer,jets_dataset)"
   ]
  }
 ],
 "metadata": {
  "kernelspec": {
   "display_name": "Python 3 (ipykernel)",
   "language": "python",
   "name": "python3"
  },
  "language_info": {
   "codemirror_mode": {
    "name": "ipython",
    "version": 3
   },
   "file_extension": ".py",
   "mimetype": "text/x-python",
   "name": "python",
   "nbconvert_exporter": "python",
   "pygments_lexer": "ipython3",
   "version": "3.8.16"
  }
 },
 "nbformat": 4,
 "nbformat_minor": 5
}
