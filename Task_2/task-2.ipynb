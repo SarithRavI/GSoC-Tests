{
 "cells": [
  {
   "cell_type": "code",
   "execution_count": 1,
   "id": "f332a1aa",
   "metadata": {},
   "outputs": [],
   "source": [
    "import torch \n",
    "import numpy as np\n",
    "import pandas as pd\n",
    "from tqdm import tqdm\n",
    "import os\n",
    "import h5py\n",
    "import math\n",
    "import pyarrow.parquet as pq\n",
    "import torch.nn as nn\n",
    "import torch.nn.functional as F\n",
    "from torch.nn import init\n",
    "from torch.utils.data import Dataset, random_split, DataLoader\n",
    "from torchvision import transforms\n",
    "import torch.optim as optim\n",
    "from torchmetrics.classification import MulticlassAUROC, MulticlassAccuracy"
   ]
  },
  {
   "cell_type": "code",
   "execution_count": 2,
   "id": "543724c0",
   "metadata": {},
   "outputs": [
    {
     "data": {
      "text/plain": [
       "0"
      ]
     },
     "execution_count": 2,
     "metadata": {},
     "output_type": "execute_result"
    }
   ],
   "source": [
    "# clearing cuda cache memory\n",
    "import gc\n",
    "torch.cuda.empty_cache()\n",
    "gc.collect()"
   ]
  },
  {
   "cell_type": "code",
   "execution_count": 3,
   "id": "ce71461b",
   "metadata": {},
   "outputs": [
    {
     "data": {
      "text/plain": [
       "['QCDToGGQQ_IMGjet_RH1all_jet0_run0_n36272',\n",
       " 'QCDToGGQQ_IMGjet_RH1all_jet0_run0_n36272.test.snappy.parquet',\n",
       " 'QCDToGGQQ_IMGjet_RH1all_jet0_run1_n47540',\n",
       " 'QCDToGGQQ_IMGjet_RH1all_jet0_run1_n47540.test.snappy.parquet',\n",
       " 'QCDToGGQQ_IMGjet_RH1all_jet0_run2_n55494',\n",
       " 'QCDToGGQQ_IMGjet_RH1all_jet0_run2_n55494.test.snappy.parquet',\n",
       " 'SingleElectronPt50_IMGCROPS_n249k_RHv1.hdf5',\n",
       " 'SinglePhotonPt50_IMGCROPS_n249k_RHv1.hdf5']"
      ]
     },
     "execution_count": 3,
     "metadata": {},
     "output_type": "execute_result"
    }
   ],
   "source": [
    "os.listdir(\"../dataset\")"
   ]
  },
  {
   "cell_type": "code",
   "execution_count": 4,
   "id": "6ba3e12b",
   "metadata": {},
   "outputs": [],
   "source": [
    "def save_ckpt(imgs,processed_dir,count):\n",
    "        print(\"saving...\")       \n",
    "        torch.save(imgs,f\"{processed_dir}/images-jets{count}-processed.pt\")"
   ]
  },
  {
   "cell_type": "code",
   "execution_count": 5,
   "id": "04aef921",
   "metadata": {},
   "outputs": [],
   "source": [
    "def read_image_data(dataset_name,count=\"\",start_split=0):\n",
    "    raw_path = f\"../dataset/{dataset_name}/raw/{dataset_name}.test.snappy.parquet\"\n",
    "    processed_dir = f\"../dataset/{dataset_name}/processed\"\n",
    "    imgs = None\n",
    "    labels = None\n",
    "    if f\"images-jets{count}-processed.pt\" in os.listdir(processed_dir):\n",
    "        print(\"loading...\")\n",
    "        imgs = torch.load(f\"{processed_dir}/images-jets{count}-processed.pt\")\n",
    "        # load all the label\n",
    "        # this function returns all the labels \n",
    "        # hence need truncate if needed seperately.\n",
    "        labels = torch.load(f\"{processed_dir}/labels-jets-processed.pt\") \n",
    "    else:\n",
    "        dataset = pq.read_table(raw_path,columns=[\"X_jets\",\"y\"]).to_pandas()\n",
    "        images_raw = dataset[\"X_jets\"].to_numpy()[start_split:]\n",
    "        labels = dataset[\"y\"][start_split:].to_numpy().astype(np.int64)\n",
    "        labels = torch.Tensor(labels).to(torch.int32)\n",
    "        imgs = np.empty([0,125,125,3],dtype=np.float32)\n",
    "        for inx,img in enumerate(tqdm(images_raw)):\n",
    "            inx_ = inx+start_split\n",
    "            img_np = np.stack([np.stack(channel) for channel in img])\n",
    "            # change the shape to (125,125,3)\n",
    "            img_np = img_np.transpose()\n",
    "            imgs = np.vstack((imgs,np.expand_dims(img_np,axis=0)))\n",
    "            if inx>0 and inx%9068==0:\n",
    "                imgs = torch.Tensor(imgs)\n",
    "                save_ckpt(imgs,processed_dir,f\"-{str(inx_)}\")\n",
    "        imgs = torch.Tensor(imgs)\n",
    "        save_ckpt(imgs,labels,processed_dir,\"\")\n",
    "        \n",
    "    return imgs,labels"
   ]
  },
  {
   "cell_type": "code",
   "execution_count": 6,
   "id": "60097af5",
   "metadata": {},
   "outputs": [
    {
     "name": "stdout",
     "output_type": "stream",
     "text": [
      "loading...\n"
     ]
    }
   ],
   "source": [
    "# truncated dataset => uses 25% \n",
    "\n",
    "img_arrs, labels = read_image_data(\"QCDToGGQQ_IMGjet_RH1all_jet0_run0_n36272\",\"-9068\")\n",
    "labels = labels[:img_arrs.shape[0]].to(torch.int64)  #truncating from full list of labels"
   ]
  },
  {
   "cell_type": "code",
   "execution_count": 7,
   "id": "6fb32556",
   "metadata": {},
   "outputs": [],
   "source": [
    "class QuarkGluonDataset(Dataset):\n",
    "    def __init__(self,split_inx, transform=None,target_transform= None):\n",
    "        self.img_arrs_split = img_arrs[split_inx]\n",
    "        self.labels_split = labels[split_inx]\n",
    "        self.transform = transform\n",
    "        self.target_transform = target_transform\n",
    "    def __len__(self):\n",
    "        return self.labels_split.shape[0]\n",
    "    def __getitem__(self,idx):\n",
    "        image=self.img_arrs_split[idx,:,:,:]\n",
    "        # changing the dim of image to channels, height, width by transposing the\n",
    "        # original image tensor.\n",
    "        image = image.permute(2,1,0)\n",
    "        label = self.labels_split[idx]\n",
    "        if self.transform:\n",
    "            image = self.transform(image)\n",
    "        if self.target_transform:\n",
    "            label = self.target_transform(label)\n",
    "        return image,label"
   ]
  },
  {
   "cell_type": "code",
   "execution_count": 8,
   "id": "8c4ddaca",
   "metadata": {},
   "outputs": [],
   "source": [
    "class SeparableConv2d(nn.Module):\n",
    "    def __init__(self,in_channels,out_channels,kernel_size=1,stride=1,padding=0,bias=False):\n",
    "        super(SeparableConv2d,self).__init__()\n",
    "\n",
    "        self.conv1 = nn.Conv2d(in_channels,in_channels,kernel_size,stride,padding,groups=in_channels,bias=bias)\n",
    "        self.pointwise = nn.Conv2d(in_channels,out_channels,1,1,0,1,1,bias=bias)\n",
    "    \n",
    "    def forward(self,x):\n",
    "        x = self.conv1(x)\n",
    "        x = self.pointwise(x)\n",
    "        return x\n",
    "\n",
    "\n",
    "class Block(nn.Module):\n",
    "    def __init__(self,in_channels,out_channels,reps,strides=1,start_with_relu=True,expand_first=True):\n",
    "        '''\n",
    "        start_with_relu: if true start with relu \n",
    "        expand_first: if True latent embedding dim of the block will be expanded to out_channels \n",
    "                      at the beginning  else latent dim will be expanded at the end    \n",
    "        '''\n",
    "        super(Block, self).__init__()\n",
    "\n",
    "        if out_channels != in_channels or strides!=1:\n",
    "            self.skip = nn.Conv2d(in_channels,out_channels,1,stride=strides, bias=False)\n",
    "            self.skipbn = nn.BatchNorm2d(out_channels)\n",
    "        else:\n",
    "            self.skip=None\n",
    "        \n",
    "        self.relu = nn.ReLU(inplace=True)\n",
    "        rep=[]\n",
    "\n",
    "        filters=in_channels\n",
    "        if expand_first:\n",
    "            rep.append(self.relu)\n",
    "            rep.append(SeparableConv2d(in_channels,out_channels,3,stride=1,padding=1,bias=False))\n",
    "            rep.append(nn.BatchNorm2d(out_channels))\n",
    "            filters = out_channels\n",
    "\n",
    "        for i in range(reps-1):\n",
    "            rep.append(self.relu)\n",
    "            rep.append(SeparableConv2d(filters,filters,3,stride=1,padding=1,bias=False))\n",
    "            rep.append(nn.BatchNorm2d(filters))\n",
    "        \n",
    "        if not expand_first:\n",
    "            rep.append(self.relu)\n",
    "            rep.append(SeparableConv2d(in_channels,out_channels,3,stride=1,padding=1,bias=False))\n",
    "            rep.append(nn.BatchNorm2d(out_channels))\n",
    "\n",
    "        if not start_with_relu:\n",
    "            rep = rep[1:]\n",
    "        else:\n",
    "            rep[0] = nn.ReLU(inplace=False)\n",
    "\n",
    "        if strides != 1:\n",
    "            rep.append(nn.MaxPool2d(3,strides,1))\n",
    "        self.rep = nn.Sequential(*rep)\n",
    "\n",
    "    def forward(self,inp):\n",
    "        x = self.rep(inp)\n",
    "\n",
    "        if self.skip is not None:\n",
    "            skip = self.skip(inp)\n",
    "            skip = self.skipbn(skip)\n",
    "        else:\n",
    "            skip = inp\n",
    "\n",
    "        x+=skip\n",
    "        return x\n",
    "\n",
    "\n",
    "\n",
    "class Xception(nn.Module):\n",
    "    \"\"\"\n",
    "    Xception model, as specified in\n",
    "    https://arxiv.org/pdf/1610.02357.pdf\n",
    "    \"\"\"\n",
    "    def __init__(self, num_classes=2):\n",
    "        \"\"\" Constructor\n",
    "        Args:\n",
    "            num_classes: number of classes\n",
    "        \"\"\"\n",
    "        super(Xception, self).__init__()\n",
    "\n",
    "        \n",
    "        self.num_classes = num_classes\n",
    "\n",
    "        self.conv1 = nn.Conv2d(3, 32, 3,2, 0, bias=False)\n",
    "        self.bn1 = nn.BatchNorm2d(32)\n",
    "        self.relu = nn.ReLU(inplace=True)\n",
    "\n",
    "        self.conv2 = nn.Conv2d(32,64,3,bias=False)\n",
    "        self.bn2 = nn.BatchNorm2d(64)\n",
    "        #do relu here\n",
    "\n",
    "        self.block1=Block(64,128,2,2,start_with_relu=False,expand_first=True)\n",
    "        self.block2=Block(128,256,2,2,start_with_relu=True,expand_first=True)\n",
    "        self.block3=Block(256,728,2,2,start_with_relu=True,expand_first=True)\n",
    "\n",
    "        self.block4=Block(728,728,3,1,start_with_relu=True,expand_first=True)\n",
    "        self.block5=Block(728,728,3,1,start_with_relu=True,expand_first=True)\n",
    "        self.block6=Block(728,728,3,1,start_with_relu=True,expand_first=True)\n",
    "        self.block7=Block(728,728,3,1,start_with_relu=True,expand_first=True)\n",
    "        self.block8=Block(728,728,3,1,start_with_relu=True,expand_first=True)\n",
    "        self.block9=Block(728,728,3,1,start_with_relu=True,expand_first=True)\n",
    "        self.block10=Block(728,728,3,1,start_with_relu=True,expand_first=True)\n",
    "        self.block11=Block(728,728,3,1,start_with_relu=True,expand_first=True)\n",
    "\n",
    "        self.block12=Block(728,1024,2,2,start_with_relu=True,expand_first=False)\n",
    "\n",
    "        self.conv3 = SeparableConv2d(1024,1536,3,1,1)\n",
    "        self.bn3 = nn.BatchNorm2d(1536)\n",
    "\n",
    "        #do relu here\n",
    "        self.conv4 = SeparableConv2d(1536,2048,3,1,1)\n",
    "        self.bn4 = nn.BatchNorm2d(2048)\n",
    "\n",
    "        self.fc = nn.Linear(2048, num_classes)\n",
    "\n",
    "    def forward(self, x):\n",
    "        x = self.conv1(x)\n",
    "        x = self.bn1(x)\n",
    "        x = self.relu(x)\n",
    "        \n",
    "        x = self.conv2(x)\n",
    "        x = self.bn2(x)\n",
    "        x = self.relu(x)\n",
    "        \n",
    "        x = self.block1(x)\n",
    "        x = self.block2(x)\n",
    "        x = self.block3(x)\n",
    "        x = self.block4(x)\n",
    "        x = self.block5(x)\n",
    "        x = self.block6(x)\n",
    "        x = self.block7(x)\n",
    "        x = self.block8(x)\n",
    "        x = self.block9(x)\n",
    "        x = self.block10(x)\n",
    "        x = self.block11(x)\n",
    "        x = self.block12(x)\n",
    "        \n",
    "        x = self.conv3(x)\n",
    "        x = self.bn3(x)\n",
    "        x = self.relu(x)\n",
    "\n",
    "        \n",
    "        x = self.conv4(x)\n",
    "        x = self.bn4(x)\n",
    "        x = self.relu(x)\n",
    "\n",
    "\n",
    "        x = F.adaptive_avg_pool2d(x, (1, 1))\n",
    "        x = x.view(x.size(0), -1)\n",
    "        x = self.fc(x)\n",
    "        \n",
    "        return F.softmax(x,dim=1)\n",
    "    \n",
    "    def __str__(self):\n",
    "        return \"Xception-task2\""
   ]
  },
  {
   "cell_type": "code",
   "execution_count": 9,
   "id": "f18191f5",
   "metadata": {},
   "outputs": [],
   "source": [
    "device = torch.device(\"cuda:0\" if torch.cuda.is_available() else torch.device(\"cpu\"))\n",
    "multicls_criterion = torch.nn.CrossEntropyLoss()"
   ]
  },
  {
   "cell_type": "code",
   "execution_count": 10,
   "id": "59cfca45",
   "metadata": {},
   "outputs": [],
   "source": [
    "model = Xception(num_classes=2).to(device)\n",
    "optimizer = optim.Adam(model.parameters(), lr=1e-3)\n",
    "\n",
    "epochs = 2"
   ]
  },
  {
   "cell_type": "code",
   "execution_count": 11,
   "id": "074ca634",
   "metadata": {},
   "outputs": [],
   "source": [
    "preprocess = transforms.Compose([\n",
    "    transforms.Normalize(mean=[0.5, 0.5,0.5], std=[0.5, 0.5,0.5]),\n",
    "])\n",
    "\n",
    "train_inx, valid_inx, test_inx = random_split(range(labels.shape[0]),[0.7,0.2,0.1],generator=torch.Generator()\n",
    "                                            .manual_seed(42))\n",
    "\n",
    "# train_inx, valid_inx, test_inx = random_split(range(labels.shape[0]),[0.005,0.005,0.99],generator=torch.Generator()\n",
    "#                                             .manual_seed(42))\n",
    "\n",
    "train_data = QuarkGluonDataset(split_inx=train_inx,transform = preprocess)\n",
    "valid_data = QuarkGluonDataset(split_inx=valid_inx,transform = preprocess)\n",
    "test_data = QuarkGluonDataset(split_inx=test_inx,transform = preprocess)\n",
    "# dataset = SingleElectronPhotonDataset()\n",
    "\n",
    "train_dataloader = DataLoader(train_data,batch_size = 64, shuffle = True)\n",
    "valid_dataloader = DataLoader(valid_data,batch_size = 64, shuffle = True)\n",
    "test_dataloader = DataLoader(test_data,batch_size = 64, shuffle = True)"
   ]
  },
  {
   "cell_type": "code",
   "execution_count": 12,
   "id": "7fa3ccaa",
   "metadata": {},
   "outputs": [],
   "source": [
    "def train(model, device, loader, optimizer):\n",
    "    model.train()\n",
    "\n",
    "    loss_accum = 0\n",
    "    for step, batch in enumerate(tqdm(loader, desc=\"Iteration\")):\n",
    "        inputs, labels = batch\n",
    "        inputs = inputs.to(device)\n",
    "        labels = labels.to(device)\n",
    "        output = model(inputs)\n",
    "        loss= 0 \n",
    "        optimizer.zero_grad()\n",
    "        loss += multicls_criterion(output, labels)\n",
    "        loss.backward()\n",
    "        optimizer.step()\n",
    "\n",
    "        loss_accum += loss.item()\n",
    "\n",
    "    print('Average training loss: {}'.format(loss_accum / (step + 1)))"
   ]
  },
  {
   "cell_type": "code",
   "execution_count": 13,
   "id": "6f996e40",
   "metadata": {},
   "outputs": [],
   "source": [
    "def evaluate(model, device, loader,evaluator= \"roauc\",isTqdm=False):\n",
    "    model.eval()\n",
    "    \n",
    "    preds_list = []\n",
    "    target_list = []\n",
    "    iterator = enumerate(loader)\n",
    "    if isTqdm:\n",
    "        iterator = enumerate(tqdm(loader))\n",
    "    for step, batch in iterator:\n",
    "        inputs, labels = batch\n",
    "        inputs = inputs.to(device)\n",
    "        labels = labels.to(device)\n",
    "        with torch.no_grad():\n",
    "            output = model(inputs)\n",
    "            preds_list.extend(output.tolist())\n",
    "        target_list += batch[1].tolist()\n",
    "    if evaluator == \"roauc\":   \n",
    "        metric = MulticlassAUROC(num_classes=2, average=\"macro\", thresholds=None)\n",
    "    if evaluator == \"acc\":\n",
    "        metric = MulticlassAccuracy(num_classes=2, average=\"macro\")\n",
    "    # print(\"AUC-ROC metric score : \",metric(torch.Tensor(preds_list),torch.Tensor(target_list)).item())\n",
    "    return metric(torch.Tensor(preds_list),torch.Tensor(target_list).to(torch.int64)).item()"
   ]
  },
  {
   "cell_type": "code",
   "execution_count": 14,
   "id": "1fb1f561",
   "metadata": {},
   "outputs": [],
   "source": [
    "checkpoints_path = \"../models\"\n",
    "checkpoints = os.listdir(checkpoints_path)\n",
    "checkpoint_path = list(filter(lambda i : str(model) in i, checkpoints))"
   ]
  },
  {
   "cell_type": "code",
   "execution_count": 15,
   "id": "e53c5c14",
   "metadata": {},
   "outputs": [
    {
     "name": "stdout",
     "output_type": "stream",
     "text": [
      "=====Epoch 1\n",
      "Training...\n"
     ]
    },
    {
     "name": "stderr",
     "output_type": "stream",
     "text": [
      "Iteration: 100%|██████████| 100/100 [00:40<00:00,  2.45it/s]\n"
     ]
    },
    {
     "name": "stdout",
     "output_type": "stream",
     "text": [
      "Average training loss: 0.6117133390903473\n",
      "Saving model...\n",
      "Evaluating...\n",
      "ROAUC scores:  {'Train': 0.7771439552307129, 'Validation': 0.7474554777145386}\n",
      "=====Epoch 2\n",
      "Training...\n"
     ]
    },
    {
     "name": "stderr",
     "output_type": "stream",
     "text": [
      "Iteration: 100%|██████████| 100/100 [00:39<00:00,  2.54it/s]\n"
     ]
    },
    {
     "name": "stdout",
     "output_type": "stream",
     "text": [
      "Average training loss: 0.5778531172871589\n",
      "Saving model...\n",
      "Evaluating...\n",
      "ROAUC scores:  {'Train': 0.7989282608032227, 'Validation': 0.7652484178543091}\n",
      "\n",
      "Finished training!\n",
      "\n",
      "ROAUC Test score: 0.7746886014938354\n"
     ]
    }
   ],
   "source": [
    "train_curves = []\n",
    "valid_curves = []\n",
    "\n",
    "starting_epoch = 1\n",
    "if len(checkpoint_path)>0:\n",
    "    checkpoint = torch.load(f\"{checkpoints_path}/{checkpoint_path[0]}\")\n",
    "    model.load_state_dict(checkpoint['model_state_dict'])\n",
    "    optimizer.load_state_dict(checkpoint['optimizer_state_dict'])\n",
    "    starting_epoch = checkpoint['epoch']+1\n",
    "\n",
    "for epoch in range(starting_epoch, epochs + 1):\n",
    "    print(\"=====Epoch {}\".format(epoch))\n",
    "    print('Training...')\n",
    "    train(model, device, train_dataloader, optimizer)\n",
    "    \n",
    "    print(\"Saving model...\")\n",
    "    # save checkpoint of current epoch\n",
    "    torch.save({\n",
    "            'epoch': epoch,\n",
    "            'model_state_dict': model.state_dict(),\n",
    "            'optimizer_state_dict': optimizer.state_dict(),\n",
    "            }, f\"{checkpoints_path}/{str(model)}-{epoch}.pt\")\n",
    "    \n",
    "    # delete checkpoint of previous epoch\n",
    "    if epoch>1:\n",
    "        os.remove(f\"{checkpoints_path}/{str(model)}-{epoch-1}.pt\")\n",
    "    \n",
    "    print(\"Evaluating...\")\n",
    "    train_perf_roauc = evaluate(model,device,train_dataloader)\n",
    "    valid_perf_roauc = evaluate(model,device,valid_dataloader)\n",
    "    test_perf_roauc = evaluate(model,device,test_dataloader) \n",
    "    print('ROAUC scores: ',{'Train': train_perf_roauc, 'Validation': valid_perf_roauc})\n",
    "\n",
    "print('\\nFinished training!')\n",
    "print('\\nROAUC Test score: {}'.format(evaluate(model,device,test_dataloader)))"
   ]
  },
  {
   "cell_type": "code",
   "execution_count": 16,
   "id": "3737f4d4",
   "metadata": {},
   "outputs": [
    {
     "name": "stderr",
     "output_type": "stream",
     "text": [
      "100%|██████████| 9069/9069 [02:41<00:00, 55.98it/s]"
     ]
    },
    {
     "name": "stdout",
     "output_type": "stream",
     "text": [
      "\n",
      "ROAUC Total score: 0.7898094058036804\n"
     ]
    },
    {
     "name": "stderr",
     "output_type": "stream",
     "text": [
      "\n"
     ]
    }
   ],
   "source": [
    "tot_dataloader = DataLoader(QuarkGluonDataset(split_inx=list(range(labels.shape[0])),\n",
    "                                                            transform = preprocess))\n",
    "print('\\nROAUC Total score: {}'.format(evaluate(model,device,tot_dataloader,isTqdm=True)))"
   ]
  }
 ],
 "metadata": {
  "kernelspec": {
   "display_name": "Python 3 (ipykernel)",
   "language": "python",
   "name": "python3"
  },
  "language_info": {
   "codemirror_mode": {
    "name": "ipython",
    "version": 3
   },
   "file_extension": ".py",
   "mimetype": "text/x-python",
   "name": "python",
   "nbconvert_exporter": "python",
   "pygments_lexer": "ipython3",
   "version": "3.8.16"
  }
 },
 "nbformat": 4,
 "nbformat_minor": 5
}
