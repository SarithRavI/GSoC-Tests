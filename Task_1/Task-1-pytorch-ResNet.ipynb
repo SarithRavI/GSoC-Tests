{
 "cells": [
  {
   "cell_type": "code",
   "execution_count": 1,
   "id": "29d9bc3f",
   "metadata": {},
   "outputs": [],
   "source": [
    "# !pip install torchmetrics"
   ]
  },
  {
   "cell_type": "code",
   "execution_count": 2,
   "id": "ec24f6b4",
   "metadata": {},
   "outputs": [
    {
     "name": "stderr",
     "output_type": "stream",
     "text": [
      "C:\\Users\\MSI\\anaconda3\\envs\\pyg-notebook\\lib\\site-packages\\tqdm\\auto.py:22: TqdmWarning: IProgress not found. Please update jupyter and ipywidgets. See https://ipywidgets.readthedocs.io/en/stable/user_install.html\n",
      "  from .autonotebook import tqdm as notebook_tqdm\n"
     ]
    }
   ],
   "source": [
    "import torch \n",
    "import numpy as np\n",
    "import pandas as pd\n",
    "from tqdm import tqdm\n",
    "import os\n",
    "import h5py\n",
    "import math\n",
    "import torch.nn as nn\n",
    "import torch.nn.functional as F\n",
    "from torch.nn import init\n",
    "from torch.utils.data import Dataset, random_split, DataLoader\n",
    "from torchvision import transforms\n",
    "import torch.optim as optim\n",
    "from torchmetrics.classification import MulticlassAUROC, MulticlassAccuracy"
   ]
  },
  {
   "cell_type": "code",
   "execution_count": 3,
   "id": "27c018fe",
   "metadata": {},
   "outputs": [
    {
     "data": {
      "text/plain": [
       "0"
      ]
     },
     "execution_count": 3,
     "metadata": {},
     "output_type": "execute_result"
    }
   ],
   "source": [
    "# clearing cuda cache memory\n",
    "import gc\n",
    "torch.cuda.empty_cache()\n",
    "gc.collect()"
   ]
  },
  {
   "cell_type": "code",
   "execution_count": 4,
   "id": "1a8deab1",
   "metadata": {},
   "outputs": [
    {
     "data": {
      "text/plain": [
       "['SingleElectronPt50_IMGCROPS_n249k_RHv1.hdf5',\n",
       " 'SinglePhotonPt50_IMGCROPS_n249k_RHv1.hdf5']"
      ]
     },
     "execution_count": 4,
     "metadata": {},
     "output_type": "execute_result"
    }
   ],
   "source": [
    "os.listdir(\"../dataset\")"
   ]
  },
  {
   "cell_type": "code",
   "execution_count": 5,
   "id": "736e0247",
   "metadata": {},
   "outputs": [],
   "source": [
    "# import dataset\n",
    "electron_dataset = h5py.File(\"../dataset/SingleElectronPt50_IMGCROPS_n249k_RHv1.hdf5\",\"r\")\n",
    "electron_imgs=np.array(electron_dataset[\"X\"])\n",
    "electron_labels=np.array(electron_dataset[\"y\"],dtype=np.int64)\n",
    "\n",
    "photon_dataset = h5py.File(\"../dataset/SinglePhotonPt50_IMGCROPS_n249k_RHv1.hdf5\",\"r\")\n",
    "photon_imgs=np.array(photon_dataset[\"X\"])\n",
    "photon_labels=np.array(photon_dataset[\"y\"],dtype=np.int64)"
   ]
  },
  {
   "cell_type": "code",
   "execution_count": 6,
   "id": "c4558c1f",
   "metadata": {},
   "outputs": [],
   "source": [
    "# GoogLeNet\n",
    "# Xception\n",
    "# SENet"
   ]
  },
  {
   "cell_type": "code",
   "execution_count": 7,
   "id": "38ee333e",
   "metadata": {},
   "outputs": [],
   "source": [
    "img_arrs = torch.Tensor(np.vstack((photon_imgs,electron_imgs)))\n",
    "labels = torch.Tensor(np.hstack((photon_labels,electron_labels))).to(torch.int64)"
   ]
  },
  {
   "cell_type": "code",
   "execution_count": 8,
   "id": "4a7854ad",
   "metadata": {},
   "outputs": [],
   "source": [
    "class SingleElectronPhotonDataset(Dataset):\n",
    "    def __init__(self,split_inx, transform=None,target_transform= None):\n",
    "        self.img_arrs_split = img_arrs[split_inx]\n",
    "        self.labels_split = labels[split_inx]\n",
    "        self.transform = transform\n",
    "        self.target_transform = target_transform\n",
    "    def __len__(self):\n",
    "        return self.labels_split.shape[0]\n",
    "    def __getitem__(self,idx):\n",
    "        image=self.img_arrs_split[idx,:,:,:]\n",
    "        # changing the dim of image to channels, height, width by transposing the\n",
    "        # original image tensor.\n",
    "        image = image.permute(2,1,0)\n",
    "        label = self.labels_split[idx]\n",
    "        if self.transform:\n",
    "            image = self.transform(image)\n",
    "        if self.target_transform:\n",
    "            label = self.target_transform(label)\n",
    "        return image,label"
   ]
  },
  {
   "cell_type": "code",
   "execution_count": 9,
   "id": "a1cdf98d",
   "metadata": {},
   "outputs": [],
   "source": [
    "class ResidualUnit(nn.Module):\n",
    "    def __init__(self,in_channels, out_channels, **kwargs):\n",
    "        \"\"\" Constructor\n",
    "        Args:\n",
    "            isSkipLearnable: learnalbe weights are associated with skip connection.\n",
    "        \"\"\"\n",
    "        super().__init__(**kwargs)\n",
    "        strides = 1\n",
    "        if in_channels == out_channels:\n",
    "            strides = 1\n",
    "            pad = \"same\"\n",
    "        else:\n",
    "            strides = 2\n",
    "            pad = 1\n",
    "        self.relu = nn.ReLU(inplace=True)\n",
    "        self.main_layers = nn.ModuleList([\n",
    "            nn.Conv2d(in_channels,out_channels,3,strides,padding=pad,bias=False),\n",
    "            nn.BatchNorm2d(out_channels),\n",
    "            self.relu,\n",
    "            nn.Conv2d(out_channels,out_channels,3,stride=1,padding=\"same\",bias=False),\n",
    "            nn.BatchNorm2d(out_channels)\n",
    "        ])\n",
    "        \n",
    "        self.skip_layers =[]\n",
    "        if strides > 1 :\n",
    "            self.skip_layers = nn.ModuleList([\n",
    "                nn.Conv2d(in_channels,out_channels,1,strides,padding=0,bias=False),\n",
    "                nn.BatchNorm2d(out_channels)\n",
    "            ])\n",
    "    def forward(self,x):\n",
    "        Z = x \n",
    "        for layer in self.main_layers:\n",
    "            Z = layer(Z)\n",
    "        skip_z = x\n",
    "        for layer in self.skip_layers:\n",
    "            skip_z= layer(skip_z)\n",
    "        return self.relu(Z + skip_z)  \n",
    "\n",
    "class ResNet18(nn.Module):\n",
    "    def __init__(self,num_classes):\n",
    "        super(ResNet18, self).__init__()\n",
    "\n",
    "        self.num_classes = num_classes\n",
    "        self.relu = nn.ReLU(inplace=True)\n",
    "        \n",
    "        self.conv1 = nn.Conv2d(2,64,3,stride=2,padding=3,bias=False)\n",
    "        self.bn1= nn.BatchNorm2d(64)\n",
    "        self.max_pool = nn.MaxPool2d(1,1) \n",
    "        prev_filters = 64\n",
    "        self.res_unit_list = nn.ModuleList([ResidualUnit(prev_filters,prev_filters)])\n",
    "        for filters in [64]*1+[128]*2 + [256]*2 +[512]*2:\n",
    "            self.res_unit_list.append(ResidualUnit(prev_filters,filters))\n",
    "            prev_filters = filters \n",
    "#         self.fc = nn.LazyLinear(num_classes)\n",
    "        self.fc = nn.Linear(512, num_classes)\n",
    "        \n",
    "    def forward(self,x):\n",
    "        x = self.conv1(x)\n",
    "        x = self.bn1(x)\n",
    "        x = self.relu(x)\n",
    "        x = self.max_pool(x)\n",
    "        for res_unit in self.res_unit_list:\n",
    "            x = res_unit(x)\n",
    "        x = F.adaptive_avg_pool2d(x, (1, 1))\n",
    "        x = x.view(x.size(0), -1)\n",
    "        x = self.fc(x)\n",
    "        return F.softmax(x,dim=1)\n",
    "    \n",
    "    def __str__(self):\n",
    "        return \"ResNet18\"\n",
    "    \n",
    "    \n",
    "class ResNet34(nn.Module):\n",
    "    def __init__(self,num_classes):\n",
    "        super(ResNet34, self).__init__()\n",
    "\n",
    "        self.num_classes = num_classes\n",
    "        self.relu = nn.ReLU(inplace=True)\n",
    "        \n",
    "        self.conv1 = nn.Conv2d(2,64,7,stride=2,padding=3,bias=False)\n",
    "        self.bn1= nn.BatchNorm2d(64)\n",
    "        self.max_pool = nn.MaxPool2d(1,1) \n",
    "        prev_filters = 64\n",
    "        self.res_unit_list = nn.ModuleList([ResidualUnit(prev_filters,prev_filters)])\n",
    "        for filters in [64]*2+[128]*4 + [256]*6 +[512]*3:\n",
    "            self.res_unit_list.append(ResidualUnit(prev_filters,filters))\n",
    "            prev_filters = filters \n",
    "#         self.fc = nn.LazyLinear(num_classes)\n",
    "        self.fc = nn.Linear(512, num_classes)\n",
    "        \n",
    "    def forward(self,x):\n",
    "        x = self.conv1(x)\n",
    "        x = self.bn1(x)\n",
    "        x = self.relu(x)\n",
    "        x = self.max_pool(x)\n",
    "        for res_unit in self.res_unit_list:\n",
    "            x = res_unit(x)\n",
    "        x = F.adaptive_avg_pool2d(x, (1, 1))\n",
    "        x = x.view(x.size(0), -1)\n",
    "        x = self.fc(x)\n",
    "        return F.softmax(x,dim=1)\n",
    "    \n",
    "    def __str__(self):\n",
    "        return \"ResNet34\""
   ]
  },
  {
   "cell_type": "code",
   "execution_count": 10,
   "id": "99298068",
   "metadata": {},
   "outputs": [],
   "source": [
    "device = torch.device(\"cuda:0\" if torch.cuda.is_available() else torch.device(\"cpu\"))"
   ]
  },
  {
   "cell_type": "code",
   "execution_count": 11,
   "id": "32f58392",
   "metadata": {},
   "outputs": [],
   "source": [
    "model = ResNet18(num_classes=2).to(device)\n",
    "optimizer = optim.Adam(model.parameters(), lr=1e-3)\n",
    "multicls_criterion = torch.nn.CrossEntropyLoss()\n",
    "\n",
    "epochs = 20"
   ]
  },
  {
   "cell_type": "code",
   "execution_count": 12,
   "id": "6ea2fd64",
   "metadata": {},
   "outputs": [],
   "source": [
    "preprocess = transforms.Compose([\n",
    "#     transforms.Resize(224),\n",
    "    transforms.Resize(32), # multiply of 16\n",
    "    transforms.Normalize(mean=[0.5, 0.5], std=[0.5, 0.5]),\n",
    "])\n",
    "\n",
    "train_inx, valid_inx, test_inx = random_split(range(labels.shape[0]),[0.7,0.2,0.1],generator=torch.Generator()\n",
    "                                            .manual_seed(42))\n",
    "\n",
    "train_data = SingleElectronPhotonDataset(split_inx=train_inx,transform = preprocess)\n",
    "valid_data = SingleElectronPhotonDataset(split_inx=valid_inx,transform = preprocess)\n",
    "test_data = SingleElectronPhotonDataset(split_inx=test_inx,transform = preprocess)\n",
    "# dataset = SingleElectronPhotonDataset()\n",
    "\n",
    "train_dataloader = DataLoader(train_data,batch_size = 64, shuffle = True)\n",
    "valid_dataloader = DataLoader(valid_data,batch_size = 64, shuffle = True)\n",
    "test_dataloader = DataLoader(test_data,batch_size = 64, shuffle = True)"
   ]
  },
  {
   "cell_type": "code",
   "execution_count": 13,
   "id": "b69e7c8d",
   "metadata": {},
   "outputs": [],
   "source": [
    "def train(model, device, loader, optimizer):\n",
    "    model.train()\n",
    "\n",
    "    loss_accum = 0\n",
    "    for step, batch in enumerate(tqdm(loader, desc=\"Iteration\")):\n",
    "        inputs, labels = batch\n",
    "        inputs = inputs.to(device)\n",
    "        labels = labels.to(device)\n",
    "        output = model(inputs)\n",
    "        loss= 0 \n",
    "        optimizer.zero_grad()\n",
    "        loss += multicls_criterion(output, labels)\n",
    "        loss.backward()\n",
    "        optimizer.step()\n",
    "\n",
    "        loss_accum += loss.item()\n",
    "\n",
    "    print('Average training loss: {}'.format(loss_accum / (step + 1))) "
   ]
  },
  {
   "cell_type": "code",
   "execution_count": 14,
   "id": "a0440fa7",
   "metadata": {},
   "outputs": [],
   "source": [
    "def evaluate(model, device, loader,evaluator= \"roauc\"):\n",
    "    model.eval()\n",
    "    \n",
    "    preds_list = []\n",
    "    target_list = []\n",
    "    for step, batch in enumerate(loader):\n",
    "        inputs, labels = batch\n",
    "        inputs = inputs.to(device)\n",
    "        labels = labels.to(device)\n",
    "        with torch.no_grad():\n",
    "            output = model(inputs)\n",
    "            preds_list.extend(output.tolist())\n",
    "        target_list += batch[1].tolist()\n",
    "    if evaluator == \"roauc\":   \n",
    "        metric = MulticlassAUROC(num_classes=2, average=\"macro\", thresholds=None)\n",
    "    if evaluator == \"acc\":\n",
    "        metric = MulticlassAccuracy(num_classes=2, average=\"macro\")\n",
    "    # print(\"AUC-ROC metric score : \",metric(torch.Tensor(preds_list),torch.Tensor(target_list)).item())\n",
    "    return metric(torch.Tensor(preds_list),torch.Tensor(target_list).to(torch.int64)).item()"
   ]
  },
  {
   "cell_type": "code",
   "execution_count": 15,
   "id": "e6bcb272",
   "metadata": {},
   "outputs": [],
   "source": [
    "checkpoints_path = \"../models\"\n",
    "checkpoints = os.listdir(checkpoints_path)\n",
    "checkpoint_path = list(filter(lambda i : str(model) in i, checkpoints))"
   ]
  },
  {
   "cell_type": "code",
   "execution_count": 16,
   "id": "5755b09d",
   "metadata": {
    "scrolled": false
   },
   "outputs": [
    {
     "name": "stdout",
     "output_type": "stream",
     "text": [
      "=====Epoch 3\n",
      "Training...\n"
     ]
    },
    {
     "name": "stderr",
     "output_type": "stream",
     "text": [
      "Iteration: 100%|██████████| 5447/5447 [05:22<00:00, 16.87it/s]\n"
     ]
    },
    {
     "name": "stdout",
     "output_type": "stream",
     "text": [
      "Average training loss: 0.5891124870890059\n",
      "Evaluating...\n",
      "ROAUC scores:  {'Train': 0.6952402591705322, 'Validation': 0.6961061954498291, 'Test': 0.6968065500259399} \n",
      "Accuracy scores:  {'Train': 0.515848696231842, 'Validation': 0.5164598822593689, 'Test': 0.5161611437797546}\n",
      "=====Epoch 4\n",
      "Training...\n"
     ]
    },
    {
     "name": "stderr",
     "output_type": "stream",
     "text": [
      "Iteration: 100%|██████████| 5447/5447 [05:36<00:00, 16.20it/s]\n"
     ]
    },
    {
     "name": "stdout",
     "output_type": "stream",
     "text": [
      "Average training loss: 0.5833955890151455\n",
      "Evaluating...\n",
      "ROAUC scores:  {'Train': 0.5817879438400269, 'Validation': 0.5790382623672485, 'Test': 0.5763914585113525} \n",
      "Accuracy scores:  {'Train': 0.5199189782142639, 'Validation': 0.5207341313362122, 'Test': 0.5201530456542969}\n",
      "=====Epoch 5\n",
      "Training...\n"
     ]
    },
    {
     "name": "stderr",
     "output_type": "stream",
     "text": [
      "Iteration: 100%|██████████| 5447/5447 [05:27<00:00, 16.65it/s]\n"
     ]
    },
    {
     "name": "stdout",
     "output_type": "stream",
     "text": [
      "Average training loss: 0.5788430177675205\n",
      "Evaluating...\n",
      "ROAUC scores:  {'Train': 0.45132356882095337, 'Validation': 0.45053091645240784, 'Test': 0.44606348872184753} \n",
      "Accuracy scores:  {'Train': 0.5154888033866882, 'Validation': 0.5158680081367493, 'Test': 0.5160356760025024}\n",
      "=====Epoch 6\n",
      "Training...\n"
     ]
    },
    {
     "name": "stderr",
     "output_type": "stream",
     "text": [
      "Iteration: 100%|██████████| 5447/5447 [05:26<00:00, 16.68it/s]\n"
     ]
    },
    {
     "name": "stdout",
     "output_type": "stream",
     "text": [
      "Average training loss: 0.5756558832147044\n",
      "Evaluating...\n",
      "ROAUC scores:  {'Train': 0.7816985845565796, 'Validation': 0.7787708044052124, 'Test': 0.7801327705383301} \n",
      "Accuracy scores:  {'Train': 0.72030109167099, 'Validation': 0.716518759727478, 'Test': 0.7181563377380371}\n",
      "=====Epoch 7\n",
      "Training...\n"
     ]
    },
    {
     "name": "stderr",
     "output_type": "stream",
     "text": [
      "Iteration: 100%|██████████| 5447/5447 [05:29<00:00, 16.56it/s]\n"
     ]
    },
    {
     "name": "stdout",
     "output_type": "stream",
     "text": [
      "Average training loss: 0.5732525385244628\n",
      "Evaluating...\n",
      "ROAUC scores:  {'Train': 0.7827376127243042, 'Validation': 0.7809115648269653, 'Test': 0.7817345857620239} \n",
      "Accuracy scores:  {'Train': 0.7186840176582336, 'Validation': 0.717162013053894, 'Test': 0.718307614326477}\n",
      "=====Epoch 8\n",
      "Training...\n"
     ]
    },
    {
     "name": "stderr",
     "output_type": "stream",
     "text": [
      "Iteration: 100%|██████████| 5447/5447 [05:30<00:00, 16.50it/s]\n"
     ]
    },
    {
     "name": "stdout",
     "output_type": "stream",
     "text": [
      "Average training loss: 0.5713702193559671\n",
      "Evaluating...\n",
      "ROAUC scores:  {'Train': 0.769572913646698, 'Validation': 0.7648710012435913, 'Test': 0.7638487815856934} \n",
      "Accuracy scores:  {'Train': 0.6571156978607178, 'Validation': 0.6563001871109009, 'Test': 0.654026210308075}\n",
      "=====Epoch 9\n",
      "Training...\n"
     ]
    },
    {
     "name": "stderr",
     "output_type": "stream",
     "text": [
      "Iteration: 100%|██████████| 5447/5447 [05:28<00:00, 16.60it/s]\n"
     ]
    },
    {
     "name": "stdout",
     "output_type": "stream",
     "text": [
      "Average training loss: 0.5691806004258368\n",
      "Evaluating...\n",
      "ROAUC scores:  {'Train': 0.787178099155426, 'Validation': 0.7846541404724121, 'Test': 0.7845445275306702} \n",
      "Accuracy scores:  {'Train': 0.7262298464775085, 'Validation': 0.7234315872192383, 'Test': 0.7229331731796265}\n",
      "=====Epoch 10\n",
      "Training...\n"
     ]
    },
    {
     "name": "stderr",
     "output_type": "stream",
     "text": [
      "Iteration: 100%|██████████| 5447/5447 [05:30<00:00, 16.49it/s]\n"
     ]
    },
    {
     "name": "stdout",
     "output_type": "stream",
     "text": [
      "Average training loss: 0.5682199489901826\n",
      "Evaluating...\n",
      "ROAUC scores:  {'Train': 0.7734286189079285, 'Validation': 0.7712681293487549, 'Test': 0.7717280983924866} \n",
      "Accuracy scores:  {'Train': 0.7140264511108398, 'Validation': 0.7115604877471924, 'Test': 0.7126092314720154}\n",
      "=====Epoch 11\n",
      "Training...\n"
     ]
    },
    {
     "name": "stderr",
     "output_type": "stream",
     "text": [
      "Iteration: 100%|██████████| 5447/5447 [05:30<00:00, 16.48it/s]\n"
     ]
    },
    {
     "name": "stdout",
     "output_type": "stream",
     "text": [
      "Average training loss: 0.5667472504269471\n",
      "Evaluating...\n",
      "ROAUC scores:  {'Train': 0.7779282331466675, 'Validation': 0.7721612453460693, 'Test': 0.7705116868019104} \n",
      "Accuracy scores:  {'Train': 0.6911587715148926, 'Validation': 0.6878855228424072, 'Test': 0.6867059469223022}\n",
      "=====Epoch 12\n",
      "Training...\n"
     ]
    },
    {
     "name": "stderr",
     "output_type": "stream",
     "text": [
      "Iteration: 100%|██████████| 5447/5447 [05:31<00:00, 16.43it/s]\n"
     ]
    },
    {
     "name": "stdout",
     "output_type": "stream",
     "text": [
      "Average training loss: 0.5656084841285164\n",
      "Evaluating...\n",
      "ROAUC scores:  {'Train': 0.7940727472305298, 'Validation': 0.7908050417900085, 'Test': 0.7909234762191772} \n",
      "Accuracy scores:  {'Train': 0.7306987643241882, 'Validation': 0.7266595959663391, 'Test': 0.725690484046936}\n",
      "=====Epoch 13\n",
      "Training...\n"
     ]
    },
    {
     "name": "stderr",
     "output_type": "stream",
     "text": [
      "Iteration: 100%|██████████| 5447/5447 [05:29<00:00, 16.55it/s]\n"
     ]
    },
    {
     "name": "stdout",
     "output_type": "stream",
     "text": [
      "Average training loss: 0.5645784845708028\n",
      "Evaluating...\n",
      "ROAUC scores:  {'Train': 0.7992649078369141, 'Validation': 0.7935996055603027, 'Test': 0.7932800054550171} \n",
      "Accuracy scores:  {'Train': 0.7347122430801392, 'Validation': 0.7285760641098022, 'Test': 0.7269856929779053}\n",
      "=====Epoch 14\n",
      "Training...\n"
     ]
    },
    {
     "name": "stderr",
     "output_type": "stream",
     "text": [
      "Iteration: 100%|██████████| 5447/5447 [05:30<00:00, 16.50it/s]\n"
     ]
    },
    {
     "name": "stdout",
     "output_type": "stream",
     "text": [
      "Average training loss: 0.5636255293236493\n",
      "Evaluating...\n",
      "ROAUC scores:  {'Train': 0.6935126185417175, 'Validation': 0.6834774017333984, 'Test': 0.6842156648635864} \n",
      "Accuracy scores:  {'Train': 0.5668786764144897, 'Validation': 0.5633842945098877, 'Test': 0.562129020690918}\n",
      "=====Epoch 15\n",
      "Training...\n"
     ]
    },
    {
     "name": "stderr",
     "output_type": "stream",
     "text": [
      "Iteration: 100%|██████████| 5447/5447 [05:27<00:00, 16.65it/s]\n"
     ]
    },
    {
     "name": "stdout",
     "output_type": "stream",
     "text": [
      "Average training loss: 0.5627577040903236\n",
      "Evaluating...\n",
      "ROAUC scores:  {'Train': 0.800524115562439, 'Validation': 0.7935436964035034, 'Test': 0.793082594871521} \n",
      "Accuracy scores:  {'Train': 0.734512984752655, 'Validation': 0.7273541688919067, 'Test': 0.7265720367431641}\n",
      "=====Epoch 16\n",
      "Training...\n"
     ]
    },
    {
     "name": "stderr",
     "output_type": "stream",
     "text": [
      "Iteration: 100%|██████████| 5447/5447 [05:27<00:00, 16.62it/s]\n"
     ]
    },
    {
     "name": "stdout",
     "output_type": "stream",
     "text": [
      "Average training loss: 0.5615552340338202\n",
      "Evaluating...\n",
      "ROAUC scores:  {'Train': 0.7384127378463745, 'Validation': 0.72806316614151, 'Test': 0.7294089794158936} \n",
      "Accuracy scores:  {'Train': 0.6226247549057007, 'Validation': 0.6169329881668091, 'Test': 0.6170749068260193}\n",
      "=====Epoch 17\n",
      "Training...\n"
     ]
    },
    {
     "name": "stderr",
     "output_type": "stream",
     "text": [
      "Iteration: 100%|██████████| 5447/5447 [05:29<00:00, 16.55it/s]\n"
     ]
    },
    {
     "name": "stdout",
     "output_type": "stream",
     "text": [
      "Average training loss: 0.5611241156789651\n",
      "Evaluating...\n",
      "ROAUC scores:  {'Train': 0.8055920600891113, 'Validation': 0.7976040840148926, 'Test': 0.7973026633262634} \n",
      "Accuracy scores:  {'Train': 0.7411123514175415, 'Validation': 0.7320608496665955, 'Test': 0.7336180210113525}\n",
      "=====Epoch 18\n",
      "Training...\n"
     ]
    },
    {
     "name": "stderr",
     "output_type": "stream",
     "text": [
      "Iteration: 100%|██████████| 5447/5447 [05:26<00:00, 16.66it/s]\n"
     ]
    },
    {
     "name": "stdout",
     "output_type": "stream",
     "text": [
      "Average training loss: 0.5594348060837443\n",
      "Evaluating...\n",
      "ROAUC scores:  {'Train': 0.7960606813430786, 'Validation': 0.7886292934417725, 'Test': 0.7897617816925049} \n",
      "Accuracy scores:  {'Train': 0.7364866733551025, 'Validation': 0.7292419672012329, 'Test': 0.7307008504867554}\n",
      "=====Epoch 19\n",
      "Training...\n"
     ]
    },
    {
     "name": "stderr",
     "output_type": "stream",
     "text": [
      "Iteration: 100%|██████████| 5447/5447 [05:26<00:00, 16.66it/s]\n"
     ]
    },
    {
     "name": "stdout",
     "output_type": "stream",
     "text": [
      "Average training loss: 0.5590682475965615\n",
      "Evaluating...\n",
      "ROAUC scores:  {'Train': 0.7948096990585327, 'Validation': 0.7880959510803223, 'Test': 0.7884796857833862} \n",
      "Accuracy scores:  {'Train': 0.7308984994888306, 'Validation': 0.7238062620162964, 'Test': 0.7233740091323853}\n",
      "=====Epoch 20\n",
      "Training...\n"
     ]
    },
    {
     "name": "stderr",
     "output_type": "stream",
     "text": [
      "Iteration: 100%|██████████| 5447/5447 [05:27<00:00, 16.61it/s]\n"
     ]
    },
    {
     "name": "stdout",
     "output_type": "stream",
     "text": [
      "Average training loss: 0.5578431189169638\n",
      "Evaluating...\n",
      "ROAUC scores:  {'Train': 0.8067057132720947, 'Validation': 0.7964015007019043, 'Test': 0.7967956066131592} \n",
      "Accuracy scores:  {'Train': 0.7422732710838318, 'Validation': 0.7326356172561646, 'Test': 0.7332702875137329}\n",
      "\n",
      "Finished training!\n",
      "\n",
      "ROAUC Test score: 0.7967956066131592\n"
     ]
    }
   ],
   "source": [
    "train_curves = []\n",
    "valid_curves = []\n",
    "\n",
    "starting_epoch = 1\n",
    "if len(checkpoint_path)>0:\n",
    "    checkpoint = torch.load(f\"{checkpoints_path}/{checkpoint_path[0]}\")\n",
    "    model.load_state_dict(checkpoint['model_state_dict'])\n",
    "    optimizer.load_state_dict(checkpoint['optimizer_state_dict'])\n",
    "    starting_epoch = checkpoint['epoch']+1\n",
    "\n",
    "for epoch in range(starting_epoch, epochs + 1):\n",
    "    print(\"=====Epoch {}\".format(epoch))\n",
    "    print('Training...')\n",
    "    train(model, device, train_dataloader, optimizer)\n",
    "    \n",
    "    print(\"Evaluating...\")\n",
    "    train_perf_roauc = evaluate(model,device,train_dataloader)\n",
    "    valid_perf_roauc = evaluate(model,device,valid_dataloader)\n",
    "    test_perf_roauc = evaluate(model,device,test_dataloader)\n",
    "    train_perf_acc = evaluate(model,device,train_dataloader, evaluator = \"acc\")\n",
    "    valid_perf_acc = evaluate(model,device,valid_dataloader,evaluator = \"acc\")\n",
    "    test_perf_acc = evaluate(model,device,test_dataloader,evaluator = \"acc\")\n",
    "    \n",
    "    train_curves.append([train_perf_acc,train_perf_roauc])\n",
    "    valid_curves.append([valid_perf_acc,valid_perf_roauc])\n",
    "    \n",
    "    print('ROAUC scores: ',{'Train': train_perf_roauc, 'Validation': valid_perf_roauc, \"Test\": test_perf_roauc}, '\\nAccuracy scores: ',\n",
    "         {'Train': train_perf_acc, 'Validation': valid_perf_acc, \"Test\": test_perf_acc})\n",
    "    \n",
    "    # save checkpoint of current epoch\n",
    "    torch.save({\n",
    "            'epoch': epoch,\n",
    "            'model_state_dict': model.state_dict(),\n",
    "            'optimizer_state_dict': optimizer.state_dict(),\n",
    "            }, f\"{checkpoints_path}/{str(model)}-{epoch}.pt\")\n",
    "    \n",
    "    # delete checkpoint of previous epoch\n",
    "    if epoch>1:\n",
    "        os.remove(f\"{checkpoints_path}/{str(model)}-{epoch-1}.pt\")\n",
    "\n",
    "print('\\nFinished training!')\n",
    "print('\\nROAUC Test score: {}'.format(evaluate(model,device,test_dataloader)))"
   ]
  },
  {
   "cell_type": "code",
   "execution_count": null,
   "id": "4aa2bb8b",
   "metadata": {},
   "outputs": [],
   "source": []
  }
 ],
 "metadata": {
  "kernelspec": {
   "display_name": "pyg-notebook",
   "language": "python",
   "name": "python3"
  },
  "language_info": {
   "codemirror_mode": {
    "name": "ipython",
    "version": 3
   },
   "file_extension": ".py",
   "mimetype": "text/x-python",
   "name": "python",
   "nbconvert_exporter": "python",
   "pygments_lexer": "ipython3",
   "version": "3.8.16"
  },
  "vscode": {
   "interpreter": {
    "hash": "879e2f01d264c9ab4ea3a77361c771e18658cc3ef89c0c8c8a779bd36400b7bc"
   }
  }
 },
 "nbformat": 4,
 "nbformat_minor": 5
}
