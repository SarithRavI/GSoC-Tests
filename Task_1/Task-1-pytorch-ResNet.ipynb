{
 "cells": [
  {
   "cell_type": "code",
   "execution_count": null,
   "id": "29d9bc3f",
   "metadata": {},
   "outputs": [],
   "source": [
    "# !pip install torchmetrics"
   ]
  },
  {
   "cell_type": "code",
   "execution_count": null,
   "id": "ec24f6b4",
   "metadata": {},
   "outputs": [],
   "source": [
    "import torch \n",
    "import numpy as np\n",
    "import pandas as pd\n",
    "from tqdm import tqdm\n",
    "import os\n",
    "import h5py\n",
    "import math\n",
    "import torch.nn as nn\n",
    "import torch.nn.functional as F\n",
    "from torch.nn import init\n",
    "from torch.utils.data import Dataset, random_split, DataLoader\n",
    "from torchvision import transforms\n",
    "import torch.optim as optim\n",
    "from torchmetrics.classification import MulticlassAUROC, MulticlassAccuracy"
   ]
  },
  {
   "cell_type": "code",
   "execution_count": null,
   "id": "27c018fe",
   "metadata": {},
   "outputs": [],
   "source": [
    "# clearing cuda cache memory\n",
    "import gc\n",
    "torch.cuda.empty_cache()\n",
    "gc.collect()"
   ]
  },
  {
   "cell_type": "code",
   "execution_count": null,
   "id": "1a8deab1",
   "metadata": {},
   "outputs": [],
   "source": [
    "os.listdir(\"../dataset\")"
   ]
  },
  {
   "cell_type": "code",
   "execution_count": null,
   "id": "736e0247",
   "metadata": {},
   "outputs": [],
   "source": [
    "# import dataset\n",
    "electron_dataset = h5py.File(\"../dataset/SingleElectronPt50_IMGCROPS_n249k_RHv1.hdf5\",\"r\")\n",
    "electron_imgs=np.array(electron_dataset[\"X\"])\n",
    "electron_labels=np.array(electron_dataset[\"y\"],dtype=np.int64)\n",
    "\n",
    "photon_dataset = h5py.File(\"../dataset/SinglePhotonPt50_IMGCROPS_n249k_RHv1.hdf5\",\"r\")\n",
    "photon_imgs=np.array(photon_dataset[\"X\"])\n",
    "photon_labels=np.array(photon_dataset[\"y\"],dtype=np.int64)"
   ]
  },
  {
   "cell_type": "code",
   "execution_count": null,
   "id": "c4558c1f",
   "metadata": {},
   "outputs": [],
   "source": [
    "# GoogLeNet\n",
    "# Xception\n",
    "# SENet"
   ]
  },
  {
   "cell_type": "code",
   "execution_count": null,
   "id": "38ee333e",
   "metadata": {},
   "outputs": [],
   "source": [
    "img_arrs = torch.Tensor(np.vstack((photon_imgs,electron_imgs)))\n",
    "labels = torch.Tensor(np.hstack((photon_labels,electron_labels))).to(torch.int64)"
   ]
  },
  {
   "cell_type": "code",
   "execution_count": null,
   "id": "4a7854ad",
   "metadata": {},
   "outputs": [],
   "source": [
    "class SingleElectronPhotonDataset(Dataset):\n",
    "    def __init__(self,split_inx, transform=None,target_transform= None):\n",
    "        self.img_arrs_split = img_arrs[split_inx]\n",
    "        self.labels_split = labels[split_inx]\n",
    "        self.transform = transform\n",
    "        self.target_transform = target_transform\n",
    "    def __len__(self):\n",
    "        return self.labels_split.shape[0]\n",
    "    def __getitem__(self,idx):\n",
    "        image=self.img_arrs_split[idx,:,:,:]\n",
    "        # changing the dim of image to channels, height, width by transposing the\n",
    "        # original image tensor.\n",
    "        image = image.permute(2,1,0)\n",
    "        label = self.labels_split[idx]\n",
    "        if self.transform:\n",
    "            image = self.transform(image)\n",
    "        if self.target_transform:\n",
    "            label = self.target_transform(label)\n",
    "        return image,label"
   ]
  },
  {
   "cell_type": "code",
   "execution_count": null,
   "id": "999a4a67",
   "metadata": {},
   "outputs": [],
   "source": [
    "class ResidualUnit(nn.Module):\n",
    "    def __init__(self,in_channels, out_channels, **kwargs):\n",
    "        super().__init__(**kwargs)\n",
    "        strides = 1\n",
    "        if in_channels == out_channels:\n",
    "            strides = 1\n",
    "            pad = \"same\"\n",
    "        else:\n",
    "            strides = 2\n",
    "            pad = 1\n",
    "        self.relu = nn.ReLU(inplace=True)\n",
    "        self.main_layers = nn.ModuleList([\n",
    "            nn.Conv2d(in_channels,out_channels,3,strides,padding=pad,bias=False),\n",
    "            nn.BatchNorm2d(out_channels),\n",
    "            self.relu,\n",
    "            nn.Conv2d(out_channels,out_channels,3,stride=1,padding=\"same\",bias=False),\n",
    "            nn.BatchNorm2d(out_channels)\n",
    "        ])\n",
    "        \n",
    "        self.skip_layers =[]\n",
    "        if strides > 1 :\n",
    "            self.skip_layers = nn.ModuleList([\n",
    "                nn.Conv2d(in_channels,out_channels,1,strides,padding=0,bias=False),\n",
    "                nn.BatchNorm2d(out_channels)\n",
    "            ])\n",
    "    def forward(self,x):\n",
    "        Z = x \n",
    "        for layer in self.main_layers:\n",
    "            Z = layer(Z)\n",
    "        skip_z = x\n",
    "        for layer in self.skip_layers:\n",
    "            skip_z= layer(skip_z)\n",
    "        return self.relu(Z + skip_z)  \n",
    "    \n",
    "    \n",
    "class ResNet34(nn.Module):\n",
    "    def __init__(self,num_classes):\n",
    "        super(ResNet34, self).__init__()\n",
    "\n",
    "        self.num_classes = num_classes\n",
    "        self.relu = nn.ReLU(inplace=True)\n",
    "        \n",
    "        self.conv1 = nn.Conv2d(2,64,7,stride=2,padding=3,bias=False)\n",
    "        self.bn1= nn.BatchNorm2d(64)\n",
    "        self.max_pool = nn.AdaptiveMaxPool2d((112,112)) # same padding\n",
    "        prev_filters = 64\n",
    "        self.res_unit_list = nn.ModuleList([ResidualUnit(prev_filters,prev_filters)])\n",
    "        for filters in [64]*2+[128]*4 + [256]*6 +[512]*3:\n",
    "            self.res_unit_list.append(ResidualUnit(prev_filters,filters))\n",
    "            prev_filters = filters \n",
    "#         self.fc = nn.LazyLinear(num_classes)\n",
    "        self.fc = nn.Linear(512, num_classes)\n",
    "        \n",
    "    def forward(self,x):\n",
    "        x = self.conv1(x)\n",
    "        x = self.bn1(x)\n",
    "        x = self.relu(x)\n",
    "        x = self.max_pool(x)\n",
    "        for res_unit in self.res_unit_list:\n",
    "            x = res_unit(x)\n",
    "        x = F.adaptive_avg_pool2d(x, (1, 1))\n",
    "        x = x.view(x.size(0), -1)\n",
    "        x = self.fc(x)\n",
    "        return F.softmax(x,dim=1)"
   ]
  },
  {
   "cell_type": "code",
   "execution_count": null,
   "id": "99298068",
   "metadata": {},
   "outputs": [],
   "source": [
    "device = torch.device(\"cuda:0\" if torch.cuda.is_available() else torch.device(\"cpu\"))\n",
    "multicls_criterion = torch.nn.CrossEntropyLoss()"
   ]
  },
  {
   "cell_type": "code",
   "execution_count": null,
   "id": "32f58392",
   "metadata": {},
   "outputs": [],
   "source": [
    "model = ResNet34(num_classes=2).to(device)\n",
    "optimizer = optim.Adam(model.parameters(), lr=1e-2)\n",
    "\n",
    "epochs = 2"
   ]
  },
  {
   "cell_type": "code",
   "execution_count": null,
   "id": "6ea2fd64",
   "metadata": {},
   "outputs": [],
   "source": [
    "preprocess = transforms.Compose([\n",
    "    transforms.Resize(224),\n",
    "    transforms.Normalize(mean=[0.5, 0.5], std=[0.5, 0.5]),\n",
    "])\n",
    "\n",
    "train_inx, valid_inx, test_inx = random_split(range(labels.shape[0]),[0.7,0.2,0.1],generator=torch.Generator()\n",
    "                                            .manual_seed(42))\n",
    "\n",
    "train_data = SingleElectronPhotonDataset(split_inx=train_inx,transform = preprocess)\n",
    "valid_data = SingleElectronPhotonDataset(split_inx=valid_inx,transform = preprocess)\n",
    "test_data = SingleElectronPhotonDataset(split_inx=test_inx,transform = preprocess)\n",
    "# dataset = SingleElectronPhotonDataset()\n",
    "\n",
    "train_dataloader = DataLoader(train_data,batch_size = 8, shuffle = True)\n",
    "valid_dataloader = DataLoader(valid_data,batch_size = 8, shuffle = True)\n",
    "test_dataloader = DataLoader(test_data,batch_size = 8, shuffle = True)"
   ]
  },
  {
   "cell_type": "code",
   "execution_count": null,
   "id": "b69e7c8d",
   "metadata": {},
   "outputs": [],
   "source": [
    "def train(model, device, loader, optimizer):\n",
    "    model.train()\n",
    "\n",
    "    loss_accum = 0\n",
    "    for step, batch in enumerate(tqdm(loader, desc=\"Iteration\")):\n",
    "        inputs, labels = batch\n",
    "        inputs = inputs.to(device)\n",
    "        labels = labels.to(device)\n",
    "        output = model(inputs)\n",
    "        loss= 0 \n",
    "        optimizer.zero_grad()\n",
    "        loss += multicls_criterion(output, labels)\n",
    "        loss.backward()\n",
    "        optimizer.step()\n",
    "\n",
    "        loss_accum += loss.item()\n",
    "\n",
    "    print('Average training loss: {}'.format(loss_accum / (step + 1)))"
   ]
  },
  {
   "cell_type": "code",
   "execution_count": null,
   "id": "a0440fa7",
   "metadata": {},
   "outputs": [],
   "source": [
    "def evaluate(model, device, loader,evaluator= \"roauc\"):\n",
    "    model.eval()\n",
    "    \n",
    "    preds_list = []\n",
    "    target_list = []\n",
    "    for step, batch in enumerate(loader):\n",
    "        inputs, labels = batch\n",
    "        inputs = inputs.to(device)\n",
    "        labels = labels.to(device)\n",
    "        with torch.no_grad():\n",
    "            output = model(inputs)\n",
    "            preds_list.extend(output.tolist())\n",
    "        target_list += batch[1].tolist()\n",
    "    if evaluator == \"roauc\":   \n",
    "        metric = MulticlassAUROC(num_classes=2, average=\"macro\", thresholds=None)\n",
    "    if evaluator == \"acc\":\n",
    "        metric = MulticlassAccuracy(num_classes=2, average=\"macro\")\n",
    "    # print(\"AUC-ROC metric score : \",metric(torch.Tensor(preds_list),torch.Tensor(target_list)).item())\n",
    "    return metric(torch.Tensor(preds_list),torch.Tensor(target_list).to(torch.int64)).item()"
   ]
  },
  {
   "cell_type": "code",
   "execution_count": null,
   "id": "5755b09d",
   "metadata": {
    "scrolled": true
   },
   "outputs": [],
   "source": [
    "train_curves = []\n",
    "valid_curves = []\n",
    "\n",
    "for epoch in range(1, epochs + 1):\n",
    "    print(\"=====Epoch {}\".format(epoch))\n",
    "    print('Training...')\n",
    "    train(model, device, train_dataloader, optimizer)\n",
    "    \n",
    "    print(\"Evaluating...\")\n",
    "    train_perf_roauc = evaluate(model,device,train_dataloader)\n",
    "    valid_perf_roauc = evaluate(model,device,valid_dataloader)\n",
    "    train_perf_acc = evaluate(model,device,train_dataloader, evaluator = \"acc\")\n",
    "    valid_perf_acc = evaluate(model,device,valid_dataloader,evaluator = \"acc\")\n",
    "    train_curves.append([train_perf_acc,train_perf_roauc])\n",
    "    valid_curves.append([valid_perf_acc,valid_perf_roauc])\n",
    "    \n",
    "    print('ROAUC scores: ',{'Train': train_perf_roauc, 'Validation': valid_perf_roauc}, '\\nAccuracy scores: ',\n",
    "         {'Train': train_perf_acc, 'Validation': valid_perf_acc})\n",
    "\n",
    "print('\\nFinished training!')\n",
    "print('\\nROAUC Test score: {}'.format(evaluate(model,device,test_dataloader)))"
   ]
  }
 ],
 "metadata": {
  "kernelspec": {
   "display_name": "Python 3 (ipykernel)",
   "language": "python",
   "name": "python3"
  },
  "language_info": {
   "codemirror_mode": {
    "name": "ipython",
    "version": 3
   },
   "file_extension": ".py",
   "mimetype": "text/x-python",
   "name": "python",
   "nbconvert_exporter": "python",
   "pygments_lexer": "ipython3",
   "version": "3.8.16"
  }
 },
 "nbformat": 4,
 "nbformat_minor": 5
}
