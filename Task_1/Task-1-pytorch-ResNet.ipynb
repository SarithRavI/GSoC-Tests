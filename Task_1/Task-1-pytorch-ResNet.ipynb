{
 "cells": [
  {
   "cell_type": "code",
   "execution_count": 1,
   "id": "29d9bc3f",
   "metadata": {},
   "outputs": [],
   "source": [
    "# !pip install torchmetrics"
   ]
  },
  {
   "cell_type": "code",
   "execution_count": 2,
   "id": "ec24f6b4",
   "metadata": {},
   "outputs": [],
   "source": [
    "import torch \n",
    "import numpy as np\n",
    "import pandas as pd\n",
    "from tqdm import tqdm\n",
    "import os\n",
    "import h5py\n",
    "import math\n",
    "import torch.nn as nn\n",
    "import torch.nn.functional as F\n",
    "from torch.nn import init\n",
    "from torch.utils.data import Dataset, random_split, DataLoader\n",
    "from torchvision import transforms\n",
    "import torch.optim as optim\n",
    "from torchmetrics.classification import MulticlassAUROC, MulticlassAccuracy"
   ]
  },
  {
   "cell_type": "code",
   "execution_count": 3,
   "id": "27c018fe",
   "metadata": {},
   "outputs": [
    {
     "data": {
      "text/plain": [
       "0"
      ]
     },
     "execution_count": 3,
     "metadata": {},
     "output_type": "execute_result"
    }
   ],
   "source": [
    "# clearing cuda cache memory\n",
    "import gc\n",
    "torch.cuda.empty_cache()\n",
    "gc.collect()"
   ]
  },
  {
   "cell_type": "code",
   "execution_count": 4,
   "id": "1a8deab1",
   "metadata": {},
   "outputs": [
    {
     "data": {
      "text/plain": [
       "['QCDToGGQQ_IMGjet_RH1all_jet0_run0_n36272',\n",
       " 'QCDToGGQQ_IMGjet_RH1all_jet0_run0_n36272.test.snappy.parquet',\n",
       " 'QCDToGGQQ_IMGjet_RH1all_jet0_run1_n47540',\n",
       " 'QCDToGGQQ_IMGjet_RH1all_jet0_run1_n47540.test.snappy.parquet',\n",
       " 'QCDToGGQQ_IMGjet_RH1all_jet0_run2_n55494',\n",
       " 'QCDToGGQQ_IMGjet_RH1all_jet0_run2_n55494.test.snappy.parquet',\n",
       " 'SingleElectronPt50_IMGCROPS_n249k_RHv1.hdf5',\n",
       " 'SinglePhotonPt50_IMGCROPS_n249k_RHv1.hdf5']"
      ]
     },
     "execution_count": 4,
     "metadata": {},
     "output_type": "execute_result"
    }
   ],
   "source": [
    "os.listdir(\"../dataset\")"
   ]
  },
  {
   "cell_type": "code",
   "execution_count": 5,
   "id": "736e0247",
   "metadata": {},
   "outputs": [],
   "source": [
    "# import dataset\n",
    "electron_dataset = h5py.File(\"../dataset/SingleElectronPt50_IMGCROPS_n249k_RHv1.hdf5\",\"r\")\n",
    "electron_imgs=np.array(electron_dataset[\"X\"])\n",
    "electron_labels=np.array(electron_dataset[\"y\"],dtype=np.int64)\n",
    "\n",
    "photon_dataset = h5py.File(\"../dataset/SinglePhotonPt50_IMGCROPS_n249k_RHv1.hdf5\",\"r\")\n",
    "photon_imgs=np.array(photon_dataset[\"X\"])\n",
    "photon_labels=np.array(photon_dataset[\"y\"],dtype=np.int64)"
   ]
  },
  {
   "cell_type": "code",
   "execution_count": 6,
   "id": "c4558c1f",
   "metadata": {},
   "outputs": [],
   "source": [
    "# GoogLeNet\n",
    "# Xception\n",
    "# SENet"
   ]
  },
  {
   "cell_type": "code",
   "execution_count": 7,
   "id": "38ee333e",
   "metadata": {},
   "outputs": [],
   "source": [
    "img_arrs = torch.Tensor(np.vstack((photon_imgs,electron_imgs)))\n",
    "labels = torch.Tensor(np.hstack((photon_labels,electron_labels))).to(torch.int64)"
   ]
  },
  {
   "cell_type": "code",
   "execution_count": 8,
   "id": "4a7854ad",
   "metadata": {},
   "outputs": [],
   "source": [
    "class SingleElectronPhotonDataset(Dataset):\n",
    "    def __init__(self,split_inx, transform=None,target_transform= None):\n",
    "        self.img_arrs_split = img_arrs[split_inx]\n",
    "        self.labels_split = labels[split_inx]\n",
    "        self.transform = transform\n",
    "        self.target_transform = target_transform\n",
    "    def __len__(self):\n",
    "        return self.labels_split.shape[0]\n",
    "    def __getitem__(self,idx):\n",
    "        image=self.img_arrs_split[idx,:,:,:]\n",
    "        # changing the dim of image to channels, height, width by transposing the\n",
    "        # original image tensor.\n",
    "        image = image.permute(2,1,0)\n",
    "        label = self.labels_split[idx]\n",
    "        if self.transform:\n",
    "            image = self.transform(image)\n",
    "        if self.target_transform:\n",
    "            label = self.target_transform(label)\n",
    "        return image,label"
   ]
  },
  {
   "cell_type": "code",
   "execution_count": 9,
   "id": "a1cdf98d",
   "metadata": {},
   "outputs": [],
   "source": [
    "class ResidualUnit(nn.Module):\n",
    "    def __init__(self,in_channels, out_channels, **kwargs):\n",
    "        \"\"\" Constructor\n",
    "        Args:\n",
    "            isSkipLearnable: learnalbe weights are associated with skip connection.\n",
    "        \"\"\"\n",
    "        super().__init__(**kwargs)\n",
    "        strides = 1\n",
    "        if in_channels == out_channels:\n",
    "            strides = 1\n",
    "            pad = \"same\"\n",
    "        else:\n",
    "            strides = 2\n",
    "            pad = 1\n",
    "        self.relu = nn.ReLU(inplace=True)\n",
    "        self.main_layers = nn.ModuleList([\n",
    "            nn.Conv2d(in_channels,out_channels,3,strides,padding=pad,bias=False),\n",
    "            nn.BatchNorm2d(out_channels),\n",
    "            self.relu,\n",
    "            nn.Conv2d(out_channels,out_channels,3,stride=1,padding=\"same\",bias=False),\n",
    "            nn.BatchNorm2d(out_channels)\n",
    "        ])\n",
    "        \n",
    "        self.skip_layers =[]\n",
    "        if strides > 1 :\n",
    "            self.skip_layers = nn.ModuleList([\n",
    "                nn.Conv2d(in_channels,out_channels,1,strides,padding=0,bias=False),\n",
    "                nn.BatchNorm2d(out_channels)\n",
    "            ])\n",
    "    def forward(self,x):\n",
    "        Z = x \n",
    "        for layer in self.main_layers:\n",
    "            Z = layer(Z)\n",
    "        skip_z = x\n",
    "        for layer in self.skip_layers:\n",
    "            skip_z= layer(skip_z)\n",
    "        return self.relu(Z + skip_z)  \n",
    "\n",
    "class ResNet18(nn.Module):\n",
    "    def __init__(self,num_classes):\n",
    "        super(ResNet18, self).__init__()\n",
    "\n",
    "        self.num_classes = num_classes\n",
    "        self.relu = nn.ReLU(inplace=True)\n",
    "        \n",
    "        self.conv1 = nn.Conv2d(2,64,3,stride=2,padding=3,bias=False)\n",
    "        self.bn1= nn.BatchNorm2d(64)\n",
    "        self.max_pool = nn.MaxPool2d(1,1) \n",
    "        prev_filters = 64\n",
    "        self.res_unit_list = nn.ModuleList([ResidualUnit(prev_filters,prev_filters)])\n",
    "        for filters in [64]*1+[128]*2 + [256]*2 +[512]*2:\n",
    "            self.res_unit_list.append(ResidualUnit(prev_filters,filters))\n",
    "            prev_filters = filters \n",
    "#         self.fc = nn.LazyLinear(num_classes)\n",
    "        self.fc = nn.Linear(512, num_classes)\n",
    "        \n",
    "    def forward(self,x):\n",
    "        x = self.conv1(x)\n",
    "        x = self.bn1(x)\n",
    "        x = self.relu(x)\n",
    "        x = self.max_pool(x)\n",
    "        for res_unit in self.res_unit_list:\n",
    "            x = res_unit(x)\n",
    "        x = F.adaptive_avg_pool2d(x, (1, 1))\n",
    "        x = x.view(x.size(0), -1)\n",
    "        x = self.fc(x)\n",
    "        return F.softmax(x,dim=1)\n",
    "    \n",
    "    def __str__(self):\n",
    "        return \"ResNet18\"\n",
    "    \n",
    "    \n",
    "class ResNet34(nn.Module):\n",
    "    def __init__(self,num_classes):\n",
    "        super(ResNet34, self).__init__()\n",
    "\n",
    "        self.num_classes = num_classes\n",
    "        self.relu = nn.ReLU(inplace=True)\n",
    "        \n",
    "        self.conv1 = nn.Conv2d(2,64,7,stride=2,padding=3,bias=False)\n",
    "        self.bn1= nn.BatchNorm2d(64)\n",
    "        self.max_pool = nn.MaxPool2d(1,1) \n",
    "        prev_filters = 64\n",
    "        self.res_unit_list = nn.ModuleList([ResidualUnit(prev_filters,prev_filters)])\n",
    "        for filters in [64]*2+[128]*4 + [256]*6 +[512]*3:\n",
    "            self.res_unit_list.append(ResidualUnit(prev_filters,filters))\n",
    "            prev_filters = filters \n",
    "#         self.fc = nn.LazyLinear(num_classes)\n",
    "        self.fc = nn.Linear(512, num_classes)\n",
    "        \n",
    "    def forward(self,x):\n",
    "        x = self.conv1(x)\n",
    "        x = self.bn1(x)\n",
    "        x = self.relu(x)\n",
    "        x = self.max_pool(x)\n",
    "        for res_unit in self.res_unit_list:\n",
    "            x = res_unit(x)\n",
    "        x = F.adaptive_avg_pool2d(x, (1, 1))\n",
    "        x = x.view(x.size(0), -1)\n",
    "        x = self.fc(x)\n",
    "        return F.softmax(x,dim=1)\n",
    "    \n",
    "    def __str__(self):\n",
    "        return \"ResNet34\""
   ]
  },
  {
   "cell_type": "code",
   "execution_count": 10,
   "id": "99298068",
   "metadata": {},
   "outputs": [],
   "source": [
    "device = torch.device(\"cuda:0\" if torch.cuda.is_available() else torch.device(\"cpu\"))"
   ]
  },
  {
   "cell_type": "code",
   "execution_count": 11,
   "id": "32f58392",
   "metadata": {},
   "outputs": [],
   "source": [
    "model = ResNet34(num_classes=2).to(device)\n",
    "optimizer = optim.Adam(model.parameters(), lr=1e-3)\n",
    "multicls_criterion = torch.nn.CrossEntropyLoss()\n",
    "\n",
    "epochs = 25"
   ]
  },
  {
   "cell_type": "code",
   "execution_count": 12,
   "id": "6ea2fd64",
   "metadata": {},
   "outputs": [],
   "source": [
    "preprocess = transforms.Compose([\n",
    "#     transforms.Resize(224),\n",
    "    transforms.Resize(32), # multiply of 16\n",
    "    transforms.Normalize(mean=[0.5, 0.5], std=[0.5, 0.5]),\n",
    "])\n",
    "\n",
    "train_inx, valid_inx, test_inx = random_split(range(labels.shape[0]),[0.7,0.2,0.1],generator=torch.Generator()\n",
    "                                            .manual_seed(42))\n",
    "\n",
    "train_data = SingleElectronPhotonDataset(split_inx=train_inx,transform = preprocess)\n",
    "valid_data = SingleElectronPhotonDataset(split_inx=valid_inx,transform = preprocess)\n",
    "test_data = SingleElectronPhotonDataset(split_inx=test_inx,transform = preprocess)\n",
    "# dataset = SingleElectronPhotonDataset()\n",
    "\n",
    "train_dataloader = DataLoader(train_data,batch_size = 64, shuffle = True)\n",
    "valid_dataloader = DataLoader(valid_data,batch_size = 64, shuffle = True)\n",
    "test_dataloader = DataLoader(test_data,batch_size = 64, shuffle = True)"
   ]
  },
  {
   "cell_type": "code",
   "execution_count": 13,
   "id": "b69e7c8d",
   "metadata": {},
   "outputs": [],
   "source": [
    "def train(model, device, loader, optimizer):\n",
    "    model.train()\n",
    "\n",
    "    loss_accum = 0\n",
    "    for step, batch in enumerate(tqdm(loader, desc=\"Iteration\")):\n",
    "        inputs, labels = batch\n",
    "        inputs = inputs.to(device)\n",
    "        labels = labels.to(device)\n",
    "        output = model(inputs)\n",
    "        loss= 0 \n",
    "        optimizer.zero_grad()\n",
    "        loss += multicls_criterion(output, labels)\n",
    "        loss.backward()\n",
    "        optimizer.step()\n",
    "\n",
    "        loss_accum += loss.item()\n",
    "\n",
    "    print('Average training loss: {}'.format(loss_accum / (step + 1))) "
   ]
  },
  {
   "cell_type": "code",
   "execution_count": 14,
   "id": "a0440fa7",
   "metadata": {},
   "outputs": [],
   "source": [
    "def evaluate(model, device, loader,evaluator= \"roauc\"):\n",
    "    model.eval()\n",
    "    \n",
    "    preds_list = []\n",
    "    target_list = []\n",
    "    for step, batch in enumerate(loader):\n",
    "        inputs, labels = batch\n",
    "        inputs = inputs.to(device)\n",
    "        labels = labels.to(device)\n",
    "        with torch.no_grad():\n",
    "            output = model(inputs)\n",
    "            preds_list.extend(output.tolist())\n",
    "        target_list += batch[1].tolist()\n",
    "    if evaluator == \"roauc\":   \n",
    "        metric = MulticlassAUROC(num_classes=2, average=\"macro\", thresholds=None)\n",
    "    if evaluator == \"acc\":\n",
    "        metric = MulticlassAccuracy(num_classes=2, average=\"macro\")\n",
    "    # print(\"AUC-ROC metric score : \",metric(torch.Tensor(preds_list),torch.Tensor(target_list)).item())\n",
    "    return metric(torch.Tensor(preds_list),torch.Tensor(target_list).to(torch.int64)).item()"
   ]
  },
  {
   "cell_type": "code",
   "execution_count": 15,
   "id": "e6bcb272",
   "metadata": {},
   "outputs": [],
   "source": [
    "checkpoints_path = \"../models\"\n",
    "checkpoints = os.listdir(checkpoints_path)\n",
    "checkpoint_path = list(filter(lambda i : str(model) in i, checkpoints))"
   ]
  },
  {
   "cell_type": "code",
   "execution_count": null,
   "id": "5755b09d",
   "metadata": {
    "scrolled": false
   },
   "outputs": [
    {
     "name": "stdout",
     "output_type": "stream",
     "text": [
      "=====Epoch 6\n",
      "Training...\n"
     ]
    },
    {
     "name": "stderr",
     "output_type": "stream",
     "text": [
      "Iteration: 100%|██████████| 5447/5447 [30:07<00:00,  3.01it/s]\n"
     ]
    },
    {
     "name": "stdout",
     "output_type": "stream",
     "text": [
      "Average training loss: 0.5799446675741106\n",
      "Evaluating...\n",
      "ROAUC scores:  {'Train': 0.7423526644706726, 'Validation': 0.7410327196121216, 'Test': 0.7417840957641602} \n",
      "Accuracy scores:  {'Train': 0.6781835556030273, 'Validation': 0.6772792339324951, 'Test': 0.6788860559463501}\n",
      "=====Epoch 7\n",
      "Training...\n"
     ]
    },
    {
     "name": "stderr",
     "output_type": "stream",
     "text": [
      "Iteration: 100%|██████████| 5447/5447 [57:07<00:00,  1.59it/s]\n"
     ]
    },
    {
     "name": "stdout",
     "output_type": "stream",
     "text": [
      "Average training loss: 0.5771522205675198\n",
      "Evaluating...\n",
      "ROAUC scores:  {'Train': 0.7859864234924316, 'Validation': 0.7814622521400452, 'Test': 0.7824445962905884} \n",
      "Accuracy scores:  {'Train': 0.7241741418838501, 'Validation': 0.718362033367157, 'Test': 0.7198591232299805}\n",
      "=====Epoch 8\n",
      "Training...\n"
     ]
    },
    {
     "name": "stderr",
     "output_type": "stream",
     "text": [
      "Iteration: 100%|██████████| 5447/5447 [1:10:34<00:00,  1.29it/s]\n"
     ]
    },
    {
     "name": "stdout",
     "output_type": "stream",
     "text": [
      "Average training loss: 0.5753016613570182\n",
      "Evaluating...\n",
      "ROAUC scores:  {'Train': 0.7749811410903931, 'Validation': 0.7711751461029053, 'Test': 0.7714930772781372} \n",
      "Accuracy scores:  {'Train': 0.7180374264717102, 'Validation': 0.7151648998260498, 'Test': 0.7143210768699646}\n",
      "=====Epoch 9\n",
      "Training...\n"
     ]
    },
    {
     "name": "stderr",
     "output_type": "stream",
     "text": [
      "Iteration: 100%|██████████| 5447/5447 [1:03:47<00:00,  1.42it/s]\n"
     ]
    },
    {
     "name": "stdout",
     "output_type": "stream",
     "text": [
      "Average training loss: 0.5735826538487576\n",
      "Evaluating...\n",
      "ROAUC scores:  {'Train': 0.7801802754402161, 'Validation': 0.7724491357803345, 'Test': 0.7712936401367188} \n",
      "Accuracy scores:  {'Train': 0.6942740678787231, 'Validation': 0.6896982789039612, 'Test': 0.6882278919219971}\n",
      "=====Epoch 10\n",
      "Training...\n"
     ]
    },
    {
     "name": "stderr",
     "output_type": "stream",
     "text": [
      "Iteration:  69%|██████▉   | 3773/5447 [49:14<45:33,  1.63s/it]  "
     ]
    }
   ],
   "source": [
    "train_curves = []\n",
    "valid_curves = []\n",
    "\n",
    "starting_epoch = 1\n",
    "if len(checkpoint_path)>0:\n",
    "    checkpoint = torch.load(f\"{checkpoints_path}/{checkpoint_path[0]}\")\n",
    "    model.load_state_dict(checkpoint['model_state_dict'])\n",
    "    optimizer.load_state_dict(checkpoint['optimizer_state_dict'])\n",
    "    starting_epoch = checkpoint['epoch']+1\n",
    "\n",
    "for epoch in range(starting_epoch, epochs + 1):\n",
    "    print(\"=====Epoch {}\".format(epoch))\n",
    "    print('Training...')\n",
    "    train(model, device, train_dataloader, optimizer)\n",
    "    \n",
    "    print(\"Evaluating...\")\n",
    "    train_perf_roauc = evaluate(model,device,train_dataloader)\n",
    "    valid_perf_roauc = evaluate(model,device,valid_dataloader)\n",
    "    test_perf_roauc = evaluate(model,device,test_dataloader)\n",
    "    train_perf_acc = evaluate(model,device,train_dataloader, evaluator = \"acc\")\n",
    "    valid_perf_acc = evaluate(model,device,valid_dataloader,evaluator = \"acc\")\n",
    "    test_perf_acc = evaluate(model,device,test_dataloader,evaluator = \"acc\")\n",
    "    \n",
    "    train_curves.append([train_perf_acc,train_perf_roauc])\n",
    "    valid_curves.append([valid_perf_acc,valid_perf_roauc])\n",
    "    \n",
    "    print('ROAUC scores: ',{'Train': train_perf_roauc, 'Validation': valid_perf_roauc, \"Test\": test_perf_roauc}, '\\nAccuracy scores: ',\n",
    "         {'Train': train_perf_acc, 'Validation': valid_perf_acc, \"Test\": test_perf_acc})\n",
    "    \n",
    "    # save checkpoint of current epoch\n",
    "    torch.save({\n",
    "            'epoch': epoch,\n",
    "            'model_state_dict': model.state_dict(),\n",
    "            'optimizer_state_dict': optimizer.state_dict(),\n",
    "            }, f\"{checkpoints_path}/{str(model)}-{epoch}.pt\")\n",
    "    \n",
    "    # delete checkpoint of previous epoch\n",
    "    if epoch>1:\n",
    "        os.remove(f\"{checkpoints_path}/{str(model)}-{epoch-1}.pt\")\n",
    "\n",
    "print('\\nFinished training!')\n",
    "print('\\nROAUC Test score: {}'.format(evaluate(model,device,test_dataloader)))"
   ]
  },
  {
   "cell_type": "code",
   "execution_count": null,
   "id": "4aa2bb8b",
   "metadata": {},
   "outputs": [],
   "source": []
  }
 ],
 "metadata": {
  "kernelspec": {
   "display_name": "Python 3 (ipykernel)",
   "language": "python",
   "name": "python3"
  },
  "language_info": {
   "codemirror_mode": {
    "name": "ipython",
    "version": 3
   },
   "file_extension": ".py",
   "mimetype": "text/x-python",
   "name": "python",
   "nbconvert_exporter": "python",
   "pygments_lexer": "ipython3",
   "version": "3.8.16"
  },
  "vscode": {
   "interpreter": {
    "hash": "879e2f01d264c9ab4ea3a77361c771e18658cc3ef89c0c8c8a779bd36400b7bc"
   }
  }
 },
 "nbformat": 4,
 "nbformat_minor": 5
}
