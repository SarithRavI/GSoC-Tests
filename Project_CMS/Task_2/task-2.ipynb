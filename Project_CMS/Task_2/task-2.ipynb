{
 "cells": [
  {
   "attachments": {},
   "cell_type": "markdown",
   "id": "0500e110",
   "metadata": {},
   "source": [
    "This file contains GNN based solution for specific task of project [Graph Neural Networks for Particle Momentum Estimation in the CMS Trigger System](https://drive.google.com/file/d/13gQToLhaoKGM7hXJY2sxVaVFqvS0Z9X9/view).\n",
    "\n",
    "GNN layers been used:\n",
    "\n",
    "- [Graph Convolution Layer](https://arxiv.org/pdf/1609.02907.pdf)\n",
    "\n",
    "- [PointNet Convolution Layer](https://pytorch-geometric.readthedocs.io/en/latest/generated/torch_geometric.nn.conv.PointNetConv.html#torch_geometric.nn.conv.PointNetConv)\n",
    "\n",
    "- [GraphGPS](https://pytorch-geometric.readthedocs.io/en/latest/generated/torch_geometric.nn.conv.GPSConv.html#torch_geometric.nn.conv.GPSConv)\n",
    "\n",
    "In all models, architecture is composed of two layers.\n",
    "Latent embedding dimension is set to 300.\n",
    "\n",
    "Node features:\n",
    "- Channel values\n",
    "- Global Positional encoding (2D coordinates of the nodes) - optional\n",
    "- Additionally random walk embeddings can be added in preprocessing step - optional \n",
    "  (RW embeddings are used in GraphGPS based model)\n",
    "\n",
    "Edge features:\n",
    "- Euclidean distance between nodes.\n",
    "\n",
    "All models are trained for 75 epochs."
   ]
  },
  {
   "cell_type": "code",
   "execution_count": 1,
   "id": "448f0897",
   "metadata": {},
   "outputs": [],
   "source": [
    "import os\n",
    "from tqdm import tqdm\n",
    "import torch\n",
    "from torch_geometric.nn import MessagePassing,GPSConv, GINEConv\n",
    "from torch_geometric.nn import global_add_pool, global_mean_pool, global_max_pool, GlobalAttention, Set2Set\n",
    "import torch.nn.functional as F\n",
    "import torch_geometric.transforms as T\n",
    "from torch_geometric.utils import degree\n",
    "from torch.utils.data import random_split\n",
    "from torch_geometric.loader import DataLoader\n",
    "import torch.optim as optim\n",
    "from torchmetrics.classification import MulticlassAUROC, MulticlassAccuracy\n",
    "\n",
    "from dataset import QGJetsGraphsDataset\n",
    "from torch_geometric.nn.conv import GATConv,PointNetConv"
   ]
  },
  {
   "cell_type": "code",
   "execution_count": 2,
   "id": "80b4e441",
   "metadata": {},
   "outputs": [],
   "source": [
    "### GIN convolution along the graph structure\n",
    "class GINConv(MessagePassing):\n",
    "    def __init__(self, emb_dim,input_node_dim,input_edge_dim):\n",
    "\n",
    "        super(GINConv, self).__init__(aggr = \"add\")\n",
    "\n",
    "        self.mlp = torch.nn.Sequential(torch.nn.Linear(emb_dim, 2*emb_dim), torch.nn.BatchNorm1d(2*emb_dim), \n",
    "                                       torch.nn.ReLU(), torch.nn.Linear(2*emb_dim, emb_dim))\n",
    "        self.eps = torch.nn.Parameter(torch.Tensor([0]))\n",
    "        self.linear = torch.nn.Linear(input_node_dim, emb_dim)\n",
    "        self.edge_encoder = torch.nn.Linear(input_edge_dim, emb_dim)\n",
    "\n",
    "    def forward(self, x, edge_index, edge_attr):\n",
    "        x = self.linear(x)\n",
    "        edge_embedding = self.edge_encoder(edge_attr)\n",
    "        out = self.mlp((1 + self.eps) *x + self.propagate(edge_index, x=x, edge_attr=edge_embedding))\n",
    "\n",
    "        return out\n",
    "\n",
    "    def message(self, x_j, edge_attr):\n",
    "        return F.relu(x_j + edge_attr)\n",
    "\n",
    "    def update(self, aggr_out):\n",
    "        return aggr_out\n",
    "\n",
    "### GCN convolution along the graph structure\n",
    "class GCNConv(MessagePassing):\n",
    "    def __init__(self, emb_dim,input_node_dim,input_edge_dim):\n",
    "        super(GCNConv, self).__init__(aggr='add')\n",
    "        \n",
    "        self.linear = torch.nn.Linear(input_node_dim, emb_dim)\n",
    "        self.root_emb = torch.nn.Embedding(1, emb_dim)\n",
    "        self.edge_encoder = torch.nn.Linear(input_edge_dim, emb_dim)\n",
    "\n",
    "    def forward(self, x, edge_index, edge_attr):\n",
    "        x = self.linear(x)\n",
    "        edge_embedding = self.edge_encoder(edge_attr)\n",
    "\n",
    "        row, col = edge_index\n",
    "\n",
    "        #edge_weight = torch.ones((edge_index.size(1), ), device=edge_index.device)\n",
    "        deg = degree(row, x.size(0), dtype = x.dtype) + 1\n",
    "        deg_inv_sqrt = deg.pow(-0.5)\n",
    "        deg_inv_sqrt[deg_inv_sqrt == float('inf')] = 0\n",
    "\n",
    "        norm = deg_inv_sqrt[row] * deg_inv_sqrt[col]\n",
    "\n",
    "        return self.propagate(edge_index, x=x, edge_attr = edge_embedding, norm=norm) + F.relu(x + self.root_emb.weight) * 1./deg.view(-1,1)\n",
    "\n",
    "    def message(self, x_j, edge_attr, norm):\n",
    "        return norm.view(-1, 1) * F.relu(x_j + edge_attr)\n",
    "\n",
    "    def update(self, aggr_out):\n",
    "        return aggr_out"
   ]
  },
  {
   "cell_type": "code",
   "execution_count": 3,
   "id": "61e07b33",
   "metadata": {},
   "outputs": [],
   "source": [
    "class mlp(torch.nn.Module):\n",
    "    def __init__(self,input_node_dim,emb_dim):\n",
    "        super(mlp, self).__init__()\n",
    "        self.mlp = torch.nn.Sequential(torch.nn.Linear(input_node_dim, 2*emb_dim), \n",
    "                                       torch.nn.BatchNorm1d(2*emb_dim), \n",
    "                                       torch.nn.ReLU(), \n",
    "                                       torch.nn.Linear(2*emb_dim, emb_dim))\n",
    "    def forward(self,x):\n",
    "        return self.mlp(x)"
   ]
  },
  {
   "cell_type": "code",
   "execution_count": 4,
   "id": "a209778c",
   "metadata": {},
   "outputs": [],
   "source": [
    "class MessagePasssing_Module(torch.nn.Module):\n",
    "    \"\"\"\n",
    "    MessagePasssing_Module contains 2 or more GNN layers stacked.\n",
    "    Output:\n",
    "        node representations\n",
    "    \"\"\"\n",
    "    def __init__(self, num_layer, input_node_dim, input_edge_dim, emb_dim,extraPE_dim=None,\n",
    "                 extraPE_method='sum', drop_ratio = 0.5, JK = \"last\", residual = False, gnn_type = 'gin'):\n",
    "        '''\n",
    "            emb_dim (int): node embedding dimensionality\n",
    "            num_layer (int): number of GNN message passing layers\n",
    "        '''\n",
    "        super(MessagePasssing_Module, self).__init__()\n",
    "        \n",
    "        self.gnn_type = gnn_type\n",
    "        self.num_layer = num_layer\n",
    "        self.drop_ratio = drop_ratio\n",
    "        self.JK = JK\n",
    "        self.input_node_dim = input_node_dim\n",
    "        self.input_edge_dim = input_edge_dim\n",
    "        ### add residual connection or not\n",
    "        self.residual = residual\n",
    "        self.extraPE_dim = extraPE_dim\n",
    "        self.extraPE_method = extraPE_method\n",
    "\n",
    "        if self.num_layer < 2:\n",
    "            raise ValueError(\"Number of GNN layers must be greater than 1.\")\n",
    "\n",
    "        ### List of GNNs\n",
    "        self.convs = torch.nn.ModuleList()\n",
    "        self.batch_norms = torch.nn.ModuleList()\n",
    "        \n",
    "        if extraPE_dim:\n",
    "            # this is to transform random walk encoding\n",
    "            self.extraPE_Encoder = torch.nn.Linear(self.extraPE_dim,self.input_node_dim)\n",
    "        \n",
    "        if extraPE_dim and extraPE_method=='cat':\n",
    "            self.input_node_dim *= 2\n",
    "            \n",
    "        for layer in range(num_layer):\n",
    "            if layer == 0:\n",
    "                if gnn_type == 'gin':\n",
    "                    self.convs.append(GINConv(emb_dim,input_node_dim=self.input_node_dim,input_edge_dim=self.input_edge_dim))\n",
    "                elif gnn_type == 'gcn':\n",
    "                    self.convs.append(GCNConv(emb_dim,input_node_dim=self.input_node_dim,input_edge_dim=self.input_edge_dim))\n",
    "                elif gnn_type == 'gat':\n",
    "                    self.convs.append(GATConv(in_channels=self.input_node_dim,out_channels=emb_dim,edge_dim=self.input_edge_dim))\n",
    "                elif gnn_type == \"pointnet\":\n",
    "                    local_mlp = mlp(self.input_node_dim+2, emb_dim)\n",
    "                    global_mlp = None\n",
    "                    self.convs.append(PointNetConv(local_mlp,global_mlp))\n",
    "                    \n",
    "                elif gnn_type == \"gps\":\n",
    "                    # we need to explicitly declare this mlp\n",
    "                    nn = torch.nn.Sequential(torch.nn.Linear(self.input_node_dim, 2*emb_dim),\n",
    "                                           torch.nn.BatchNorm1d(2*emb_dim), \n",
    "                                           torch.nn.ReLU(), \n",
    "                                           torch.nn.Linear(2*emb_dim, emb_dim))\n",
    "                    self.convs.append(GPSConv(self.input_node_dim, GINEConv(nn,edge_dim =self.input_edge_dim), \n",
    "                                              heads=5, attn_dropout=0.3))\n",
    "                else:\n",
    "                    raise ValueError('Undefined GNN type called {}'.format(gnn_type))\n",
    "                \n",
    "            else:\n",
    "                if gnn_type == 'gin':\n",
    "                    self.convs.append(GINConv(emb_dim,input_node_dim=emb_dim,input_edge_dim=self.input_edge_dim))\n",
    "                elif gnn_type == 'gcn':\n",
    "                    self.convs.append(GCNConv(emb_dim,input_node_dim=emb_dim,input_edge_dim=self.input_edge_dim))\n",
    "                elif gnn_type == 'gat':\n",
    "                    self.convs.append(GATConv(in_channels=emb_dim,out_channels=emb_dim,edge_dim=self.input_edge_dim))\n",
    "                elif gnn_type == \"pointnet\":\n",
    "                    local_mlp = mlp(emb_dim+2, emb_dim)\n",
    "                    global_mlp = None\n",
    "                    self.convs.append(PointNetConv(local_mlp,global_mlp))\n",
    "                    \n",
    "                elif gnn_type == \"gps\":\n",
    "                    # we need to explicitly declare this mlp\n",
    "                    nn = torch.nn.Sequential(torch.nn.Linear(emb_dim, 2*emb_dim), \n",
    "                                       torch.nn.BatchNorm1d(2*emb_dim), \n",
    "                                       torch.nn.ReLU(), \n",
    "                                       torch.nn.Linear(2*emb_dim, emb_dim))\n",
    "                    self.convs.append(GPSConv(emb_dim, GINEConv(nn,edge_dim =self.input_edge_dim),\n",
    "                                              heads=5, attn_dropout=0.3))\n",
    "                else:\n",
    "                    raise ValueError('Undefined GNN type called {}'.format(gnn_type))\n",
    "\n",
    "            self.batch_norms.append(torch.nn.BatchNorm1d(emb_dim))\n",
    "\n",
    "    def forward(self, batched_data):\n",
    "        \n",
    "        x = batched_data.x\n",
    "        edge_index = batched_data.edge_index\n",
    "        edge_attr = batched_data.edge_attr\n",
    "        pos = batched_data.pos\n",
    "        batch = batched_data.batch\n",
    "        \n",
    "        if self.extraPE_dim:\n",
    "            extraPE = batched_data.extraPE\n",
    "            extraPE_emb = self.extraPE_Encoder(extraPE)\n",
    "            if self.extraPE_method == 'sum':\n",
    "                h_list = [x+extraPE_emb]\n",
    "            elif self.extraPE_method == 'cat':\n",
    "                h_list = [torch.cat((x,extraPE_emb),1)]      \n",
    "        else:    \n",
    "            h_list = [x]  \n",
    "            \n",
    "        for layer in range(self.num_layer):\n",
    "            if self.gnn_type == 'pointnet':\n",
    "                h = self.convs[layer](h_list[layer], pos, edge_index)\n",
    "            elif self.gnn_type == 'gps':\n",
    "                h = self.convs[layer](h_list[layer], edge_index,batch=batch,edge_attr=edge_attr)\n",
    "            else:    \n",
    "                h = self.convs[layer](h_list[layer], edge_index, edge_attr)\n",
    "                \n",
    "            h = self.batch_norms[layer](h)\n",
    "\n",
    "            if layer == self.num_layer - 1:\n",
    "                #remove relu for the last layer\n",
    "                h = F.dropout(h, self.drop_ratio, training = self.training)\n",
    "            else:\n",
    "                h = F.dropout(F.relu(h), self.drop_ratio, training = self.training)\n",
    "\n",
    "            if self.residual:\n",
    "                h += h_list[layer]\n",
    "\n",
    "            h_list.append(h)\n",
    "\n",
    "        ### Different implementations of Jk-concat\n",
    "        if self.JK == \"last\":\n",
    "            node_representation = h_list[-1]\n",
    "        elif self.JK == \"sum\":\n",
    "            node_representation = 0\n",
    "            # we don't sum the input features \n",
    "            # we only sum outputs of each layer\n",
    "            for layer in range(1,self.num_layer + 1):\n",
    "                node_representation += h_list[layer]\n",
    "\n",
    "        return node_representation\n"
   ]
  },
  {
   "cell_type": "code",
   "execution_count": 5,
   "id": "098a0d1b",
   "metadata": {},
   "outputs": [],
   "source": [
    "class GNN(torch.nn.Module):\n",
    "\n",
    "    def __init__(self, num_classes=2, num_layer = 5,num_pre_fnn_layers =0,num_post_fnn_layers =1,hasPos =True,num_coords=3, \n",
    "                 input_spec_fts_dim=3,input_edge_dim = 1, emb_dim = 300,extraPE_dim=None,extraPE_method = 'sum', gnn_type = 'gcn', \n",
    "                 residual = False, drop_ratio = 0.5, JK = \"last\", graph_pooling = \"mean\"):\n",
    "        '''\n",
    "            hasPos (bool) : whether input node features should contain global positioning embeded\n",
    "                            ps: global positioning is the coordinate of the pixel on 2D grid.\n",
    "            input_spec_fts_dim (int) : denotes number of specific features (features apart from postional embedding)\n",
    "            num_coords : number of coordinates required for the positional embedding \n",
    "            extraPE_dim: Denotes dimension of random walk  or Laplacian eigenvector positional encoding\n",
    "            extraPE_method: Denotes how random walk embeddings or Laplacian eigenvector positional encoding should be embedded \n",
    "                         cat - concatenation, sum - summation.\n",
    "        '''\n",
    "        \n",
    "        super(GNN, self).__init__()\n",
    "        \n",
    "        self.gnn_type = gnn_type\n",
    "        self.num_layer = num_layer\n",
    "        self.drop_ratio = drop_ratio\n",
    "        self.JK = JK\n",
    "        self.emb_dim = emb_dim\n",
    "        self.hasPos = hasPos\n",
    "        self.num_coords =num_coords\n",
    "        self.num_classes = num_classes\n",
    "        self.num_pre_fnn_layers = num_pre_fnn_layers\n",
    "        self.num_post_fnn_layers = num_post_fnn_layers\n",
    "        self.graph_pooling = graph_pooling\n",
    "        self.input_spec_fts_dim = input_spec_fts_dim\n",
    "        self.input_edge_dim = input_edge_dim\n",
    "        self.extraPE_method = extraPE_method\n",
    "        \n",
    "        if self.gnn_type==\"pointnet\":\n",
    "            self.hasPos = False\n",
    "        \n",
    "        self.pos_kwd = \"hasPos\"\n",
    "        if not self.hasPos:\n",
    "            self.pos_kwd = \"noPos\"\n",
    "            \n",
    "        if not self.hasPos:\n",
    "            self.input_node_dim = self.input_spec_fts_dim\n",
    "        else:\n",
    "            self.input_node_dim = self.input_spec_fts_dim+num_coords\n",
    "\n",
    "        if self.num_layer < 2:\n",
    "            raise ValueError(\"Number of GNN layers must be greater than 1.\")\n",
    "            \n",
    "        if self.num_post_fnn_layers < 1:\n",
    "            raise ValueError(\"Number of GNN layers must be greater than or equal to 1.\")\n",
    "        \n",
    "        self.graph_pred_pre_linear_list = torch.nn.ModuleList()\n",
    "        \n",
    "        # dimention of node fts which are fed into message passing layers\n",
    "        self.input_node_dim_mp = self.input_node_dim\n",
    "        \n",
    "        if self.num_pre_fnn_layers >0:\n",
    "            self.graph_pred_pre_linear_list.append(torch.nn.Linear(self.input_node_dim, emb_dim))\n",
    "            for i in range(1,num_pre_fnn_layers):\n",
    "                self.graph_pred_pre_linear_list.append(torch.nn.Linear(emb_dim, emb_dim))\n",
    "            self.input_node_dim_mp = emb_dim\n",
    "                 \n",
    "        ### GNN to generate node embeddings\n",
    "        self.gnn_node = MessagePasssing_Module(num_layer,input_node_dim=self.input_node_dim_mp,\n",
    "                                               input_edge_dim = self.input_edge_dim, emb_dim=emb_dim,\n",
    "                                               extraPE_dim = extraPE_dim, extraPE_method = self.extraPE_method,\n",
    "                                               JK = JK, drop_ratio = drop_ratio, residual = residual, \n",
    "                                               gnn_type = gnn_type)\n",
    "\n",
    "        ### Pooling function to generate entire-graph embeddings\n",
    "        if self.graph_pooling == \"sum\":\n",
    "            self.pool = global_add_pool\n",
    "        elif self.graph_pooling == \"mean\":\n",
    "            self.pool = global_mean_pool\n",
    "        elif self.graph_pooling == \"max\":\n",
    "            self.pool = global_max_pool\n",
    "        elif self.graph_pooling == \"attention\":\n",
    "            self.pool = GlobalAttention(gate_nn = torch.nn.Sequential(torch.nn.Linear(emb_dim, 2*emb_dim), \n",
    "                                                                      torch.nn.BatchNorm1d(2*emb_dim), torch.nn.ReLU(),\n",
    "                                                                      torch.nn.Linear(2*emb_dim, 1)))\n",
    "        else:\n",
    "            raise ValueError(\"Invalid graph pooling type.\")\n",
    "\n",
    "        self.graph_pred_post_linear_list = torch.nn.ModuleList()\n",
    "\n",
    "        for i in range(num_post_fnn_layers-1):\n",
    "            self.graph_pred_post_linear_list.append(torch.nn.Linear(emb_dim, emb_dim))\n",
    "        self.graph_pred_post_linear_list.append(torch.nn.Linear(emb_dim, self.num_classes))\n",
    "                \n",
    "\n",
    "\n",
    "    def forward(self, batched_data):\n",
    "\n",
    "        input_x = batched_data.x # here we can split the x \n",
    "        \n",
    "        batched_data.pos = input_x[:,self.input_spec_fts_dim:] # this will keep pos embeddings\n",
    "        input_x = input_x[:,:self.input_node_dim]\n",
    "        prep_x = input_x\n",
    "        \n",
    "        #preprocessing node features (only). \n",
    "        for fnn_inx in range(self.num_pre_fnn_layers):\n",
    "            prep_x = self.graph_pred_pre_linear_list[fnn_inx](prep_x)\n",
    "        \n",
    "        batched_data.x = prep_x\n",
    "        \n",
    "        h_node = self.gnn_node(batched_data)\n",
    "\n",
    "        h_graph = self.pool(h_node, batched_data.batch)\n",
    "\n",
    "        output = h_graph # initial input is set to the output of the GNN \n",
    "        \n",
    "        #postprocessing graph embeddings (only). \n",
    "        for fnn_inx in range(self.num_post_fnn_layers):\n",
    "            output = self.graph_pred_post_linear_list[fnn_inx](output)\n",
    "            \n",
    "        return F.softmax(output,dim=1)\n",
    "    \n",
    "    def __str__(self):\n",
    "        return self.gnn_type+f\"-model-{self.pos_kwd}\""
   ]
  },
  {
   "cell_type": "code",
   "execution_count": 6,
   "id": "ae3081f7",
   "metadata": {},
   "outputs": [],
   "source": [
    "device = torch.device(\"cuda:0\" if torch.cuda.is_available() else torch.device(\"cpu\"))"
   ]
  },
  {
   "cell_type": "code",
   "execution_count": 7,
   "id": "ffbad78c",
   "metadata": {},
   "outputs": [],
   "source": [
    "multicls_criterion = torch.nn.CrossEntropyLoss()\n",
    "epochs = 75"
   ]
  },
  {
   "cell_type": "code",
   "execution_count": 8,
   "id": "41243fd4",
   "metadata": {},
   "outputs": [],
   "source": [
    "def import_dataset(name,transform=None, pre_transform=None,pre_filter=None):\n",
    "    return QGJetsGraphsDataset('../../dataset/',name=name,transform=transform,\n",
    "                             pre_transform=pre_transform,pre_filter=pre_filter)"
   ]
  },
  {
   "cell_type": "code",
   "execution_count": 9,
   "id": "d0a3fd99",
   "metadata": {},
   "outputs": [],
   "source": [
    "def create_loaders(dataset,batch_size=32):\n",
    "    # random splitting dataset\n",
    "    train_inx, valid_inx, test_inx = random_split(range(len(dataset)),[0.7,0.2,0.1],generator=torch.Generator()\n",
    "                                                .manual_seed(42))\n",
    "\n",
    "    train_dataloader = DataLoader(dataset[list(train_inx)], batch_size=batch_size, shuffle=True)\n",
    "    valid_dataloader = DataLoader(dataset[list(valid_inx)], batch_size=batch_size, shuffle=False)\n",
    "    test_dataloader = DataLoader(dataset[list(test_inx)], batch_size=batch_size, shuffle=False)\n",
    "    \n",
    "    return train_dataloader,valid_dataloader,test_dataloader"
   ]
  },
  {
   "cell_type": "code",
   "execution_count": 10,
   "id": "0dd072fb",
   "metadata": {},
   "outputs": [],
   "source": [
    "def train(model, device, loader, optimizer):\n",
    "    model.train()\n",
    "\n",
    "    loss_accum = 0\n",
    "    for step, batch in enumerate(tqdm(loader, desc=\"Iteration\")):\n",
    "        batch=batch.to(device)\n",
    "        if batch.x.shape[0] == 1:\n",
    "            pass\n",
    "        else: \n",
    "            output = model(batch)\n",
    "            optimizer.zero_grad()\n",
    "            loss = multicls_criterion(output, batch.y.view(-1).to(torch.int64))\n",
    "            loss.backward()\n",
    "            optimizer.step()\n",
    "\n",
    "        loss_accum += loss.item()\n",
    "\n",
    "    print('Average training loss: {}'.format(loss_accum / (step + 1))) "
   ]
  },
  {
   "cell_type": "code",
   "execution_count": 11,
   "id": "d2bc7e40",
   "metadata": {},
   "outputs": [],
   "source": [
    "def evaluate(model, device, loader,evaluator= \"roauc\"):\n",
    "    model.eval()\n",
    "    \n",
    "    preds_list = []\n",
    "    target_list = []\n",
    "    for step, batch in enumerate(loader):\n",
    "        batch = batch.to(device)\n",
    "        with torch.no_grad():\n",
    "            output = model(batch)\n",
    "            preds_list.extend(output.tolist())\n",
    "        target_list += batch.y.view(-1).tolist()\n",
    "\n",
    "    if evaluator == \"roauc\":   \n",
    "        metric = MulticlassAUROC(num_classes=2, average=\"macro\", thresholds=None)\n",
    "    if evaluator == \"acc\":\n",
    "        metric = MulticlassAccuracy(num_classes=2, average=\"macro\")\n",
    "    # print(\"AUC-ROC metric score : \",metric(torch.Tensor(preds_list),torch.Tensor(target_list)).item())\n",
    "    return metric(torch.Tensor(preds_list),torch.Tensor(target_list).to(torch.int64)).item()"
   ]
  },
  {
   "cell_type": "code",
   "execution_count": 12,
   "id": "685faee7",
   "metadata": {},
   "outputs": [],
   "source": [
    "def train_model(model,optimizer,dataset,batch_size=32):\n",
    "    checkpoints_path = \"../models\"\n",
    "    checkpoints = os.listdir(checkpoints_path)\n",
    "    checkpoint_path = list(filter(lambda i : str(model) in i, checkpoints))\n",
    "    \n",
    "    train_curves = []\n",
    "    valid_curves = []\n",
    "    starting_epoch = 1 \n",
    "    \n",
    "    # create loaders \n",
    "    train_dataloader,valid_dataloader,test_dataloader = create_loaders(dataset,batch_size=batch_size)\n",
    "    \n",
    "    if len(checkpoint_path)>0:\n",
    "        checkpoint = torch.load(f\"{checkpoints_path}/{checkpoint_path[0]}\")\n",
    "        model.load_state_dict(checkpoint['model_state_dict'])\n",
    "        optimizer.load_state_dict(checkpoint['optimizer_state_dict'])\n",
    "        starting_epoch = checkpoint['epoch']+1\n",
    "\n",
    "    for epoch in range(starting_epoch, epochs + 1):\n",
    "        print(\"=====Epoch {}\".format(epoch))\n",
    "        print('Training...')\n",
    "        train(model, device, train_dataloader, optimizer)\n",
    "        \n",
    "        # save checkpoint of current epoch\n",
    "        torch.save({\n",
    "                'epoch': epoch,\n",
    "                'model_state_dict': model.state_dict(),\n",
    "                'optimizer_state_dict': optimizer.state_dict(),\n",
    "                }, f\"{checkpoints_path}/{str(model)}-{epoch}.pt\")\n",
    "\n",
    "        # delete checkpoint of previous epoch\n",
    "        if epoch>1:\n",
    "            os.remove(f\"{checkpoints_path}/{str(model)}-{epoch-1}.pt\")\n",
    "\n",
    "        print(\"Evaluating...\")\n",
    "        train_perf_roauc = evaluate(model,device,train_dataloader)\n",
    "        valid_perf_roauc = evaluate(model,device,valid_dataloader)\n",
    "        print('ROAUC scores: ',{'Train': train_perf_roauc, 'Validation': valid_perf_roauc})\n",
    "        \n",
    "    print('\\nFinished training!')\n",
    "    print('\\nROAUC Test score: {}'.format(evaluate(model,device,test_dataloader)))"
   ]
  },
  {
   "cell_type": "markdown",
   "id": "d94ddca3",
   "metadata": {},
   "source": [
    "## Training PointNet Conv based GNN model"
   ]
  },
  {
   "cell_type": "code",
   "execution_count": 13,
   "id": "1312d6c1",
   "metadata": {
    "scrolled": true
   },
   "outputs": [
    {
     "name": "stderr",
     "output_type": "stream",
     "text": [
      "C:\\Users\\MSI\\anaconda3\\envs\\pyg-notebook\\lib\\site-packages\\torch_geometric\\data\\dataset.py:209: UserWarning: The `pre_transform` argument differs from the one used in the pre-processed version of this dataset. If you want to make use of another pre-processing technique, make sure to delete '..\\..\\dataset\\QG_Jets\\processed/' first\n",
      "  warnings.warn(\n"
     ]
    },
    {
     "name": "stdout",
     "output_type": "stream",
     "text": [
      "=====Epoch 1\n",
      "Training...\n"
     ]
    },
    {
     "name": "stderr",
     "output_type": "stream",
     "text": [
      "Iteration: 100%|██████████| 2188/2188 [00:50<00:00, 43.01it/s]\n"
     ]
    },
    {
     "name": "stdout",
     "output_type": "stream",
     "text": [
      "Average training loss: 0.5277088258340547\n",
      "Evaluating...\n",
      "ROAUC scores:  {'Train': 0.8568630218505859, 'Validation': 0.855898916721344}\n",
      "=====Epoch 2\n",
      "Training...\n"
     ]
    },
    {
     "name": "stderr",
     "output_type": "stream",
     "text": [
      "Iteration: 100%|██████████| 2188/2188 [00:48<00:00, 44.92it/s]\n"
     ]
    },
    {
     "name": "stdout",
     "output_type": "stream",
     "text": [
      "Average training loss: 0.5228723950643208\n",
      "Evaluating...\n",
      "ROAUC scores:  {'Train': 0.8608030080795288, 'Validation': 0.8602957725524902}\n",
      "=====Epoch 3\n",
      "Training...\n"
     ]
    },
    {
     "name": "stderr",
     "output_type": "stream",
     "text": [
      "Iteration: 100%|██████████| 2188/2188 [01:28<00:00, 24.76it/s]\n"
     ]
    },
    {
     "name": "stdout",
     "output_type": "stream",
     "text": [
      "Average training loss: 0.5215871250852806\n",
      "Evaluating...\n",
      "ROAUC scores:  {'Train': 0.8625271320343018, 'Validation': 0.8627728819847107}\n",
      "=====Epoch 4\n",
      "Training...\n"
     ]
    },
    {
     "name": "stderr",
     "output_type": "stream",
     "text": [
      "Iteration: 100%|██████████| 2188/2188 [01:51<00:00, 19.64it/s]\n"
     ]
    },
    {
     "name": "stdout",
     "output_type": "stream",
     "text": [
      "Average training loss: 0.5207997143704451\n",
      "Evaluating...\n",
      "ROAUC scores:  {'Train': 0.8586188554763794, 'Validation': 0.8585447072982788}\n",
      "=====Epoch 5\n",
      "Training...\n"
     ]
    },
    {
     "name": "stderr",
     "output_type": "stream",
     "text": [
      "Iteration: 100%|██████████| 2188/2188 [02:20<00:00, 15.53it/s]\n"
     ]
    },
    {
     "name": "stdout",
     "output_type": "stream",
     "text": [
      "Average training loss: 0.5194510995687907\n",
      "Evaluating...\n",
      "ROAUC scores:  {'Train': 0.8625052571296692, 'Validation': 0.862358808517456}\n",
      "=====Epoch 6\n",
      "Training...\n"
     ]
    },
    {
     "name": "stderr",
     "output_type": "stream",
     "text": [
      "Iteration: 100%|██████████| 2188/2188 [02:13<00:00, 16.33it/s]\n"
     ]
    },
    {
     "name": "stdout",
     "output_type": "stream",
     "text": [
      "Average training loss: 0.5181096819054056\n",
      "Evaluating...\n",
      "ROAUC scores:  {'Train': 0.8652693033218384, 'Validation': 0.8648958206176758}\n",
      "=====Epoch 7\n",
      "Training...\n"
     ]
    },
    {
     "name": "stderr",
     "output_type": "stream",
     "text": [
      "Iteration: 100%|██████████| 2188/2188 [02:04<00:00, 17.51it/s]\n"
     ]
    },
    {
     "name": "stdout",
     "output_type": "stream",
     "text": [
      "Average training loss: 0.5183502028149705\n",
      "Evaluating...\n",
      "ROAUC scores:  {'Train': 0.8637072443962097, 'Validation': 0.8639230728149414}\n",
      "=====Epoch 8\n",
      "Training...\n"
     ]
    },
    {
     "name": "stderr",
     "output_type": "stream",
     "text": [
      "Iteration: 100%|██████████| 2188/2188 [02:28<00:00, 14.76it/s]\n"
     ]
    },
    {
     "name": "stdout",
     "output_type": "stream",
     "text": [
      "Average training loss: 0.516902874031494\n",
      "Evaluating...\n",
      "ROAUC scores:  {'Train': 0.8627790212631226, 'Validation': 0.8623815178871155}\n",
      "=====Epoch 9\n",
      "Training...\n"
     ]
    },
    {
     "name": "stderr",
     "output_type": "stream",
     "text": [
      "Iteration: 100%|██████████| 2188/2188 [02:21<00:00, 15.45it/s]\n"
     ]
    },
    {
     "name": "stdout",
     "output_type": "stream",
     "text": [
      "Average training loss: 0.5170029715466326\n",
      "Evaluating...\n",
      "ROAUC scores:  {'Train': 0.8629748821258545, 'Validation': 0.862883448600769}\n",
      "=====Epoch 10\n",
      "Training...\n"
     ]
    },
    {
     "name": "stderr",
     "output_type": "stream",
     "text": [
      "Iteration: 100%|██████████| 2188/2188 [02:21<00:00, 15.41it/s]\n"
     ]
    },
    {
     "name": "stdout",
     "output_type": "stream",
     "text": [
      "Average training loss: 0.5168866911525046\n",
      "Evaluating...\n",
      "ROAUC scores:  {'Train': 0.8669871091842651, 'Validation': 0.8659375905990601}\n",
      "=====Epoch 11\n",
      "Training...\n"
     ]
    },
    {
     "name": "stderr",
     "output_type": "stream",
     "text": [
      "Iteration: 100%|██████████| 2188/2188 [02:35<00:00, 14.11it/s]\n"
     ]
    },
    {
     "name": "stdout",
     "output_type": "stream",
     "text": [
      "Average training loss: 0.5159665670865633\n",
      "Evaluating...\n",
      "ROAUC scores:  {'Train': 0.8625607490539551, 'Validation': 0.8614637851715088}\n",
      "=====Epoch 12\n",
      "Training...\n"
     ]
    },
    {
     "name": "stderr",
     "output_type": "stream",
     "text": [
      "Iteration: 100%|██████████| 2188/2188 [02:32<00:00, 14.37it/s]\n"
     ]
    },
    {
     "name": "stdout",
     "output_type": "stream",
     "text": [
      "Average training loss: 0.5155245222736974\n",
      "Evaluating...\n",
      "ROAUC scores:  {'Train': 0.864812433719635, 'Validation': 0.8639065027236938}\n",
      "=====Epoch 13\n",
      "Training...\n"
     ]
    },
    {
     "name": "stderr",
     "output_type": "stream",
     "text": [
      "Iteration: 100%|██████████| 2188/2188 [02:40<00:00, 13.59it/s]\n"
     ]
    },
    {
     "name": "stdout",
     "output_type": "stream",
     "text": [
      "Average training loss: 0.5153443809646358\n",
      "Evaluating...\n",
      "ROAUC scores:  {'Train': 0.868465781211853, 'Validation': 0.8682403564453125}\n",
      "=====Epoch 14\n",
      "Training...\n"
     ]
    },
    {
     "name": "stderr",
     "output_type": "stream",
     "text": [
      "Iteration: 100%|██████████| 2188/2188 [02:40<00:00, 13.61it/s]\n"
     ]
    },
    {
     "name": "stdout",
     "output_type": "stream",
     "text": [
      "Average training loss: 0.5142440746591121\n",
      "Evaluating...\n",
      "ROAUC scores:  {'Train': 0.8664100170135498, 'Validation': 0.8657922744750977}\n",
      "=====Epoch 15\n",
      "Training...\n"
     ]
    },
    {
     "name": "stderr",
     "output_type": "stream",
     "text": [
      "Iteration: 100%|██████████| 2188/2188 [02:40<00:00, 13.62it/s]\n"
     ]
    },
    {
     "name": "stdout",
     "output_type": "stream",
     "text": [
      "Average training loss: 0.51466863436226\n",
      "Evaluating...\n",
      "ROAUC scores:  {'Train': 0.8695412874221802, 'Validation': 0.8688908815383911}\n",
      "=====Epoch 16\n",
      "Training...\n"
     ]
    },
    {
     "name": "stderr",
     "output_type": "stream",
     "text": [
      "Iteration: 100%|██████████| 2188/2188 [02:40<00:00, 13.61it/s]\n"
     ]
    },
    {
     "name": "stdout",
     "output_type": "stream",
     "text": [
      "Average training loss: 0.5133845845349746\n",
      "Evaluating...\n",
      "ROAUC scores:  {'Train': 0.8692023158073425, 'Validation': 0.8683531284332275}\n",
      "=====Epoch 17\n",
      "Training...\n"
     ]
    },
    {
     "name": "stderr",
     "output_type": "stream",
     "text": [
      "Iteration: 100%|██████████| 2188/2188 [02:36<00:00, 13.97it/s]\n"
     ]
    },
    {
     "name": "stdout",
     "output_type": "stream",
     "text": [
      "Average training loss: 0.5131847959495331\n",
      "Evaluating...\n",
      "ROAUC scores:  {'Train': 0.8675959706306458, 'Validation': 0.867475152015686}\n",
      "=====Epoch 18\n",
      "Training...\n"
     ]
    },
    {
     "name": "stderr",
     "output_type": "stream",
     "text": [
      "Iteration: 100%|██████████| 2188/2188 [02:30<00:00, 14.58it/s]\n"
     ]
    },
    {
     "name": "stdout",
     "output_type": "stream",
     "text": [
      "Average training loss: 0.5134600626076598\n",
      "Evaluating...\n",
      "ROAUC scores:  {'Train': 0.8700790405273438, 'Validation': 0.8692171573638916}\n",
      "=====Epoch 19\n",
      "Training...\n"
     ]
    },
    {
     "name": "stderr",
     "output_type": "stream",
     "text": [
      "Iteration: 100%|██████████| 2188/2188 [02:30<00:00, 14.58it/s]\n"
     ]
    },
    {
     "name": "stdout",
     "output_type": "stream",
     "text": [
      "Average training loss: 0.5132731418014662\n",
      "Evaluating...\n",
      "ROAUC scores:  {'Train': 0.8682753443717957, 'Validation': 0.8676638603210449}\n",
      "=====Epoch 20\n",
      "Training...\n"
     ]
    },
    {
     "name": "stderr",
     "output_type": "stream",
     "text": [
      "Iteration: 100%|██████████| 2188/2188 [02:34<00:00, 14.18it/s]\n"
     ]
    },
    {
     "name": "stdout",
     "output_type": "stream",
     "text": [
      "Average training loss: 0.5127640857856713\n",
      "Evaluating...\n",
      "ROAUC scores:  {'Train': 0.8686457872390747, 'Validation': 0.8680394887924194}\n",
      "=====Epoch 21\n",
      "Training...\n"
     ]
    },
    {
     "name": "stderr",
     "output_type": "stream",
     "text": [
      "Iteration: 100%|██████████| 2188/2188 [02:29<00:00, 14.65it/s]\n"
     ]
    },
    {
     "name": "stdout",
     "output_type": "stream",
     "text": [
      "Average training loss: 0.5130286714440072\n",
      "Evaluating...\n",
      "ROAUC scores:  {'Train': 0.870881199836731, 'Validation': 0.8698322772979736}\n",
      "=====Epoch 22\n",
      "Training...\n"
     ]
    },
    {
     "name": "stderr",
     "output_type": "stream",
     "text": [
      "Iteration: 100%|██████████| 2188/2188 [02:34<00:00, 14.13it/s]\n"
     ]
    },
    {
     "name": "stdout",
     "output_type": "stream",
     "text": [
      "Average training loss: 0.5133288505962169\n",
      "Evaluating...\n",
      "ROAUC scores:  {'Train': 0.8710359334945679, 'Validation': 0.8703526258468628}\n",
      "=====Epoch 23\n",
      "Training...\n"
     ]
    },
    {
     "name": "stderr",
     "output_type": "stream",
     "text": [
      "Iteration: 100%|██████████| 2188/2188 [02:31<00:00, 14.41it/s]\n"
     ]
    },
    {
     "name": "stdout",
     "output_type": "stream",
     "text": [
      "Average training loss: 0.5119278591800434\n",
      "Evaluating...\n",
      "ROAUC scores:  {'Train': 0.8699014782905579, 'Validation': 0.8688746690750122}\n",
      "=====Epoch 24\n",
      "Training...\n"
     ]
    },
    {
     "name": "stderr",
     "output_type": "stream",
     "text": [
      "Iteration: 100%|██████████| 2188/2188 [02:32<00:00, 14.33it/s]\n"
     ]
    },
    {
     "name": "stdout",
     "output_type": "stream",
     "text": [
      "Average training loss: 0.5125798465074525\n",
      "Evaluating...\n",
      "ROAUC scores:  {'Train': 0.8713685274124146, 'Validation': 0.8705602884292603}\n",
      "=====Epoch 25\n",
      "Training...\n"
     ]
    },
    {
     "name": "stderr",
     "output_type": "stream",
     "text": [
      "Iteration: 100%|██████████| 2188/2188 [02:28<00:00, 14.76it/s]\n"
     ]
    },
    {
     "name": "stdout",
     "output_type": "stream",
     "text": [
      "Average training loss: 0.5114661490023681\n",
      "Evaluating...\n",
      "ROAUC scores:  {'Train': 0.8690933585166931, 'Validation': 0.8681923151016235}\n",
      "=====Epoch 26\n",
      "Training...\n"
     ]
    },
    {
     "name": "stderr",
     "output_type": "stream",
     "text": [
      "Iteration: 100%|██████████| 2188/2188 [02:32<00:00, 14.33it/s]\n"
     ]
    },
    {
     "name": "stdout",
     "output_type": "stream",
     "text": [
      "Average training loss: 0.5120576177834375\n",
      "Evaluating...\n",
      "ROAUC scores:  {'Train': 0.8720210790634155, 'Validation': 0.8710700273513794}\n",
      "=====Epoch 27\n",
      "Training...\n"
     ]
    },
    {
     "name": "stderr",
     "output_type": "stream",
     "text": [
      "Iteration: 100%|██████████| 2188/2188 [02:29<00:00, 14.63it/s]\n"
     ]
    },
    {
     "name": "stdout",
     "output_type": "stream",
     "text": [
      "Average training loss: 0.5119361916805534\n",
      "Evaluating...\n",
      "ROAUC scores:  {'Train': 0.8711850643157959, 'Validation': 0.8705085515975952}\n",
      "=====Epoch 28\n",
      "Training...\n"
     ]
    },
    {
     "name": "stderr",
     "output_type": "stream",
     "text": [
      "Iteration: 100%|██████████| 2188/2188 [02:26<00:00, 14.90it/s]\n"
     ]
    },
    {
     "name": "stdout",
     "output_type": "stream",
     "text": [
      "Average training loss: 0.5116528379688315\n",
      "Evaluating...\n",
      "ROAUC scores:  {'Train': 0.8696811199188232, 'Validation': 0.8686683773994446}\n",
      "=====Epoch 29\n",
      "Training...\n"
     ]
    },
    {
     "name": "stderr",
     "output_type": "stream",
     "text": [
      "Iteration: 100%|██████████| 2188/2188 [02:30<00:00, 14.51it/s]\n"
     ]
    },
    {
     "name": "stdout",
     "output_type": "stream",
     "text": [
      "Average training loss: 0.5109619313690954\n",
      "Evaluating...\n",
      "ROAUC scores:  {'Train': 0.8690903782844543, 'Validation': 0.8683627843856812}\n",
      "=====Epoch 30\n",
      "Training...\n"
     ]
    },
    {
     "name": "stderr",
     "output_type": "stream",
     "text": [
      "Iteration: 100%|██████████| 2188/2188 [02:29<00:00, 14.65it/s]\n"
     ]
    },
    {
     "name": "stdout",
     "output_type": "stream",
     "text": [
      "Average training loss: 0.5102716953079923\n",
      "Evaluating...\n",
      "ROAUC scores:  {'Train': 0.8720585107803345, 'Validation': 0.8706750869750977}\n",
      "=====Epoch 31\n",
      "Training...\n"
     ]
    },
    {
     "name": "stderr",
     "output_type": "stream",
     "text": [
      "Iteration: 100%|██████████| 2188/2188 [02:30<00:00, 14.54it/s]\n"
     ]
    },
    {
     "name": "stdout",
     "output_type": "stream",
     "text": [
      "Average training loss: 0.5100683278559113\n",
      "Evaluating...\n",
      "ROAUC scores:  {'Train': 0.8717700242996216, 'Validation': 0.8705282211303711}\n",
      "=====Epoch 32\n",
      "Training...\n"
     ]
    },
    {
     "name": "stderr",
     "output_type": "stream",
     "text": [
      "Iteration: 100%|██████████| 2188/2188 [02:27<00:00, 14.86it/s]\n"
     ]
    },
    {
     "name": "stdout",
     "output_type": "stream",
     "text": [
      "Average training loss: 0.5108012351627977\n",
      "Evaluating...\n",
      "ROAUC scores:  {'Train': 0.8716086149215698, 'Validation': 0.8702489733695984}\n",
      "=====Epoch 33\n",
      "Training...\n"
     ]
    },
    {
     "name": "stderr",
     "output_type": "stream",
     "text": [
      "Iteration: 100%|██████████| 2188/2188 [02:29<00:00, 14.59it/s]\n"
     ]
    },
    {
     "name": "stdout",
     "output_type": "stream",
     "text": [
      "Average training loss: 0.5100832527036858\n",
      "Evaluating...\n",
      "ROAUC scores:  {'Train': 0.8716449737548828, 'Validation': 0.8703022003173828}\n",
      "=====Epoch 34\n",
      "Training...\n"
     ]
    },
    {
     "name": "stderr",
     "output_type": "stream",
     "text": [
      "Iteration: 100%|██████████| 2188/2188 [02:23<00:00, 15.21it/s]\n"
     ]
    },
    {
     "name": "stdout",
     "output_type": "stream",
     "text": [
      "Average training loss: 0.5101161993481559\n",
      "Evaluating...\n",
      "ROAUC scores:  {'Train': 0.8715892434120178, 'Validation': 0.8704921007156372}\n",
      "=====Epoch 35\n",
      "Training...\n"
     ]
    },
    {
     "name": "stderr",
     "output_type": "stream",
     "text": [
      "Iteration: 100%|██████████| 2188/2188 [02:36<00:00, 13.97it/s]\n"
     ]
    },
    {
     "name": "stdout",
     "output_type": "stream",
     "text": [
      "Average training loss: 0.5098155506050565\n",
      "Evaluating...\n",
      "ROAUC scores:  {'Train': 0.871620774269104, 'Validation': 0.870195746421814}\n",
      "=====Epoch 36\n",
      "Training...\n"
     ]
    },
    {
     "name": "stderr",
     "output_type": "stream",
     "text": [
      "Iteration: 100%|██████████| 2188/2188 [02:26<00:00, 14.90it/s]\n"
     ]
    },
    {
     "name": "stdout",
     "output_type": "stream",
     "text": [
      "Average training loss: 0.5098625452170861\n",
      "Evaluating...\n",
      "ROAUC scores:  {'Train': 0.8710184097290039, 'Validation': 0.8694014549255371}\n",
      "=====Epoch 37\n",
      "Training...\n"
     ]
    },
    {
     "name": "stderr",
     "output_type": "stream",
     "text": [
      "Iteration: 100%|██████████| 2188/2188 [02:38<00:00, 13.79it/s]\n"
     ]
    },
    {
     "name": "stdout",
     "output_type": "stream",
     "text": [
      "Average training loss: 0.510017013487149\n",
      "Evaluating...\n",
      "ROAUC scores:  {'Train': 0.8727719783782959, 'Validation': 0.8709975481033325}\n",
      "=====Epoch 38\n",
      "Training...\n"
     ]
    },
    {
     "name": "stderr",
     "output_type": "stream",
     "text": [
      "Iteration: 100%|██████████| 2188/2188 [02:40<00:00, 13.62it/s]\n"
     ]
    },
    {
     "name": "stdout",
     "output_type": "stream",
     "text": [
      "Average training loss: 0.5092205377721264\n",
      "Evaluating...\n",
      "ROAUC scores:  {'Train': 0.8729770183563232, 'Validation': 0.8712793588638306}\n",
      "=====Epoch 39\n",
      "Training...\n"
     ]
    },
    {
     "name": "stderr",
     "output_type": "stream",
     "text": [
      "Iteration: 100%|██████████| 2188/2188 [02:40<00:00, 13.61it/s]\n"
     ]
    },
    {
     "name": "stdout",
     "output_type": "stream",
     "text": [
      "Average training loss: 0.5094419859036449\n",
      "Evaluating...\n",
      "ROAUC scores:  {'Train': 0.8726171851158142, 'Validation': 0.8710023164749146}\n",
      "=====Epoch 40\n",
      "Training...\n"
     ]
    },
    {
     "name": "stderr",
     "output_type": "stream",
     "text": [
      "Iteration: 100%|██████████| 2188/2188 [02:34<00:00, 14.18it/s]\n"
     ]
    },
    {
     "name": "stdout",
     "output_type": "stream",
     "text": [
      "Average training loss: 0.5094245782690685\n",
      "Evaluating...\n",
      "ROAUC scores:  {'Train': 0.8727693557739258, 'Validation': 0.8706198930740356}\n",
      "=====Epoch 41\n",
      "Training...\n"
     ]
    },
    {
     "name": "stderr",
     "output_type": "stream",
     "text": [
      "Iteration: 100%|██████████| 2188/2188 [02:36<00:00, 13.97it/s]\n"
     ]
    },
    {
     "name": "stdout",
     "output_type": "stream",
     "text": [
      "Average training loss: 0.5097303980283807\n",
      "Evaluating...\n",
      "ROAUC scores:  {'Train': 0.8717496395111084, 'Validation': 0.8700937628746033}\n",
      "=====Epoch 42\n",
      "Training...\n"
     ]
    },
    {
     "name": "stderr",
     "output_type": "stream",
     "text": [
      "Iteration: 100%|██████████| 2188/2188 [02:35<00:00, 14.03it/s]\n"
     ]
    },
    {
     "name": "stdout",
     "output_type": "stream",
     "text": [
      "Average training loss: 0.5090410223526972\n",
      "Evaluating...\n",
      "ROAUC scores:  {'Train': 0.8721281290054321, 'Validation': 0.8703560829162598}\n",
      "=====Epoch 43\n",
      "Training...\n"
     ]
    },
    {
     "name": "stderr",
     "output_type": "stream",
     "text": [
      "Iteration: 100%|██████████| 2188/2188 [02:35<00:00, 14.07it/s]\n"
     ]
    },
    {
     "name": "stdout",
     "output_type": "stream",
     "text": [
      "Average training loss: 0.5095544903789403\n",
      "Evaluating...\n",
      "ROAUC scores:  {'Train': 0.8738383054733276, 'Validation': 0.8717211484909058}\n",
      "=====Epoch 44\n",
      "Training...\n"
     ]
    },
    {
     "name": "stderr",
     "output_type": "stream",
     "text": [
      "Iteration: 100%|██████████| 2188/2188 [02:37<00:00, 13.85it/s]\n"
     ]
    },
    {
     "name": "stdout",
     "output_type": "stream",
     "text": [
      "Average training loss: 0.5074779623659699\n",
      "Evaluating...\n",
      "ROAUC scores:  {'Train': 0.8722825646400452, 'Validation': 0.8702841997146606}\n",
      "=====Epoch 45\n",
      "Training...\n"
     ]
    },
    {
     "name": "stderr",
     "output_type": "stream",
     "text": [
      "Iteration: 100%|██████████| 2188/2188 [02:30<00:00, 14.57it/s]\n"
     ]
    },
    {
     "name": "stdout",
     "output_type": "stream",
     "text": [
      "Average training loss: 0.507973619050583\n",
      "Evaluating...\n",
      "ROAUC scores:  {'Train': 0.8730079531669617, 'Validation': 0.8707097768783569}\n",
      "=====Epoch 46\n",
      "Training...\n"
     ]
    },
    {
     "name": "stderr",
     "output_type": "stream",
     "text": [
      "Iteration: 100%|██████████| 2188/2188 [02:37<00:00, 13.92it/s]\n"
     ]
    },
    {
     "name": "stdout",
     "output_type": "stream",
     "text": [
      "Average training loss: 0.5083661841763221\n",
      "Evaluating...\n",
      "ROAUC scores:  {'Train': 0.8746219873428345, 'Validation': 0.872497022151947}\n",
      "=====Epoch 47\n",
      "Training...\n"
     ]
    },
    {
     "name": "stderr",
     "output_type": "stream",
     "text": [
      "Iteration: 100%|██████████| 2188/2188 [02:29<00:00, 14.60it/s]\n"
     ]
    },
    {
     "name": "stdout",
     "output_type": "stream",
     "text": [
      "Average training loss: 0.5075355103508428\n",
      "Evaluating...\n",
      "ROAUC scores:  {'Train': 0.8732395172119141, 'Validation': 0.8715653419494629}\n",
      "=====Epoch 48\n",
      "Training...\n"
     ]
    },
    {
     "name": "stderr",
     "output_type": "stream",
     "text": [
      "Iteration: 100%|██████████| 2188/2188 [02:33<00:00, 14.22it/s]\n"
     ]
    },
    {
     "name": "stdout",
     "output_type": "stream",
     "text": [
      "Average training loss: 0.5081816935670005\n",
      "Evaluating...\n",
      "ROAUC scores:  {'Train': 0.8737385272979736, 'Validation': 0.8719351887702942}\n",
      "=====Epoch 49\n",
      "Training...\n"
     ]
    },
    {
     "name": "stderr",
     "output_type": "stream",
     "text": [
      "Iteration: 100%|██████████| 2188/2188 [02:40<00:00, 13.59it/s]\n"
     ]
    },
    {
     "name": "stdout",
     "output_type": "stream",
     "text": [
      "Average training loss: 0.5070123521703035\n",
      "Evaluating...\n",
      "ROAUC scores:  {'Train': 0.8724724054336548, 'Validation': 0.8699018955230713}\n",
      "=====Epoch 50\n",
      "Training...\n"
     ]
    },
    {
     "name": "stderr",
     "output_type": "stream",
     "text": [
      "Iteration: 100%|██████████| 2188/2188 [02:40<00:00, 13.60it/s]\n"
     ]
    },
    {
     "name": "stdout",
     "output_type": "stream",
     "text": [
      "Average training loss: 0.5077355822081757\n",
      "Evaluating...\n",
      "ROAUC scores:  {'Train': 0.8714710474014282, 'Validation': 0.8684195280075073}\n",
      "=====Epoch 51\n",
      "Training...\n"
     ]
    },
    {
     "name": "stderr",
     "output_type": "stream",
     "text": [
      "Iteration: 100%|██████████| 2188/2188 [02:40<00:00, 13.60it/s]\n"
     ]
    },
    {
     "name": "stdout",
     "output_type": "stream",
     "text": [
      "Average training loss: 0.5073321112440099\n",
      "Evaluating...\n",
      "ROAUC scores:  {'Train': 0.8747886419296265, 'Validation': 0.8721598982810974}\n",
      "=====Epoch 52\n",
      "Training...\n"
     ]
    },
    {
     "name": "stderr",
     "output_type": "stream",
     "text": [
      "Iteration: 100%|██████████| 2188/2188 [02:34<00:00, 14.13it/s]\n"
     ]
    },
    {
     "name": "stdout",
     "output_type": "stream",
     "text": [
      "Average training loss: 0.5070214968113402\n",
      "Evaluating...\n",
      "ROAUC scores:  {'Train': 0.8730165958404541, 'Validation': 0.8703686594963074}\n",
      "=====Epoch 53\n",
      "Training...\n"
     ]
    },
    {
     "name": "stderr",
     "output_type": "stream",
     "text": [
      "Iteration: 100%|██████████| 2188/2188 [02:36<00:00, 13.97it/s]\n"
     ]
    },
    {
     "name": "stdout",
     "output_type": "stream",
     "text": [
      "Average training loss: 0.5074606153439778\n",
      "Evaluating...\n",
      "ROAUC scores:  {'Train': 0.8735488653182983, 'Validation': 0.8708200454711914}\n",
      "=====Epoch 54\n",
      "Training...\n"
     ]
    },
    {
     "name": "stderr",
     "output_type": "stream",
     "text": [
      "Iteration: 100%|██████████| 2188/2188 [02:29<00:00, 14.65it/s]\n"
     ]
    },
    {
     "name": "stdout",
     "output_type": "stream",
     "text": [
      "Average training loss: 0.5066439653363699\n",
      "Evaluating...\n",
      "ROAUC scores:  {'Train': 0.8753085136413574, 'Validation': 0.8726427555084229}\n",
      "=====Epoch 55\n",
      "Training...\n"
     ]
    },
    {
     "name": "stderr",
     "output_type": "stream",
     "text": [
      "Iteration: 100%|██████████| 2188/2188 [02:35<00:00, 14.03it/s]\n"
     ]
    },
    {
     "name": "stdout",
     "output_type": "stream",
     "text": [
      "Average training loss: 0.5065600776557948\n",
      "Evaluating...\n",
      "ROAUC scores:  {'Train': 0.8749114274978638, 'Validation': 0.8711620569229126}\n",
      "=====Epoch 56\n",
      "Training...\n"
     ]
    },
    {
     "name": "stderr",
     "output_type": "stream",
     "text": [
      "Iteration: 100%|██████████| 2188/2188 [02:35<00:00, 14.10it/s]\n"
     ]
    },
    {
     "name": "stdout",
     "output_type": "stream",
     "text": [
      "Average training loss: 0.5064832573480754\n",
      "Evaluating...\n",
      "ROAUC scores:  {'Train': 0.875169038772583, 'Validation': 0.8720486760139465}\n",
      "=====Epoch 57\n",
      "Training...\n"
     ]
    },
    {
     "name": "stderr",
     "output_type": "stream",
     "text": [
      "Iteration: 100%|██████████| 2188/2188 [02:29<00:00, 14.64it/s]\n"
     ]
    },
    {
     "name": "stdout",
     "output_type": "stream",
     "text": [
      "Average training loss: 0.5061800209515928\n",
      "Evaluating...\n",
      "ROAUC scores:  {'Train': 0.873226523399353, 'Validation': 0.8703306913375854}\n",
      "=====Epoch 58\n",
      "Training...\n"
     ]
    },
    {
     "name": "stderr",
     "output_type": "stream",
     "text": [
      "Iteration: 100%|██████████| 2188/2188 [02:31<00:00, 14.46it/s]\n"
     ]
    },
    {
     "name": "stdout",
     "output_type": "stream",
     "text": [
      "Average training loss: 0.5072234925257223\n",
      "Evaluating...\n",
      "ROAUC scores:  {'Train': 0.8742249011993408, 'Validation': 0.8707195520401001}\n",
      "=====Epoch 59\n",
      "Training...\n"
     ]
    },
    {
     "name": "stderr",
     "output_type": "stream",
     "text": [
      "Iteration: 100%|██████████| 2188/2188 [02:28<00:00, 14.69it/s]\n"
     ]
    },
    {
     "name": "stdout",
     "output_type": "stream",
     "text": [
      "Average training loss: 0.5064382766811024\n",
      "Evaluating...\n",
      "ROAUC scores:  {'Train': 0.8753495216369629, 'Validation': 0.8724624514579773}\n",
      "=====Epoch 60\n",
      "Training...\n"
     ]
    },
    {
     "name": "stderr",
     "output_type": "stream",
     "text": [
      "Iteration: 100%|██████████| 2188/2188 [02:30<00:00, 14.50it/s]\n"
     ]
    },
    {
     "name": "stdout",
     "output_type": "stream",
     "text": [
      "Average training loss: 0.5063149960374483\n",
      "Evaluating...\n",
      "ROAUC scores:  {'Train': 0.8744620084762573, 'Validation': 0.8713162541389465}\n",
      "=====Epoch 61\n",
      "Training...\n"
     ]
    },
    {
     "name": "stderr",
     "output_type": "stream",
     "text": [
      "Iteration: 100%|██████████| 2188/2188 [02:28<00:00, 14.71it/s]\n"
     ]
    },
    {
     "name": "stdout",
     "output_type": "stream",
     "text": [
      "Average training loss: 0.5057592433919854\n",
      "Evaluating...\n",
      "ROAUC scores:  {'Train': 0.8747999668121338, 'Validation': 0.8717173337936401}\n",
      "=====Epoch 62\n",
      "Training...\n"
     ]
    },
    {
     "name": "stderr",
     "output_type": "stream",
     "text": [
      "Iteration: 100%|██████████| 2188/2188 [02:31<00:00, 14.44it/s]\n"
     ]
    },
    {
     "name": "stdout",
     "output_type": "stream",
     "text": [
      "Average training loss: 0.50597114006987\n",
      "Evaluating...\n",
      "ROAUC scores:  {'Train': 0.8757224082946777, 'Validation': 0.8723422288894653}\n",
      "=====Epoch 63\n",
      "Training...\n"
     ]
    },
    {
     "name": "stderr",
     "output_type": "stream",
     "text": [
      "Iteration: 100%|██████████| 2188/2188 [02:28<00:00, 14.75it/s]\n"
     ]
    },
    {
     "name": "stdout",
     "output_type": "stream",
     "text": [
      "Average training loss: 0.5053077738125974\n",
      "Evaluating...\n",
      "ROAUC scores:  {'Train': 0.8749850988388062, 'Validation': 0.8715770244598389}\n",
      "=====Epoch 64\n",
      "Training...\n"
     ]
    },
    {
     "name": "stderr",
     "output_type": "stream",
     "text": [
      "Iteration: 100%|██████████| 2188/2188 [02:29<00:00, 14.66it/s]\n"
     ]
    },
    {
     "name": "stdout",
     "output_type": "stream",
     "text": [
      "Average training loss: 0.5051008221681419\n",
      "Evaluating...\n",
      "ROAUC scores:  {'Train': 0.8760401010513306, 'Validation': 0.8723183870315552}\n",
      "=====Epoch 65\n",
      "Training...\n"
     ]
    },
    {
     "name": "stderr",
     "output_type": "stream",
     "text": [
      "Iteration: 100%|██████████| 2188/2188 [02:32<00:00, 14.34it/s]\n"
     ]
    },
    {
     "name": "stdout",
     "output_type": "stream",
     "text": [
      "Average training loss: 0.5045556282212573\n",
      "Evaluating...\n",
      "ROAUC scores:  {'Train': 0.8754938840866089, 'Validation': 0.872022271156311}\n",
      "=====Epoch 66\n",
      "Training...\n"
     ]
    },
    {
     "name": "stderr",
     "output_type": "stream",
     "text": [
      "Iteration: 100%|██████████| 2188/2188 [02:29<00:00, 14.66it/s]\n"
     ]
    },
    {
     "name": "stdout",
     "output_type": "stream",
     "text": [
      "Average training loss: 0.5042203830817282\n",
      "Evaluating...\n",
      "ROAUC scores:  {'Train': 0.8751358985900879, 'Validation': 0.8711485862731934}\n",
      "=====Epoch 67\n",
      "Training...\n"
     ]
    },
    {
     "name": "stderr",
     "output_type": "stream",
     "text": [
      "Iteration: 100%|██████████| 2188/2188 [02:32<00:00, 14.31it/s]\n"
     ]
    },
    {
     "name": "stdout",
     "output_type": "stream",
     "text": [
      "Average training loss: 0.504691223203591\n",
      "Evaluating...\n",
      "ROAUC scores:  {'Train': 0.87628173828125, 'Validation': 0.872530460357666}\n",
      "=====Epoch 68\n",
      "Training...\n"
     ]
    },
    {
     "name": "stderr",
     "output_type": "stream",
     "text": [
      "Iteration: 100%|██████████| 2188/2188 [02:27<00:00, 14.83it/s]\n"
     ]
    },
    {
     "name": "stdout",
     "output_type": "stream",
     "text": [
      "Average training loss: 0.5053473168360904\n",
      "Evaluating...\n",
      "ROAUC scores:  {'Train': 0.8753905296325684, 'Validation': 0.8715938925743103}\n",
      "=====Epoch 69\n",
      "Training...\n"
     ]
    },
    {
     "name": "stderr",
     "output_type": "stream",
     "text": [
      "Iteration: 100%|██████████| 2188/2188 [02:31<00:00, 14.41it/s]\n"
     ]
    },
    {
     "name": "stdout",
     "output_type": "stream",
     "text": [
      "Average training loss: 0.5048432003917817\n",
      "Evaluating...\n",
      "ROAUC scores:  {'Train': 0.8770575523376465, 'Validation': 0.873652458190918}\n",
      "=====Epoch 70\n",
      "Training...\n"
     ]
    },
    {
     "name": "stderr",
     "output_type": "stream",
     "text": [
      "Iteration: 100%|██████████| 2188/2188 [02:40<00:00, 13.60it/s]\n"
     ]
    },
    {
     "name": "stdout",
     "output_type": "stream",
     "text": [
      "Average training loss: 0.5041975821121519\n",
      "Evaluating...\n",
      "ROAUC scores:  {'Train': 0.8768487572669983, 'Validation': 0.8724943399429321}\n",
      "=====Epoch 71\n",
      "Training...\n"
     ]
    },
    {
     "name": "stderr",
     "output_type": "stream",
     "text": [
      "Iteration: 100%|██████████| 2188/2188 [02:34<00:00, 14.14it/s]\n"
     ]
    },
    {
     "name": "stdout",
     "output_type": "stream",
     "text": [
      "Average training loss: 0.5042252643834084\n",
      "Evaluating...\n",
      "ROAUC scores:  {'Train': 0.8770954608917236, 'Validation': 0.8727120161056519}\n",
      "=====Epoch 72\n",
      "Training...\n"
     ]
    },
    {
     "name": "stderr",
     "output_type": "stream",
     "text": [
      "Iteration: 100%|██████████| 2188/2188 [02:25<00:00, 14.99it/s]\n"
     ]
    },
    {
     "name": "stdout",
     "output_type": "stream",
     "text": [
      "Average training loss: 0.5042755333144878\n",
      "Evaluating...\n",
      "ROAUC scores:  {'Train': 0.8778943419456482, 'Validation': 0.8738393783569336}\n",
      "=====Epoch 73\n",
      "Training...\n"
     ]
    },
    {
     "name": "stderr",
     "output_type": "stream",
     "text": [
      "Iteration: 100%|██████████| 2188/2188 [02:36<00:00, 14.00it/s]\n"
     ]
    },
    {
     "name": "stdout",
     "output_type": "stream",
     "text": [
      "Average training loss: 0.5038617500793563\n",
      "Evaluating...\n",
      "ROAUC scores:  {'Train': 0.875625729560852, 'Validation': 0.8704603910446167}\n",
      "=====Epoch 74\n",
      "Training...\n"
     ]
    },
    {
     "name": "stderr",
     "output_type": "stream",
     "text": [
      "Iteration: 100%|██████████| 2188/2188 [02:34<00:00, 14.15it/s]\n"
     ]
    },
    {
     "name": "stdout",
     "output_type": "stream",
     "text": [
      "Average training loss: 0.5033223067003368\n",
      "Evaluating...\n",
      "ROAUC scores:  {'Train': 0.875677764415741, 'Validation': 0.8717756867408752}\n",
      "=====Epoch 75\n",
      "Training...\n"
     ]
    },
    {
     "name": "stderr",
     "output_type": "stream",
     "text": [
      "Iteration: 100%|██████████| 2188/2188 [02:35<00:00, 14.08it/s]\n"
     ]
    },
    {
     "name": "stdout",
     "output_type": "stream",
     "text": [
      "Average training loss: 0.5033711054016728\n",
      "Evaluating...\n",
      "ROAUC scores:  {'Train': 0.877160370349884, 'Validation': 0.8725188970565796}\n",
      "\n",
      "Finished training!\n",
      "\n",
      "ROAUC Test score: 0.8701311945915222\n"
     ]
    }
   ],
   "source": [
    "QG_jets_dataset = import_dataset(name=\"QG_Jets\")\n",
    "\n",
    "pointnet_model = GNN(num_classes = 2, num_layer = 2,num_post_fnn_layers=2,input_edge_dim = 1,num_coords=2, \n",
    "                 input_spec_fts_dim=4,gnn_type = 'pointnet', emb_dim = 300, drop_ratio = 0.3).to(device)\n",
    "optimizer = optim.Adam(pointnet_model.parameters(), lr=1e-3)\n",
    "\n",
    "train_model(pointnet_model,optimizer,QG_jets_dataset)"
   ]
  },
  {
   "cell_type": "markdown",
   "id": "45d2189e",
   "metadata": {},
   "source": [
    "## Training of GCN based model"
   ]
  },
  {
   "cell_type": "markdown",
   "id": "90ce459d",
   "metadata": {},
   "source": [
    "### Training with GPE "
   ]
  },
  {
   "cell_type": "code",
   "execution_count": 14,
   "id": "4d20322d",
   "metadata": {
    "scrolled": true
   },
   "outputs": [
    {
     "name": "stderr",
     "output_type": "stream",
     "text": [
      "C:\\Users\\MSI\\anaconda3\\envs\\pyg-notebook\\lib\\site-packages\\torch_geometric\\data\\dataset.py:209: UserWarning: The `pre_transform` argument differs from the one used in the pre-processed version of this dataset. If you want to make use of another pre-processing technique, make sure to delete '..\\..\\dataset\\QG_Jets\\processed/' first\n",
      "  warnings.warn(\n"
     ]
    },
    {
     "name": "stdout",
     "output_type": "stream",
     "text": [
      "=====Epoch 1\n",
      "Training...\n"
     ]
    },
    {
     "name": "stderr",
     "output_type": "stream",
     "text": [
      "Iteration: 100%|██████████| 2188/2188 [00:37<00:00, 58.48it/s]\n"
     ]
    },
    {
     "name": "stdout",
     "output_type": "stream",
     "text": [
      "Average training loss: 0.5257440694561825\n",
      "Evaluating...\n",
      "ROAUC scores:  {'Train': 0.860903263092041, 'Validation': 0.8610101938247681}\n",
      "=====Epoch 2\n",
      "Training...\n"
     ]
    },
    {
     "name": "stderr",
     "output_type": "stream",
     "text": [
      "Iteration: 100%|██████████| 2188/2188 [00:26<00:00, 81.12it/s]\n"
     ]
    },
    {
     "name": "stdout",
     "output_type": "stream",
     "text": [
      "Average training loss: 0.5214273425353728\n",
      "Evaluating...\n",
      "ROAUC scores:  {'Train': 0.8606448173522949, 'Validation': 0.8606523275375366}\n",
      "=====Epoch 3\n",
      "Training...\n"
     ]
    },
    {
     "name": "stderr",
     "output_type": "stream",
     "text": [
      "Iteration: 100%|██████████| 2188/2188 [00:28<00:00, 78.13it/s]\n"
     ]
    },
    {
     "name": "stdout",
     "output_type": "stream",
     "text": [
      "Average training loss: 0.5193967459215978\n",
      "Evaluating...\n",
      "ROAUC scores:  {'Train': 0.8628547191619873, 'Validation': 0.862496018409729}\n",
      "=====Epoch 4\n",
      "Training...\n"
     ]
    },
    {
     "name": "stderr",
     "output_type": "stream",
     "text": [
      "Iteration: 100%|██████████| 2188/2188 [00:28<00:00, 76.01it/s]\n"
     ]
    },
    {
     "name": "stdout",
     "output_type": "stream",
     "text": [
      "Average training loss: 0.5188389459464842\n",
      "Evaluating...\n",
      "ROAUC scores:  {'Train': 0.8663569092750549, 'Validation': 0.8658032417297363}\n",
      "=====Epoch 5\n",
      "Training...\n"
     ]
    },
    {
     "name": "stderr",
     "output_type": "stream",
     "text": [
      "Iteration: 100%|██████████| 2188/2188 [00:29<00:00, 74.34it/s]\n"
     ]
    },
    {
     "name": "stdout",
     "output_type": "stream",
     "text": [
      "Average training loss: 0.5175307112076819\n",
      "Evaluating...\n",
      "ROAUC scores:  {'Train': 0.8637694120407104, 'Validation': 0.8636735677719116}\n",
      "=====Epoch 6\n",
      "Training...\n"
     ]
    },
    {
     "name": "stderr",
     "output_type": "stream",
     "text": [
      "Iteration: 100%|██████████| 2188/2188 [00:29<00:00, 72.96it/s]\n"
     ]
    },
    {
     "name": "stdout",
     "output_type": "stream",
     "text": [
      "Average training loss: 0.5176915379149168\n",
      "Evaluating...\n",
      "ROAUC scores:  {'Train': 0.8659428358078003, 'Validation': 0.8656755685806274}\n",
      "=====Epoch 7\n",
      "Training...\n"
     ]
    },
    {
     "name": "stderr",
     "output_type": "stream",
     "text": [
      "Iteration: 100%|██████████| 2188/2188 [00:31<00:00, 68.94it/s]\n"
     ]
    },
    {
     "name": "stdout",
     "output_type": "stream",
     "text": [
      "Average training loss: 0.5161082908865303\n",
      "Evaluating...\n",
      "ROAUC scores:  {'Train': 0.867822527885437, 'Validation': 0.8678199052810669}\n",
      "=====Epoch 8\n",
      "Training...\n"
     ]
    },
    {
     "name": "stderr",
     "output_type": "stream",
     "text": [
      "Iteration: 100%|██████████| 2188/2188 [00:35<00:00, 61.55it/s]\n"
     ]
    },
    {
     "name": "stdout",
     "output_type": "stream",
     "text": [
      "Average training loss: 0.5164533771261218\n",
      "Evaluating...\n",
      "ROAUC scores:  {'Train': 0.8676608800888062, 'Validation': 0.8678642511367798}\n",
      "=====Epoch 9\n",
      "Training...\n"
     ]
    },
    {
     "name": "stderr",
     "output_type": "stream",
     "text": [
      "Iteration: 100%|██████████| 2188/2188 [00:30<00:00, 70.61it/s]\n"
     ]
    },
    {
     "name": "stdout",
     "output_type": "stream",
     "text": [
      "Average training loss: 0.5159136407363349\n",
      "Evaluating...\n",
      "ROAUC scores:  {'Train': 0.8679288625717163, 'Validation': 0.8676323890686035}\n",
      "=====Epoch 10\n",
      "Training...\n"
     ]
    },
    {
     "name": "stderr",
     "output_type": "stream",
     "text": [
      "Iteration: 100%|██████████| 2188/2188 [00:31<00:00, 69.86it/s]\n"
     ]
    },
    {
     "name": "stdout",
     "output_type": "stream",
     "text": [
      "Average training loss: 0.5153324420970798\n",
      "Evaluating...\n",
      "ROAUC scores:  {'Train': 0.8676282167434692, 'Validation': 0.8670448660850525}\n",
      "=====Epoch 11\n",
      "Training...\n"
     ]
    },
    {
     "name": "stderr",
     "output_type": "stream",
     "text": [
      "Iteration: 100%|██████████| 2188/2188 [00:35<00:00, 61.64it/s]\n"
     ]
    },
    {
     "name": "stdout",
     "output_type": "stream",
     "text": [
      "Average training loss: 0.5141758615290661\n",
      "Evaluating...\n",
      "ROAUC scores:  {'Train': 0.8693467974662781, 'Validation': 0.869069516658783}\n",
      "=====Epoch 12\n",
      "Training...\n"
     ]
    },
    {
     "name": "stderr",
     "output_type": "stream",
     "text": [
      "Iteration: 100%|██████████| 2188/2188 [00:32<00:00, 66.61it/s]\n"
     ]
    },
    {
     "name": "stdout",
     "output_type": "stream",
     "text": [
      "Average training loss: 0.5150229798347248\n",
      "Evaluating...\n",
      "ROAUC scores:  {'Train': 0.8689647912979126, 'Validation': 0.8687614798545837}\n",
      "=====Epoch 13\n",
      "Training...\n"
     ]
    },
    {
     "name": "stderr",
     "output_type": "stream",
     "text": [
      "Iteration: 100%|██████████| 2188/2188 [00:31<00:00, 69.28it/s]\n"
     ]
    },
    {
     "name": "stdout",
     "output_type": "stream",
     "text": [
      "Average training loss: 0.5137417530419621\n",
      "Evaluating...\n",
      "ROAUC scores:  {'Train': 0.8705579042434692, 'Validation': 0.8701055645942688}\n",
      "=====Epoch 14\n",
      "Training...\n"
     ]
    },
    {
     "name": "stderr",
     "output_type": "stream",
     "text": [
      "Iteration: 100%|██████████| 2188/2188 [00:31<00:00, 68.96it/s]\n"
     ]
    },
    {
     "name": "stdout",
     "output_type": "stream",
     "text": [
      "Average training loss: 0.5135110277253487\n",
      "Evaluating...\n",
      "ROAUC scores:  {'Train': 0.869513750076294, 'Validation': 0.8687781095504761}\n",
      "=====Epoch 15\n",
      "Training...\n"
     ]
    },
    {
     "name": "stderr",
     "output_type": "stream",
     "text": [
      "Iteration: 100%|██████████| 2188/2188 [00:31<00:00, 68.74it/s]\n"
     ]
    },
    {
     "name": "stdout",
     "output_type": "stream",
     "text": [
      "Average training loss: 0.513877157414744\n",
      "Evaluating...\n",
      "ROAUC scores:  {'Train': 0.8695979714393616, 'Validation': 0.8687388896942139}\n",
      "=====Epoch 16\n",
      "Training...\n"
     ]
    },
    {
     "name": "stderr",
     "output_type": "stream",
     "text": [
      "Iteration: 100%|██████████| 2188/2188 [00:32<00:00, 67.77it/s]\n"
     ]
    },
    {
     "name": "stdout",
     "output_type": "stream",
     "text": [
      "Average training loss: 0.5127481003811198\n",
      "Evaluating...\n",
      "ROAUC scores:  {'Train': 0.8696922063827515, 'Validation': 0.8689446449279785}\n",
      "=====Epoch 17\n",
      "Training...\n"
     ]
    },
    {
     "name": "stderr",
     "output_type": "stream",
     "text": [
      "Iteration: 100%|██████████| 2188/2188 [00:31<00:00, 68.77it/s]\n"
     ]
    },
    {
     "name": "stdout",
     "output_type": "stream",
     "text": [
      "Average training loss: 0.5132966220678533\n",
      "Evaluating...\n",
      "ROAUC scores:  {'Train': 0.8699267506599426, 'Validation': 0.8692046403884888}\n",
      "=====Epoch 18\n",
      "Training...\n"
     ]
    },
    {
     "name": "stderr",
     "output_type": "stream",
     "text": [
      "Iteration: 100%|██████████| 2188/2188 [00:31<00:00, 69.71it/s]\n"
     ]
    },
    {
     "name": "stdout",
     "output_type": "stream",
     "text": [
      "Average training loss: 0.5117444381853344\n",
      "Evaluating...\n",
      "ROAUC scores:  {'Train': 0.8711331486701965, 'Validation': 0.8702178597450256}\n",
      "=====Epoch 19\n",
      "Training...\n"
     ]
    },
    {
     "name": "stderr",
     "output_type": "stream",
     "text": [
      "Iteration: 100%|██████████| 2188/2188 [00:31<00:00, 68.93it/s]\n"
     ]
    },
    {
     "name": "stdout",
     "output_type": "stream",
     "text": [
      "Average training loss: 0.5114475526800976\n",
      "Evaluating...\n",
      "ROAUC scores:  {'Train': 0.8717547655105591, 'Validation': 0.871400773525238}\n",
      "=====Epoch 20\n",
      "Training...\n"
     ]
    },
    {
     "name": "stderr",
     "output_type": "stream",
     "text": [
      "Iteration: 100%|██████████| 2188/2188 [00:31<00:00, 69.26it/s]\n"
     ]
    },
    {
     "name": "stdout",
     "output_type": "stream",
     "text": [
      "Average training loss: 0.5125659418988707\n",
      "Evaluating...\n",
      "ROAUC scores:  {'Train': 0.8713948726654053, 'Validation': 0.8708136081695557}\n",
      "=====Epoch 21\n",
      "Training...\n"
     ]
    },
    {
     "name": "stderr",
     "output_type": "stream",
     "text": [
      "Iteration: 100%|██████████| 2188/2188 [00:32<00:00, 68.35it/s]\n"
     ]
    },
    {
     "name": "stdout",
     "output_type": "stream",
     "text": [
      "Average training loss: 0.5119466441504699\n",
      "Evaluating...\n",
      "ROAUC scores:  {'Train': 0.8707377910614014, 'Validation': 0.8702837824821472}\n",
      "=====Epoch 22\n",
      "Training...\n"
     ]
    },
    {
     "name": "stderr",
     "output_type": "stream",
     "text": [
      "Iteration: 100%|██████████| 2188/2188 [00:31<00:00, 69.17it/s]\n"
     ]
    },
    {
     "name": "stdout",
     "output_type": "stream",
     "text": [
      "Average training loss: 0.5113799173718615\n",
      "Evaluating...\n",
      "ROAUC scores:  {'Train': 0.8727436065673828, 'Validation': 0.8723272681236267}\n",
      "=====Epoch 23\n",
      "Training...\n"
     ]
    },
    {
     "name": "stderr",
     "output_type": "stream",
     "text": [
      "Iteration: 100%|██████████| 2188/2188 [00:31<00:00, 68.85it/s]\n"
     ]
    },
    {
     "name": "stdout",
     "output_type": "stream",
     "text": [
      "Average training loss: 0.5113020600032545\n",
      "Evaluating...\n",
      "ROAUC scores:  {'Train': 0.8715546131134033, 'Validation': 0.8714849948883057}\n",
      "=====Epoch 24\n",
      "Training...\n"
     ]
    },
    {
     "name": "stderr",
     "output_type": "stream",
     "text": [
      "Iteration: 100%|██████████| 2188/2188 [00:32<00:00, 67.65it/s]\n"
     ]
    },
    {
     "name": "stdout",
     "output_type": "stream",
     "text": [
      "Average training loss: 0.5111789701326019\n",
      "Evaluating...\n",
      "ROAUC scores:  {'Train': 0.8720149397850037, 'Validation': 0.8714002370834351}\n",
      "=====Epoch 25\n",
      "Training...\n"
     ]
    },
    {
     "name": "stderr",
     "output_type": "stream",
     "text": [
      "Iteration: 100%|██████████| 2188/2188 [00:32<00:00, 67.79it/s]\n"
     ]
    },
    {
     "name": "stdout",
     "output_type": "stream",
     "text": [
      "Average training loss: 0.5109417732444063\n",
      "Evaluating...\n",
      "ROAUC scores:  {'Train': 0.870933473110199, 'Validation': 0.8710314035415649}\n",
      "=====Epoch 26\n",
      "Training...\n"
     ]
    },
    {
     "name": "stderr",
     "output_type": "stream",
     "text": [
      "Iteration: 100%|██████████| 2188/2188 [00:31<00:00, 68.63it/s]\n"
     ]
    },
    {
     "name": "stdout",
     "output_type": "stream",
     "text": [
      "Average training loss: 0.5108577587405114\n",
      "Evaluating...\n",
      "ROAUC scores:  {'Train': 0.8709770441055298, 'Validation': 0.870854377746582}\n",
      "=====Epoch 27\n",
      "Training...\n"
     ]
    },
    {
     "name": "stderr",
     "output_type": "stream",
     "text": [
      "Iteration: 100%|██████████| 2188/2188 [00:32<00:00, 67.04it/s]\n"
     ]
    },
    {
     "name": "stdout",
     "output_type": "stream",
     "text": [
      "Average training loss: 0.5109124490259116\n",
      "Evaluating...\n",
      "ROAUC scores:  {'Train': 0.8717897534370422, 'Validation': 0.8714373707771301}\n",
      "=====Epoch 28\n",
      "Training...\n"
     ]
    },
    {
     "name": "stderr",
     "output_type": "stream",
     "text": [
      "Iteration: 100%|██████████| 2188/2188 [00:31<00:00, 69.06it/s]\n"
     ]
    },
    {
     "name": "stdout",
     "output_type": "stream",
     "text": [
      "Average training loss: 0.5106170829487675\n",
      "Evaluating...\n",
      "ROAUC scores:  {'Train': 0.8718029260635376, 'Validation': 0.8710183501243591}\n",
      "=====Epoch 29\n",
      "Training...\n"
     ]
    },
    {
     "name": "stderr",
     "output_type": "stream",
     "text": [
      "Iteration: 100%|██████████| 2188/2188 [00:32<00:00, 67.45it/s]\n"
     ]
    },
    {
     "name": "stdout",
     "output_type": "stream",
     "text": [
      "Average training loss: 0.5099469643406284\n",
      "Evaluating...\n",
      "ROAUC scores:  {'Train': 0.870331883430481, 'Validation': 0.8699193000793457}\n",
      "=====Epoch 30\n",
      "Training...\n"
     ]
    },
    {
     "name": "stderr",
     "output_type": "stream",
     "text": [
      "Iteration: 100%|██████████| 2188/2188 [00:31<00:00, 68.71it/s]\n"
     ]
    },
    {
     "name": "stdout",
     "output_type": "stream",
     "text": [
      "Average training loss: 0.5102101842816613\n",
      "Evaluating...\n",
      "ROAUC scores:  {'Train': 0.8722693920135498, 'Validation': 0.8710672855377197}\n",
      "=====Epoch 31\n",
      "Training...\n"
     ]
    },
    {
     "name": "stderr",
     "output_type": "stream",
     "text": [
      "Iteration: 100%|██████████| 2188/2188 [00:32<00:00, 66.67it/s]\n"
     ]
    },
    {
     "name": "stdout",
     "output_type": "stream",
     "text": [
      "Average training loss: 0.5096165160401648\n",
      "Evaluating...\n",
      "ROAUC scores:  {'Train': 0.8735992908477783, 'Validation': 0.8731201887130737}\n",
      "=====Epoch 32\n",
      "Training...\n"
     ]
    },
    {
     "name": "stderr",
     "output_type": "stream",
     "text": [
      "Iteration: 100%|██████████| 2188/2188 [00:31<00:00, 68.40it/s]\n"
     ]
    },
    {
     "name": "stdout",
     "output_type": "stream",
     "text": [
      "Average training loss: 0.5104135832931486\n",
      "Evaluating...\n",
      "ROAUC scores:  {'Train': 0.8733552694320679, 'Validation': 0.8730689287185669}\n",
      "=====Epoch 33\n",
      "Training...\n"
     ]
    },
    {
     "name": "stderr",
     "output_type": "stream",
     "text": [
      "Iteration: 100%|██████████| 2188/2188 [00:34<00:00, 63.22it/s]\n"
     ]
    },
    {
     "name": "stdout",
     "output_type": "stream",
     "text": [
      "Average training loss: 0.5098663116830794\n",
      "Evaluating...\n",
      "ROAUC scores:  {'Train': 0.8726544380187988, 'Validation': 0.8720848560333252}\n",
      "=====Epoch 34\n",
      "Training...\n"
     ]
    },
    {
     "name": "stderr",
     "output_type": "stream",
     "text": [
      "Iteration: 100%|██████████| 2188/2188 [00:33<00:00, 66.14it/s]\n"
     ]
    },
    {
     "name": "stdout",
     "output_type": "stream",
     "text": [
      "Average training loss: 0.509321613206615\n",
      "Evaluating...\n",
      "ROAUC scores:  {'Train': 0.870938777923584, 'Validation': 0.8706455230712891}\n",
      "=====Epoch 35\n",
      "Training...\n"
     ]
    },
    {
     "name": "stderr",
     "output_type": "stream",
     "text": [
      "Iteration: 100%|██████████| 2188/2188 [00:32<00:00, 67.21it/s]\n"
     ]
    },
    {
     "name": "stdout",
     "output_type": "stream",
     "text": [
      "Average training loss: 0.5096721031875018\n",
      "Evaluating...\n",
      "ROAUC scores:  {'Train': 0.8733812570571899, 'Validation': 0.8724511861801147}\n",
      "=====Epoch 36\n",
      "Training...\n"
     ]
    },
    {
     "name": "stderr",
     "output_type": "stream",
     "text": [
      "Iteration: 100%|██████████| 2188/2188 [00:32<00:00, 67.02it/s]\n"
     ]
    },
    {
     "name": "stdout",
     "output_type": "stream",
     "text": [
      "Average training loss: 0.509131707523488\n",
      "Evaluating...\n",
      "ROAUC scores:  {'Train': 0.8725975155830383, 'Validation': 0.8713606595993042}\n",
      "=====Epoch 37\n",
      "Training...\n"
     ]
    },
    {
     "name": "stderr",
     "output_type": "stream",
     "text": [
      "Iteration: 100%|██████████| 2188/2188 [00:32<00:00, 66.73it/s]\n"
     ]
    },
    {
     "name": "stdout",
     "output_type": "stream",
     "text": [
      "Average training loss: 0.5096034777692946\n",
      "Evaluating...\n",
      "ROAUC scores:  {'Train': 0.873694896697998, 'Validation': 0.8731011748313904}\n",
      "=====Epoch 38\n",
      "Training...\n"
     ]
    },
    {
     "name": "stderr",
     "output_type": "stream",
     "text": [
      "Iteration: 100%|██████████| 2188/2188 [00:32<00:00, 67.06it/s]\n"
     ]
    },
    {
     "name": "stdout",
     "output_type": "stream",
     "text": [
      "Average training loss: 0.5094285822138054\n",
      "Evaluating...\n",
      "ROAUC scores:  {'Train': 0.8737905621528625, 'Validation': 0.8731966018676758}\n",
      "=====Epoch 39\n",
      "Training...\n"
     ]
    },
    {
     "name": "stderr",
     "output_type": "stream",
     "text": [
      "Iteration: 100%|██████████| 2188/2188 [00:33<00:00, 64.36it/s]\n"
     ]
    },
    {
     "name": "stdout",
     "output_type": "stream",
     "text": [
      "Average training loss: 0.5090133859154511\n",
      "Evaluating...\n",
      "ROAUC scores:  {'Train': 0.8728063702583313, 'Validation': 0.8713783025741577}\n",
      "=====Epoch 40\n",
      "Training...\n"
     ]
    },
    {
     "name": "stderr",
     "output_type": "stream",
     "text": [
      "Iteration: 100%|██████████| 2188/2188 [00:32<00:00, 66.56it/s]\n"
     ]
    },
    {
     "name": "stdout",
     "output_type": "stream",
     "text": [
      "Average training loss: 0.5087978407958526\n",
      "Evaluating...\n",
      "ROAUC scores:  {'Train': 0.8674192428588867, 'Validation': 0.8660330772399902}\n",
      "=====Epoch 41\n",
      "Training...\n"
     ]
    },
    {
     "name": "stderr",
     "output_type": "stream",
     "text": [
      "Iteration: 100%|██████████| 2188/2188 [00:32<00:00, 66.60it/s]\n"
     ]
    },
    {
     "name": "stdout",
     "output_type": "stream",
     "text": [
      "Average training loss: 0.5091164713449626\n",
      "Evaluating...\n",
      "ROAUC scores:  {'Train': 0.8726012110710144, 'Validation': 0.8713294267654419}\n",
      "=====Epoch 42\n",
      "Training...\n"
     ]
    },
    {
     "name": "stderr",
     "output_type": "stream",
     "text": [
      "Iteration: 100%|██████████| 2188/2188 [00:33<00:00, 66.18it/s]\n"
     ]
    },
    {
     "name": "stdout",
     "output_type": "stream",
     "text": [
      "Average training loss: 0.5091617870565088\n",
      "Evaluating...\n",
      "ROAUC scores:  {'Train': 0.872002363204956, 'Validation': 0.8711861371994019}\n",
      "=====Epoch 43\n",
      "Training...\n"
     ]
    },
    {
     "name": "stderr",
     "output_type": "stream",
     "text": [
      "Iteration: 100%|██████████| 2188/2188 [00:32<00:00, 66.44it/s]\n"
     ]
    },
    {
     "name": "stdout",
     "output_type": "stream",
     "text": [
      "Average training loss: 0.5090467055793\n",
      "Evaluating...\n",
      "ROAUC scores:  {'Train': 0.8744007349014282, 'Validation': 0.8727902173995972}\n",
      "=====Epoch 44\n",
      "Training...\n"
     ]
    },
    {
     "name": "stderr",
     "output_type": "stream",
     "text": [
      "Iteration: 100%|██████████| 2188/2188 [00:32<00:00, 67.02it/s]\n"
     ]
    },
    {
     "name": "stdout",
     "output_type": "stream",
     "text": [
      "Average training loss: 0.5086938696326024\n",
      "Evaluating...\n",
      "ROAUC scores:  {'Train': 0.8746724724769592, 'Validation': 0.873274564743042}\n",
      "=====Epoch 45\n",
      "Training...\n"
     ]
    },
    {
     "name": "stderr",
     "output_type": "stream",
     "text": [
      "Iteration: 100%|██████████| 2188/2188 [00:32<00:00, 66.89it/s]\n"
     ]
    },
    {
     "name": "stdout",
     "output_type": "stream",
     "text": [
      "Average training loss: 0.5088549663586852\n",
      "Evaluating...\n",
      "ROAUC scores:  {'Train': 0.8726706504821777, 'Validation': 0.8720767498016357}\n",
      "=====Epoch 46\n",
      "Training...\n"
     ]
    },
    {
     "name": "stderr",
     "output_type": "stream",
     "text": [
      "Iteration: 100%|██████████| 2188/2188 [00:32<00:00, 67.06it/s]\n"
     ]
    },
    {
     "name": "stdout",
     "output_type": "stream",
     "text": [
      "Average training loss: 0.5084073296058549\n",
      "Evaluating...\n",
      "ROAUC scores:  {'Train': 0.8729790449142456, 'Validation': 0.8717129230499268}\n",
      "=====Epoch 47\n",
      "Training...\n"
     ]
    },
    {
     "name": "stderr",
     "output_type": "stream",
     "text": [
      "Iteration: 100%|██████████| 2188/2188 [00:32<00:00, 67.54it/s]\n"
     ]
    },
    {
     "name": "stdout",
     "output_type": "stream",
     "text": [
      "Average training loss: 0.5078337680841277\n",
      "Evaluating...\n",
      "ROAUC scores:  {'Train': 0.8728843927383423, 'Validation': 0.8712385892868042}\n",
      "=====Epoch 48\n",
      "Training...\n"
     ]
    },
    {
     "name": "stderr",
     "output_type": "stream",
     "text": [
      "Iteration: 100%|██████████| 2188/2188 [00:32<00:00, 67.26it/s]\n"
     ]
    },
    {
     "name": "stdout",
     "output_type": "stream",
     "text": [
      "Average training loss: 0.5080387970429234\n",
      "Evaluating...\n",
      "ROAUC scores:  {'Train': 0.8725199699401855, 'Validation': 0.8713496923446655}\n",
      "=====Epoch 49\n",
      "Training...\n"
     ]
    },
    {
     "name": "stderr",
     "output_type": "stream",
     "text": [
      "Iteration: 100%|██████████| 2188/2188 [00:32<00:00, 67.60it/s]\n"
     ]
    },
    {
     "name": "stdout",
     "output_type": "stream",
     "text": [
      "Average training loss: 0.5083754540470444\n",
      "Evaluating...\n",
      "ROAUC scores:  {'Train': 0.8733323216438293, 'Validation': 0.8714393973350525}\n",
      "=====Epoch 50\n",
      "Training...\n"
     ]
    },
    {
     "name": "stderr",
     "output_type": "stream",
     "text": [
      "Iteration: 100%|██████████| 2188/2188 [00:32<00:00, 67.22it/s]\n"
     ]
    },
    {
     "name": "stdout",
     "output_type": "stream",
     "text": [
      "Average training loss: 0.5089286198972348\n",
      "Evaluating...\n",
      "ROAUC scores:  {'Train': 0.8747598528862, 'Validation': 0.8737496137619019}\n",
      "=====Epoch 51\n",
      "Training...\n"
     ]
    },
    {
     "name": "stderr",
     "output_type": "stream",
     "text": [
      "Iteration: 100%|██████████| 2188/2188 [00:32<00:00, 66.93it/s]\n"
     ]
    },
    {
     "name": "stdout",
     "output_type": "stream",
     "text": [
      "Average training loss: 0.5084059044201151\n",
      "Evaluating...\n",
      "ROAUC scores:  {'Train': 0.8738851547241211, 'Validation': 0.8727562427520752}\n",
      "=====Epoch 52\n",
      "Training...\n"
     ]
    },
    {
     "name": "stderr",
     "output_type": "stream",
     "text": [
      "Iteration: 100%|██████████| 2188/2188 [00:32<00:00, 67.31it/s]\n"
     ]
    },
    {
     "name": "stdout",
     "output_type": "stream",
     "text": [
      "Average training loss: 0.5082800011584702\n",
      "Evaluating...\n",
      "ROAUC scores:  {'Train': 0.8736099004745483, 'Validation': 0.871715784072876}\n",
      "=====Epoch 53\n",
      "Training...\n"
     ]
    },
    {
     "name": "stderr",
     "output_type": "stream",
     "text": [
      "Iteration: 100%|██████████| 2188/2188 [00:32<00:00, 67.54it/s]\n"
     ]
    },
    {
     "name": "stdout",
     "output_type": "stream",
     "text": [
      "Average training loss: 0.5074106070197697\n",
      "Evaluating...\n",
      "ROAUC scores:  {'Train': 0.8742491602897644, 'Validation': 0.8723645210266113}\n",
      "=====Epoch 54\n",
      "Training...\n"
     ]
    },
    {
     "name": "stderr",
     "output_type": "stream",
     "text": [
      "Iteration: 100%|██████████| 2188/2188 [00:32<00:00, 67.15it/s]\n"
     ]
    },
    {
     "name": "stdout",
     "output_type": "stream",
     "text": [
      "Average training loss: 0.5078166128430768\n",
      "Evaluating...\n",
      "ROAUC scores:  {'Train': 0.8752480745315552, 'Validation': 0.874092698097229}\n",
      "=====Epoch 55\n",
      "Training...\n"
     ]
    },
    {
     "name": "stderr",
     "output_type": "stream",
     "text": [
      "Iteration: 100%|██████████| 2188/2188 [00:32<00:00, 67.23it/s]\n"
     ]
    },
    {
     "name": "stdout",
     "output_type": "stream",
     "text": [
      "Average training loss: 0.5079840662901101\n",
      "Evaluating...\n",
      "ROAUC scores:  {'Train': 0.874587893486023, 'Validation': 0.8735040426254272}\n",
      "=====Epoch 56\n",
      "Training...\n"
     ]
    },
    {
     "name": "stderr",
     "output_type": "stream",
     "text": [
      "Iteration: 100%|██████████| 2188/2188 [00:33<00:00, 66.28it/s]\n"
     ]
    },
    {
     "name": "stdout",
     "output_type": "stream",
     "text": [
      "Average training loss: 0.507491496325193\n",
      "Evaluating...\n",
      "ROAUC scores:  {'Train': 0.8747178316116333, 'Validation': 0.8737173080444336}\n",
      "=====Epoch 57\n",
      "Training...\n"
     ]
    },
    {
     "name": "stderr",
     "output_type": "stream",
     "text": [
      "Iteration: 100%|██████████| 2188/2188 [00:32<00:00, 66.36it/s]\n"
     ]
    },
    {
     "name": "stdout",
     "output_type": "stream",
     "text": [
      "Average training loss: 0.5070916800002075\n",
      "Evaluating...\n",
      "ROAUC scores:  {'Train': 0.8751394748687744, 'Validation': 0.8733458518981934}\n",
      "=====Epoch 58\n",
      "Training...\n"
     ]
    },
    {
     "name": "stderr",
     "output_type": "stream",
     "text": [
      "Iteration: 100%|██████████| 2188/2188 [00:33<00:00, 65.12it/s]\n"
     ]
    },
    {
     "name": "stdout",
     "output_type": "stream",
     "text": [
      "Average training loss: 0.5084673817213319\n",
      "Evaluating...\n",
      "ROAUC scores:  {'Train': 0.8746107816696167, 'Validation': 0.8733582496643066}\n",
      "=====Epoch 59\n",
      "Training...\n"
     ]
    },
    {
     "name": "stderr",
     "output_type": "stream",
     "text": [
      "Iteration: 100%|██████████| 2188/2188 [00:32<00:00, 67.20it/s]\n"
     ]
    },
    {
     "name": "stdout",
     "output_type": "stream",
     "text": [
      "Average training loss: 0.5077275579192521\n",
      "Evaluating...\n",
      "ROAUC scores:  {'Train': 0.8738857507705688, 'Validation': 0.8717935085296631}\n",
      "=====Epoch 60\n",
      "Training...\n"
     ]
    },
    {
     "name": "stderr",
     "output_type": "stream",
     "text": [
      "Iteration: 100%|██████████| 2188/2188 [00:32<00:00, 67.70it/s]\n"
     ]
    },
    {
     "name": "stdout",
     "output_type": "stream",
     "text": [
      "Average training loss: 0.5075015082710186\n",
      "Evaluating...\n",
      "ROAUC scores:  {'Train': 0.8748542070388794, 'Validation': 0.8735019564628601}\n",
      "=====Epoch 61\n",
      "Training...\n"
     ]
    },
    {
     "name": "stderr",
     "output_type": "stream",
     "text": [
      "Iteration: 100%|██████████| 2188/2188 [00:32<00:00, 67.56it/s]\n"
     ]
    },
    {
     "name": "stdout",
     "output_type": "stream",
     "text": [
      "Average training loss: 0.5081001302632597\n",
      "Evaluating...\n",
      "ROAUC scores:  {'Train': 0.8744024634361267, 'Validation': 0.8727296590805054}\n",
      "=====Epoch 62\n",
      "Training...\n"
     ]
    },
    {
     "name": "stderr",
     "output_type": "stream",
     "text": [
      "Iteration: 100%|██████████| 2188/2188 [00:32<00:00, 67.90it/s]\n"
     ]
    },
    {
     "name": "stdout",
     "output_type": "stream",
     "text": [
      "Average training loss: 0.5071621124906776\n",
      "Evaluating...\n",
      "ROAUC scores:  {'Train': 0.8742270469665527, 'Validation': 0.8727160096168518}\n",
      "=====Epoch 63\n",
      "Training...\n"
     ]
    },
    {
     "name": "stderr",
     "output_type": "stream",
     "text": [
      "Iteration: 100%|██████████| 2188/2188 [00:32<00:00, 67.72it/s]\n"
     ]
    },
    {
     "name": "stdout",
     "output_type": "stream",
     "text": [
      "Average training loss: 0.5070587752397143\n",
      "Evaluating...\n",
      "ROAUC scores:  {'Train': 0.872542679309845, 'Validation': 0.871611475944519}\n",
      "=====Epoch 64\n",
      "Training...\n"
     ]
    },
    {
     "name": "stderr",
     "output_type": "stream",
     "text": [
      "Iteration: 100%|██████████| 2188/2188 [00:32<00:00, 67.90it/s]\n"
     ]
    },
    {
     "name": "stdout",
     "output_type": "stream",
     "text": [
      "Average training loss: 0.5076284701416653\n",
      "Evaluating...\n",
      "ROAUC scores:  {'Train': 0.8759008646011353, 'Validation': 0.8738919496536255}\n",
      "=====Epoch 65\n",
      "Training...\n"
     ]
    },
    {
     "name": "stderr",
     "output_type": "stream",
     "text": [
      "Iteration: 100%|██████████| 2188/2188 [00:32<00:00, 67.92it/s]\n"
     ]
    },
    {
     "name": "stdout",
     "output_type": "stream",
     "text": [
      "Average training loss: 0.5069820760209556\n",
      "Evaluating...\n",
      "ROAUC scores:  {'Train': 0.8749250173568726, 'Validation': 0.8733831644058228}\n",
      "=====Epoch 66\n",
      "Training...\n"
     ]
    },
    {
     "name": "stderr",
     "output_type": "stream",
     "text": [
      "Iteration: 100%|██████████| 2188/2188 [00:32<00:00, 66.61it/s]\n"
     ]
    },
    {
     "name": "stdout",
     "output_type": "stream",
     "text": [
      "Average training loss: 0.5082310502582538\n",
      "Evaluating...\n",
      "ROAUC scores:  {'Train': 0.875460147857666, 'Validation': 0.8736337423324585}\n",
      "=====Epoch 67\n",
      "Training...\n"
     ]
    },
    {
     "name": "stderr",
     "output_type": "stream",
     "text": [
      "Iteration: 100%|██████████| 2188/2188 [00:32<00:00, 68.10it/s]\n"
     ]
    },
    {
     "name": "stdout",
     "output_type": "stream",
     "text": [
      "Average training loss: 0.5070033209360931\n",
      "Evaluating...\n",
      "ROAUC scores:  {'Train': 0.8733037710189819, 'Validation': 0.8717614412307739}\n",
      "=====Epoch 68\n",
      "Training...\n"
     ]
    },
    {
     "name": "stderr",
     "output_type": "stream",
     "text": [
      "Iteration: 100%|██████████| 2188/2188 [00:32<00:00, 67.50it/s]\n"
     ]
    },
    {
     "name": "stdout",
     "output_type": "stream",
     "text": [
      "Average training loss: 0.5069428747026097\n",
      "Evaluating...\n",
      "ROAUC scores:  {'Train': 0.8747228384017944, 'Validation': 0.8733593821525574}\n",
      "=====Epoch 69\n",
      "Training...\n"
     ]
    },
    {
     "name": "stderr",
     "output_type": "stream",
     "text": [
      "Iteration: 100%|██████████| 2188/2188 [00:32<00:00, 67.79it/s]\n"
     ]
    },
    {
     "name": "stdout",
     "output_type": "stream",
     "text": [
      "Average training loss: 0.5072115294539951\n",
      "Evaluating...\n",
      "ROAUC scores:  {'Train': 0.8749822378158569, 'Validation': 0.8734769821166992}\n",
      "=====Epoch 70\n",
      "Training...\n"
     ]
    },
    {
     "name": "stderr",
     "output_type": "stream",
     "text": [
      "Iteration: 100%|██████████| 2188/2188 [00:32<00:00, 67.83it/s]\n"
     ]
    },
    {
     "name": "stdout",
     "output_type": "stream",
     "text": [
      "Average training loss: 0.5073927987836833\n",
      "Evaluating...\n",
      "ROAUC scores:  {'Train': 0.8744055032730103, 'Validation': 0.8724023103713989}\n",
      "=====Epoch 71\n",
      "Training...\n"
     ]
    },
    {
     "name": "stderr",
     "output_type": "stream",
     "text": [
      "Iteration: 100%|██████████| 2188/2188 [00:33<00:00, 64.88it/s]\n"
     ]
    },
    {
     "name": "stdout",
     "output_type": "stream",
     "text": [
      "Average training loss: 0.5070534109442718\n",
      "Evaluating...\n",
      "ROAUC scores:  {'Train': 0.8741073608398438, 'Validation': 0.8726912140846252}\n",
      "=====Epoch 72\n",
      "Training...\n"
     ]
    },
    {
     "name": "stderr",
     "output_type": "stream",
     "text": [
      "Iteration: 100%|██████████| 2188/2188 [00:35<00:00, 62.02it/s]\n"
     ]
    },
    {
     "name": "stdout",
     "output_type": "stream",
     "text": [
      "Average training loss: 0.5066361276933437\n",
      "Evaluating...\n",
      "ROAUC scores:  {'Train': 0.8755701780319214, 'Validation': 0.8738547563552856}\n",
      "=====Epoch 73\n",
      "Training...\n"
     ]
    },
    {
     "name": "stderr",
     "output_type": "stream",
     "text": [
      "Iteration: 100%|██████████| 2188/2188 [00:41<00:00, 52.17it/s]\n"
     ]
    },
    {
     "name": "stdout",
     "output_type": "stream",
     "text": [
      "Average training loss: 0.507061451932303\n",
      "Evaluating...\n",
      "ROAUC scores:  {'Train': 0.873927652835846, 'Validation': 0.8719356060028076}\n",
      "=====Epoch 74\n",
      "Training...\n"
     ]
    },
    {
     "name": "stderr",
     "output_type": "stream",
     "text": [
      "Iteration: 100%|██████████| 2188/2188 [00:42<00:00, 51.99it/s]\n"
     ]
    },
    {
     "name": "stdout",
     "output_type": "stream",
     "text": [
      "Average training loss: 0.506802327317991\n",
      "Evaluating...\n",
      "ROAUC scores:  {'Train': 0.8750592470169067, 'Validation': 0.8738869428634644}\n",
      "=====Epoch 75\n",
      "Training...\n"
     ]
    },
    {
     "name": "stderr",
     "output_type": "stream",
     "text": [
      "Iteration: 100%|██████████| 2188/2188 [00:42<00:00, 51.66it/s]\n"
     ]
    },
    {
     "name": "stdout",
     "output_type": "stream",
     "text": [
      "Average training loss: 0.5069926199545808\n",
      "Evaluating...\n",
      "ROAUC scores:  {'Train': 0.8753765225410461, 'Validation': 0.8736090660095215}\n",
      "\n",
      "Finished training!\n",
      "\n",
      "ROAUC Test score: 0.873801589012146\n"
     ]
    }
   ],
   "source": [
    "QG_jets_dataset = import_dataset(name=\"QG_Jets\")\n",
    "\n",
    "gcn_model = GNN(num_classes = 2, num_layer = 2,num_post_fnn_layers=2,hasPos=True,input_edge_dim = 1,num_coords=2, \n",
    "                input_spec_fts_dim=3, gnn_type = 'gcn', emb_dim = 300, drop_ratio = 0.3).to(device)\n",
    "optimizer = optim.Adam(gcn_model.parameters(), lr=1e-3)\n",
    "\n",
    "train_model(gcn_model,optimizer,QG_jets_dataset)"
   ]
  },
  {
   "cell_type": "markdown",
   "id": "de6ac06a",
   "metadata": {},
   "source": [
    "## Training Transformers based GPS model"
   ]
  },
  {
   "cell_type": "markdown",
   "id": "cd0f5538",
   "metadata": {},
   "source": [
    "### Training with GPE summed with Random-walk embedding"
   ]
  },
  {
   "cell_type": "code",
   "execution_count": 15,
   "id": "8b9f88aa",
   "metadata": {},
   "outputs": [
    {
     "name": "stdout",
     "output_type": "stream",
     "text": [
      "=====Epoch 1\n",
      "Training...\n"
     ]
    },
    {
     "name": "stderr",
     "output_type": "stream",
     "text": [
      "Iteration: 100%|██████████| 4375/4375 [02:27<00:00, 29.62it/s]\n"
     ]
    },
    {
     "name": "stdout",
     "output_type": "stream",
     "text": [
      "Average training loss: 0.5423124539034707\n",
      "Evaluating...\n",
      "ROAUC scores:  {'Train': 0.852789580821991, 'Validation': 0.8515341281890869}\n",
      "=====Epoch 2\n",
      "Training...\n"
     ]
    },
    {
     "name": "stderr",
     "output_type": "stream",
     "text": [
      "Iteration: 100%|██████████| 4375/4375 [02:38<00:00, 27.63it/s]\n"
     ]
    },
    {
     "name": "stdout",
     "output_type": "stream",
     "text": [
      "Average training loss: 0.5364028421878815\n",
      "Evaluating...\n",
      "ROAUC scores:  {'Train': 0.8397599458694458, 'Validation': 0.8411649465560913}\n",
      "=====Epoch 3\n",
      "Training...\n"
     ]
    },
    {
     "name": "stderr",
     "output_type": "stream",
     "text": [
      "Iteration: 100%|██████████| 4375/4375 [04:45<00:00, 15.32it/s]\n"
     ]
    },
    {
     "name": "stdout",
     "output_type": "stream",
     "text": [
      "Average training loss: 0.5315140270437513\n",
      "Evaluating...\n",
      "ROAUC scores:  {'Train': 0.8583822250366211, 'Validation': 0.8584153652191162}\n",
      "=====Epoch 4\n",
      "Training...\n"
     ]
    },
    {
     "name": "stderr",
     "output_type": "stream",
     "text": [
      "Iteration: 100%|██████████| 4375/4375 [04:51<00:00, 14.99it/s]\n"
     ]
    },
    {
     "name": "stdout",
     "output_type": "stream",
     "text": [
      "Average training loss: 0.5294418691090175\n",
      "Evaluating...\n",
      "ROAUC scores:  {'Train': 0.8597381114959717, 'Validation': 0.8600350022315979}\n",
      "=====Epoch 5\n",
      "Training...\n"
     ]
    },
    {
     "name": "stderr",
     "output_type": "stream",
     "text": [
      "Iteration: 100%|██████████| 4375/4375 [04:56<00:00, 14.77it/s]\n"
     ]
    },
    {
     "name": "stdout",
     "output_type": "stream",
     "text": [
      "Average training loss: 0.5270990559509823\n",
      "Evaluating...\n",
      "ROAUC scores:  {'Train': 0.8588021993637085, 'Validation': 0.8587085008621216}\n",
      "=====Epoch 6\n",
      "Training...\n"
     ]
    },
    {
     "name": "stderr",
     "output_type": "stream",
     "text": [
      "Iteration: 100%|██████████| 4375/4375 [04:53<00:00, 14.92it/s]\n"
     ]
    },
    {
     "name": "stdout",
     "output_type": "stream",
     "text": [
      "Average training loss: 0.5272001102719989\n",
      "Evaluating...\n",
      "ROAUC scores:  {'Train': 0.8453062772750854, 'Validation': 0.8457729816436768}\n",
      "=====Epoch 7\n",
      "Training...\n"
     ]
    },
    {
     "name": "stderr",
     "output_type": "stream",
     "text": [
      "Iteration: 100%|██████████| 4375/4375 [04:52<00:00, 14.94it/s]\n"
     ]
    },
    {
     "name": "stdout",
     "output_type": "stream",
     "text": [
      "Average training loss: 0.5243762910502298\n",
      "Evaluating...\n",
      "ROAUC scores:  {'Train': 0.8573293685913086, 'Validation': 0.8576071858406067}\n",
      "=====Epoch 8\n",
      "Training...\n"
     ]
    },
    {
     "name": "stderr",
     "output_type": "stream",
     "text": [
      "Iteration: 100%|██████████| 4375/4375 [03:48<00:00, 19.13it/s]\n"
     ]
    },
    {
     "name": "stdout",
     "output_type": "stream",
     "text": [
      "Average training loss: 0.5242033536502293\n",
      "Evaluating...\n",
      "ROAUC scores:  {'Train': 0.8600507974624634, 'Validation': 0.8588091135025024}\n",
      "=====Epoch 9\n",
      "Training...\n"
     ]
    },
    {
     "name": "stderr",
     "output_type": "stream",
     "text": [
      "Iteration: 100%|██████████| 4375/4375 [03:50<00:00, 18.94it/s]\n"
     ]
    },
    {
     "name": "stdout",
     "output_type": "stream",
     "text": [
      "Average training loss: 0.5253698536872864\n",
      "Evaluating...\n",
      "ROAUC scores:  {'Train': 0.8589409589767456, 'Validation': 0.8582242727279663}\n",
      "=====Epoch 10\n",
      "Training...\n"
     ]
    },
    {
     "name": "stderr",
     "output_type": "stream",
     "text": [
      "Iteration: 100%|██████████| 4375/4375 [03:57<00:00, 18.41it/s]\n"
     ]
    },
    {
     "name": "stdout",
     "output_type": "stream",
     "text": [
      "Average training loss: 0.521920531470435\n",
      "Evaluating...\n",
      "ROAUC scores:  {'Train': 0.8589451909065247, 'Validation': 0.8587508201599121}\n",
      "=====Epoch 11\n",
      "Training...\n"
     ]
    },
    {
     "name": "stderr",
     "output_type": "stream",
     "text": [
      "Iteration: 100%|██████████| 4375/4375 [03:59<00:00, 18.25it/s]\n"
     ]
    },
    {
     "name": "stdout",
     "output_type": "stream",
     "text": [
      "Average training loss: 0.5204373253549849\n",
      "Evaluating...\n",
      "ROAUC scores:  {'Train': 0.8629381656646729, 'Validation': 0.8626424074172974}\n",
      "=====Epoch 12\n",
      "Training...\n"
     ]
    },
    {
     "name": "stderr",
     "output_type": "stream",
     "text": [
      "Iteration: 100%|██████████| 4375/4375 [04:31<00:00, 16.12it/s]\n"
     ]
    },
    {
     "name": "stdout",
     "output_type": "stream",
     "text": [
      "Average training loss: 0.5219879601682935\n",
      "Evaluating...\n",
      "ROAUC scores:  {'Train': 0.8620893359184265, 'Validation': 0.8612008094787598}\n",
      "=====Epoch 13\n",
      "Training...\n"
     ]
    },
    {
     "name": "stderr",
     "output_type": "stream",
     "text": [
      "Iteration: 100%|██████████| 4375/4375 [04:18<00:00, 16.95it/s]\n"
     ]
    },
    {
     "name": "stdout",
     "output_type": "stream",
     "text": [
      "Average training loss: 0.5226166635377066\n",
      "Evaluating...\n",
      "ROAUC scores:  {'Train': 0.860072135925293, 'Validation': 0.8596490621566772}\n",
      "=====Epoch 14\n",
      "Training...\n"
     ]
    },
    {
     "name": "stderr",
     "output_type": "stream",
     "text": [
      "Iteration: 100%|██████████| 4375/4375 [03:54<00:00, 18.63it/s]\n"
     ]
    },
    {
     "name": "stdout",
     "output_type": "stream",
     "text": [
      "Average training loss: 0.5220360334600721\n",
      "Evaluating...\n",
      "ROAUC scores:  {'Train': 0.8631078004837036, 'Validation': 0.8622255325317383}\n",
      "=====Epoch 15\n",
      "Training...\n"
     ]
    },
    {
     "name": "stderr",
     "output_type": "stream",
     "text": [
      "Iteration: 100%|██████████| 4375/4375 [04:05<00:00, 17.84it/s]\n"
     ]
    },
    {
     "name": "stdout",
     "output_type": "stream",
     "text": [
      "Average training loss: 0.5202655040740967\n",
      "Evaluating...\n",
      "ROAUC scores:  {'Train': 0.86246657371521, 'Validation': 0.8618073463439941}\n",
      "=====Epoch 16\n",
      "Training...\n"
     ]
    },
    {
     "name": "stderr",
     "output_type": "stream",
     "text": [
      "Iteration: 100%|██████████| 4375/4375 [03:40<00:00, 19.87it/s]\n"
     ]
    },
    {
     "name": "stdout",
     "output_type": "stream",
     "text": [
      "Average training loss: 0.519895736353738\n",
      "Evaluating...\n",
      "ROAUC scores:  {'Train': 0.8613380789756775, 'Validation': 0.8605377674102783}\n",
      "=====Epoch 17\n",
      "Training...\n"
     ]
    },
    {
     "name": "stderr",
     "output_type": "stream",
     "text": [
      "Iteration: 100%|██████████| 4375/4375 [03:39<00:00, 19.94it/s]\n"
     ]
    },
    {
     "name": "stdout",
     "output_type": "stream",
     "text": [
      "Average training loss: 0.5199836931228637\n",
      "Evaluating...\n",
      "ROAUC scores:  {'Train': 0.8619658946990967, 'Validation': 0.8610340356826782}\n",
      "=====Epoch 18\n",
      "Training...\n"
     ]
    },
    {
     "name": "stderr",
     "output_type": "stream",
     "text": [
      "Iteration: 100%|██████████| 4375/4375 [03:33<00:00, 20.46it/s]\n"
     ]
    },
    {
     "name": "stdout",
     "output_type": "stream",
     "text": [
      "Average training loss: 0.5195532656397138\n",
      "Evaluating...\n",
      "ROAUC scores:  {'Train': 0.8647400140762329, 'Validation': 0.8635700941085815}\n",
      "=====Epoch 19\n",
      "Training...\n"
     ]
    },
    {
     "name": "stderr",
     "output_type": "stream",
     "text": [
      "Iteration: 100%|██████████| 4375/4375 [03:30<00:00, 20.74it/s]\n"
     ]
    },
    {
     "name": "stdout",
     "output_type": "stream",
     "text": [
      "Average training loss: 0.51881748919487\n",
      "Evaluating...\n",
      "ROAUC scores:  {'Train': 0.8639123439788818, 'Validation': 0.8623226881027222}\n",
      "=====Epoch 20\n",
      "Training...\n"
     ]
    },
    {
     "name": "stderr",
     "output_type": "stream",
     "text": [
      "Iteration: 100%|██████████| 4375/4375 [03:24<00:00, 21.38it/s]\n"
     ]
    },
    {
     "name": "stdout",
     "output_type": "stream",
     "text": [
      "Average training loss: 0.5183297642844064\n",
      "Evaluating...\n",
      "ROAUC scores:  {'Train': 0.8616541624069214, 'Validation': 0.8603137731552124}\n",
      "=====Epoch 21\n",
      "Training...\n"
     ]
    },
    {
     "name": "stderr",
     "output_type": "stream",
     "text": [
      "Iteration: 100%|██████████| 4375/4375 [03:04<00:00, 23.68it/s]\n"
     ]
    },
    {
     "name": "stdout",
     "output_type": "stream",
     "text": [
      "Average training loss: 0.5187926824092866\n",
      "Evaluating...\n",
      "ROAUC scores:  {'Train': 0.8615453243255615, 'Validation': 0.8615857362747192}\n",
      "=====Epoch 22\n",
      "Training...\n"
     ]
    },
    {
     "name": "stderr",
     "output_type": "stream",
     "text": [
      "Iteration: 100%|██████████| 4375/4375 [03:16<00:00, 22.25it/s]\n"
     ]
    },
    {
     "name": "stdout",
     "output_type": "stream",
     "text": [
      "Average training loss: 0.5194772891521454\n",
      "Evaluating...\n",
      "ROAUC scores:  {'Train': 0.8587016463279724, 'Validation': 0.857795238494873}\n",
      "=====Epoch 23\n",
      "Training...\n"
     ]
    },
    {
     "name": "stderr",
     "output_type": "stream",
     "text": [
      "Iteration: 100%|██████████| 4375/4375 [03:19<00:00, 21.93it/s]\n"
     ]
    },
    {
     "name": "stdout",
     "output_type": "stream",
     "text": [
      "Average training loss: 0.521063367169244\n",
      "Evaluating...\n",
      "ROAUC scores:  {'Train': 0.8547612428665161, 'Validation': 0.854282557964325}\n",
      "=====Epoch 24\n",
      "Training...\n"
     ]
    },
    {
     "name": "stderr",
     "output_type": "stream",
     "text": [
      "Iteration: 100%|██████████| 4375/4375 [03:18<00:00, 22.04it/s]\n"
     ]
    },
    {
     "name": "stdout",
     "output_type": "stream",
     "text": [
      "Average training loss: 0.5222595492294857\n",
      "Evaluating...\n",
      "ROAUC scores:  {'Train': 0.860120415687561, 'Validation': 0.8588464856147766}\n",
      "=====Epoch 25\n",
      "Training...\n"
     ]
    },
    {
     "name": "stderr",
     "output_type": "stream",
     "text": [
      "Iteration: 100%|██████████| 4375/4375 [03:10<00:00, 22.94it/s]\n"
     ]
    },
    {
     "name": "stdout",
     "output_type": "stream",
     "text": [
      "Average training loss: 0.5187579287528992\n",
      "Evaluating...\n",
      "ROAUC scores:  {'Train': 0.8642932176589966, 'Validation': 0.8631460666656494}\n",
      "=====Epoch 26\n",
      "Training...\n"
     ]
    },
    {
     "name": "stderr",
     "output_type": "stream",
     "text": [
      "Iteration: 100%|██████████| 4375/4375 [03:03<00:00, 23.86it/s]\n"
     ]
    },
    {
     "name": "stdout",
     "output_type": "stream",
     "text": [
      "Average training loss: 0.5188018960339682\n",
      "Evaluating...\n"
     ]
    },
    {
     "name": "stdout",
     "output_type": "stream",
     "text": [
      "=====Epoch 27\n",
      "Training...\n"
     ]
    },
    {
     "name": "stderr",
     "output_type": "stream",
     "text": [
      "Iteration: 100%|██████████| 4375/4375 [02:22<00:00, 30.64it/s]\n"
     ]
    },
    {
     "name": "stdout",
     "output_type": "stream",
     "text": [
      "Average training loss: 0.518549009690966\n",
      "Evaluating...\n",
      "ROAUC scores:  {'Train': 0.8634494543075562, 'Validation': 0.8636170625686646}\n",
      "=====Epoch 28\n",
      "Training...\n"
     ]
    },
    {
     "name": "stderr",
     "output_type": "stream",
     "text": [
      "Iteration: 100%|██████████| 4375/4375 [02:29<00:00, 29.21it/s]\n"
     ]
    },
    {
     "name": "stdout",
     "output_type": "stream",
     "text": [
      "Average training loss: 0.5168801335743496\n",
      "Evaluating...\n",
      "ROAUC scores:  {'Train': 0.8617868423461914, 'Validation': 0.8609186410903931}\n",
      "=====Epoch 29\n",
      "Training...\n"
     ]
    },
    {
     "name": "stderr",
     "output_type": "stream",
     "text": [
      "Iteration: 100%|██████████| 4375/4375 [02:42<00:00, 26.89it/s]\n"
     ]
    },
    {
     "name": "stdout",
     "output_type": "stream",
     "text": [
      "Average training loss: 0.5247454071726118\n",
      "Evaluating...\n",
      "ROAUC scores:  {'Train': 0.8641334772109985, 'Validation': 0.863054633140564}\n",
      "=====Epoch 30\n",
      "Training...\n"
     ]
    },
    {
     "name": "stderr",
     "output_type": "stream",
     "text": [
      "Iteration: 100%|██████████| 4375/4375 [03:01<00:00, 24.16it/s]\n"
     ]
    },
    {
     "name": "stdout",
     "output_type": "stream",
     "text": [
      "Average training loss: 0.5181355385507856\n",
      "Evaluating...\n",
      "ROAUC scores:  {'Train': 0.8647853136062622, 'Validation': 0.8637218475341797}\n",
      "=====Epoch 31\n",
      "Training...\n"
     ]
    },
    {
     "name": "stderr",
     "output_type": "stream",
     "text": [
      "Iteration: 100%|██████████| 4375/4375 [03:08<00:00, 23.15it/s]\n"
     ]
    },
    {
     "name": "stdout",
     "output_type": "stream",
     "text": [
      "Average training loss: 0.5166640813895634\n",
      "Evaluating...\n",
      "ROAUC scores:  {'Train': 0.8633993864059448, 'Validation': 0.8626481294631958}\n",
      "=====Epoch 32\n",
      "Training...\n"
     ]
    },
    {
     "name": "stderr",
     "output_type": "stream",
     "text": [
      "Iteration: 100%|██████████| 4375/4375 [02:59<00:00, 24.40it/s]\n"
     ]
    },
    {
     "name": "stdout",
     "output_type": "stream",
     "text": [
      "Average training loss: 0.5178880507673536\n",
      "Evaluating...\n",
      "ROAUC scores:  {'Train': 0.8660768270492554, 'Validation': 0.8654994964599609}\n",
      "=====Epoch 33\n",
      "Training...\n"
     ]
    },
    {
     "name": "stderr",
     "output_type": "stream",
     "text": [
      "Iteration: 100%|██████████| 4375/4375 [03:15<00:00, 22.33it/s]\n"
     ]
    },
    {
     "name": "stdout",
     "output_type": "stream",
     "text": [
      "Average training loss: 0.5162514325005667\n",
      "Evaluating...\n",
      "ROAUC scores:  {'Train': 0.8663890957832336, 'Validation': 0.8661628365516663}\n",
      "=====Epoch 34\n",
      "Training...\n"
     ]
    },
    {
     "name": "stderr",
     "output_type": "stream",
     "text": [
      "Iteration: 100%|██████████| 4375/4375 [03:10<00:00, 22.95it/s]\n"
     ]
    },
    {
     "name": "stdout",
     "output_type": "stream",
     "text": [
      "Average training loss: 0.5178138997146061\n",
      "Evaluating...\n",
      "ROAUC scores:  {'Train': 0.8637841939926147, 'Validation': 0.8640825748443604}\n",
      "=====Epoch 35\n",
      "Training...\n"
     ]
    },
    {
     "name": "stderr",
     "output_type": "stream",
     "text": [
      "Iteration: 100%|██████████| 4375/4375 [03:04<00:00, 23.70it/s]\n"
     ]
    },
    {
     "name": "stdout",
     "output_type": "stream",
     "text": [
      "Average training loss: 0.5165479603426797\n",
      "Evaluating...\n",
      "ROAUC scores:  {'Train': 0.8632340431213379, 'Validation': 0.8620650172233582}\n",
      "=====Epoch 36\n",
      "Training...\n"
     ]
    },
    {
     "name": "stderr",
     "output_type": "stream",
     "text": [
      "Iteration: 100%|██████████| 4375/4375 [03:05<00:00, 23.64it/s]\n"
     ]
    },
    {
     "name": "stdout",
     "output_type": "stream",
     "text": [
      "Average training loss: 0.5180678240912301\n",
      "Evaluating...\n",
      "ROAUC scores:  {'Train': 0.8652162551879883, 'Validation': 0.8635404706001282}\n",
      "=====Epoch 37\n",
      "Training...\n"
     ]
    },
    {
     "name": "stderr",
     "output_type": "stream",
     "text": [
      "Iteration: 100%|██████████| 4375/4375 [03:11<00:00, 22.85it/s]\n"
     ]
    },
    {
     "name": "stdout",
     "output_type": "stream",
     "text": [
      "Average training loss: 0.5171776694161552\n",
      "Evaluating...\n",
      "ROAUC scores:  {'Train': 0.8615982532501221, 'Validation': 0.8612436056137085}\n",
      "=====Epoch 38\n",
      "Training...\n"
     ]
    },
    {
     "name": "stderr",
     "output_type": "stream",
     "text": [
      "Iteration: 100%|██████████| 4375/4375 [03:13<00:00, 22.63it/s]\n"
     ]
    },
    {
     "name": "stdout",
     "output_type": "stream",
     "text": [
      "Average training loss: 0.5156425375870296\n",
      "Evaluating...\n",
      "ROAUC scores:  {'Train': 0.8658615350723267, 'Validation': 0.8653901815414429}\n",
      "=====Epoch 39\n",
      "Training...\n"
     ]
    },
    {
     "name": "stderr",
     "output_type": "stream",
     "text": [
      "Iteration: 100%|██████████| 4375/4375 [03:08<00:00, 23.19it/s]\n"
     ]
    },
    {
     "name": "stdout",
     "output_type": "stream",
     "text": [
      "Average training loss: 0.5166345295224871\n",
      "Evaluating...\n",
      "ROAUC scores:  {'Train': 0.8616796135902405, 'Validation': 0.8607050180435181}\n",
      "=====Epoch 40\n",
      "Training...\n"
     ]
    },
    {
     "name": "stderr",
     "output_type": "stream",
     "text": [
      "Iteration: 100%|██████████| 4375/4375 [03:21<00:00, 21.73it/s]\n"
     ]
    },
    {
     "name": "stdout",
     "output_type": "stream",
     "text": [
      "Average training loss: 0.517081686108453\n",
      "Evaluating...\n",
      "ROAUC scores:  {'Train': 0.8651921153068542, 'Validation': 0.8644276857376099}\n",
      "=====Epoch 41\n",
      "Training...\n"
     ]
    },
    {
     "name": "stderr",
     "output_type": "stream",
     "text": [
      "Iteration: 100%|██████████| 4375/4375 [02:59<00:00, 24.41it/s]\n"
     ]
    },
    {
     "name": "stdout",
     "output_type": "stream",
     "text": [
      "Average training loss: 0.5177349919864109\n",
      "Evaluating...\n",
      "ROAUC scores:  {'Train': 0.8640519380569458, 'Validation': 0.8640450239181519}\n",
      "=====Epoch 42\n",
      "Training...\n"
     ]
    },
    {
     "name": "stderr",
     "output_type": "stream",
     "text": [
      "Iteration: 100%|██████████| 4375/4375 [02:57<00:00, 24.62it/s]\n"
     ]
    },
    {
     "name": "stdout",
     "output_type": "stream",
     "text": [
      "Average training loss: 0.5167003959315164\n",
      "Evaluating...\n",
      "ROAUC scores:  {'Train': 0.8638925552368164, 'Validation': 0.8640033006668091}\n",
      "=====Epoch 43\n",
      "Training...\n"
     ]
    },
    {
     "name": "stderr",
     "output_type": "stream",
     "text": [
      "Iteration: 100%|██████████| 4375/4375 [02:56<00:00, 24.80it/s]\n"
     ]
    },
    {
     "name": "stdout",
     "output_type": "stream",
     "text": [
      "Average training loss: 0.5176188937459674\n",
      "Evaluating...\n",
      "ROAUC scores:  {'Train': 0.8630677461624146, 'Validation': 0.8623066544532776}\n",
      "=====Epoch 44\n",
      "Training...\n"
     ]
    },
    {
     "name": "stderr",
     "output_type": "stream",
     "text": [
      "Iteration: 100%|██████████| 4375/4375 [03:06<00:00, 23.52it/s]\n"
     ]
    },
    {
     "name": "stdout",
     "output_type": "stream",
     "text": [
      "Average training loss: 0.5166484396117074\n",
      "Evaluating...\n",
      "ROAUC scores:  {'Train': 0.863801121711731, 'Validation': 0.8637722730636597}\n",
      "=====Epoch 45\n",
      "Training...\n"
     ]
    },
    {
     "name": "stderr",
     "output_type": "stream",
     "text": [
      "Iteration: 100%|██████████| 4375/4375 [03:07<00:00, 23.33it/s]\n"
     ]
    },
    {
     "name": "stdout",
     "output_type": "stream",
     "text": [
      "Average training loss: 0.5179656341484615\n",
      "Evaluating...\n",
      "ROAUC scores:  {'Train': 0.8652269244194031, 'Validation': 0.8645574450492859}\n",
      "=====Epoch 46\n",
      "Training...\n"
     ]
    },
    {
     "name": "stderr",
     "output_type": "stream",
     "text": [
      "Iteration: 100%|██████████| 4375/4375 [02:57<00:00, 24.58it/s]\n"
     ]
    },
    {
     "name": "stdout",
     "output_type": "stream",
     "text": [
      "Average training loss: 0.5165763446671622\n",
      "Evaluating...\n",
      "ROAUC scores:  {'Train': 0.8636411428451538, 'Validation': 0.8630264401435852}\n",
      "=====Epoch 47\n",
      "Training...\n"
     ]
    },
    {
     "name": "stderr",
     "output_type": "stream",
     "text": [
      "Iteration: 100%|██████████| 4375/4375 [03:29<00:00, 20.90it/s]\n"
     ]
    },
    {
     "name": "stdout",
     "output_type": "stream",
     "text": [
      "Average training loss: 0.51865568888528\n",
      "Evaluating...\n",
      "ROAUC scores:  {'Train': 0.8650760650634766, 'Validation': 0.8650192022323608}\n",
      "=====Epoch 48\n",
      "Training...\n"
     ]
    },
    {
     "name": "stderr",
     "output_type": "stream",
     "text": [
      "Iteration: 100%|██████████| 4375/4375 [03:26<00:00, 21.20it/s]\n"
     ]
    },
    {
     "name": "stdout",
     "output_type": "stream",
     "text": [
      "Average training loss: 0.5180612385477339\n",
      "Evaluating...\n",
      "ROAUC scores:  {'Train': 0.8584153652191162, 'Validation': 0.8589514493942261}\n",
      "=====Epoch 49\n",
      "Training...\n"
     ]
    },
    {
     "name": "stderr",
     "output_type": "stream",
     "text": [
      "Iteration: 100%|██████████| 4375/4375 [03:25<00:00, 21.32it/s]\n"
     ]
    },
    {
     "name": "stdout",
     "output_type": "stream",
     "text": [
      "Average training loss: 0.5204483228887831\n",
      "Evaluating...\n",
      "ROAUC scores:  {'Train': 0.864727795124054, 'Validation': 0.8632930517196655}\n",
      "=====Epoch 50\n",
      "Training...\n"
     ]
    },
    {
     "name": "stderr",
     "output_type": "stream",
     "text": [
      "Iteration: 100%|██████████| 4375/4375 [03:21<00:00, 21.68it/s]\n"
     ]
    },
    {
     "name": "stdout",
     "output_type": "stream",
     "text": [
      "Average training loss: 0.5154471651826587\n",
      "Evaluating...\n",
      "ROAUC scores:  {'Train': 0.8637420535087585, 'Validation': 0.8634814023971558}\n",
      "=====Epoch 51\n",
      "Training...\n"
     ]
    },
    {
     "name": "stderr",
     "output_type": "stream",
     "text": [
      "Iteration: 100%|██████████| 4375/4375 [03:20<00:00, 21.86it/s]\n"
     ]
    },
    {
     "name": "stdout",
     "output_type": "stream",
     "text": [
      "Average training loss: 0.5161444251605443\n",
      "Evaluating...\n",
      "ROAUC scores:  {'Train': 0.8658727407455444, 'Validation': 0.864318311214447}\n",
      "=====Epoch 52\n",
      "Training...\n"
     ]
    },
    {
     "name": "stderr",
     "output_type": "stream",
     "text": [
      "Iteration: 100%|██████████| 4375/4375 [03:37<00:00, 20.16it/s]\n"
     ]
    },
    {
     "name": "stdout",
     "output_type": "stream",
     "text": [
      "Average training loss: 0.5167650491510118\n",
      "Evaluating...\n",
      "ROAUC scores:  {'Train': 0.8631484508514404, 'Validation': 0.8617367744445801}\n",
      "=====Epoch 53\n",
      "Training...\n"
     ]
    },
    {
     "name": "stderr",
     "output_type": "stream",
     "text": [
      "Iteration: 100%|██████████| 4375/4375 [03:38<00:00, 19.98it/s]\n"
     ]
    },
    {
     "name": "stdout",
     "output_type": "stream",
     "text": [
      "Average training loss: 0.5158762222017561\n",
      "Evaluating...\n",
      "ROAUC scores:  {'Train': 0.8654677867889404, 'Validation': 0.8645888566970825}\n",
      "=====Epoch 54\n",
      "Training...\n"
     ]
    },
    {
     "name": "stderr",
     "output_type": "stream",
     "text": [
      "Iteration: 100%|██████████| 4375/4375 [03:41<00:00, 19.76it/s]\n"
     ]
    },
    {
     "name": "stdout",
     "output_type": "stream",
     "text": [
      "Average training loss: 0.5166287628310068\n",
      "Evaluating...\n",
      "ROAUC scores:  {'Train': 0.863450288772583, 'Validation': 0.8627854585647583}\n",
      "=====Epoch 55\n",
      "Training...\n"
     ]
    },
    {
     "name": "stderr",
     "output_type": "stream",
     "text": [
      "Iteration: 100%|██████████| 4375/4375 [03:40<00:00, 19.86it/s]\n"
     ]
    },
    {
     "name": "stdout",
     "output_type": "stream",
     "text": [
      "Average training loss: 0.5163293659005846\n",
      "Evaluating...\n",
      "ROAUC scores:  {'Train': 0.8645160794258118, 'Validation': 0.8633794784545898}\n",
      "=====Epoch 56\n",
      "Training...\n"
     ]
    },
    {
     "name": "stderr",
     "output_type": "stream",
     "text": [
      "Iteration: 100%|██████████| 4375/4375 [04:17<00:00, 17.01it/s]\n"
     ]
    },
    {
     "name": "stdout",
     "output_type": "stream",
     "text": [
      "Average training loss: 0.5161443832261222\n",
      "Evaluating...\n",
      "ROAUC scores:  {'Train': 0.8655692338943481, 'Validation': 0.8649299740791321}\n",
      "=====Epoch 57\n",
      "Training...\n"
     ]
    },
    {
     "name": "stderr",
     "output_type": "stream",
     "text": [
      "Iteration: 100%|██████████| 4375/4375 [02:49<00:00, 25.75it/s]\n"
     ]
    },
    {
     "name": "stdout",
     "output_type": "stream",
     "text": [
      "Average training loss: 0.5168030478341239\n",
      "Evaluating...\n",
      "ROAUC scores:  {'Train': 0.8657070994377136, 'Validation': 0.865304708480835}\n",
      "=====Epoch 58\n",
      "Training...\n"
     ]
    },
    {
     "name": "stderr",
     "output_type": "stream",
     "text": [
      "Iteration: 100%|██████████| 4375/4375 [04:00<00:00, 18.22it/s]\n"
     ]
    },
    {
     "name": "stdout",
     "output_type": "stream",
     "text": [
      "Average training loss: 0.5167851876871926\n",
      "Evaluating...\n",
      "ROAUC scores:  {'Train': 0.8629458546638489, 'Validation': 0.8622485995292664}\n",
      "=====Epoch 59\n",
      "Training...\n"
     ]
    },
    {
     "name": "stderr",
     "output_type": "stream",
     "text": [
      "Iteration: 100%|██████████| 4375/4375 [07:27<00:00,  9.79it/s]\n"
     ]
    },
    {
     "name": "stdout",
     "output_type": "stream",
     "text": [
      "Average training loss: 0.5167347177777971\n",
      "Evaluating...\n",
      "ROAUC scores:  {'Train': 0.8640303611755371, 'Validation': 0.8639055490493774}\n",
      "=====Epoch 60\n",
      "Training...\n"
     ]
    },
    {
     "name": "stderr",
     "output_type": "stream",
     "text": [
      "Iteration: 100%|██████████| 4375/4375 [09:11<00:00,  7.94it/s]\n"
     ]
    },
    {
     "name": "stdout",
     "output_type": "stream",
     "text": [
      "Average training loss: 0.5170260637147086\n",
      "Evaluating...\n",
      "ROAUC scores:  {'Train': 0.8649024963378906, 'Validation': 0.8641939163208008}\n",
      "=====Epoch 61\n",
      "Training...\n"
     ]
    },
    {
     "name": "stderr",
     "output_type": "stream",
     "text": [
      "Iteration: 100%|██████████| 4375/4375 [11:05<00:00,  6.58it/s]\n"
     ]
    },
    {
     "name": "stdout",
     "output_type": "stream",
     "text": [
      "Average training loss: 0.5165872487613133\n",
      "Evaluating...\n",
      "ROAUC scores:  {'Train': 0.8636777400970459, 'Validation': 0.8633352518081665}\n",
      "=====Epoch 62\n",
      "Training...\n"
     ]
    },
    {
     "name": "stderr",
     "output_type": "stream",
     "text": [
      "Iteration: 100%|██████████| 4375/4375 [12:12<00:00,  5.97it/s]\n"
     ]
    },
    {
     "name": "stdout",
     "output_type": "stream",
     "text": [
      "Average training loss: 0.5171674356119973\n",
      "Evaluating...\n",
      "ROAUC scores:  {'Train': 0.8600934743881226, 'Validation': 0.8594541549682617}\n",
      "=====Epoch 63\n",
      "Training...\n"
     ]
    },
    {
     "name": "stderr",
     "output_type": "stream",
     "text": [
      "Iteration: 100%|██████████| 4375/4375 [13:18<00:00,  5.48it/s]\n"
     ]
    },
    {
     "name": "stdout",
     "output_type": "stream",
     "text": [
      "Average training loss: 0.516054750422069\n",
      "Evaluating...\n",
      "ROAUC scores:  {'Train': 0.8628381490707397, 'Validation': 0.8624252676963806}\n",
      "=====Epoch 64\n",
      "Training...\n"
     ]
    },
    {
     "name": "stderr",
     "output_type": "stream",
     "text": [
      "Iteration: 100%|██████████| 4375/4375 [15:04<00:00,  4.84it/s]\n"
     ]
    },
    {
     "name": "stdout",
     "output_type": "stream",
     "text": [
      "Average training loss: 0.5157286580426352\n",
      "Evaluating...\n",
      "ROAUC scores:  {'Train': 0.8637243509292603, 'Validation': 0.8635921478271484}\n",
      "=====Epoch 65\n",
      "Training...\n"
     ]
    },
    {
     "name": "stderr",
     "output_type": "stream",
     "text": [
      "Iteration: 100%|██████████| 4375/4375 [15:36<00:00,  4.67it/s]\n"
     ]
    },
    {
     "name": "stdout",
     "output_type": "stream",
     "text": [
      "Average training loss: 0.5181633014951433\n",
      "Evaluating...\n",
      "ROAUC scores:  {'Train': 0.8559607267379761, 'Validation': 0.8566691875457764}\n",
      "=====Epoch 66\n",
      "Training...\n"
     ]
    },
    {
     "name": "stderr",
     "output_type": "stream",
     "text": [
      "Iteration: 100%|██████████| 4375/4375 [15:23<00:00,  4.74it/s]\n"
     ]
    },
    {
     "name": "stdout",
     "output_type": "stream",
     "text": [
      "Average training loss: 0.5197811382974897\n",
      "Evaluating...\n",
      "ROAUC scores:  {'Train': 0.8610608577728271, 'Validation': 0.8608206510543823}\n",
      "=====Epoch 67\n",
      "Training...\n"
     ]
    },
    {
     "name": "stderr",
     "output_type": "stream",
     "text": [
      "Iteration: 100%|██████████| 4375/4375 [14:49<00:00,  4.92it/s]\n"
     ]
    },
    {
     "name": "stdout",
     "output_type": "stream",
     "text": [
      "Average training loss: 0.5175616487366813\n",
      "Evaluating...\n",
      "ROAUC scores:  {'Train': 0.8646191358566284, 'Validation': 0.863286554813385}\n",
      "=====Epoch 68\n",
      "Training...\n"
     ]
    },
    {
     "name": "stderr",
     "output_type": "stream",
     "text": [
      "Iteration: 100%|██████████| 4375/4375 [14:48<00:00,  4.92it/s]\n"
     ]
    },
    {
     "name": "stdout",
     "output_type": "stream",
     "text": [
      "Average training loss: 0.5159902996335711\n",
      "Evaluating...\n",
      "ROAUC scores:  {'Train': 0.8656014800071716, 'Validation': 0.8651618957519531}\n",
      "=====Epoch 69\n",
      "Training...\n"
     ]
    },
    {
     "name": "stderr",
     "output_type": "stream",
     "text": [
      "Iteration: 100%|██████████| 4375/4375 [15:02<00:00,  4.85it/s]\n"
     ]
    },
    {
     "name": "stdout",
     "output_type": "stream",
     "text": [
      "Average training loss: 0.5158113384587424\n",
      "Evaluating...\n",
      "ROAUC scores:  {'Train': 0.8643971681594849, 'Validation': 0.8643567562103271}\n",
      "=====Epoch 70\n",
      "Training...\n"
     ]
    },
    {
     "name": "stderr",
     "output_type": "stream",
     "text": [
      "Iteration: 100%|██████████| 4375/4375 [14:51<00:00,  4.91it/s]\n"
     ]
    },
    {
     "name": "stdout",
     "output_type": "stream",
     "text": [
      "Average training loss: 0.5166520882538387\n",
      "Evaluating...\n",
      "ROAUC scores:  {'Train': 0.8637818098068237, 'Validation': 0.8635343313217163}\n",
      "=====Epoch 71\n",
      "Training...\n"
     ]
    },
    {
     "name": "stderr",
     "output_type": "stream",
     "text": [
      "Iteration: 100%|██████████| 4375/4375 [14:48<00:00,  4.92it/s]\n"
     ]
    },
    {
     "name": "stdout",
     "output_type": "stream",
     "text": [
      "Average training loss: 0.515364158480508\n",
      "Evaluating...\n",
      "ROAUC scores:  {'Train': 0.8667749166488647, 'Validation': 0.866027295589447}\n",
      "=====Epoch 72\n",
      "Training...\n"
     ]
    },
    {
     "name": "stderr",
     "output_type": "stream",
     "text": [
      "Iteration: 100%|██████████| 4375/4375 [10:49<00:00,  6.74it/s]\n"
     ]
    },
    {
     "name": "stdout",
     "output_type": "stream",
     "text": [
      "Average training loss: 0.5160908549853733\n",
      "Evaluating...\n",
      "ROAUC scores:  {'Train': 0.8660194873809814, 'Validation': 0.865546464920044}\n",
      "=====Epoch 73\n",
      "Training...\n"
     ]
    },
    {
     "name": "stderr",
     "output_type": "stream",
     "text": [
      "Iteration: 100%|██████████| 4375/4375 [04:54<00:00, 14.84it/s]\n"
     ]
    },
    {
     "name": "stdout",
     "output_type": "stream",
     "text": [
      "Average training loss: 0.5176176962103163\n",
      "Evaluating...\n",
      "ROAUC scores:  {'Train': 0.8635982871055603, 'Validation': 0.8630688190460205}\n",
      "=====Epoch 74\n",
      "Training...\n"
     ]
    },
    {
     "name": "stderr",
     "output_type": "stream",
     "text": [
      "Iteration: 100%|██████████| 4375/4375 [04:52<00:00, 14.96it/s]\n"
     ]
    },
    {
     "name": "stdout",
     "output_type": "stream",
     "text": [
      "Average training loss: 0.5163173939568656\n",
      "Evaluating...\n",
      "ROAUC scores:  {'Train': 0.86283278465271, 'Validation': 0.8618417382240295}\n",
      "=====Epoch 75\n",
      "Training...\n"
     ]
    },
    {
     "name": "stderr",
     "output_type": "stream",
     "text": [
      "Iteration: 100%|██████████| 4375/4375 [04:52<00:00, 14.94it/s]\n"
     ]
    },
    {
     "name": "stdout",
     "output_type": "stream",
     "text": [
      "Average training loss: 0.5187882170268467\n",
      "Evaluating...\n",
      "ROAUC scores:  {'Train': 0.8622004985809326, 'Validation': 0.8613588809967041}\n",
      "\n",
      "Finished training!\n",
      "\n",
      "ROAUC Test score: 0.862023115158081\n"
     ]
    }
   ],
   "source": [
    "# importing dataset for GPS \n",
    "transform = T.AddRandomWalkPE(walk_length=20, attr_name='extraPE') # adding random walk positional encoding\n",
    "QG_jets_dataset = import_dataset(name=\"QG_Jets\",\n",
    "                             pre_transform=transform)\n",
    "\n",
    "GPS_model = GNN(num_classes = 2, num_layer = 2,num_pre_fnn_layers=1,num_post_fnn_layers=2,hasPos=True,input_edge_dim = 1,num_coords=2, \n",
    "                input_spec_fts_dim=3, gnn_type = 'gps', emb_dim=300, extraPE_dim=20, drop_ratio = 0.3).to(device)\n",
    "optimizer = optim.Adam(GPS_model.parameters(), lr=1e-3)\n",
    "\n",
    "train_model(GPS_model,optimizer,QG_jets_dataset,batch_size=16)"
   ]
  }
 ],
 "metadata": {
  "kernelspec": {
   "display_name": "Python 3 (ipykernel)",
   "language": "python",
   "name": "python3"
  },
  "language_info": {
   "codemirror_mode": {
    "name": "ipython",
    "version": 3
   },
   "file_extension": ".py",
   "mimetype": "text/x-python",
   "name": "python",
   "nbconvert_exporter": "python",
   "pygments_lexer": "ipython3",
   "version": "3.8.16"
  }
 },
 "nbformat": 4,
 "nbformat_minor": 5
}
